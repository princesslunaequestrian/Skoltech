{
  "cells": [
    {
      "cell_type": "code",
      "execution_count": 19,
      "metadata": {
        "colab": {
          "base_uri": "https://localhost:8080/"
        },
        "id": "sSzuY7Zebss7",
        "outputId": "5fd61374-1a02-409b-b745-759f08f2f416"
      },
      "outputs": [],
      "source": [
        "import numpy as np"
      ]
    },
    {
      "cell_type": "markdown",
      "metadata": {},
      "source": []
    },
    {
      "cell_type": "code",
      "execution_count": 20,
      "metadata": {},
      "outputs": [],
      "source": [
        "### PLNE                ___\n",
        "#                       \\\\ \\\n",
        "#                        \\\\ `\\\n",
        "#     ___                 \\\\  \\\\\n",
        "#    |    \\                \\\\  `\\\n",
        "#    |_____\\                \\    \\\n",
        "#    |______\\                \\    `\\\n",
        "#    |       \\                \\     \\\n",
        "#    |      __\\__---------------------------------._.\n",
        "#  __|---~~~__o_o_o_o_o_o_o_o_o_o_o_o_o_o_o_o_o_o_[][\\__\n",
        "# |___           AEFRLOT       /~      )    PLNE        \\__\n",
        "#     ~~~---..._______________/      ,/_________________/\n",
        "#                            /      /\n",
        "#                           /     ,/\n",
        "#                          /     /\n",
        "#                         /    ,/\n",
        "#                        /    /\n",
        "#                       //  ,/\n",
        "#                      //  /\n",
        "#                     // ,/\n",
        "#                    //_/"
      ]
    },
    {
      "cell_type": "code",
      "execution_count": 21,
      "metadata": {
        "id": "pUWHJ5oEfUo1"
      },
      "outputs": [],
      "source": [
        "# 2.0 ------- Mission design ------- \n",
        "\n",
        "# #---Altitude---\n",
        "# H = 2500 #m\n",
        "\n",
        "# #---Range---\n",
        "# flight_dist = 500000 #m\n",
        "\n",
        "# #---Takeoff and Landing parameters---\n",
        "\n",
        "# Takeoff_dist = 30 #m Takeoff distance\n",
        "# Land_dist = 20 #m Landing distance\n",
        "# V_takeoff = 30 / 3.6 #m/s Takeoff Speed\n",
        "\n",
        "# climb_angle = 30 #deg Climb Angle from 2 to 30 step 2\n",
        "climb_angle = np.arange(2, 30, 2)\n",
        "# descend_angle = 30 #deg Descend Angle from 2 to 30 step 2\n",
        "descend_angle = np.arange(2, 30, 2)\n",
        "\n",
        "\n",
        "# V_cruise = 275 / 3.6 #m/s Cruise Speed\n",
        "\n",
        "\n",
        "# # Number of passengers\n",
        "# N_p = 12 \n",
        "# Weight\n",
        "# W = 3500"
      ]
    },
    {
      "cell_type": "code",
      "execution_count": 22,
      "metadata": {
        "id": "3srzh2d8b1br"
      },
      "outputs": [],
      "source": [
        "# 2.1 Takeoff\n",
        "V_0 = 30/3.6             # takeoff velocity [m/s] (30 km/h)\n",
        "V_0_final = 35           # final takeoff velocity [m/s]\n",
        "V_takeoff = V_0_final * 0.7    # average takeoff velocity [m/s]\n",
        "f_friction_to = 0.1    # friction coefficient for  ground,  for airport 0.04\n"
      ]
    },
    {
      "cell_type": "code",
      "execution_count": 23,
      "metadata": {},
      "outputs": [],
      "source": [
        "# 2.3 Cruise flight\n",
        "H = 2000            # Flight altitude [m]\n",
        "P_hf = 79499        # Flight altitude pressure [Pa]\n",
        "rho_cruise = 1.0065 # Flight altitude air density [kg/m3]\n",
        "V_cruise = 300/3.6  # Cruise speed [m/s]\n",
        "V_alt = 332.5       # Flight altitude speed of sound\n",
        "M_cruise = V_cruise/V_alt   # Cruise Mach number\n",
        "\n",
        "q_cruise = 0.5 * rho_cruise * V_cruise**2 # Cruise dynamic pressure [Pa]\n",
        "g = 9.81            # Gravitational acceleration [m/s2]\n",
        "mu = 1.716e-5        #[m**2/s] kinematic viscosity parameter according to ISA\n"
      ]
    },
    {
      "cell_type": "code",
      "execution_count": 24,
      "metadata": {
        "id": "o3MigrKOflkr"
      },
      "outputs": [],
      "source": [
        "# 2.2 Climb\n",
        "Theta_climb = 30 #[deg]\n",
        "l_climb = H / (np.sin(Theta_climb * np.pi/180)) # climb diagonal distance[m]\n",
        "d_climb = H / (np.tan(Theta_climb * np.pi/180)) # climb horizontal distance[m]"
      ]
    },
    {
      "cell_type": "code",
      "execution_count": 25,
      "metadata": {},
      "outputs": [],
      "source": [
        "#2.4 Descend\n",
        "Theta_descend = 30  # descend angle [deg]\n",
        "l_descend = H/(np.sin(Theta_descend * np.pi/180))\n",
        "# descend diagonal distance[m]\n",
        "d_descend = H/(np.tan(Theta_descend * np.pi/180))\n",
        "# descend horizontal distance[m]\n"
      ]
    },
    {
      "cell_type": "code",
      "execution_count": 26,
      "metadata": {},
      "outputs": [],
      "source": [
        "# 2.5 Landing\n",
        "V_landing = 30  # preliminary landing velocity  [m/s]\n",
        "V_landing_fianl = 30  # final landing velocity [m/s]\n",
        "\n",
        "f_friction_land = 0.3 # landing friction coefficient\n"
      ]
    },
    {
      "cell_type": "code",
      "execution_count": 27,
      "metadata": {},
      "outputs": [],
      "source": [
        "# 2.6 Load factors\n",
        "n_landing_gear = 3\n",
        "\n",
        "# P_cabin = 79499     # equals to P_hf [Pa]\n",
        "# P_delta = 101325 - P_cabin # cabin \n",
        "# P_delta = 0\n",
        "\n",
        "n = 3               # Limit load factor\n",
        "\n",
        "N_z = 1.5 * n       # Ultimate load factor\n",
        "N_l = 1.5 * n_landing_gear # ultimate load factor\n"
      ]
    },
    {
      "cell_type": "code",
      "execution_count": 28,
      "metadata": {},
      "outputs": [],
      "source": [
        "# 2.7 Payload\n",
        "N_p = 12    # number of personnel onboard (crew and passengers)\n",
        "\n",
        "W_payload = 12 * 100 + 1000  # Payload weight [kg]\n",
        "P_delta = 0  # cabin pressure differential, [Pa]\n"
      ]
    },
    {
      "cell_type": "code",
      "execution_count": 29,
      "metadata": {},
      "outputs": [],
      "source": [
        "# 3.1 Fuselage\n",
        "nose_radius = 0.15 #relative nose ratio\n",
        "# fuselage_radius = \n",
        "\n",
        "V_pr = 10     # volume of pressurized section [m**3] \n",
        "S_f = 10      # fuselage wetted area [m**2] \n",
        "\n",
        "L_t = 10      # tail length [m] \n",
        "L_nose = 3       # nose part length  [m]\n",
        "L_aft = 5\n",
        "L = 20      # fuselage structural length [m] \n",
        "\n",
        "D = 2      # fuselage structural depth [m] \n",
        "W = 4      # total fuselage structural width [m] \n",
        "\n",
        "S_fus = W**2 * np.pi/4  # crossectional area [m**2]\n",
        "r_relative = 0.33 # nose_radius / fuselage_radius # nose relative radius\n",
        "\n",
        "phi = 0.52      # nose semipart angle [rad]\n",
        "\n",
        "D_fus = np.sqrt(4 * S_fus/np.pi)    # fuselage equivalent diametr [m]\n",
        "AR_fus = L / W          # fuselage aspect ratio\n",
        "AR_nose = L_nose / W    # fuselage aspect ratio\n",
        "AR_aft = L_aft / W      # rear part aspect ratio\n"
      ]
    },
    {
      "cell_type": "code",
      "execution_count": 30,
      "metadata": {},
      "outputs": [],
      "source": [
        "# 3.2 Wing (or stablizer or fin)\n",
        "\n",
        "#k_Awing not nuzhen\n",
        "k_Awing = 0.88      # airfoil type coefficient (supercritical (0.97) or conventional (0.88))\n",
        "\n",
        "\n",
        "B_w = 15*2   # wing span, [m]\n",
        "B_w = np.arange(10, 20, 2)\n",
        "t_to_c = np.arange(0.1, 0.2, 0.02)  # thickness to  chord ratio\n",
        "S_w = np.arange(25, 35.01, 2.5) # trapezoidal wing area, [m**2]\n",
        "\n",
        "TR_w = np.arange(0.2, 1.01, 0.2)   # tip_chord / root chord   # wing_taper_ratio\n",
        "AR_w = B_w**2 / S_w    # wing aspect ratio\n",
        "\n",
        "Lambda = 0   # wing sweep at 25% MAC\n",
        "mac = S_w / B_w     # Mean aerodynamic chord [m]\n",
        "\n",
        "B_ht = np.arange(2, 6.1, 1)\n",
        "B_vt = np.arange(2, 6.1, 1)\n",
        "t_to_tc_ht = np.arange(0.08, 0.161, 0.02)\n",
        "t_to_tc_vt = np.arange(0.08, 0.161, 0.02)\n",
        "\n",
        "TV_ht = 1.2  # horizontal stabilizer tail volume\n",
        "TV_vt = 0.1  # vertical stabilizer tail volume\n",
        "\n",
        "LA_ht = np.arange(0.4, 0.61, 0.05) * L # distance between horizontal stabilizer and center of gravity, [m]\n",
        "LA_vt = np.arange(0.4, 0.61, 0.05) * L # distance between vertical stabilizer and center of gravity, [m]\n",
        "\n",
        "TR_ht = np.arange(0.2, 1.01, 0.2)\n",
        "S_ht = TV_ht * mac * S_w / LA_ht # horizontal stabilizer area, [m]\n",
        "\n",
        "AR_ht = B_ht ** 2 / S_ht\n",
        "\n",
        "TR_vt = np.arange(0.2, 1.01, 0.2)\n",
        "S_vt = TV_vt * mac * S_w / LA_vt  # vertical stabilizer area, [m]\n",
        "AR_vt = B_vt ** 2 / S_vt\n",
        "\n",
        "Lambda_ht = 25\n",
        "Lambda_vt = 25\n",
        "\n",
        "\n",
        "\n",
        "S_wf = W * mac     # wing area intersected with fuselage [m**2]\n",
        "\n",
        "H_t_to_H_v = [0, 1]  # if tail is conventional, 1 if tail is T − shaped\n",
        "\n",
        "mac_f = 0.2  # flap chord related to wing MAC\n",
        "b_f = 0.75\n",
        "S_0 = S_w\n",
        "\n",
        "\n",
        "mac_vt = S_vt / B_vt\n",
        "mac_ht = S_ht / B_ht\n",
        "\n",
        "#nice"
      ]
    },
    {
      "cell_type": "code",
      "execution_count": 31,
      "metadata": {},
      "outputs": [],
      "source": [
        "# 3.3 Landing gear\n",
        "## ZASUNUT V CIKL\n",
        "\n",
        "W_total = 2000 # WTF what is it??\n",
        "W_l = 0.95 * W_total  # landing design gross weight, [kg]\n",
        "\n",
        "#NE SOVAT V CIKL\n",
        "L_m = 0.5  # extended lentgh of main landing gear, [m]\n",
        "L_n = 0.5  # extended lentgh of nose landing gear, [m]\n"
      ]
    },
    {
      "cell_type": "code",
      "execution_count": 32,
      "metadata": {},
      "outputs": [],
      "source": [
        "# 4. ENERGY SYSTEM\n",
        "\n",
        "PW = np.arange(300, 401, 25)  # power  to  weight ratio [wt/kg]\n",
        "SFC_eng = 0.408 # specific fuel consumption\n",
        "\n",
        "N_en = np.arange(8, 15, 2)  # number of engines\n",
        "N_t = 3     # number of fuel tanks\n",
        "\n",
        "# ---------\n",
        "mu_en = 0.85\n",
        "mu_prop_tl = 0.65\n",
        "p_elec = 1.05\n",
        "Prop_eff = 0.8  # Propeller efficiency\n",
        "SFC_ground = 2.2 * SFC_eng\n",
        "# ---------\n",
        "\n",
        "\n",
        "W_fuel = np.arange(500, 1500, 250)  # fuel weight, [kg]  from 500 kg to 1500 step  250\n",
        "N_fw  =  0.3 * W_fuel # weight of fuel on wing [kg]\n",
        "\n",
        "V_t = 100 # total fuel volume, [m**3]\n",
        "V_i = 100 # intergral tanks volume, [m**3]\n",
        "\n",
        "# --- V CIKL ---\n",
        "P_en_max = PW * W_total # engine takeoff power [kW]\n",
        "# ---\n",
        "\n",
        "SW_eng = 0.2 # electric engine weight  to  power ratio [kg / kW]\n",
        "P_elec = 1.05 # electric systems power penalty coefficient\n",
        "\n",
        "t_ground = 0.25 # [h] preparation + start + taxi in + taxi out time\n",
        "E_ground = 0.06 * P_en_max * t_ground\n",
        "# energy required for preparation + start + taxi in + taxi out, [Wh]\n",
        "\n"
      ]
    },
    {
      "cell_type": "code",
      "execution_count": 33,
      "metadata": {},
      "outputs": [
        {
          "ename": "ValueError",
          "evalue": "operands could not be broadcast together with shapes (5,) (4,) ",
          "output_type": "error",
          "traceback": [
            "\u001b[0;31m---------------------------------------------------------------------------\u001b[0m",
            "\u001b[0;31mValueError\u001b[0m                                Traceback (most recent call last)",
            "\u001b[0;32m/tmp/ipykernel_6427/320675697.py\u001b[0m in \u001b[0;36m<module>\u001b[0;34m\u001b[0m\n\u001b[1;32m      2\u001b[0m \u001b[0;34m\u001b[0m\u001b[0m\n\u001b[1;32m      3\u001b[0m \u001b[0mDelta_prop\u001b[0m \u001b[0;34m=\u001b[0m \u001b[0;36m0.3\u001b[0m \u001b[0;31m# distance between propellers WTF meter?\u001b[0m\u001b[0;34m\u001b[0m\u001b[0;34m\u001b[0m\u001b[0m\n\u001b[0;32m----> 4\u001b[0;31m \u001b[0mD_prop\u001b[0m \u001b[0;34m=\u001b[0m \u001b[0;34m(\u001b[0m\u001b[0mB_w\u001b[0m \u001b[0;34m-\u001b[0m \u001b[0mW\u001b[0m\u001b[0;34m)\u001b[0m \u001b[0;34m/\u001b[0m \u001b[0mN_en\u001b[0m \u001b[0;34m-\u001b[0m \u001b[0mDelta_prop\u001b[0m \u001b[0;34m*\u001b[0m \u001b[0mN_en\u001b[0m \u001b[0;31m# propeller diameter\u001b[0m\u001b[0;34m\u001b[0m\u001b[0;34m\u001b[0m\u001b[0m\n\u001b[0m\u001b[1;32m      5\u001b[0m \u001b[0;34m\u001b[0m\u001b[0m\n\u001b[1;32m      6\u001b[0m \u001b[0mA_prop\u001b[0m \u001b[0;34m=\u001b[0m \u001b[0mnp\u001b[0m\u001b[0;34m.\u001b[0m\u001b[0mpi\u001b[0m \u001b[0;34m*\u001b[0m \u001b[0mD_prop\u001b[0m\u001b[0;34m**\u001b[0m\u001b[0;36m2\u001b[0m \u001b[0;34m/\u001b[0m \u001b[0;36m4\u001b[0m \u001b[0;31m# propeller disk area, [m**2]\u001b[0m\u001b[0;34m\u001b[0m\u001b[0;34m\u001b[0m\u001b[0m\n",
            "\u001b[0;31mValueError\u001b[0m: operands could not be broadcast together with shapes (5,) (4,) "
          ]
        }
      ],
      "source": [
        "# 5. PROPELLER\n",
        "\n",
        "Delta_prop = 0.3 # distance between propellers WTF meter?\n",
        "D_prop = (B_w - W) / N_en - Delta_prop * N_en # propeller diameter\n",
        "\n",
        "A_prop = np.pi * D_prop**2 / 4 # propeller disk area, [m**2]\n",
        "\n",
        "# --- V CIKLE\n",
        "F_prop = (4 * P_en_max) / (np.pi * D_prop**2)  # propeller loading, [Wt / m**2]\n",
        "\n",
        "Thrust_max = 3.21 * P_en_max * F_prop**0.33 # maximum engine thrust, [N]\n",
        "# ---\n",
        "\n",
        "# --- rho = na earth\n",
        "\n",
        "rho = 1.225\n",
        "\n",
        "# --- V CIKL ---\n",
        "B = 2 * Thrust_max / (rho * V_0**2 * A_prop)  # loading factor first iteration\n",
        "n_prop = 0.8  # propeller efficiency\n",
        "# ---\n"
      ]
    },
    {
      "cell_type": "code",
      "execution_count": null,
      "metadata": {},
      "outputs": [],
      "source": [
        "# 6 WEIGHT BALANCE\n",
        "\n",
        "W_dg = 6000 # flight design gross weight (preliminary takeoff weight), [kg]\n",
        "W_fw = 800  # Weight of fuel in wing[kg]\n",
        "\n",
        "# --- W_dg - flight design weight  -  1.5 * AN-2 Weight\n",
        "\n",
        "#6.1 Propulsion system weight calculation\n",
        "\n",
        "W_en = SW_eng * P_en_max # engine weight [kg]\n",
        "W_installed_engine = 2.421 * (W_en ** 0.922) * N_en # installed engine weight, [kg]\n",
        "\n"
      ]
    },
    {
      "cell_type": "code",
      "execution_count": null,
      "metadata": {},
      "outputs": [],
      "source": [
        "## 6.2.1 Fuselage weight calculation    \n",
        "\n",
        "# --- q = q_cruise ---\n",
        "\n",
        "q = q_cruise\n",
        "\n",
        "\n",
        "W_press = 0 # 1.2926 * (V_pr * P_delta)**0.271\n",
        "W_fuselage = 0.23 * S_f**1.086* (N_z*W_dg)**0.177 * L_t**(-0.051) * (L/D)**(-0.072) * q**0.241 + W_press\n",
        "  "
      ]
    },
    {
      "cell_type": "code",
      "execution_count": null,
      "metadata": {},
      "outputs": [
        {
          "ename": "SyntaxError",
          "evalue": "invalid syntax (231724056.py, line 2)",
          "output_type": "error",
          "traceback": [
            "\u001b[1;36m  File \u001b[1;32m\"C:\\Users\\backg\\AppData\\Local\\Temp\\ipykernel_28544\\231724056.py\"\u001b[1;36m, line \u001b[1;32m2\u001b[0m\n\u001b[1;33m    t = ??\u001b[0m\n\u001b[1;37m        ^\u001b[0m\n\u001b[1;31mSyntaxError\u001b[0m\u001b[1;31m:\u001b[0m invalid syntax\n"
          ]
        }
      ],
      "source": [
        "# 6.2.2 Wing weight calculation\n",
        "\n",
        "W_wing = 0.13817 * S_w**0.758 * W_fw**0.0035 * (AR_w / (np.cos(Lambda)) ** 2)**0.6 *\\\n",
        "    q**0.006 * TR_w**0.04 * ((100 * t_to_c) / np.cos(Lambda)) * (N_z * W_dg) ** 0.49\n",
        "\n"
      ]
    },
    {
      "cell_type": "code",
      "execution_count": null,
      "metadata": {},
      "outputs": [],
      "source": [
        "# 6.2.3 Empennage weight calculation\n",
        "\n",
        "W_ht = 0.01917 * (N_z * W_dg)**0.414 * q**0.168 * S_ht**0.896 * (100 * t_to_tc_ht/ np.cos(Lambda_ht))**(-0.12) * \\\n",
        "    (AR_ht / np.cos(Lambda_ht)**2) ** 0.043 * TR_ht**(-0.02)\n",
        "\n",
        "W_vt = 0.12 * (1 + 0.02 * H_t_to_H_v) * (N_z * W_dg)**0.376 * q**0.122 * S_vt**0.873 * \\\n",
        "    (100*t_to_tc_vt/np.cos(Lambda_vt))**(-0.49) * (AR_vt/np.cos(Lambda_vt)**2)**0.357 * TR_vt**0.039\n"
      ]
    },
    {
      "cell_type": "code",
      "execution_count": null,
      "metadata": {},
      "outputs": [],
      "source": [
        "# 6.2.4 Landing gear weight calculation\n",
        "W_main_landing_gear = 0.12855 * (N_l * W_l)**0.768 * (L_m)**0.409 # main landing gear weight, [kg]\n",
        "W_nose_landing_gear = 0.242 * (N_l * W_l) ** 0.566 * (L_n)**0.845 # nose landing gear weight, [kg]\n"
      ]
    },
    {
      "cell_type": "code",
      "execution_count": null,
      "metadata": {},
      "outputs": [],
      "source": [
        "W_structure = W_fuselage + W_w + W_ht + W_vt + W_main_landing_gear + W_nose_landing_gear\n",
        "# structure weight [kg]"
      ]
    },
    {
      "cell_type": "code",
      "execution_count": null,
      "metadata": {},
      "outputs": [
        {
          "ename": "ValueError",
          "evalue": "operands could not be broadcast together with shapes (4,) (5,) ",
          "output_type": "error",
          "traceback": [
            "\u001b[1;31m---------------------------------------------------------------------------\u001b[0m",
            "\u001b[1;31mValueError\u001b[0m                                Traceback (most recent call last)",
            "\u001b[1;32m~\\AppData\\Local\\Temp\\ipykernel_28544\\1805251466.py\u001b[0m in \u001b[0;36m<module>\u001b[1;34m\u001b[0m\n\u001b[0;32m     28\u001b[0m \u001b[0mW_furnishings\u001b[0m \u001b[1;33m=\u001b[0m \u001b[1;36m0.0582\u001b[0m \u001b[1;33m*\u001b[0m \u001b[0mW_dg\u001b[0m \u001b[1;33m-\u001b[0m \u001b[1;36m29.48\u001b[0m  \u001b[1;31m# furnishings weight, [kg]\u001b[0m\u001b[1;33m\u001b[0m\u001b[1;33m\u001b[0m\u001b[0m\n\u001b[0;32m     29\u001b[0m \u001b[1;33m\u001b[0m\u001b[0m\n\u001b[1;32m---> 30\u001b[1;33m \u001b[0mW_equipment\u001b[0m \u001b[1;33m=\u001b[0m \u001b[0mW_fuel_system\u001b[0m \u001b[1;33m+\u001b[0m \u001b[0mW_flight_controls\u001b[0m \u001b[1;33m+\u001b[0m \u001b[0mW_hydraulics\u001b[0m \u001b[1;33m+\u001b[0m\u001b[0;31m\\\u001b[0m\u001b[1;33m\u001b[0m\u001b[1;33m\u001b[0m\u001b[0m\n\u001b[0m\u001b[0;32m     31\u001b[0m     \u001b[0mW_electrical\u001b[0m \u001b[1;33m+\u001b[0m \u001b[0mW_avionics\u001b[0m \u001b[1;33m+\u001b[0m \u001b[0mW_uav\u001b[0m \u001b[1;33m+\u001b[0m \u001b[0mW_air_conditioning_and_anti_ice\u001b[0m \u001b[1;33m+\u001b[0m\u001b[0;31m \u001b[0m\u001b[0;31m\\\u001b[0m\u001b[1;33m\u001b[0m\u001b[1;33m\u001b[0m\u001b[0m\n\u001b[0;32m     32\u001b[0m         \u001b[0mW_furnishings\u001b[0m   \u001b[1;31m# equipment weight, [kg]\u001b[0m\u001b[1;33m\u001b[0m\u001b[1;33m\u001b[0m\u001b[0m\n",
            "\u001b[1;31mValueError\u001b[0m: operands could not be broadcast together with shapes (4,) (5,) "
          ]
        }
      ],
      "source": [
        "# 6.3 Equipment weight calculation\n",
        "M = M_cruise\n",
        "\n",
        "W_fuel_system = 64.7374 * V_t**0.726 * (1 / (1 + V_i/V_t))**0.363 * N_t**0.242 * N_en**0.157\n",
        "    #  fuel system weight, [kg]\n",
        "W_flight_controls = 0.43613 * L**1.536 * B_w**0.371 * (N_z * W_dg * 10**-4)**0.8\n",
        "    # flight controls weight, [kg]\n",
        "\n",
        "K_h = 0.05 # (low subsonic ), 0.11 (medium subsonic ), 0.12 (high subsonic)\n",
        "    # hydraulics weight coefficient\n",
        "\n",
        "W_hydraulics = 1.1734 * K_h * W**0.8 * M**0.5  # hydraulics weight, [kg]\n",
        "\n",
        "\n",
        "W_uav = 400     #uninstalled avionics weight, [kg]\n",
        "W_avionics = 2 * W_uav**0.933  # avionics weight, [kg]\n",
        "\n",
        "W_electrical = 8.533 * (W_fuel_system + W_avionics)**0.51  \n",
        "    # electrical system weight, [kg]\n",
        "\n",
        "\n",
        "\n",
        "\n",
        "\n",
        "W_air_conditioning_and_anti_ice = 0.2074 * W_dg**0.52 \\\n",
        "     * N_p**0.68 * W_avionics**0.17 * M**0.08\n",
        "\n",
        "W_furnishings = 0.0582 * W_dg - 29.48  # furnishings weight, [kg]\n",
        "\n",
        "W_equipment = W_fuel_system + W_flight_controls + W_hydraulics +\\\n",
        "    W_electrical + W_avionics + W_uav + W_air_conditioning_and_anti_ice + \\\n",
        "        W_furnishings   # equipment weight, [kg]\n",
        "\n",
        "W_total = W_fuel + W_structure + W_equipment # final total takeoff weight, [kg]\n",
        "\n",
        "#### return W_total\n"
      ]
    },
    {
      "cell_type": "code",
      "execution_count": null,
      "metadata": {},
      "outputs": [],
      "source": [
        "# 7 AERODYNAMICS\n"
      ]
    },
    {
      "cell_type": "code",
      "execution_count": null,
      "metadata": {},
      "outputs": [],
      "source": [
        "# 7.1 Polar coefficient and lift coefficient\n",
        "\n",
        "e = 1 / (1 + 0.025 * AR_w) # Oswald coefficient\n",
        "A = 1 / (np.pi * AR_w * e) # polar coefficient"
      ]
    },
    {
      "cell_type": "code",
      "execution_count": null,
      "metadata": {},
      "outputs": [],
      "source": [
        "# 7.2 Drag coefficient \n",
        "\n",
        "K_int = 0.2   # interference coefficient (depends on position of wing)"
      ]
    },
    {
      "cell_type": "code",
      "execution_count": null,
      "metadata": {},
      "outputs": [],
      "source": [
        "# 7.2.1 Fuselage (nascelle) drag\n",
        "\n",
        "M = M_cruise\n",
        "Re_fus = V_cruise * L / mu  # Reynolds number\n",
        "\n",
        "C_f_fus = 0.0454 * Re_fus ** (-0.189)  #  flat plate friction coefficient\n",
        "\n",
        "nu_mu = 1 #tipa udalili\n",
        "nu_lambda_fus = 1.7564 * AR_fus**(-0.225) # fuselage shape coefficient\n",
        "\n",
        "\n",
        "C_D0_fus_friction = 2 * C_f_fus * nu_mu * nu_lambda_fus * S_f / (2 * S_fus)\n",
        "    # friction drag coefficient\n",
        "\n",
        "C_D0_par = (1.0699 * M**3 - 2.2393 * M**2 + 1.6016 * M - 0.3859) - 0.01 * (AR_nose - 2)\n",
        "    # parabolic nose drag coefficient\n",
        "\n",
        "delta_C_D_dump = 1.6667 * M**3 - 2.1786 * M**2 + 0.8512 * M - 0.0386\n",
        "    # dumping coefficient\n",
        "\n",
        "C_D0_nose = C_D0_par * \\\n",
        "    (1 - r_relative**2 * np.cos(phi)**2 * \\\n",
        "    (3.1 - 1.4 * r_relative * np.cos(phi) - 0.7 * r_relative**2 * np.cos(phi)**2)) + \\\n",
        "    delta_C_D_dump * r_relative**2  \n",
        "    # nose drag coefficient\n",
        "\n",
        "C_D0_aft = (0.5455 * M**2 - 0.6764 * M + 0.2698) - 0.013 * (AR_aft - 2)\n",
        "    # aft part drag coefficient\n",
        "\n",
        "C_D0_fus_pressure = C_D0_nose + C_D0_aft\n",
        "    # pressure drag coefficient\n",
        "\n",
        "C_D0_fuselage = C_D0_fus_friction + C_D0_fus_pressure\n",
        "    # fuselage drag coefficient\n"
      ]
    },
    {
      "cell_type": "code",
      "execution_count": null,
      "metadata": {},
      "outputs": [],
      "source": [
        "# 7.2.2  Wing (or stabilizer or fin) drag\n",
        "S_with_eng = 0.05 * S_w\n",
        "\n",
        "K1 = 2 - S_with_eng / S_w      # wing − nacelles interference coefficient\n",
        "nu_C_wing = 1 + 1.5 * t_to_c    # airfoil thickness coefficient\n",
        "\n",
        "Re_wing = V_cruise * mac / mu  # Reynolds number\n",
        "C_f_wing = 0.0454 * Re_wing ** (-0.189) # flat plate friction coefficient\n",
        "C_D0_form_wing = 0.925 * K1 * C_f_wing * nu_mu * nu_C_wing    # form drag coefficient\n",
        "#  form drag coefficient\n",
        "\n",
        "Re_wing = V_cruise * mac / mu   # Reynolds number\n",
        "C_f_winf = 0.0454 * Re_wing**(0.189)    # flat plate friction coefficient\n",
        "\n",
        "C_D0_form_wing = 0.925 * K1 * C_f_wing * nu_mu * nu_C_wing\n",
        "    # form drag coefficient\n",
        "\n",
        "k_A_wing = 0.88 # airfoil type coefficient(supercritical(0.97) or not (0.88))\n",
        "\n",
        "M_DD_wing = (k_A_wing - W_total * g / (q_cruise * S_w) / \\\n",
        "    (10 * (np.cos(Lambda * np.pi / 180)) ** 2) -\\\n",
        "    t_to_c / np.cos(Lambda * np.pi / 180))\\\n",
        "    / np.cos(Lambda * np.pi / 180)\n",
        "    # drag divergence Mach number\n",
        "    \n",
        "M_cr_wing = M_DD_wing-0.108  # critical Mach number\n",
        "C_D0_wave_wing = 20 * (M-M_cr_wing)**4  # wave drag coefficient\n",
        "\n",
        "\n",
        "C_D0_prime_wing = C_D0_form_wing + C_D0_wave_wing  # clean wing drag coefficient\n",
        "C_D0_wing = C_D0_prime_wing + K_int * C_D0_form_wing * \\\n",
        "    S_wf/S_w    # wing drag coefficient\n"
      ]
    },
    {
      "cell_type": "code",
      "execution_count": null,
      "metadata": {},
      "outputs": [],
      "source": []
    },
    {
      "cell_type": "code",
      "execution_count": null,
      "metadata": {},
      "outputs": [],
      "source": [
        "# 7.2.3 Zero drag coefficient\n",
        "?????\n",
        "C_D0 = 1 * (C_D0_fuselage * S_fus/S_w + C_D0_wing +\\\n",
        "    C_D0_ht1 * S_ht1/S_w + C_D0_ht2 * S_ht2/S_w + \\\n",
        "    C_D0_vt* S_vt/S_w + n_eng * C_DO_nacelle*S_nac/S_w)\n"
      ]
    },
    {
      "cell_type": "markdown",
      "metadata": {},
      "source": [
        "* $\\alpha_{takeoff}$ = 3\n",
        "* $\\alpha_{landing}$ = 8\n",
        "* $C_{L_{max airfoil}}$ = 1.7\n",
        "\n",
        "\n",
        "V_max_landing домножить числитель на g\n",
        "V_max_takeoff домножить числитель на g"
      ]
    },
    {
      "cell_type": "code",
      "execution_count": null,
      "metadata": {},
      "outputs": [],
      "source": [
        "C_Lcruise = 0.71 * np.sqrt(np.pi * AR_w * C_D0) # Optimal lift coefficient"
      ]
    },
    {
      "cell_type": "code",
      "execution_count": null,
      "metadata": {},
      "outputs": [],
      "source": [
        "# Lift coefficient\n",
        "Lambda_w = 0  # 1/4 mean aerodynamic chord sweep angle [deg]\n",
        "\n",
        "alpha_takeoff = 3  # [0 - 3] INPUT\n",
        "alpha_landing = 8  # [3 - 8] INPUT\n",
        "C_L_max_airfoil = 1.7  # [1.6 - 1.8]\n",
        "\n",
        "k_mu = -0.2135 * TR_w**2 + 0.2398 * TR_w+0.8737\n",
        "C_L_max_0 = 0.5 * k_mu * C_L_max_airfoil * (1+np.cos(Lambda_w))\n",
        "C_L_alpha = 2 * np.pi * AR_w * np.cos(Lambda_w)/(180 * (2+AR_w))\n",
        "\n",
        "k_delta_takeoff = 0.34  # can be varied\n",
        "k_delta_landing = 0.52  # can be varied\n",
        "DELTA_C_L_flap_takeoff = k_delta_takeoff * mac_f * \\\n",
        "    b_f * mac/S_w * C_L_alpha * 57.3 * np.cos(Lambda_w)\n",
        "DELTA_C_L_flap_landing = k_delta_landing * mac_f * \\\n",
        "    b_f * mac/S_w * C_L_alpha * 57.3 * np.cos(Lambda_w)\n",
        "C_L_max_without_prop_takeoff = C_L_max_0 + DELTA_C_L_flap_takeoff\n",
        "C_L_max_without_prop_landing = C_L_max_0 + DELTA_C_L_flap_landing\n",
        "C_L_max_final_takeoff = C_L_max_without_prop_takeoff\n",
        "C_L_max_final_landing = C_L_max_without_prop_landing\n",
        "V_max_takeoff = V_0\n",
        "V_max_landing = V_landing\n",
        "B_takeoff = B\n",
        "B_landing = B\n",
        "C_L_takeoff = 0\n",
        "C_L_landing = 0\n"
      ]
    },
    {
      "cell_type": "code",
      "execution_count": 35,
      "metadata": {},
      "outputs": [
        {
          "ename": "NameError",
          "evalue": "name 'C_L_max_without_prop_takeoff' is not defined",
          "output_type": "error",
          "traceback": [
            "\u001b[0;31m---------------------------------------------------------------------------\u001b[0m",
            "\u001b[0;31mNameError\u001b[0m                                 Traceback (most recent call last)",
            "\u001b[0;32m/tmp/ipykernel_6427/623150714.py\u001b[0m in \u001b[0;36m<module>\u001b[0;34m\u001b[0m\n\u001b[1;32m      1\u001b[0m \u001b[0;31m# Takeoff lift coefficient\u001b[0m\u001b[0;34m\u001b[0m\u001b[0;34m\u001b[0m\u001b[0m\n\u001b[0;32m----> 2\u001b[0;31m \u001b[0mC_L_max_final_takeoff\u001b[0m \u001b[0;34m=\u001b[0m \u001b[0mC_L_max_without_prop_takeoff\u001b[0m \u001b[0;34m+\u001b[0m \u001b[0mDELTA_C_L_prop_0\u001b[0m\u001b[0;34m\u001b[0m\u001b[0;34m\u001b[0m\u001b[0m\n\u001b[0m\u001b[1;32m      3\u001b[0m \u001b[0mC_L_takeoff\u001b[0m \u001b[0;34m=\u001b[0m \u001b[0mC_L_max_final_takeoff\u001b[0m\u001b[0;34m\u001b[0m\u001b[0;34m\u001b[0m\u001b[0m\n\u001b[1;32m      4\u001b[0m \u001b[0;34m\u001b[0m\u001b[0m\n\u001b[1;32m      5\u001b[0m \u001b[0mLift_max_0\u001b[0m \u001b[0;34m=\u001b[0m \u001b[0;36m0.68\u001b[0m \u001b[0;34m*\u001b[0m \u001b[0mC_L_takeoff\u001b[0m \u001b[0;34m*\u001b[0m \u001b[0mrho_cruise\u001b[0m \u001b[0;34m*\u001b[0m \u001b[0mV_max_takeoff\u001b[0m \u001b[0;34m**\u001b[0m \u001b[0;36m2\u001b[0m\u001b[0;34m/\u001b[0m\u001b[0;36m2\u001b[0m \u001b[0;34m*\u001b[0m \u001b[0mS_w\u001b[0m\u001b[0;34m\u001b[0m\u001b[0;34m\u001b[0m\u001b[0m\n",
            "\u001b[0;31mNameError\u001b[0m: name 'C_L_max_without_prop_takeoff' is not defined"
          ]
        }
      ],
      "source": [
        "# Takeoff lift coefficient\n",
        "C_L_takeoff = C_L_max_final_takeoff\n",
        "\n",
        "Lift_max_0 = 0.68 * C_L_takeoff * rho_cruise * V_max_takeoff ** 2/2 * S_w\n",
        "Drag_max_0 = (C_D0+A * 0.68 * 0.68 * C_L_takeoff ** 2) * \\\n",
        "    rho_cruise * V_max_takeoff ** 2/2 * S_w\n",
        "Theta_eff_0 = np.arctan(Lift_max_0/(Thrust_max * N_en-Drag_max_0))\n",
        "C_mu_0 = B_takeoff * A_prop/S_0\n",
        "DELTA_C_L_alpha_0 = np.pi * (1.152 * np.sqrt(C_mu_0)+1.106 *\n",
        "                          C_mu_0+0.051 * C_mu_0 * C_mu_0 * np.sqrt(C_mu_0))/180\n",
        "DELTA_C_L_theta_0 = np.pi * (-0.19356 * C_mu_0 ** 2+2.87645 * C_mu_0+6.2 * b_f)/180\n",
        "DELTA_C_L_prop_0 = (DELTA_C_L_theta_0 * np.sin(Theta_eff_0)+DELTA_C_L_alpha_0 * alpha_takeoff-C_mu_0 *\n",
        "                    np.sin(Theta_eff_0)) * S_0/S_w * (1+t_to_c) * C_L_alpha/(2 * np.pi)+B_takeoff * A_prop/S_0 * np.sin(Theta_eff_0)\n",
        "C_L_max_final_takeoff = C_L_max_without_prop_takeoff + DELTA_C_L_prop_0\n",
        "\n",
        "V_max_takeoff = np.sqrt( (2 * W_total * g)/(0.68 * C_L_max_final_takeoff * rho_cruise * S_w))\n",
        "B_takeoff = (2 * Thrust_max * N_en)/(rho_cruise * V_max_takeoff ** 2 * A_prop)\n"
      ]
    },
    {
      "cell_type": "code",
      "execution_count": 37,
      "metadata": {},
      "outputs": [
        {
          "ename": "NameError",
          "evalue": "name 'C_L_landing' is not defined",
          "output_type": "error",
          "traceback": [
            "\u001b[0;31m---------------------------------------------------------------------------\u001b[0m",
            "\u001b[0;31mNameError\u001b[0m                                 Traceback (most recent call last)",
            "\u001b[0;32m/tmp/ipykernel_6427/1617930373.py\u001b[0m in \u001b[0;36m<module>\u001b[0;34m\u001b[0m\n\u001b[1;32m      3\u001b[0m \u001b[0;31m# C_L_landing = C_L_max_final_landing\u001b[0m\u001b[0;34m\u001b[0m\u001b[0;34m\u001b[0m\u001b[0m\n\u001b[1;32m      4\u001b[0m \u001b[0;34m\u001b[0m\u001b[0m\n\u001b[0;32m----> 5\u001b[0;31m \u001b[0mLift_max_landing\u001b[0m \u001b[0;34m=\u001b[0m \u001b[0;36m0.68\u001b[0m \u001b[0;34m*\u001b[0m \u001b[0mC_L_landing\u001b[0m \u001b[0;34m*\u001b[0m \u001b[0;34m(\u001b[0m\u001b[0mrho_cruise\u001b[0m \u001b[0;34m*\u001b[0m \u001b[0mV_max_landing\u001b[0m\u001b[0;34m)\u001b[0m \u001b[0;34m^\u001b[0m \u001b[0;36m2\u001b[0m\u001b[0;34m/\u001b[0m\u001b[0;36m2\u001b[0m \u001b[0;34m*\u001b[0m \u001b[0mS_w\u001b[0m\u001b[0;34m\u001b[0m\u001b[0;34m\u001b[0m\u001b[0m\n\u001b[0m\u001b[1;32m      6\u001b[0m Drag_max_landing = (C_D0+A * 0.68 * 0.68 * C_L_landing ^\n\u001b[1;32m      7\u001b[0m                     2) * (rho_cruise * V_max_landing) ^ 2/2 * S_w\n",
            "\u001b[0;31mNameError\u001b[0m: name 'C_L_landing' is not defined"
          ]
        }
      ],
      "source": [
        "# Landing lift coefficient loop\n",
        "\n",
        "C_L_landing = C_L_max_final_landing\n",
        "\n",
        "Lift_max_landing = 0.68 * C_L_landing * (rho_cruise * V_max_landing) ** 2/2 * S_w\n",
        "Drag_max_landing = (C_D0+A * 0.68 * 0.68 * C_L_landing **\n",
        "                    2) * (rho_cruise * V_max_landing) ** 2/2 * S_w\n",
        "Theta_eff_landing = np.arctan(Lift_max_landing/(Thrust_max * N_en-Drag_max_landing))\n",
        "C_mu_landing = B_landing * A_prop/S_0\n",
        "DELTA_C_L_alpha_landing = np.pi * (1.152 * np.sqrt(C_mu_landing)+1.106 *\n",
        "                                C_mu_landing+0.051 * C_mu_landing * C_mu_landing * np.sqrt(C_mu_landing))/180\n",
        "DELTA_C_L_theta_landing = np.pi * \\\n",
        "    (-0.19356 * C_mu_landing ** 2+2.87645 * C_mu_landing+6.2 * b_f)/180\n",
        "DELTA_C_L_prop_landing = (DELTA_C_L_theta_landing * np.sin(Theta_eff_landing)+DELTA_C_L_alpha_landing * alpha_landing-C_mu_landing *\n",
        "                          np.sin(Theta_eff_landing)) * S_0/S_w * (1+t_to_c) * C_L_alpha/(2 * np.pi)+B_landing * A_prop/S_0 * np.sin(Theta_eff_landing)\n",
        "\n",
        "C_L_max_final_landing = C_L_max_without_prop_landing + DELTA_C_L_prop_landing\n",
        "V_max_landing = np.sqrt(\n",
        "    2 * W_total * g/(0.68 * C_L_max_final_landing * rho_cruise * S_w))\n",
        "\n",
        "B_landing = (2 * Thrust_max * N_en)/(rho_cruise * V_max_landing ** 2 * A_prop)\n"
      ]
    },
    {
      "cell_type": "code",
      "execution_count": null,
      "metadata": {},
      "outputs": [],
      "source": [
        "# 8 OUTPUTS\n",
        "# 8.1  Takeoff\n",
        "\n",
        "F_takeoff = f_friction_to * (W_total * 9.81 - 0.68 * C_L_max_final_takeoff * (\n",
        "    0.7 * V_max_takeoff) ** 2 * 0.5 * rho_cruise * S_w)  # Friction force [N]\n",
        "\n",
        "Cd_takeoff = C_D0+A * 0.68 * 0.68 * \\\n",
        "    C_L_max_final_takeoff ** 2   # Takeoff drag coefficient\n",
        "X_takeoff = Cd_takeoff * V_max_takeoff ** 2 * \\\n",
        "    rho_cruise * 0.5 * S_w  # Drag force [N]\n",
        "\n",
        "a_takeoff = g * (Thrust_max * N_en - X_takeoff - F_takeoff) / \\\n",
        "    W_total/10  # Acceleration [m/s2]\n",
        "L_takeoff = V_max_takeoff ** 2 * 0.5/a_takeoff  # Takeoff distance [m]\n",
        "W_fuel_takeoff = 2 * SFC_eng * 0.001 * 0.000277 * Thrust_max * N_en * \\\n",
        "    L_takeoff/(mu_en * mu_prop_tl) * p_elec  # Takeoff consumed fuel [kg]\n"
      ]
    },
    {
      "cell_type": "code",
      "execution_count": null,
      "metadata": {},
      "outputs": [],
      "source": [
        "# 8.2  Landing\n",
        "\n",
        "Cd_landing = C_D0 * 5+A * 0.68 * 0.68 * \\\n",
        "    C_L_max_final_landing ** 2  # Landing drag coefficient\n",
        "a_landing = g * (2 * f_friction_land/3+1/3 * Cd_landing /\n",
        "                 C_L_max_final_landing)  # Acceleration [m/s2]\n",
        "L_landing = V_max_landing ** 2 * 0.5/a_landing  # Landing distance [m]\n",
        "\n",
        "W_fuel_landing = 2 * SFC_eng * 0.001 * 0.000277 * 0.06 * Thrust_max * N_en * \\\n",
        "    L_landing/(mu_en * mu_prop_tl) * p_elec  # Landing consumed fuel [kg]\n"
      ]
    },
    {
      "cell_type": "code",
      "execution_count": null,
      "metadata": {},
      "outputs": [],
      "source": [
        "# 8.3 Climb\n",
        "W_fuel_climb = W_total-np.exp(np.log(W_total)-SFC_eng * 0.001 * 0.000277/(mu_en * mu_prop_tl) *\\\n",
        "    p_elec * g * (np.cos(Theta_climb * np.pi/180)/10 + \\\n",
        "    np.sin(Theta_climb * np.pi/180)) * l_climb)  \n",
        "        # Climb consumed fuel weight [kg]\n"
      ]
    },
    {
      "cell_type": "code",
      "execution_count": null,
      "metadata": {},
      "outputs": [],
      "source": [
        "# 8.4 Descend\n",
        "\n",
        "W_fuel_descend = W_total-np.exp(np.log(W_total)-SFC_eng * 0.001 * 0.000277 / (mu_en * mu_prop_tl) *\\\n",
        "    p_elec * g * (np.cos(Theta_descend * np.pi/180)/10 -\\\n",
        "    np.sin(Theta_descend * np.pi/180)) * l_descend)  \n",
        "        # Descend consumed fuel weight [kg]"
      ]
    },
    {
      "cell_type": "code",
      "execution_count": null,
      "metadata": {},
      "outputs": [],
      "source": [
        "\n",
        "# 8.5 Cruise\n",
        "\n",
        "\n",
        "m_fuel_cruise = (W_fuel - W_fuel_climb - W_fuel_descend -\\\n",
        "     W_fuel_takeoff - W_fuel_landing - \\\n",
        "    (SFC_ground * 1e-3)/E_ground)\n",
        "        # Cruise consumed fuel weight [kg]\n",
        "\n",
        "L_D_cruise = g * (W_total-m_fuel_cruise) * q_cruise * S_w/(C_D0 * q_cruise ** 2 * S_w ** 2+A * g ** 2 * (W_total-m_fuel_cruise)** 2)\n",
        "# Cruise lift-to-drag ratio\n",
        "fL_cruise = Prop_eff * L_D_cruise / (SFC_eng * 0.001 * 0.000277 * (W_total-m_fuel_cruise)* g)\n",
        "\n",
        "# Integral\n",
        "# L_cruise = (m_fuel_cruise, fL_cruise)  # Cruise flight distance\n",
        "\n",
        "# Flight_distance = L_cruise + d_climb + d_descend  # Total flight distance\n"
      ]
    },
    {
      "cell_type": "code",
      "execution_count": null,
      "metadata": {},
      "outputs": [],
      "source": []
    },
    {
      "cell_type": "code",
      "execution_count": null,
      "metadata": {},
      "outputs": [],
      "source": []
    }
  ],
  "metadata": {
    "colab": {
      "collapsed_sections": [],
      "name": "Team4.ipynb",
      "provenance": []
    },
    "kernelspec": {
      "display_name": "Python 3",
      "name": "python3"
    },
    "language_info": {
      "codemirror_mode": {
        "name": "ipython",
        "version": 3
      },
      "file_extension": ".py",
      "mimetype": "text/x-python",
      "name": "python",
      "nbconvert_exporter": "python",
      "pygments_lexer": "ipython3",
      "version": "3.8.10"
    }
  },
  "nbformat": 4,
  "nbformat_minor": 0
}
