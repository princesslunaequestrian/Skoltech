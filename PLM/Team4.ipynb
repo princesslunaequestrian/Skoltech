{
  "cells": [
    {
      "cell_type": "code",
      "execution_count": 2,
      "metadata": {
        "colab": {
          "base_uri": "https://localhost:8080/"
        },
        "id": "sSzuY7Zebss7",
        "outputId": "5fd61374-1a02-409b-b745-759f08f2f416"
      },
      "outputs": [],
      "source": [
        "import numpy as np"
      ]
    },
    {
      "cell_type": "code",
      "execution_count": 18,
      "metadata": {},
      "outputs": [],
      "source": [
        "### PLNE                       ___\n",
        "#                       \\\\ \\\n",
        "#                        \\\\ `\\\n",
        "#     ___                 \\\\  \\\n",
        "#    |    \\                \\\\  `\\\n",
        "#    |_____\\                \\    \\\n",
        "#    |______\\                \\    `\\\n",
        "#    |       \\                \\     \\\n",
        "#    |      __\\__---------------------------------._.\n",
        "#  __|---~~~__o_o_o_o_o_o_o_o_o_o_o_o_o_o_o_o_o_o_[][\\__\n",
        "# |___           AEFRLOT       /~      )    PLNE        \\__\n",
        "#     ~~~---..._______________/      ,/_________________/\n",
        "#                            /      /\n",
        "#                           /     ,/\n",
        "#                          /     /\n",
        "#                         /    ,/\n",
        "#                        /    /\n",
        "#                       //  ,/\n",
        "#                      //  /\n",
        "#                     // ,/\n",
        "#                    //_/"
      ]
    },
    {
      "cell_type": "code",
      "execution_count": 12,
      "metadata": {
        "id": "pUWHJ5oEfUo1"
      },
      "outputs": [],
      "source": [
        "# 2.0 ------- Mission design ------- \n",
        "\n",
        "# #---Altitude---\n",
        "# H = 2500 #m\n",
        "\n",
        "# #---Range---\n",
        "# flight_dist = 500000 #m\n",
        "\n",
        "# #---Takeoff and Landing parameters---\n",
        "\n",
        "# Takeoff_dist = 30 #m Takeoff distance\n",
        "# Land_dist = 20 #m Landing distance\n",
        "# V_takeoff = 30 / 3.6 #m/s Takeoff Speed\n",
        "\n",
        "# climb_angle = 30 #deg Climb Angle\n",
        "# descend_angle = 30 #deg Descend Angle\n",
        "\n",
        "\n",
        "# V_cruise = 275 / 3.6 #m/s Cruise Speed\n",
        "\n",
        "\n",
        "# # Number of passengers\n",
        "# N_p = 12 \n",
        "# #Weight\n",
        "# W = 3500"
      ]
    },
    {
      "cell_type": "code",
      "execution_count": 13,
      "metadata": {
        "id": "3srzh2d8b1br"
      },
      "outputs": [],
      "source": [
        "# 2.1 Takeoff\n",
        "V0 = 30/3.6  # takeoff velocity [m/s] (30 km/h)\n",
        "V_takeoff = 0.7 * V0  # average takeoff velocity [m/s]\n",
        "f = 0.04              # friction coeffiient"
      ]
    },
    {
      "cell_type": "code",
      "execution_count": 16,
      "metadata": {
        "id": "iA6C2ZNehQyh"
      },
      "outputs": [],
      "source": [
        "# 2.3 Cruise flight\n",
        "H = 2000 #Flight altitude [m]\n",
        "P_hf = 79499 #Flight altitude pressure [Pa]\n",
        "p_cruise = 1.0065 #Flight altitude air density [kg/m3]\n",
        "V_cruise = 300/3.6\n",
        "v_alt = 332.5 #Flight altitude speed of sound\n",
        "M_cruise = V_cruise/v_alt\n",
        "ro = 0.9569                      # [kg/m^3]\n",
        "q_cruise = 0.5 * ro * V_cruise**2 # Cruise dynamic pressure [Pa]\n",
        "g = 9.81                          # Gravitational acceleration [m/s2]\n",
        "mu = 76     #[m**2/s] kinematic viscosity parameter according to ISA\n"
      ]
    },
    {
      "cell_type": "code",
      "execution_count": 17,
      "metadata": {
        "id": "o3MigrKOflkr"
      },
      "outputs": [],
      "source": [
        "# 2.2 Climb\n",
        "climb_angle = 30 #[deg]\n",
        "l_climb = H / (np.sin(climb_angle * np.pi/180)) # climb diagonal distance[m]\n",
        "d_climb = H / (np.tan(climb_angle * np.pi/180)) # climb horizontal distance[m]"
      ]
    },
    {
      "cell_type": "code",
      "execution_count": null,
      "metadata": {},
      "outputs": [],
      "source": [
        "#2.4 Descend\n",
        "descend_angle = 30\n",
        "l_descend = H/(np.sin(descend_angle * np.pi/180))\n",
        "d_descend = H/(np.tan(descend_angle * np.pi/180))"
      ]
    },
    {
      "cell_type": "code",
      "execution_count": 7,
      "metadata": {},
      "outputs": [],
      "source": [
        "# 2.5 Landing\n",
        "V_landing = 30/3.6 # [m/s]\n",
        "f_frictionland = 0.3 # landing friction coefficient"
      ]
    },
    {
      "cell_type": "code",
      "execution_count": 9,
      "metadata": {},
      "outputs": [],
      "source": [
        "# 2.6 Load factors\n",
        "P_cabin = 79499 # equals to P_hf [Pa]\n",
        "P_delta = \n",
        "n = 3\n",
        "N_z = 1.5 * n\n",
        "N_l = 1.5 * n_landing_gear"
      ]
    },
    {
      "cell_type": "code",
      "execution_count": 10,
      "metadata": {},
      "outputs": [],
      "source": [
        "# 2.7 Payload\n"
      ]
    },
    {
      "cell_type": "code",
      "execution_count": 15,
      "metadata": {},
      "outputs": [
        {
          "ename": "SyntaxError",
          "evalue": "invalid syntax (2832884352.py, line 2)",
          "output_type": "error",
          "traceback": [
            "\u001b[1;36m  File \u001b[1;32m\"C:\\Users\\backg\\AppData\\Local\\Temp\\ipykernel_27912\\2832884352.py\"\u001b[1;36m, line \u001b[1;32m2\u001b[0m\n\u001b[1;33m    V_pr =      # volume of pressurized section [m^3]\u001b[0m\n\u001b[1;37m                ^\u001b[0m\n\u001b[1;31mSyntaxError\u001b[0m\u001b[1;31m:\u001b[0m invalid syntax\n"
          ]
        }
      ],
      "source": [
        "# 3.1 Fuselage\n",
        "V_pr =      # volume of pressurized section [m^3] \n",
        "S_f =       # fuselage wetted area [m^2] \n",
        "L_t =       # tail length [m] \n",
        "L_nose =        # nose part length  [m]\n",
        "L =       # fuselage structural length [m] \n",
        "D =       # fuselage structural depth [m] \n",
        "W =       # total fuselage structural width [m] \n",
        "phi =       # nose semipart angle [rad]\n",
        "\n",
        "S_fus = W**2 * np.pi/4 # crossectional area [m^2]\n",
        "r_relative = nose radius / fuselage radius # nose relative radius\n",
        "D_fus = np.sqrt(4 * S_fus/np.pi)    # fuselage equivalent diametr [m]\n",
        "AR_nose = L_nose / W    # fuselage aspect ratio\n",
        "AR_aft = L_aft / W      # rear part aspect ratio"
      ]
    },
    {
      "cell_type": "code",
      "execution_count": null,
      "metadata": {},
      "outputs": [],
      "source": [
        "# 3.2 Wing (or stablizer or fin)\n",
        "k_Awing =       # airfoil type coefficient (supercritical (0.97) or conventional (0.88))\n",
        "B_w     # wing span, [m]\n",
        "S_w =   # trapezoidal wing area, [m^2]\n",
        "t_c =   # thickness − to − chord − ratio\n",
        "Lambda =    # wing sweep at 25% MAC\n",
        "\n",
        "TR_w = tip_chord / root chord   # wing_taper_ratio\n",
        "AR_w = B_w**2 / S_w     # wing aspect ratio\n",
        "mac = S_w / B_w     # Mean aerodynamic chord [m]\n",
        "S_wf = W * mac     # wing area intersected with fuselage [m^2]\n",
        "\n",
        "#  H_t / H_v = 0 if tail is conventional, 1 if tail is T − shaped"
      ]
    }
  ],
  "metadata": {
    "colab": {
      "collapsed_sections": [],
      "name": "Team4.ipynb",
      "provenance": []
    },
    "kernelspec": {
      "display_name": "Python 3",
      "name": "python3"
    },
    "language_info": {
      "codemirror_mode": {
        "name": "ipython",
        "version": 3
      },
      "file_extension": ".py",
      "mimetype": "text/x-python",
      "name": "python",
      "nbconvert_exporter": "python",
      "pygments_lexer": "ipython3",
      "version": "3.8.10"
    }
  },
  "nbformat": 4,
  "nbformat_minor": 0
}
