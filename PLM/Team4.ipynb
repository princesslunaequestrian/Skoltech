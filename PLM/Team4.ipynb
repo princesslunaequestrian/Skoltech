{
  "cells": [
    {
      "cell_type": "code",
      "execution_count": 11,
      "metadata": {
        "colab": {
          "base_uri": "https://localhost:8080/"
        },
        "id": "sSzuY7Zebss7",
        "outputId": "5fd61374-1a02-409b-b745-759f08f2f416"
      },
      "outputs": [],
      "source": [
        "import numpy as np"
      ]
    },
    {
      "cell_type": "code",
      "execution_count": 12,
      "metadata": {},
      "outputs": [],
      "source": [
        "### PLNE                       ___\n",
        "#                       \\\\ \\\n",
        "#                        \\\\ `\\\n",
        "#     ___                 \\\\  \\\n",
        "#    |    \\                \\\\  `\\\n",
        "#    |_____\\                \\    \\\n",
        "#    |______\\                \\    `\\\n",
        "#    |       \\                \\     \\\n",
        "#    |      __\\__---------------------------------._.\n",
        "#  __|---~~~__o_o_o_o_o_o_o_o_o_o_o_o_o_o_o_o_o_o_[][\\__\n",
        "# |___           AEFRLOT       /~      )    PLNE        \\__\n",
        "#     ~~~---..._______________/      ,/_________________/\n",
        "#                            /      /\n",
        "#                           /     ,/\n",
        "#                          /     /\n",
        "#                         /    ,/\n",
        "#                        /    /\n",
        "#                       //  ,/\n",
        "#                      //  /\n",
        "#                     // ,/\n",
        "#                    //_/"
      ]
    },
    {
      "cell_type": "code",
      "execution_count": 13,
      "metadata": {
        "id": "pUWHJ5oEfUo1"
      },
      "outputs": [],
      "source": [
        "# 2.0 ------- Mission design ------- \n",
        "\n",
        "# #---Altitude---\n",
        "# H = 2500 #m\n",
        "\n",
        "# #---Range---\n",
        "# flight_dist = 500000 #m\n",
        "\n",
        "# #---Takeoff and Landing parameters---\n",
        "\n",
        "# Takeoff_dist = 30 #m Takeoff distance\n",
        "# Land_dist = 20 #m Landing distance\n",
        "# V_takeoff = 30 / 3.6 #m/s Takeoff Speed\n",
        "\n",
        "# climb_angle = 30 #deg Climb Angle\n",
        "# descend_angle = 30 #deg Descend Angle\n",
        "\n",
        "\n",
        "# V_cruise = 275 / 3.6 #m/s Cruise Speed\n",
        "\n",
        "\n",
        "# # Number of passengers\n",
        "# N_p = 12 \n",
        "# #Weight\n",
        "# W = 3500"
      ]
    },
    {
      "cell_type": "code",
      "execution_count": 14,
      "metadata": {
        "id": "3srzh2d8b1br"
      },
      "outputs": [],
      "source": [
        "# 2.1 Takeoff\n",
        "V_0 = 30/3.6  # takeoff velocity [m/s] (30 km/h)\n",
        "V_takeoff = 0.7 * V_0  # average takeoff velocity [m/s]\n",
        "f = 0.04              # friction coeffiient"
      ]
    },
    {
      "cell_type": "code",
      "execution_count": 15,
      "metadata": {
        "id": "iA6C2ZNehQyh"
      },
      "outputs": [],
      "source": [
        "# 2.3 Cruise flight\n",
        "H = 2000 #Flight altitude [m]\n",
        "P_hf = 79499 #Flight altitude pressure [Pa]\n",
        "rho_cruise = 1.0065 #Flight altitude air density [kg/m3]\n",
        "V_cruise = 300/3.6\n",
        "V_alt = 332.5 #Flight altitude speed of sound\n",
        "M_cruise = V_cruise/v_alt\n",
        "# rho = 0.9569    # [kg/m^3]\n",
        "q_cruise = 0.5 * rho_cruise * V_cruise**2 # Cruise dynamic pressure [Pa]\n",
        "g = 9.81                          # Gravitational acceleration [m/s2]\n",
        "mu = 76     #[m**2/s] kinematic viscosity parameter according to ISA\n"
      ]
    },
    {
      "cell_type": "code",
      "execution_count": 16,
      "metadata": {
        "id": "o3MigrKOflkr"
      },
      "outputs": [],
      "source": [
        "# 2.2 Climb\n",
        "Theta_climb = 30 #[deg]\n",
        "l_climb = H / (np.sin(Theta_climb * np.pi/180)) # climb diagonal distance[m]\n",
        "d_climb = H / (np.tan(Theta_climb * np.pi/180)) # climb horizontal distance[m]"
      ]
    },
    {
      "cell_type": "code",
      "execution_count": 20,
      "metadata": {},
      "outputs": [],
      "source": [
        "#2.4 Descend\n",
        "Theta_descend = 30\n",
        "l_descend = H/(np.sin(Theta_descend * np.pi/180))\n",
        "d_descend = H/(np.tan(Theta_descend * np.pi/180))"
      ]
    },
    {
      "cell_type": "code",
      "execution_count": 18,
      "metadata": {},
      "outputs": [],
      "source": [
        "# 2.5 Landing\n",
        "V_landing = 30/3.6 # [m/s]\n",
        "f_friction_land = 0.3 # landing friction coefficient"
      ]
    },
    {
      "cell_type": "code",
      "execution_count": 22,
      "metadata": {},
      "outputs": [],
      "source": [
        "# 2.6 Load factors\n",
        "n_landing_gear = \n",
        "P_cabin = 79499 # equals to P_hf [Pa]\n",
        "P_delta = 101325 - P_cabin\n",
        "n = 3\n",
        "N _z = 1.5 * n # Ultimate load factor\n",
        "# N_l = 1.5 * n_landing_gear -- ?"
      ]
    },
    {
      "cell_type": "code",
      "execution_count": 23,
      "metadata": {},
      "outputs": [],
      "source": [
        "# 2.7 Payload\n",
        "N_p = 12\n",
        "W_payload = 12*100 + 1000\n",
        "P_delta = 0"
      ]
    },
    {
      "cell_type": "code",
      "execution_count": null,
      "metadata": {},
      "outputs": [
        {
          "ename": "SyntaxError",
          "evalue": "invalid syntax (2832884352.py, line 2)",
          "output_type": "error",
          "traceback": [
            "\u001b[1;36m  File \u001b[1;32m\"C:\\Users\\backg\\AppData\\Local\\Temp\\ipykernel_27912\\2832884352.py\"\u001b[1;36m, line \u001b[1;32m2\u001b[0m\n\u001b[1;33m    V_pr =      # volume of pressurized section [m^3]\u001b[0m\n\u001b[1;37m                ^\u001b[0m\n\u001b[1;31mSyntaxError\u001b[0m\u001b[1;31m:\u001b[0m invalid syntax\n"
          ]
        }
      ],
      "source": [
        "# 3.1 Fuselage\n",
        "V_pr =      # volume of pressurized section [m^3] \n",
        "S_f =       # fuselage wetted area [m^2] \n",
        "L_t =       # tail length [m] \n",
        "L_nose =        # nose part length  [m]\n",
        "L =       # fuselage structural length [m] \n",
        "D =       # fuselage structural depth [m] \n",
        "W =       # total fuselage structural width [m] \n",
        "phi =       # nose semipart angle [rad]\n",
        "\n",
        "S_fus = W**2 * np.pi/4 # crossectional area [m^2]\n",
        "r_relative = nose_radius / fuselage_radius # nose relative radius\n",
        "D_fus = np.sqrt(4 * S_fus/np.pi)    # fuselage equivalent diametr [m]\n",
        "AR_nose = L_nose / W    # fuselage aspect ratio\n",
        "AR_aft = L_aft / W      # rear part aspect ratio"
      ]
    },
    {
      "cell_type": "code",
      "execution_count": null,
      "metadata": {},
      "outputs": [],
      "source": [
        "# 3.2 Wing (or stablizer or fin)\n",
        "k_Awing =       # airfoil type coefficient (supercritical (0.97) or conventional (0.88))\n",
        "B_w     # wing span, [m]\n",
        "S_w =   # trapezoidal wing area, [m^2]\n",
        "t_c =   # thickness − to − chord − ratio\n",
        "Lambda =    # wing sweep at 25% MAC\n",
        "\n",
        "TR_w = tip_chord / root chord   # wing_taper_ratio\n",
        "AR_w = B_w**2 / S_w     # wing aspect ratio\n",
        "mac = S_w / B_w     # Mean aerodynamic chord [m]\n",
        "S_wf = W * mac     # wing area intersected with fuselage [m^2]\n",
        "\n",
        "#  H_t / H_v = 0 if tail is conventional, 1 if tail is T − shaped"
      ]
    },
    {
      "cell_type": "code",
      "execution_count": null,
      "metadata": {},
      "outputs": [
        {
          "ename": "SyntaxError",
          "evalue": "invalid syntax (1832732049.py, line 3)",
          "output_type": "error",
          "traceback": [
            "\u001b[1;36m  File \u001b[1;32m\"C:\\Users\\backg\\AppData\\Local\\Temp\\ipykernel_14588\\1832732049.py\"\u001b[1;36m, line \u001b[1;32m3\u001b[0m\n\u001b[1;33m    W_l =\u001b[0m\n\u001b[1;37m          ^\u001b[0m\n\u001b[1;31mSyntaxError\u001b[0m\u001b[1;31m:\u001b[0m invalid syntax\n"
          ]
        }
      ],
      "source": [
        "# 3.3 Landing gear\n",
        "\n",
        "W_l = \n",
        "L_m = \n",
        "L_n = "
      ]
    },
    {
      "cell_type": "code",
      "execution_count": null,
      "metadata": {},
      "outputs": [],
      "source": [
        "# 4. ENERGY SYSTEM\n",
        "\n",
        "PW = 200\n",
        "N_en = 6\n",
        "n_prop = 0.7\n",
        "N_t = 2\n",
        "W_fw = \n",
        "W_fuel = \n",
        "V_t = \n",
        "V_i = "
      ]
    },
    {
      "cell_type": "code",
      "execution_count": null,
      "metadata": {},
      "outputs": [],
      "source": [
        "# 5. WEIGHT BALANCE\n",
        "\n",
        "#5.1 Propulsion system weight calculation\n",
        "\n",
        "W_en = \n",
        "W_installed_engine = 2.421 * (W_en ** 0.922) * N_en\n",
        "P_en_max = "
      ]
    },
    {
      "cell_type": "code",
      "execution_count": null,
      "metadata": {},
      "outputs": [],
      "source": [
        "# 5.2 structures weight calcultation\n"
      ]
    },
    {
      "cell_type": "code",
      "execution_count": null,
      "metadata": {},
      "outputs": [],
      "source": [
        "## 5.2.1 Fuselage weight calculation    \n",
        "W_press = 1.2926 * (V_pr * P_delta)**0.271\n",
        "W_press =  # we   ight penalty due to pressurization, [kg]\n",
        "W_dg = # fli         ght design gross weight, [kg]\n",
        "W_fuselage = 0.23 * S_f**1.086* (N_z*W_dg)**0.177 * L_t**(-0.051) * (L/D)**(-0.072) * q**0.241 + W_press\n",
        "  "
      ]
    },
    {
      "cell_type": "code",
      "execution_count": null,
      "metadata": {},
      "outputs": [],
      "source": [
        "# 5.2.2 Wing weight calculation\n",
        "W_fw =   # weight of fuel in wing, [kg]\n",
        "\n",
        "W_wing = 0.13817 * S_w**0.758 * W_fw**0.0035 * (A * R_w / (np.cos(Lambda)) ** 2)**0.6 *\n",
        "    q**0.006 * T*R_w**0.04 * (100 * t / c / np.cos(Lambda)) * (N_z * W_dg) ** 0.49"
      ]
    },
    {
      "cell_type": "code",
      "execution_count": null,
      "metadata": {},
      "outputs": [],
      "source": [
        "# 5.2.3 Empennage weight calculation\n",
        "\n",
        "W_ht = 0.01917 * (N_z * W_dg)**0.414 * q**0.168 * S_ht**0.896 * (100 * c / t / np.cos(Lambda_ht))**(-0.12) * \n",
        "    (A*R_ht / np.cos(Lambda_ht)**2) ** 0.043 * T*R_ht**(-0.02)\n",
        "\n",
        "W_vt = 0.12 * (1 + 0.02 * H_t/H_v) * (N_z * W_dg)**0.376 * q**0.122 * S_vt**0.873 * \n",
        "    (100*t/c/np.cos(Lambda_vt))**(-0.49) * (A*R_vt/np.cos(Lambda_vt)**2)**0.357 * T*R_vt**0.039"
      ]
    },
    {
      "cell_type": "code",
      "execution_count": null,
      "metadata": {},
      "outputs": [],
      "source": [
        "# 5.2.4 Landing gear weight calculation\n",
        "W ht = 0.01917 * (N_z * W_dg)**0.414 * q**0.168 * S_ht**0.896 \\\n",
        "    * np.cos(Lambda_ht) * (AR_ht / np.cos(Lambda_ht)**2)**0.043 * TR_ht**(-0.02)\n",
        "\n",
        "W_vt = 0.12 * (1 + 0.02 * H_t/H_v) * (N_z * W_dg)**0.376 * q**0.122 * S_vt**0.873 \\ \n",
        "    * (100* t/c / np.cos(Lambda_vt))**(-0.49) * (AR_vt / np.cos(Lambda_vt)**2)**0.357 * TR_vt**0.039\n"
      ]
    },
    {
      "cell_type": "code",
      "execution_count": null,
      "metadata": {},
      "outputs": [
        {
          "data": {
            "text/plain": [
              "0.004069326954998212"
            ]
          },
          "execution_count": 4,
          "metadata": {},
          "output_type": "execute_result"
        }
      ],
      "source": [
        "# 5.3 Equipment weight calculation\n",
        "\n",
        "W_fuel_system = 64.7374 * V_t**0.726 * (1 / (1 + V_i/V_t))**0.363 * N_t**0.242 * N_en**0.157\n",
        "\n",
        "W_flight_controls = 0.43613 * L**1.536 * B_w**0.371 * (N_z * W_dg * 10**-4)**0.8\n",
        "\n",
        "K_h = 0.05\n",
        "W_hydraulics = 1.1734 * K_h * W**0.8 * M**0.5\n",
        "\n",
        "W_uav = 500 #uninstalled avionics weight, [kg]\n",
        "W_avionics = 2 * W_uav**0.933\n",
        "W_electrical = 8.533 * (W_fuel_system + W_avionics)**0.51\n",
        "W_air_conditioning = 0.2074 * W_dg**0.52 * N_p**0.68 * W_avionics**0.17 * M**0.08\n",
        "W_furnishings = 0.0582 * W_dg - 29.48"
      ]
    },
    {
      "cell_type": "code",
      "execution_count": null,
      "metadata": {},
      "outputs": [],
      "source": [
        "# 6. AERODYNAMICS\n",
        "\n",
        "# 6.1 Polar coefficient and lift coefficient\n",
        "\n",
        "e = 1 / (1 + 0.025 * A*R_w)\n",
        "\n",
        "A = 1 / (np.pi * A*R_w * e)\n",
        "\n",
        "C_Lcruise = 0.71 * np.sqrt(np.pi * A*R_w * C_D0)"
      ]
    },
    {
      "cell_type": "code",
      "execution_count": null,
      "metadata": {},
      "outputs": [],
      "source": [
        "# 6.2 Drag coefficient \n",
        "\n",
        "C_d = C_D0 + A * C_L**2     # optimal C_lcruise\n",
        "K_int = 0.225   # interfere*nce coefficient (depends on position of wing)\n",
        "v_mu =  -0.04 * M2 - 0.03 * M + 1   # flow compressibility coefficient"
      ]
    },
    {
      "cell_type": "code",
      "execution_count": null,
      "metadata": {},
      "outputs": [],
      "source": [
        "# 6.2.1 Fuselage (nascelle) drag\n",
        "\n",
        "Re_fus = V_cruise * L / mu\n",
        "\n",
        "C_f_fus = 0.0454 * Re_fus ** (-0.189)\n",
        "\n",
        "V_lambda_fus = 1.7564 * A*R_fus**(-0.225)\n",
        "\n",
        "C_D0_fus_friction = 2 * C_f_fus * nu_mu * nu_lambda_fus * S_f / (2 * S_fus)\n",
        "\n",
        "C_D0_par = (1.0699 * M**3 - 2.2393 * M**2 + 1.6016 * M - 0.3859) - 0.01 * (A * R_nose - 2)\n",
        "\n",
        "delta_C_D_dump = 1.6667 * M**3 - 2.1786 * M**2 + 0.8512 * M - 0.0386\n",
        "\n",
        "C_D0_nose = C_D0_par * \\\n",
        "    (1 - r_relative**2 * np.cos(phi)**2 * \\\n",
        "    (3.1 - 1.4 * r_relative * np.cos(phi) - 0.7 * r_relative**2 * np.cos(phi)**2)) + \\\n",
        "    delta_C_D_dump * r_relative**2\n",
        "\n",
        "C_D0_aft = (0.5455 * M**2 - 0.6764 * M + 0.2698) - 0.013 * (A*R_aft - 2)\n",
        "\n",
        "C_D0_fus_pressure = C_D0_nose + C_D0_aft\n",
        "\n",
        "C_D0_fuselage = C_D0_fus_friction + C_D0_fus_pressure"
      ]
    },
    {
      "cell_type": "code",
      "execution_count": null,
      "metadata": {},
      "outputs": [],
      "source": [
        "# 6.2.2  Wing (or stabilizer or fin) drag\n",
        "K1 = 2 - S_with_eng / S_w   # wing − nacelles interference coefficient\n",
        "v_C_wing = 1 + 1.5 * t/c    # airfoil thickness coefficient\n",
        "Re_wing = V_cruise * mac / mu   # Reynolds number\n",
        "C_f_winf = 0.0454 * Re_wing**(0.189)    # flat plate friction coefficient\n",
        "C_D0_form_wing = 0.925 * K1 * C_f_wing * v_mu * v_C_wing    # form drag coefficient\n",
        "\n",
        "M_DD_wing = (k_A_wing - W_total * (g/q_cruise*S_w / 10 * np.cos(Lambda)**2) \\\n",
        "    t/c / np.cos(Lambda)) / np.cos(Lambda)  # drag divergence Mach number \n",
        "\n",
        "M_cr_wing = M_DD_wing - 0.108   # critical Mach number\n",
        "C_D0_wave_wing = 20 * (M - M_cr_wing)**4    # wave drag coefficient\n",
        "C_D0_prime_wing = C_D0_form_wing + C_D0_wave_wing    # clean wing drag coefficient\n",
        "C_D0_wing = C_D0_prime_wing + K_int * C_D0_form_wing * \\\n",
        "    S_wf/S_w    # wing drag coefficient"
      ]
    },
    {
      "cell_type": "code",
      "execution_count": null,
      "metadata": {},
      "outputs": [],
      "source": [
        "# 6.3 Zero drag coefficient\n",
        "\n",
        "C_D0 = 1 * (C_D0_fuselage * S_fus/S_w + C_D0_wing + C_D0_ht1 * S_ht1/S_w + \\\n",
        "    C_D0_ht2 * S_ht2/S_w + C_D0_vt * S_vt/S_w + n_eng * C_D0_nacelle * S_nac/S_w)"
      ]
    },
    {
      "cell_type": "code",
      "execution_count": null,
      "metadata": {},
      "outputs": [],
      "source": [
        "# 7 OUTPUTS\n",
        "\n",
        "# 7.1 Takeoff\n",
        "Cl_takeoff = W_total / g/(S_w * 0.5 * 1.225 * V_takeoff**2)     # Takeoff lift coefficient\n",
        "Cd_takeoff = C_D0 + A * Cl_takeoff**2   # Takeoff drag coefficient\n",
        "X_takeoff = Cd_takeoff * V_takeoff**2 * 1.225 * 0.5 * S_w # Drag force [N]\n",
        "R_takeoff = P_en_max * N_en * 1000 * 0.0155   # Thrust [N]\n",
        "F_takeoff = f_friction_to * (W_total * g - Cl_takeoff * \\\n",
        "     V_takeoff**2 * 0.5 * 1.225 * S_w) # Friction force [N]\n",
        "\n",
        "a_takeoff = g * ((R_takeoff - X_takeoff - F_takeoff) / W_total) / 10\n",
        "    # Acceleration [m/s2]\n",
        "\n",
        "L_takeoff = V_0**2 * 0.5 / a_takeoff    # takeoff distance [m]\n",
        "\n",
        "W_fuel_takeoff = 2 * SFC_eng * R_takeoff * L_takeoff/Prop_eff\n",
        "    # takeoff consumed fuel [kg]"
      ]
    },
    {
      "cell_type": "code",
      "execution_count": null,
      "metadata": {},
      "outputs": [],
      "source": [
        "# 7.2 Landing\n",
        "\n",
        "Cl_landing = W_total * g / (S_w * 0.5 * 1.225 * V_landing ** 2)\n",
        "\n",
        "Cd_landing = C_D0 * 5 + A*Cl_landing**2\n",
        "\n",
        "a_landing = g * (2 * f_friction_land/3 + 1/3 * Cd_landing / Cl_landing)\n",
        "\n",
        "L_landing = V_landing**2 * 0.5/a_landing\n",
        "\n",
        "W_fuel_landing = 2 * SFC_eng * 0.06 * R_takeoff * L_takeoff / Prop_eff"
      ]
    },
    {
      "cell_type": "code",
      "execution_count": null,
      "metadata": {},
      "outputs": [
        {
          "ename": "NameError",
          "evalue": "name 'W_total' is not defined",
          "output_type": "error",
          "traceback": [
            "\u001b[1;31m---------------------------------------------------------------------------\u001b[0m",
            "\u001b[1;31mNameError\u001b[0m                                 Traceback (most recent call last)",
            "\u001b[1;32m~\\AppData\\Local\\Temp\\ipykernel_14588\\860607331.py\u001b[0m in \u001b[0;36m<module>\u001b[1;34m\u001b[0m\n\u001b[0;32m      1\u001b[0m \u001b[1;31m# 7.3 Climb\u001b[0m\u001b[1;33m\u001b[0m\u001b[1;33m\u001b[0m\u001b[1;33m\u001b[0m\u001b[0m\n\u001b[0;32m      2\u001b[0m \u001b[1;33m\u001b[0m\u001b[0m\n\u001b[1;32m----> 3\u001b[1;33m \u001b[0mW_fuel_climb\u001b[0m \u001b[1;33m=\u001b[0m \u001b[0mW_total\u001b[0m \u001b[1;33m-\u001b[0m\u001b[0;31m \u001b[0m\u001b[0;31m\\\u001b[0m\u001b[1;33m\u001b[0m\u001b[1;33m\u001b[0m\u001b[0m\n\u001b[0m\u001b[0;32m      4\u001b[0m     np.exp(np.log(W_total) - SFC_eng * 0.001 * 0.000277 / Prop_eff * g * \\\n\u001b[0;32m      5\u001b[0m         (np.cos(phi_climb)/19 + np.sin(phi_climb)) * l_climb)\n",
            "\u001b[1;31mNameError\u001b[0m: name 'W_total' is not defined"
          ]
        }
      ],
      "source": [
        "# 7.3 Climb\n",
        "\n",
        "W_fuel_climb = W_total - \\\n",
        "    np.exp(np.log(W_total) - SFC_eng * 0.001 * 0.000277 / Prop_eff * g * \\\n",
        "        (np.cos(phi_climb)/19 + np.sin(phi_climb)) * l_climb)\n",
        "    # Climb consumed fuel weight [kg]"
      ]
    },
    {
      "cell_type": "code",
      "execution_count": null,
      "metadata": {},
      "outputs": [],
      "source": [
        "# 7.4 Descend\n",
        "\n",
        "W_fuel_descend = W_total - \\\n",
        "    enp.exp(np.log(W_total) - SFC_eng * 0.001 * 0.000277 / Prop_eff * g * \\\n",
        "        (np.cos(phi_descend)/10 - np.sin(phi_descend)) * l_descend)"
      ]
    },
    {
      "cell_type": "code",
      "execution_count": null,
      "metadata": {},
      "outputs": [],
      "source": [
        "# 7.5 Cruise flight\n",
        "\n",
        "L_D_cruise = g * (W_total - m_fuel_cruise) * q_cruise * \\\n",
        "    S_w / (C_D0 * q_cruise**2 * S_w**2 + A * g**2 * (W_total - m_fuel_cruise)**2)\n",
        "\n",
        "fL_cruise = Prop_eff * L_D_cruise / \\\n",
        "    (SFC_eng * 0.001 * 0.000277 * (W_total - m_fuel_cruise) * g)\n",
        "\n",
        "Flight_distance = L_cruise + d_climb + d_descend\n",
        "    #  Total flight distance"
      ]
    },
    {
      "cell_type": "code",
      "execution_count": null,
      "metadata": {},
      "outputs": [],
      "source": []
    }
  ],
  "metadata": {
    "colab": {
      "collapsed_sections": [],
      "name": "Team4.ipynb",
      "provenance": []
    },
    "kernelspec": {
      "display_name": "Python 3",
      "name": "python3"
    },
    "language_info": {
      "codemirror_mode": {
        "name": "ipython",
        "version": 3
      },
      "file_extension": ".py",
      "mimetype": "text/x-python",
      "name": "python",
      "nbconvert_exporter": "python",
      "pygments_lexer": "ipython3",
      "version": "3.8.10"
    }
  },
  "nbformat": 4,
  "nbformat_minor": 0
}
