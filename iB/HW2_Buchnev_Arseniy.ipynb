{
 "cells": [
  {
   "cell_type": "markdown",
   "metadata": {},
   "source": [
    "# HW 2 (due December 5 23:59 MSK)"
   ]
  },
  {
   "cell_type": "markdown",
   "metadata": {},
   "source": [
    "## IMPORTANT\n",
    "\n",
    "Although I've written the function to generate big random prime numbers and it works just fine, all prime numbers used in the encryption are relatively small due to the computation cost. I've yet to learn optimal algorithms =("
   ]
  },
  {
   "cell_type": "markdown",
   "metadata": {},
   "source": [
    "### Problem 1 (1 points)"
   ]
  },
  {
   "cell_type": "markdown",
   "metadata": {},
   "source": [
    "Diffie–Hellman key exchange protocol is one of the earliest practical examples of public key exchange implemented within the field of cryptography. Published in 1976 by Diffie and Hellman, this is the earliest publicly known work that proposed the idea of a private key and a corresponding public key. "
   ]
  },
  {
   "cell_type": "markdown",
   "metadata": {},
   "source": [
    "1. Implement function to generate common secret key within multiplicative group of given Finite field with known generator "
   ]
  },
  {
   "cell_type": "code",
   "execution_count": 1,
   "metadata": {},
   "outputs": [],
   "source": [
    "import math\n",
    "import numpy as np\n",
    "import random as rnd"
   ]
  },
  {
   "cell_type": "markdown",
   "metadata": {},
   "source": [
    "First, let's implement the prime number generator:"
   ]
  },
  {
   "cell_type": "code",
   "execution_count": 2,
   "metadata": {},
   "outputs": [],
   "source": [
    "def first_primes(num):\n",
    "  nums = np.arange(2, num)\n",
    "  for n in range(2, num):\n",
    "    check_array = nums[nums >= n**2]\n",
    "    check_array = check_array[check_array % n == 0]\n",
    "    nums = np.setdiff1d(nums, check_array)\n",
    "\n",
    "  return nums\n",
    "\n",
    "first_primes(1000)\n",
    "\n",
    "def generate_candidate(n):\n",
    "  return rnd.randrange(2**(n-1), 2**n - 1)\n",
    "\n",
    "def llpt(candidate, primes):\n",
    "  for d in primes:\n",
    "    if candidate % d == 0:\n",
    "      return False\n",
    "    return True\n",
    "\n",
    "def generate_prime(n):\n",
    "    found = False\n",
    "    primes = first_primes(1000)\n",
    "    while not(found):\n",
    "        c = generate_candidate(n)\n",
    "        found = llpt(c, primes)\n",
    "    return c"
   ]
  },
  {
   "cell_type": "code",
   "execution_count": 3,
   "metadata": {},
   "outputs": [
    {
     "name": "stdout",
     "output_type": "stream",
     "text": [
      "Found prime candidate: 1129855095612002158682989998831\n"
     ]
    }
   ],
   "source": [
    "prime = generate_prime(100)\n",
    "\n",
    "print('Found prime candidate: {}'.format(prime))"
   ]
  },
  {
   "cell_type": "code",
   "execution_count": 4,
   "metadata": {},
   "outputs": [],
   "source": [
    "def generate_sk(g, p):\n",
    "    a = generate_prime(4)\n",
    "    b = generate_prime(4)\n",
    "\n",
    "    A = (int(g) ** int(a)) % int(p)\n",
    "    B = (int(g) ** int(b)) % int(p)\n",
    "\n",
    "    K1 = (int(B) ** int(a)) % int(p)\n",
    "    K2 = (int(A) ** int(b)) % int(p)\n",
    "\n",
    "    K = K1 if (K1 == K2) else print('something went wrong!')\n",
    "    return K, K1, K2, A, B, a, b"
   ]
  },
  {
   "cell_type": "markdown",
   "metadata": {},
   "source": [
    "Now, we can generate the key:"
   ]
  },
  {
   "cell_type": "code",
   "execution_count": 5,
   "metadata": {},
   "outputs": [
    {
     "data": {
      "text/plain": [
       "11"
      ]
     },
     "execution_count": 5,
     "metadata": {},
     "output_type": "execute_result"
    }
   ],
   "source": [
    "K, *tmp = generate_sk(11, 17)\n",
    "K"
   ]
  },
  {
   "cell_type": "markdown",
   "metadata": {},
   "source": [
    "2. Test your solution in GF(17) with generator g=11. Bobs' open key B=11, Alice private key is a=7"
   ]
  },
  {
   "cell_type": "code",
   "execution_count": 6,
   "metadata": {},
   "outputs": [],
   "source": [
    "def generate_sk_2(a, B, g, p):\n",
    "    K = (int(B) ** int(a)) % int(p)\n",
    "    return K"
   ]
  },
  {
   "cell_type": "code",
   "execution_count": 7,
   "metadata": {},
   "outputs": [
    {
     "name": "stdout",
     "output_type": "stream",
     "text": [
      "Secret key: 3\n",
      "Check: 3\n"
     ]
    }
   ],
   "source": [
    "print('Secret key: {}'.format(generate_sk_2(7, 11, 11, 17)))\n",
    "print('Check: {}'.format(11 ** 7 % 17))"
   ]
  },
  {
   "cell_type": "markdown",
   "metadata": {},
   "source": [
    "### Problem 2 (3 points)"
   ]
  },
  {
   "cell_type": "markdown",
   "metadata": {},
   "source": [
    "RSA is a public-key cryptosystem that is widely used for secure data transmission. It is also one of the oldest. In this task we will ask you to implement your own RSA encryption scheme on Python"
   ]
  },
  {
   "cell_type": "markdown",
   "metadata": {},
   "source": [
    "1. Implement function for generating keys. The function must generate big random prime number (problem of generating big prime numbers was discussed within the lectures). (1 point)"
   ]
  },
  {
   "cell_type": "code",
   "execution_count": 8,
   "metadata": {},
   "outputs": [],
   "source": [
    "## done in p1"
   ]
  },
  {
   "cell_type": "markdown",
   "metadata": {},
   "source": [
    "2. Implement functions that realize the encryption and decryption in RSA protocol. (1 points)"
   ]
  },
  {
   "cell_type": "code",
   "execution_count": 8,
   "metadata": {},
   "outputs": [],
   "source": [
    "def generate_keys():\n",
    "  P1 = generate_prime(4)\n",
    "  P2 = generate_prime(4)\n",
    "  while (P2 == P1):\n",
    "    P2 = generate_prime(4)\n",
    "\n",
    "  N = P1 * P2\n",
    "  Phi = (P1 - 1)*(P2 - 1)\n",
    "  \n",
    "  es = first_primes(Phi)\n",
    "  e = 0\n",
    "  for ee in es:\n",
    "    if Phi % ee != 0:\n",
    "      e = ee\n",
    "      break\n",
    "\n",
    "  d = 1\n",
    "  while ((d * e) % Phi != 1):\n",
    "    d += 1\n",
    "\n",
    "  if d != int(d):\n",
    "    print('You fucked up!')\n",
    "    return None, None\n",
    "\n",
    "  return (N, e), (d, P1, P2, Phi)\n",
    "\n",
    "def encrypt(public, message):\n",
    "  N, e = public\n",
    "  #print('Encrypting')\n",
    "  #print('message: {}, e: {}, N: {}'.format(message, e, N))\n",
    "  m = int(math.pow(message, e) % N)\n",
    "  return m\n",
    "\n",
    "def decrypt(private, public, m): \n",
    "  d = private[0]\n",
    "  N = public[0]\n",
    "  #print('Decrypting')\n",
    "  #print('m: {}, d: {}, N: {}'.format(m, d, N))\n",
    "  message = m ** d % N\n",
    "  return message"
   ]
  },
  {
   "cell_type": "code",
   "execution_count": 15,
   "metadata": {},
   "outputs": [
    {
     "data": {
      "text/plain": [
       "((117, 5), (77, 13, 9, 96))"
      ]
     },
     "execution_count": 15,
     "metadata": {},
     "output_type": "execute_result"
    }
   ],
   "source": [
    "public, private = generate_keys()\n",
    "public, private"
   ]
  },
  {
   "cell_type": "markdown",
   "metadata": {},
   "source": [
    "Test check:"
   ]
  },
  {
   "cell_type": "code",
   "execution_count": 16,
   "metadata": {},
   "outputs": [
    {
     "name": "stdout",
     "output_type": "stream",
     "text": [
      "Message:  6\n",
      "54\n",
      "Decrypted message:  45\n"
     ]
    }
   ],
   "source": [
    "message = 6\n",
    "assert message < public[0]\n",
    "print('Message: ', message)\n",
    "encrypted_message = encrypt(public, message)\n",
    "print(encrypted_message)\n",
    "decrypted_message = decrypt(private, public, encrypted_message)\n",
    "print('Decrypted message: ', decrypted_message)"
   ]
  },
  {
   "cell_type": "markdown",
   "metadata": {},
   "source": [
    "3. Calculate Hash of your name by SHA-1 and test RSA encryption/decryption functions on it (1 points)"
   ]
  },
  {
   "cell_type": "code",
   "execution_count": 14,
   "metadata": {},
   "outputs": [
    {
     "name": "stdout",
     "output_type": "stream",
     "text": [
      "Message:  373441502431982517244888483880274664732014556166\n",
      "Decimal encoded name: [3 7 3 4 4 1 5 0 2 4 3 1 9 8 2 5 1 7 2 4 4 8 8 8 4 8 3 8 8 0 2 7 4 6 6 4 7\n",
      " 3 2 0 1 4 5 5 6 1 6 6]\n",
      "Encrypting\n",
      "message: 3, e: 7, N: 143\n",
      "Encrypting\n",
      "message: 7, e: 7, N: 143\n",
      "Encrypting\n",
      "message: 3, e: 7, N: 143\n",
      "Encrypting\n",
      "message: 4, e: 7, N: 143\n",
      "Encrypting\n",
      "message: 4, e: 7, N: 143\n",
      "Encrypting\n",
      "message: 1, e: 7, N: 143\n",
      "Encrypting\n",
      "message: 5, e: 7, N: 143\n",
      "Encrypting\n",
      "message: 0, e: 7, N: 143\n",
      "Encrypting\n",
      "message: 2, e: 7, N: 143\n",
      "Encrypting\n",
      "message: 4, e: 7, N: 143\n",
      "Encrypting\n",
      "message: 3, e: 7, N: 143\n",
      "Encrypting\n",
      "message: 1, e: 7, N: 143\n",
      "Encrypting\n",
      "message: 9, e: 7, N: 143\n",
      "Encrypting\n",
      "message: 8, e: 7, N: 143\n",
      "Encrypting\n",
      "message: 2, e: 7, N: 143\n",
      "Encrypting\n",
      "message: 5, e: 7, N: 143\n",
      "Encrypting\n",
      "message: 1, e: 7, N: 143\n",
      "Encrypting\n",
      "message: 7, e: 7, N: 143\n",
      "Encrypting\n",
      "message: 2, e: 7, N: 143\n",
      "Encrypting\n",
      "message: 4, e: 7, N: 143\n",
      "Encrypting\n",
      "message: 4, e: 7, N: 143\n",
      "Encrypting\n",
      "message: 8, e: 7, N: 143\n",
      "Encrypting\n",
      "message: 8, e: 7, N: 143\n",
      "Encrypting\n",
      "message: 8, e: 7, N: 143\n",
      "Encrypting\n",
      "message: 4, e: 7, N: 143\n",
      "Encrypting\n",
      "message: 8, e: 7, N: 143\n",
      "Encrypting\n",
      "message: 3, e: 7, N: 143\n",
      "Encrypting\n",
      "message: 8, e: 7, N: 143\n",
      "Encrypting\n",
      "message: 8, e: 7, N: 143\n",
      "Encrypting\n",
      "message: 0, e: 7, N: 143\n",
      "Encrypting\n",
      "message: 2, e: 7, N: 143\n",
      "Encrypting\n",
      "message: 7, e: 7, N: 143\n",
      "Encrypting\n",
      "message: 4, e: 7, N: 143\n",
      "Encrypting\n",
      "message: 6, e: 7, N: 143\n",
      "Encrypting\n",
      "message: 6, e: 7, N: 143\n",
      "Encrypting\n",
      "message: 4, e: 7, N: 143\n",
      "Encrypting\n",
      "message: 7, e: 7, N: 143\n",
      "Encrypting\n",
      "message: 3, e: 7, N: 143\n",
      "Encrypting\n",
      "message: 2, e: 7, N: 143\n",
      "Encrypting\n",
      "message: 0, e: 7, N: 143\n",
      "Encrypting\n",
      "message: 1, e: 7, N: 143\n",
      "Encrypting\n",
      "message: 4, e: 7, N: 143\n",
      "Encrypting\n",
      "message: 5, e: 7, N: 143\n",
      "Encrypting\n",
      "message: 5, e: 7, N: 143\n",
      "Encrypting\n",
      "message: 6, e: 7, N: 143\n",
      "Encrypting\n",
      "message: 1, e: 7, N: 143\n",
      "Encrypting\n",
      "message: 6, e: 7, N: 143\n",
      "Encrypting\n",
      "message: 6, e: 7, N: 143\n",
      "[42, 6, 42, 82, 82, 1, 47, 0, 128, 82, 42, 1, 48, 57, 128, 47, 1, 6, 128, 82, 82, 57, 57, 57, 82, 57, 42, 57, 57, 0, 128, 6, 82, 85, 85, 82, 6, 42, 128, 0, 1, 82, 47, 47, 85, 1, 85, 85]\n",
      "Decrypting\n",
      "m: 42, d: 103, N: 143\n",
      "Decrypting\n",
      "m: 6, d: 103, N: 143\n",
      "Decrypting\n",
      "m: 42, d: 103, N: 143\n",
      "Decrypting\n",
      "m: 82, d: 103, N: 143\n",
      "Decrypting\n",
      "m: 82, d: 103, N: 143\n",
      "Decrypting\n",
      "m: 1, d: 103, N: 143\n",
      "Decrypting\n",
      "m: 47, d: 103, N: 143\n",
      "Decrypting\n",
      "m: 0, d: 103, N: 143\n",
      "Decrypting\n",
      "m: 128, d: 103, N: 143\n",
      "Decrypting\n",
      "m: 82, d: 103, N: 143\n",
      "Decrypting\n",
      "m: 42, d: 103, N: 143\n",
      "Decrypting\n",
      "m: 1, d: 103, N: 143\n",
      "Decrypting\n",
      "m: 48, d: 103, N: 143\n",
      "Decrypting\n",
      "m: 57, d: 103, N: 143\n",
      "Decrypting\n",
      "m: 128, d: 103, N: 143\n",
      "Decrypting\n",
      "m: 47, d: 103, N: 143\n",
      "Decrypting\n",
      "m: 1, d: 103, N: 143\n",
      "Decrypting\n",
      "m: 6, d: 103, N: 143\n",
      "Decrypting\n",
      "m: 128, d: 103, N: 143\n",
      "Decrypting\n",
      "m: 82, d: 103, N: 143\n",
      "Decrypting\n",
      "m: 82, d: 103, N: 143\n",
      "Decrypting\n",
      "m: 57, d: 103, N: 143\n",
      "Decrypting\n",
      "m: 57, d: 103, N: 143\n",
      "Decrypting\n",
      "m: 57, d: 103, N: 143\n",
      "Decrypting\n",
      "m: 82, d: 103, N: 143\n",
      "Decrypting\n",
      "m: 57, d: 103, N: 143\n",
      "Decrypting\n",
      "m: 42, d: 103, N: 143\n",
      "Decrypting\n",
      "m: 57, d: 103, N: 143\n",
      "Decrypting\n",
      "m: 57, d: 103, N: 143\n",
      "Decrypting\n",
      "m: 0, d: 103, N: 143\n",
      "Decrypting\n",
      "m: 128, d: 103, N: 143\n",
      "Decrypting\n",
      "m: 6, d: 103, N: 143\n",
      "Decrypting\n",
      "m: 82, d: 103, N: 143\n",
      "Decrypting\n",
      "m: 85, d: 103, N: 143\n",
      "Decrypting\n",
      "m: 85, d: 103, N: 143\n",
      "Decrypting\n",
      "m: 82, d: 103, N: 143\n",
      "Decrypting\n",
      "m: 6, d: 103, N: 143\n",
      "Decrypting\n",
      "m: 42, d: 103, N: 143\n",
      "Decrypting\n",
      "m: 128, d: 103, N: 143\n",
      "Decrypting\n",
      "m: 0, d: 103, N: 143\n",
      "Decrypting\n",
      "m: 1, d: 103, N: 143\n",
      "Decrypting\n",
      "m: 82, d: 103, N: 143\n",
      "Decrypting\n",
      "m: 47, d: 103, N: 143\n",
      "Decrypting\n",
      "m: 47, d: 103, N: 143\n",
      "Decrypting\n",
      "m: 85, d: 103, N: 143\n",
      "Decrypting\n",
      "m: 1, d: 103, N: 143\n",
      "Decrypting\n",
      "m: 85, d: 103, N: 143\n",
      "Decrypting\n",
      "m: 85, d: 103, N: 143\n",
      "Decrypted message: [3, 7, 3, 4, 4, 1, 5, 0, 2, 4, 3, 1, 9, 8, 2, 5, 1, 7, 2, 4, 4, 8, 8, 8, 4, 8, 3, 8, 8, 0, 2, 7, 4, 6, 6, 4, 7, 3, 2, 0, 1, 4, 5, 5, 6, 1, 6, 6]\n"
     ]
    }
   ],
   "source": [
    "from hashlib import sha1\n",
    "message = sha1()\n",
    "message.update(b'PrincessLuna')\n",
    "message = int(message.hexdigest(), 16)\n",
    "print('Message: ', message)\n",
    "message = np.array([int(x) for x in str(message)])\n",
    "print('Decimal encoded name: {}'.format(message))\n",
    "encrypted = [encrypt(public, m) for m in message]\n",
    "print(encrypted)\n",
    "decrypted = [decrypt(private, public, e) for e in encrypted]\n",
    "print('Decrypted message: {}'.format(decrypted))"
   ]
  },
  {
   "cell_type": "markdown",
   "metadata": {},
   "source": [
    "### Problem 3 (3 points)"
   ]
  },
  {
   "cell_type": "markdown",
   "metadata": {},
   "source": [
    "El Gamal protocol is widely used in cryptography. In this task we will ask you to implement your own El-Gamal encryption scheme on Python"
   ]
  },
  {
   "cell_type": "markdown",
   "metadata": {},
   "source": [
    "1. Implement function for generating keys. The function must generate big random prime number (problem of generating big prime numbers was discussed within the lectures). (1 point)"
   ]
  },
  {
   "cell_type": "code",
   "execution_count": 1,
   "metadata": {},
   "outputs": [],
   "source": [
    "# solved in p1"
   ]
  },
  {
   "cell_type": "markdown",
   "metadata": {},
   "source": [
    "2. Implement functions that realize the encryption and decryption in El Gamal protocol. (1 points)"
   ]
  },
  {
   "cell_type": "code",
   "execution_count": 42,
   "metadata": {},
   "outputs": [],
   "source": [
    "def primRoots(p):\n",
    "    roots = []\n",
    "    required_set = set(num for num in range (1, p) if math.gcd(num, p) == 1)\n",
    "\n",
    "    for g in range(1, p):\n",
    "        actual_set = set(pow(g, powers) % p for powers in range (1, p))\n",
    "        if required_set == actual_set:\n",
    "            roots.append(g)           \n",
    "    return roots"
   ]
  },
  {
   "cell_type": "code",
   "execution_count": 46,
   "metadata": {},
   "outputs": [],
   "source": [
    "def el_gamal_keys():\n",
    "    p = generate_prime(5)\n",
    "    g = rnd.choice(primRoots(p))\n",
    "    x = rnd.randrange(2, p - 2)\n",
    "\n",
    "    y = g ** x % p\n",
    "\n",
    "    return (y, g, p), x"
   ]
  },
  {
   "cell_type": "code",
   "execution_count": 48,
   "metadata": {},
   "outputs": [
    {
     "data": {
      "text/plain": [
       "((15, 14, 17), 6)"
      ]
     },
     "execution_count": 48,
     "metadata": {},
     "output_type": "execute_result"
    }
   ],
   "source": [
    "public, private = el_gamal_keys()\n",
    "public, private"
   ]
  },
  {
   "cell_type": "code",
   "execution_count": 31,
   "metadata": {},
   "outputs": [],
   "source": [
    "def el_encrypt(public, M):\n",
    "    y, g, p = public\n",
    "    k = 2\n",
    "    while math.gcd(k, p-1) != 1:\n",
    "        k += 1\n",
    "    \n",
    "    if (k >= p - 1):\n",
    "        print('something went wrong')\n",
    "\n",
    "    a = g ** k % p\n",
    "    b = (y ** k * M) % p\n",
    "\n",
    "    return (a, b)\n",
    "\n",
    "def el_decrypt(private, public, cypher):\n",
    "    x = private\n",
    "    a, b = cypher\n",
    "    y, g, p = public\n",
    "\n",
    "    #M = b*(a ** (p - 1 - x)) % p\n",
    "    M = b*(a ** (p - 1 - x)) % p\n",
    "\n",
    "    return M"
   ]
  },
  {
   "cell_type": "code",
   "execution_count": 60,
   "metadata": {},
   "outputs": [
    {
     "name": "stdout",
     "output_type": "stream",
     "text": [
      "Message: 6\n",
      "(7, 3)\n",
      "Decrypted message: 6\n"
     ]
    }
   ],
   "source": [
    "M = 6\n",
    "assert M < public[2]\n",
    "print('Message: {}'.format(M))\n",
    "cypher = el_encrypt(public, M)\n",
    "print(cypher)\n",
    "\n",
    "msg = el_decrypt(private, public, cypher)\n",
    "\n",
    "print('Decrypted message: {}'.format(msg))"
   ]
  },
  {
   "cell_type": "markdown",
   "metadata": {},
   "source": [
    "3. Calculate Hash of your name by SHA-1 and test El Gamal encryption/decryption functions on it (1 points)"
   ]
  },
  {
   "cell_type": "code",
   "execution_count": 62,
   "metadata": {},
   "outputs": [
    {
     "name": "stdout",
     "output_type": "stream",
     "text": [
      "Message:  373441502431982517244888483880274664732014556166\n",
      "Decimal encoded name: [3 7 3 4 4 1 5 0 2 4 3 1 9 8 2 5 1 7 2 4 4 8 8 8 4 8 3 8 8 0 2 7 4 6 6 4 7\n",
      " 3 2 0 1 4 5 5 6 1 6 6]\n",
      "[(7, 10), (7, 12), (7, 10), (7, 2), (7, 2), (7, 9), (7, 11), (7, 0), (7, 1), (7, 2), (7, 10), (7, 9), (7, 13), (7, 4), (7, 1), (7, 11), (7, 9), (7, 12), (7, 1), (7, 2), (7, 2), (7, 4), (7, 4), (7, 4), (7, 2), (7, 4), (7, 10), (7, 4), (7, 4), (7, 0), (7, 1), (7, 12), (7, 2), (7, 3), (7, 3), (7, 2), (7, 12), (7, 10), (7, 1), (7, 0), (7, 9), (7, 2), (7, 11), (7, 11), (7, 3), (7, 9), (7, 3), (7, 3)]\n",
      "Decrypted message: 373441502431982517244888483880274664732014556166\n"
     ]
    }
   ],
   "source": [
    "from hashlib import sha1\n",
    "message = sha1()\n",
    "message.update(b'PrincessLuna')\n",
    "message = int(message.hexdigest(), 16)\n",
    "print('Message: ', message)\n",
    "message = np.array([np.int64(x) for x in str(message)])\n",
    "print('Decimal encoded name: {}'.format(message))\n",
    "encrypted = [el_encrypt(public, m) for m in message]\n",
    "print(encrypted)\n",
    "decrypted = [el_decrypt(private, public, e) for e in encrypted]\n",
    "string = ''\n",
    "for d in decrypted:\n",
    "    string += str(d)\n",
    "\n",
    "print('Decrypted message: {}'.format(string))"
   ]
  },
  {
   "cell_type": "markdown",
   "metadata": {},
   "source": [
    "It works!"
   ]
  },
  {
   "cell_type": "markdown",
   "metadata": {},
   "source": [
    "### Problem 4 (3 points)"
   ]
  },
  {
   "cell_type": "markdown",
   "metadata": {},
   "source": [
    "Elliptic curves due to their efficient hardware realization widely used in modern secure communication channels. The main thing that lies inside their cryptographic hardness is that we can break them only by greed search over all group points. In this task, we will ask you to write python function that returns all group elements of a certain elliptic curve over a finite field "
   ]
  },
  {
   "cell_type": "markdown",
   "metadata": {},
   "source": [
    "1. Write a python function that list all points of elliptic curve $y^2=x^3-8x-5$ over $F_{11}$ (2 points)"
   ]
  },
  {
   "cell_type": "code",
   "execution_count": null,
   "metadata": {},
   "outputs": [],
   "source": []
  },
  {
   "cell_type": "markdown",
   "metadata": {},
   "source": [
    "2. Does the point (9, 5) generate all elliptic curve points or only its' subgroup? Provide a python fuction that solve this task. (1 point)"
   ]
  },
  {
   "cell_type": "code",
   "execution_count": null,
   "metadata": {},
   "outputs": [],
   "source": []
  }
 ],
 "metadata": {
  "kernelspec": {
   "display_name": "Python 3",
   "language": "python",
   "name": "python3"
  },
  "language_info": {
   "codemirror_mode": {
    "name": "ipython",
    "version": 3
   },
   "file_extension": ".py",
   "mimetype": "text/x-python",
   "name": "python",
   "nbconvert_exporter": "python",
   "pygments_lexer": "ipython3",
   "version": "3.7.9"
  }
 },
 "nbformat": 4,
 "nbformat_minor": 2
}
