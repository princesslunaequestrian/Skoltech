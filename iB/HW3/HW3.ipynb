{
 "cells": [
  {
   "cell_type": "markdown",
   "metadata": {},
   "source": [
    "# Homework 3"
   ]
  },
  {
   "cell_type": "markdown",
   "metadata": {},
   "source": [
    "## Task 1"
   ]
  },
  {
   "cell_type": "markdown",
   "metadata": {},
   "source": [
    "Create a user-interacting interface to connect to different blockchain networks, i.e. main net, testnets (any two), and ganache.\n",
    "\n",
    "*(Hint: Take input from the user, use the if-else method to connect to different networks. Use different Infura/Alchemy Endpoints)*"
   ]
  },
  {
   "cell_type": "code",
   "execution_count": 261,
   "metadata": {},
   "outputs": [],
   "source": [
    "import web3\n",
    "from web3 import Web3\n",
    "import json"
   ]
  },
  {
   "cell_type": "code",
   "execution_count": 133,
   "metadata": {},
   "outputs": [],
   "source": [
    "mainnet = \"https://mainnet.infura.io/v3/2c00cdcf2f824e4085718bdb8546c235\"\n",
    "ropsten = \"https://ropsten.infura.io/v3/2c00cdcf2f824e4085718bdb8546c235\"\n",
    "rinkeby = \"https://rinkeby.infura.io/v3/2c00cdcf2f824e4085718bdb8546c235\"\n",
    "ganache = \"HTTP://127.0.0.1:7545\" #enter your ganache address here\n",
    "\n",
    "acc1 = \"0xF24812915a0A1A2dbf4e8081941a1E4779eEB2e0\"\n",
    "acc2 = \"0x059c580FcE97fAdE3B76b8fCb5d7f2A2712e68CC\"\n",
    "\n",
    "acc1_private_key = \"here was my private key =)\""
   ]
  },
  {
   "cell_type": "code",
   "execution_count": 74,
   "metadata": {},
   "outputs": [],
   "source": [
    "def connect():\n",
    "\n",
    "    CONNECT_ATTEMPTS = 3\n",
    "\n",
    "    print('Choose network to connect to:')\n",
    "    print('1: Ethereum Mainnet')\n",
    "    print('2: Ropsten Testnet')\n",
    "    print('3: Rinkeby Testnet')\n",
    "    print('4: Ganache')\n",
    "    print('...')\n",
    "    str = input()\n",
    "    if (str == '1'):\n",
    "        target = mainnet\n",
    "    elif (str == '2'):\n",
    "        target = ropsten\n",
    "    elif (str == '3'):\n",
    "        target = rinkeby\n",
    "    elif (str == '4'):\n",
    "        print(\"Enter your ganache local address:\")\n",
    "        ganache = input()\n",
    "        target = ganache\n",
    "    else:\n",
    "        print('Unknown command')\n",
    "\n",
    "    counter = 0\n",
    "    provider = Web3.HTTPProvider(target)\n",
    "\n",
    "    while (counter < CONNECT_ATTEMPTS):\n",
    "        w3 = Web3(provider)\n",
    "        if w3.isConnected():\n",
    "            break\n",
    "        counter += 1\n",
    "        print('Failed to connect {} times. Retrying...'.format(counter))\n",
    "        \n",
    "    if (counter == CONNECT_ATTEMPTS):\n",
    "        print('Failed to connect {} times.'.format(counter))\n",
    "        return None\n",
    "\n",
    "    print('Successfully connected to {}'.format(target))\n",
    "    \n",
    "    return w3"
   ]
  },
  {
   "cell_type": "markdown",
   "metadata": {},
   "source": [
    "Testing connection..."
   ]
  },
  {
   "cell_type": "code",
   "execution_count": 75,
   "metadata": {},
   "outputs": [
    {
     "name": "stdout",
     "output_type": "stream",
     "text": [
      "Choose network to connect to:\n",
      "1: Ethereum Mainnet\n",
      "2: Ropsten Testnet\n",
      "3: Rinkeby Testnet\n",
      "4: Ganache\n",
      "...\n",
      "Failed to connect 1 times. Retrying...\n",
      "Successfully connected to https://rinkeby.infura.io/v3/2c00cdcf2f824e4085718bdb8546c235\n"
     ]
    }
   ],
   "source": [
    "w3 = connect()"
   ]
  },
  {
   "cell_type": "markdown",
   "metadata": {},
   "source": [
    "# Task 2"
   ]
  },
  {
   "cell_type": "markdown",
   "metadata": {},
   "source": [
    "\n",
    "Get some Ethereum test coins to your testnet **Address 1** from any source. Provide the Transaction link of the testnet work. "
   ]
  },
  {
   "cell_type": "markdown",
   "metadata": {},
   "source": [
    "* Test Account 1: https://rinkeby.etherscan.io/tx/0x23fab1d8d11b8a3567a58f5aae98f34d4821ed5ffb750719ce64580a45d1f3ce\n",
    "* Test Account 2: https://rinkeby.etherscan.io/tx/0xa5fdc7fb58b9f66a3d922edec19401adb77f3d88aa8e28abb8d2dc6d4634e155"
   ]
  },
  {
   "cell_type": "markdown",
   "metadata": {},
   "source": [
    "Let's test it with our connection:"
   ]
  },
  {
   "cell_type": "code",
   "execution_count": 32,
   "metadata": {},
   "outputs": [
    {
     "name": "stdout",
     "output_type": "stream",
     "text": [
      "Choose network to connect to:\n",
      "1: Ethereum Mainnet\n",
      "2: Ropsten Testnet\n",
      "3: Rinkeby Testnet\n",
      "4: Ganache\n",
      "...\n",
      "Successfully connected to https://rinkeby.infura.io/v3/2c00cdcf2f824e4085718bdb8546c235\n"
     ]
    }
   ],
   "source": [
    "w3 = connect()"
   ]
  },
  {
   "cell_type": "code",
   "execution_count": 45,
   "metadata": {},
   "outputs": [
    {
     "name": "stdout",
     "output_type": "stream",
     "text": [
      "Account 1 balance: 0.1 ETH\n",
      "Account 2 balance: 0.1 ETH\n"
     ]
    }
   ],
   "source": [
    "bal1 = w3.eth.get_balance(acc1)\n",
    "bal2 = w3.eth.get_balance(acc1)\n",
    "print('Account 1 balance: {} ETH'.format(Web3.fromWei(bal1, unit='ether')))\n",
    "print('Account 2 balance: {} ETH'.format(Web3.fromWei(bal2, unit='ether')))"
   ]
  },
  {
   "cell_type": "markdown",
   "metadata": {},
   "source": [
    "## Task 3"
   ]
  },
  {
   "cell_type": "markdown",
   "metadata": {},
   "source": [
    "From Task_1 connect to Ethereum network and provide codes to interact with blockchain:\n",
    "1. Checking block height at any time.\n",
    "2. Getting information about a block.\n",
    "3. Get balance information of your **Address 1**.\n",
    "4. From Task 3.3. Convert the balance to ether."
   ]
  },
  {
   "cell_type": "code",
   "execution_count": 86,
   "metadata": {},
   "outputs": [],
   "source": [
    "def get_block_height(connection: web3.main.Web3):\n",
    "    block_num = connection.eth.get_block_number()\n",
    "    return block_num\n",
    "\n",
    "def get_block_info(connection: web3.main.Web3, block_number: int):\n",
    "    return connection.eth.get_block(block_number)\n",
    "\n",
    "def get_balance(connection: web3.main.Web3, account: str):\n",
    "    return Web3.fromWei(connection.eth.get_balance(account), unit='ether')"
   ]
  },
  {
   "cell_type": "markdown",
   "metadata": {},
   "source": [
    "Now to test these functions we open the connection and pass it as an argument:"
   ]
  },
  {
   "cell_type": "code",
   "execution_count": 81,
   "metadata": {},
   "outputs": [
    {
     "name": "stdout",
     "output_type": "stream",
     "text": [
      "Choose network to connect to:\n",
      "1: Ethereum Mainnet\n",
      "2: Ropsten Testnet\n",
      "3: Rinkeby Testnet\n",
      "4: Ganache\n",
      "...\n",
      "Failed to connect 1 times. Retrying...\n",
      "Successfully connected to https://ropsten.infura.io/v3/2c00cdcf2f824e4085718bdb8546c235\n"
     ]
    }
   ],
   "source": [
    "#Connecting to Ropsten testnet:\n",
    "w3 = connect()"
   ]
  },
  {
   "cell_type": "code",
   "execution_count": 87,
   "metadata": {},
   "outputs": [
    {
     "data": {
      "text/plain": [
       "11591696"
      ]
     },
     "execution_count": 87,
     "metadata": {},
     "output_type": "execute_result"
    }
   ],
   "source": [
    "get_block_height(w3)"
   ]
  },
  {
   "cell_type": "code",
   "execution_count": 88,
   "metadata": {},
   "outputs": [
    {
     "data": {
      "text/plain": [
       "AttributeDict({'baseFeePerGas': 1709708858,\n",
       " 'difficulty': 11744337815,\n",
       " 'extraData': HexBytes('0x746869732069732074686520776179'),\n",
       " 'gasLimit': 8000000,\n",
       " 'gasUsed': 7952859,\n",
       " 'hash': HexBytes('0x192ec04550a8aecfdb704752b43d9aae4e35658c83800c4a4676615fca72d24f'),\n",
       " 'logsBloom': HexBytes('0x4480200000002000040000000000010008000002400000004000002400c0040020002000000020011080102000009804a0110020800001000010002010340000010010200005001000042088000004090004000014041400004002000000014080000100820000402000001000000800000000080000000001001230000001888000100000000000002000000000001000000800100200000100000000005008022000081000010000041000200000000220008001000040000000200000000200400002000006800011000000180100001000a00000100000000002a080602140100000410000882000000042001010200001040004000d0000400040200100'),\n",
       " 'miner': '0x68268F12253f69F66B188C95B8106b2f847859FB',\n",
       " 'mixHash': HexBytes('0x43ec68a383a9bf0b6f80792227a2fa5ee76530bb41140f8949101a0e1300211b'),\n",
       " 'nonce': HexBytes('0x76cd125e4a5ee172'),\n",
       " 'number': 11591697,\n",
       " 'parentHash': HexBytes('0xc09f9655a5981ccb87f04d86488fa41337452a3c7ef0f19317457239040fac2f'),\n",
       " 'receiptsRoot': HexBytes('0x2eab56a0cc697247b4e40d41d2e51507ce3427402d25d4727144460ae5f692cc'),\n",
       " 'sha3Uncles': HexBytes('0x1dcc4de8dec75d7aab85b567b6ccd41ad312451b948a7413f0a142fd40d49347'),\n",
       " 'size': 42356,\n",
       " 'stateRoot': HexBytes('0x2546d69f7aebd5eb10cbca2d1b5406092c5de3b1811ab9d3b5560d5f9fbea8f2'),\n",
       " 'timestamp': 1639151954,\n",
       " 'totalDifficulty': 36298103405891329,\n",
       " 'transactions': [HexBytes('0x82f900823f9940d7f12d91dc24901d2f2d550bc2d68bb334349e346e240322be'),\n",
       "  HexBytes('0x366cf58978ba6040ada017ed7693e2d7904a0ce36e6c2396b2697b8786d6469f'),\n",
       "  HexBytes('0xabbe16a70a98d72332c28b579830b84f7342aa2e6b3b785e7639140690e90f2c'),\n",
       "  HexBytes('0x92e36eb97cdb60922f457da600ac922d77e80638c9de43692a0ed4d27df5dfbf'),\n",
       "  HexBytes('0x275822247a1f203c425376dbd8126c56a8053d4b3dc19107921b741bd5186d25'),\n",
       "  HexBytes('0xab6eeadb6ffe7cff3eb52ba8522ab91eaddb4667a7dfb080310b4984db4b4f72'),\n",
       "  HexBytes('0xeae21622c10c493463f1eafcc06a80a457319113d8160ecca71e3adc62874c41'),\n",
       "  HexBytes('0x2438019df3179ee02741909b432d58d78cb83cec40293c4343cdbcfcf79fd389'),\n",
       "  HexBytes('0x2b2c8efd361f82056539047e9bf6fdc265d66c5ca49f72f8c01fe1cf7aa41903'),\n",
       "  HexBytes('0x304ef6accc94a76cbbdca1280c81191f70ee4672856ba64220206d83424c9e19'),\n",
       "  HexBytes('0x76b4dc71e2f51593a501dabf17930abaa0a04270f9654f802665df1c6d2876c1'),\n",
       "  HexBytes('0x8a16fe0e7da9e238d2531cad67548c6af2905e78e19175fca4555f4b83609da9'),\n",
       "  HexBytes('0xd95c3fb893386120a6af684beb395ea1a8b744802b7b0683b61c99b77829a9fb'),\n",
       "  HexBytes('0xe8107c09ea86dbab2f5c24017cf3d3ca038da202fc1f6439a716d8f1a0e75ee6'),\n",
       "  HexBytes('0x7eebffdc3ca6a537fddfb8dc857f37d2584db51f98f48b17b2cdae7defe9b2bc'),\n",
       "  HexBytes('0x66879c9cb26356b061507baa463f89989bb59cb01e443953d3a1ca9de54395dd'),\n",
       "  HexBytes('0x2c33290c56e989d5896def3096166035414b8a6581480bc6b182c9b4b4668364'),\n",
       "  HexBytes('0x269060ede640e0fcba3d07aad250bb9723367159a383af3bfa8846b905b76426'),\n",
       "  HexBytes('0x12ccc8002029cccff32e65e22c93860bb2bb94627493181784a8a9e6b0d5f945'),\n",
       "  HexBytes('0xbbb07e33bc2d62d2f66cefa68431552918e0e6cad8f1cdfa9bc1e7ab12a93602'),\n",
       "  HexBytes('0x43558e4ee1131c49854417f5caa4acf7886fc86db2f8d84a530536aecb7b1477'),\n",
       "  HexBytes('0x45ba615a6b0c646e7c638b25728c79775753094e5a8852263edc2526f9cfe451'),\n",
       "  HexBytes('0x7dcda094e44158f124dad96a0d4d176ac54b0362583a3bc75a895375f509a6de'),\n",
       "  HexBytes('0x9f2e898cfc0e2033a28c12bc95aa7aa08ee877def82dde97fd86fedd8aac13a3'),\n",
       "  HexBytes('0x5aa635b06482502664c150009d07007eff51e2325fece53cacf3b487e7180f66'),\n",
       "  HexBytes('0xc4b7e95c1255dcfdc351cb78acaa90552dac5c08d42a41eacb2f6573398fdc84'),\n",
       "  HexBytes('0x518f437e182276dbadb4b0b1500f90750bfc07b7126c4c816a48141923705036'),\n",
       "  HexBytes('0x42752278e4dbf95ad2ce29f02bcdd56aa8eac7414a81131a13d6aa821d4ce079'),\n",
       "  HexBytes('0x2c6af703f229dc5f3f1bcc43cc26ec5409b3006d53a0ccacd33b77ea573a0031'),\n",
       "  HexBytes('0xd948d6c75d9e3849238ed14af1cf6499dfe192d3b64a81476610dd36877909b1'),\n",
       "  HexBytes('0x995e22a644410b942a9d623e81ee5edfeea7d2bf9cf4fb1f4957aa8dc189b169'),\n",
       "  HexBytes('0x92c26a1146dd84c1bba8378fcb54bb13d3d836f6812382b699344e9cc14b78a1'),\n",
       "  HexBytes('0x450698f47410d9618d6c9f97124dbfeea8b5b018b9a9d1743d7f58e5a0fdd077'),\n",
       "  HexBytes('0xd72bdedb4fa216dbe2ceb54aa6dce428f75a7484715fb686037b81d09833279c'),\n",
       "  HexBytes('0x33396f91fe4971bf59563025bc51ade5f8826783017cbaf310b491536bdf24c4'),\n",
       "  HexBytes('0xd5814d347c87d76116df3eaf973db429c0771fd488cf09e8c80c05689ea8555e'),\n",
       "  HexBytes('0x967178896631f5ff142e290d871ad92fad9a73796c8308b3195e745b3fd3aa08'),\n",
       "  HexBytes('0x6b3cab114876b8babc5a7518a3c8a223f0e9d05927dc3b4e39366ac8921f1507'),\n",
       "  HexBytes('0x6ccd2793435a8dd3b1a6eacb021ff1155fcfd24d3d8a8877b8e5d2689ae72911'),\n",
       "  HexBytes('0x54f357a019fbc85a949ff602dd4cab7645cd1d71ccc47c2943860c1413bb9c8d'),\n",
       "  HexBytes('0x0fceb4a8993719cb5cd7cd33c8136abd03e2fdddd5d72b2e54f740e22899aedd'),\n",
       "  HexBytes('0xe9c7f6cf628924b6c5e5a0f382bf2a5cff42015fc4085f6fe0c9e12ce4b869d6'),\n",
       "  HexBytes('0x1f5b7854b3fc6dd35adda4a154c89fee960a9176ad4a5d06a2ea2d52080e7fd4'),\n",
       "  HexBytes('0xff85dfe42a51af6042138122b9e4c5c02e2a379e448338902ae9da3c4dcc5009'),\n",
       "  HexBytes('0xa0164bb9d2bd8c919982671730420ea45ba36f832d558202112982fac238333d'),\n",
       "  HexBytes('0x5e242d964727829dc39ada6723ae6719b4ce4305dbe531718b406b7085cca469'),\n",
       "  HexBytes('0xa1758812451ad960d4544263542a95bd31a665bed4dd1bf4b632dc84497ed9e5'),\n",
       "  HexBytes('0xe5c3bb08b3079f56f5d8a78087b6aab4ccb7fc9202b31a87f77344cffa7dd83f'),\n",
       "  HexBytes('0x75ef79ac2b02d9ccb30760fa96c0c92f434132405d11febff6b1e290c06de0af'),\n",
       "  HexBytes('0xeb8884b6d171b4df06dc3772deda4b20a4170b3344f53b99560122980095f0f1'),\n",
       "  HexBytes('0xdb7b0d498c228f6c2143165ea429080d71362c85cad3706f4047537a54cf1996'),\n",
       "  HexBytes('0x520f39994dd8f9f97c446a6faebb9b582752e11398d112be9ccb7c8b191afe99'),\n",
       "  HexBytes('0xcd52641506b416e414f51e46fb2dddc8617de63f2302182490b16aa774ebc0e4'),\n",
       "  HexBytes('0x435f9c6d7e8962e0e291305d13c90cf1d66ee10fa251b8c61240a6d1e22abc76'),\n",
       "  HexBytes('0xff8394fbb49b96eb11a49c6408b603c4380f4d7a6e269cf600933ca90fa5670f'),\n",
       "  HexBytes('0x8245911a2b0d435341a9314e92f51a34b6dd34cc25974097ac62acb481651ce7'),\n",
       "  HexBytes('0x15d953ee33d9349ee9a3d1018a924adc8f44e826c5833906498e6f17ff1f917c'),\n",
       "  HexBytes('0x74c23ea19657db73a80f23a7dcf506c86959b3afe11fbd49d07e79f46e948cd7'),\n",
       "  HexBytes('0xe57568add5869b7614c6c7b1bb07e394410c0af96dbe0300798d32acf90bece6'),\n",
       "  HexBytes('0x812e519bfbae474a667ce2a49b371264198e56311a8cde62e4f9738c8686022d'),\n",
       "  HexBytes('0x50ad13d716bd3f013ffb0333b2972f8af4825864460462e817c3e4833c545dd7'),\n",
       "  HexBytes('0x1e2ca210745db1db5b825c11f6ae07289dd8bb0958dbd0a2a52e938d2c6ba288'),\n",
       "  HexBytes('0x7cbf6f2f27f15aa0e1203ec4c2a80ff68efe4018b15d0852202239bb2594542d'),\n",
       "  HexBytes('0x9d375950078e27abacce8763298d03fde7536f97637c1b5111e1386c92af211f'),\n",
       "  HexBytes('0xa90e54228363ee261317aae0d85b3d079f7de613fe3c265708113cd2f914a923'),\n",
       "  HexBytes('0x184597537a6fcc8edce1512d1159a2367a6380db6d0f7f6b1278d008dd9933a6'),\n",
       "  HexBytes('0x9bbd14a5514a4952b0128c2f2a5d676de03411ca3d222381283c76227384d26a'),\n",
       "  HexBytes('0x7020692c25c2db9b80e02b062f4f5afbaeab5f6eb4a421ae95494c0991e8e882'),\n",
       "  HexBytes('0x014dcd73d9e58e1dfbe5fcbc0f02186fdef26b5283b805bdd611c4421d37e7d7'),\n",
       "  HexBytes('0x2a5b53f09f855aa6629f979f4d654e3ad73d6468dd9d9dfc8f98b29efd68e2e6'),\n",
       "  HexBytes('0xa6de1e3c09f97c3aabad67e6e9f5710319a975ad08874f2a7ff237b93cfb321b'),\n",
       "  HexBytes('0x33bd26814727fb57b33c0fe6df73f1177b1567e2dbcdb96800f83578d28aed66'),\n",
       "  HexBytes('0xe8a0b11623a5a34200391f9f90acfd5ef592575d0aec96065befb3919fe67c64'),\n",
       "  HexBytes('0xf0f9067d9d886c710848426ded08f9f59106b2f70ac0c55c5bb31ecc2c42711c'),\n",
       "  HexBytes('0x010af9d084228066005e35446affa3a8b4a36f58e45cdb13e451d3f580faf625'),\n",
       "  HexBytes('0xc5ebd7bc25b5bc45f7b40c50381f8d04a0a8e2e87914b6c4d5b5a76bf24e07d4'),\n",
       "  HexBytes('0x13460da4726b5de72f81d456e1a46128075fc404d5eec1fd7eff05c26606e27c'),\n",
       "  HexBytes('0xa47373b0d14767ca0512e2362e073b36ec307f5f70140a809dcde280c945fc23'),\n",
       "  HexBytes('0xd16371a6c0f7edc6754adf4aaa87e97b2daa5b9b2fbedae038349ac2d7901e4b'),\n",
       "  HexBytes('0xa685ba33a26184ce327dac7492ed37cf0ee7ffa9cf23649d79ff68d9c0da4b74'),\n",
       "  HexBytes('0x6fc4880994c47b6d7bcdd17bc0cad91a376fddf963f1cff32a00638ba6799068'),\n",
       "  HexBytes('0xfc71bb8f28001f7d8711a45444c5c4295acf92205c2423ebf3b14a4aaca14053'),\n",
       "  HexBytes('0x66d4e19d2b9964f322fa17b18c822f2e7c4877d8b19d8daf29fd480a7b07ae3b'),\n",
       "  HexBytes('0x2a4a07070aa516adc82c8d32ca6a8019c8a8723d53aa2ea3e45b4130cb47658d'),\n",
       "  HexBytes('0x0dbd3daceb172999afaf0273e009c05fa9b89912c5b411e217e60c568ad45db9'),\n",
       "  HexBytes('0x67d67de7c1f155ca2ea165acece121a24e93eca9592c03465ee6691c4dd525cc'),\n",
       "  HexBytes('0x7444e061182a69aa9f1b9fc0c9a307a332de3d09958c9f4787cc472f28d0a6d6'),\n",
       "  HexBytes('0xd72927292015e023f2be256ebdc1eddb12c06df78009dceee35a33df7838ce0e'),\n",
       "  HexBytes('0x6aed225616ea261246b994027fa24befdd03d10a6e207011d3105aa8952d9d63'),\n",
       "  HexBytes('0x45eb1e35d6cf49a8cd6cd64098c30fc45c5dd7704157b05a19b07c67ed9a7e1b'),\n",
       "  HexBytes('0x03dc80727d30b759ea0a0f267437c440c680d69d98d487272fe8fa14d71eafe1'),\n",
       "  HexBytes('0x3d879b273a6891be9cc3657236c6f6a5267888ee12c6d185f85559d6eecca209'),\n",
       "  HexBytes('0x43f92b05f55ba52e956a4fef074ef37e02ea83cf1ffc63c94c7ca6ecdc1e6113'),\n",
       "  HexBytes('0x87dee0af4b0a201fc35c7f39289265affa5725fa23a8bc9319f4796230a273fd'),\n",
       "  HexBytes('0xa796dd16a01b0a7ebccc99d5333a7eb4bcf46e4e70048a193660e2a3f7cf1f09'),\n",
       "  HexBytes('0xef2e09aba9f3a00cadb6e74f288a81b362f9468623e19678c56ae8d30cea41b3'),\n",
       "  HexBytes('0xfc5398879fff86aaa73493a79a3067909e610bc0afe0d08f8606a12392abbe03'),\n",
       "  HexBytes('0x8a70503187988ec23b758d0bc6c9b00ca89ac5a9b68dbc2cb872b4303b44ac76'),\n",
       "  HexBytes('0xfb32a4ae6c564a686e6f1f39357d6302706a688fb950f92b96c5ce8e26b31e98'),\n",
       "  HexBytes('0x7ffd8953f493da1bf9fd89dc156a61a4441af38c7d9e4e5dc1e88158100a3616'),\n",
       "  HexBytes('0x17f243814d6a987d7f458733cf94bb6476d4d11dfe79a274cfdfbbac0662a744'),\n",
       "  HexBytes('0x73751f25b7715cb2b90787eb3260d0eee6b9330caff9e95cc8c2dab24b4694d0'),\n",
       "  HexBytes('0x38c9fe5f277286143bb7658424804b63a0a8a70a8146b119bbcee07d8c901206'),\n",
       "  HexBytes('0xcb7b454f533955cef78615b27afe99b976f648ad584d0530cea5123cffb74b7b'),\n",
       "  HexBytes('0xc63c8fc1c12d96cccaa254705dcba99ef176d7a363481f72bad4b181b2b2709d'),\n",
       "  HexBytes('0x8121ab3f9801920a6800da8fb90e2289473b70224afc9f3aaba5787a53688243'),\n",
       "  HexBytes('0x45e43c9763d77a5fcd10884029f39ea3124b3c36a6e4f98e3ecc3b71ac5755bb'),\n",
       "  HexBytes('0x1ef792a9d02d2161371554c8c2ed24832fd72fdd315305de1169cdd558e59031'),\n",
       "  HexBytes('0x2375f5236e7c03a5353fbe31ef29db87a01dd9e3ea60f73da0f247204f839dad'),\n",
       "  HexBytes('0x2b26c63dfebbc2b6e62eff7b9958966c7c2333a8ade39d012b655361fc3f77a8'),\n",
       "  HexBytes('0xdc58c6770eb7ac7dd906a6b6321fe95b80e7c88f0651308424d3e8d21274eba7'),\n",
       "  HexBytes('0x82d69e588c1a3d718ab13cd952cdf3176b1ebd03f5a3acbc12ca012658d26068'),\n",
       "  HexBytes('0x0ebfe6f4c1244a330cf0dd9dd49fd2fbdd5e25940c174db920731cdf94e920ce'),\n",
       "  HexBytes('0xc0958687d24b9686d16f9d22d0a021e311b437e0c7e166bb4e03a13ce7d084d3'),\n",
       "  HexBytes('0x12e5d5208dcc96f3ce3806334f46710580ab4dad08366335425899c05998dbb0'),\n",
       "  HexBytes('0xdac8acad530a5a81d1f82c3d4ce11440a40eafd053e186bb63be74f215486257'),\n",
       "  HexBytes('0xc5b5b6508517b99474803be0fac7b76b39addaa85da88850065b75694c8ab3bd'),\n",
       "  HexBytes('0x8b45bc96bc559a0aba0973c17f7dd1014f2f6286b686ef9753fcc0babb2b3c23'),\n",
       "  HexBytes('0x1ccf3e327336dcfaaee12d1d05704dc92bb73b27e85aecc9f328964e97f33ab5'),\n",
       "  HexBytes('0xebd28db42bb24a11538537fa78bd0f9ceeb222c24d028db13c44b393e5f04e1b'),\n",
       "  HexBytes('0x6d73b1855b2b2825eee8d8b8fb984f17e34acd4921e4fdbb37c27f97135f45b6'),\n",
       "  HexBytes('0x53ef272ef728325475815dbffaacf7ba5dc66c524f290a2b52a4e8b676926309'),\n",
       "  HexBytes('0x3c1c86a5deb0ee16314e03585c4c2bcbbf99f99eaa2d347952fdaaf0f52e84b4'),\n",
       "  HexBytes('0xac9e52045430e396930086af87d75b979bca25ecf712ae2e59d4e641e908d996'),\n",
       "  HexBytes('0x31b5269a4397a9abebcdaa8bd96c4cabe825a5fdfd5803263d0677baf13c37a8'),\n",
       "  HexBytes('0x21d345ad4e21423b08f17bcb10d0bb3cf2845458b8832285c00d79b89e698809'),\n",
       "  HexBytes('0x6db328259c6bd2ac2b8334e7efe938ceba8d0891ea1609cfff690a68456f2bfe'),\n",
       "  HexBytes('0xff4e011f7ee788239060a4266965118fff6831bbb0abf425e378c31aadb17102'),\n",
       "  HexBytes('0xab25a5f6199849040ca3c60a45858fa694e48decf2a11e9ab1f859d84ede89d2'),\n",
       "  HexBytes('0x434f342b0744991ce2b7b20765ef72ec70c7f66a4e6498341f46670c802e61a5'),\n",
       "  HexBytes('0x9047d4dcee0f064d9ee74d9e028b5d86daeea0756631529e0752ea522d397686'),\n",
       "  HexBytes('0x15e2b2506c976b6550f33eb0e7c668cf13fe8c596c0e45831760157372654e89'),\n",
       "  HexBytes('0x862d36f065882ecb1d840a2c5f859ecae00881dfac94eeda0f6f9dc2a1eb96d2'),\n",
       "  HexBytes('0x3881c15f03df551c26038f10d3bdb8831928a4d584cfe743e99cb6161b03d6d3'),\n",
       "  HexBytes('0xd8bcd736feb9deec239b4123f77cf8ddf5d98d0394df11d160d3bf1d430e80ba'),\n",
       "  HexBytes('0x5bcf0260bfd4858a857601361bbd0332f4167ca650057e910602679c50baaa7a'),\n",
       "  HexBytes('0x0ed7dc78d426b94b980e32d7a09d7bc1a247d35a1ce286b32408e124c22be4a1'),\n",
       "  HexBytes('0x4b0490a2b55095b71f576071f8ab63b5e39311e7c29879c71b968b084cebcbcd'),\n",
       "  HexBytes('0x7e4604e1717ec480edd676113a5c3880aaae02e570383c0a63e19646d715d937'),\n",
       "  HexBytes('0x0d02c549136bc92d7bd0b22e85ffb9b8a0b91ba26ac9ca7c59182ef6f784a74b'),\n",
       "  HexBytes('0x1e372449620587a3bb0c314f1f0d443ce5f0a3cc30fe350a0d26cf1f9a60b91b'),\n",
       "  HexBytes('0xb71b6e5279ae97d08549fbfd7e454598bb7777bf65bc5e1e7eea79cbf20993fc'),\n",
       "  HexBytes('0xd6a22e08b0a8cbb77efdb8ca80c3aacc6ba97c2cdc43b5226f75f986cac36dfd'),\n",
       "  HexBytes('0x799b37c7d6270c82e8efa2edaa672f51bd78bc4715f665cb404b72a265bb640e'),\n",
       "  HexBytes('0x9b062ad4536233ce5abf014da58b849694dbbcbe04941e71e93fe687a7e4d19f'),\n",
       "  HexBytes('0x0b82515f6f517c80331d9a06526d70973b492253b900ddc11f570d7193ad801a'),\n",
       "  HexBytes('0xce919fb77cd8eb6e5e3e74ca500a1e35cf8e6c95e3897d3cfc76f8d69f4c7616'),\n",
       "  HexBytes('0xd46ada82ed1fb0bd2623ddca64bb7fb7f2533e86289e427a9625f359ffe209f1'),\n",
       "  HexBytes('0x4d24bf2ef894d7a4efac3b34b4653f28e0ca17f85481fbd44f3a6c4f53cc33a1'),\n",
       "  HexBytes('0x8ab15fcdb5a38330c0cb78235295e9ab6a604a5a955c07c5948920b233578ff8'),\n",
       "  HexBytes('0xdca4ec0202a5d26e470677641f1e5c85249e27c3db17a0ca2750d0307686a81b'),\n",
       "  HexBytes('0x29b71863b2a1c41abfcc1676c249247907fdfe683669a9a31a41e6bcb6920cfa'),\n",
       "  HexBytes('0x5fd9b94f7db95b897b45aed5f7b2d1b28bf60d3eaae42ff1a32ad305e67b9772'),\n",
       "  HexBytes('0x9178eecc94b5f5a188c8f3ea5207b71eddecbca43ec0260935561ae2920b0882'),\n",
       "  HexBytes('0x061bcea0e9369d90b4bee71fb3b6055c6a162e6c2f56a5c9a58bbfd633593cc8'),\n",
       "  HexBytes('0xd43116050e8e164accc26fd6a40d7465100d9299ae23dc769272c42d8a662795'),\n",
       "  HexBytes('0xc42415cf3f02a4b45b330561048b04a6eb640db91b3cb65a8097375c8cae9e1d'),\n",
       "  HexBytes('0xbb64a01b3dbcb83bfcd5a7bff40228338a302944f2af7a80c7839b35a7b8497c'),\n",
       "  HexBytes('0x425085906658fbcbfff4fcd2f16972f9dfcc066652ff7df6b4c30a343ffc8c0b'),\n",
       "  HexBytes('0x72f46b0c921f04da0f3012bce18870330e9dc4dcb7b8687f9944af059377ede8'),\n",
       "  HexBytes('0x7895c5ee967264bfd08582ef8976e9d9023655e521d5c21a93321a17272968a3'),\n",
       "  HexBytes('0xbe1f4ad1badd234db86c394fdfe1be3abcd50ff6d0f9b27d97bc38fd8f660f76'),\n",
       "  HexBytes('0x425eaa585e68db566854f234ea91634fb6b15cd13c0688f1eb1183f904ffba12'),\n",
       "  HexBytes('0xb98e0861d1f35de5a9269507bddda1c255accaebceb5cfea438938e4c6f62d3a'),\n",
       "  HexBytes('0x18231d6321523665ccc2309187dee0b1be9368e33f3ed30da4c254c5d445f84b'),\n",
       "  HexBytes('0x246a69c5efd1dd5e108518ee4ef3f5fe6ffee3fd5847fe210c86da1e6274ce6e'),\n",
       "  HexBytes('0x54bc4f8a35b692db300b800c3161baf68de55287f4b2c3bf731441a857b27997'),\n",
       "  HexBytes('0x23e7ba0563933a4d1852549e0dc01ebf0c294b153d27020becd6823236f3d7ff'),\n",
       "  HexBytes('0x467a217afd72f5f10e54c56ab8d35911e8ca9ee389a957f3c52df520c98d5382'),\n",
       "  HexBytes('0xac68fdff7a977d02c5cbf0e21b87516e6ab389ddbaaa22bde4e60c9b5a73ebe6'),\n",
       "  HexBytes('0x24dcc94287e7fc95128ae639e72ab11c84ba95cc56dd8cb2c9b1e97723a9d0e7'),\n",
       "  HexBytes('0x33606e7759800f04ac9028b95b37a38b7f5d3226a8a937dd99e7d549269b3ad8'),\n",
       "  HexBytes('0x7c08a931038bb17bdcec48772c2d7e438004661f3eb5ce7b920711811ed11827'),\n",
       "  HexBytes('0x1b8ecfc6bc5703c621514ad0507aa3d5a82b501e177d114dbb26b2bd1f7b897c'),\n",
       "  HexBytes('0xfdde5bba37753561f31ecf376ca4cb3ec33ecb4626d135771726c0abd61ade38'),\n",
       "  HexBytes('0x8a3ea1497ee2f745ff33d7dedcc5604d14723c0aaff1846ebeb01caa8f54fa5b'),\n",
       "  HexBytes('0x1fc102bc82fc8e1949849edaa9c3596479f105e647134f4fac423dd57c5664d4'),\n",
       "  HexBytes('0x26b35e9f6f8658a74d82b44a1dea7acd3fd2d43e03b84c4ef5046c389ad471d5'),\n",
       "  HexBytes('0x6fd941751ce52dbedc81cdede81dfc7578fae07606f9fb06ae677a1d494c29e7'),\n",
       "  HexBytes('0xc9be5e21c6712d3f1694a15dc3d42f024b2d5e1579d3594882e11d876b242b36'),\n",
       "  HexBytes('0x88026bad8a9acf245efc966fb3b8b028198da8b1a19f77cbf098f1ea86bc2f32'),\n",
       "  HexBytes('0x94522909f0070d81fdcfe87cbb35d0131463e287cfbf575b4f61f31520631805'),\n",
       "  HexBytes('0xa50ed12efa32a61bbd044419ecc08463091608fa495ea570dbeba0c03bad29bd'),\n",
       "  HexBytes('0x301ef019e919ae3ae07d77e4e2b998ac75b6c0ae9267fa5cd79afdde1111d9ec'),\n",
       "  HexBytes('0x64ae8e5c23ab32e0f1c48ece819dfeb69d4d97ac2881f32fefe55d8d0cd11f6f'),\n",
       "  HexBytes('0xb09c507de770cbd9b3f51f0431694788278c9afc66df4296773666b723c6003e'),\n",
       "  HexBytes('0x649f1db61650c2e113b83aabb9e52bfc4abd3e0b39d6cac27e2dd0106460ec5d'),\n",
       "  HexBytes('0xf047dc5a25e9907ef279188065e75a74bbf6a560fcbea291427f2341c643de97'),\n",
       "  HexBytes('0x4b72bcb914c30c130ef829982c7fa72fe2fbcba78e572b281c9c800e56575abc'),\n",
       "  HexBytes('0xb6317e402dabee12a2eefc102cb9360d904c232323bd2bb30fe40c28855a6087'),\n",
       "  HexBytes('0xda5928a60f01341e5b19ae57a61aa5229f6be08517802a42053e7cae45efb3ba'),\n",
       "  HexBytes('0x4428dc71862e85b81381afb6ddf0d33ca939ebe61a6a21d9d048d84250ed9405'),\n",
       "  HexBytes('0x2675a042f79b755c661add28a608a2eef125e0fd96942b662820b2f1c33586e3'),\n",
       "  HexBytes('0x55263fe45778e2dfd3673952782ede098febec1f0495a43ed64f5d3008aa4a68'),\n",
       "  HexBytes('0xae875d5159590f8fd7e4c0f6042238feaed1e949ecfda6e210ad5240d881558b'),\n",
       "  HexBytes('0x5b6c0a13d79ac3a5c563d64ac560c560b5b9acd4fd0eab957aabaca2b71dc6a9'),\n",
       "  HexBytes('0xf736d09c360f93f740eb99b9b32fa0b00f47208f58d840a431d2eb918ebb04f9'),\n",
       "  HexBytes('0xf0ad1d16cb607c57bbfbbd5e30ce58467064736511e332a1c13df80d5c45f581'),\n",
       "  HexBytes('0xe3f4bcd1ad843a18f35e307f3c594da2d5c021a08ff2eb1c84dc50cf12812d65'),\n",
       "  HexBytes('0x06c376b0f1cf1a42d88d4762bd02e6936dc4b4d87c1cdc511c67eb6835548f78'),\n",
       "  HexBytes('0x8ede5d613b47b873a83a2b87691adbb5e8ff971300b402ff498b206cc3732c68'),\n",
       "  HexBytes('0x23aad58b81a7bf4b049e4deb81d07202d1b10af45393c2432f21c14f6cebe0a8'),\n",
       "  HexBytes('0xfbb0953bc30978820f126cf853b3cf6d0be9d42cecf774b1b17def000831ec7c'),\n",
       "  HexBytes('0xb16d4f6cf555433e5389b0ca029aa42202963f1d8a7ddd81a629bcc9f2ea256b'),\n",
       "  HexBytes('0x0e146d6a2eba858adf3f7d6219f20e1b8246a8535798252aee2d5b053c9df126'),\n",
       "  HexBytes('0x36c7488d1d1729631ce881c7d6dd79a593f74632cb307f7db2a530e57cb8d946'),\n",
       "  HexBytes('0x8eee039d2e419c49456827bc5f80f184a2904afe45a6a739ca60fcb3aa525b82'),\n",
       "  HexBytes('0xc7209e1f0c587d8163662fb6519a67e22e8ed7a05680d8f17185aeb25cc5b009'),\n",
       "  HexBytes('0x89b2ebed0a26440225e781604fda6c651486f92fab632c1baa222f7c628d2b50'),\n",
       "  HexBytes('0x504240d8fe25de20ba6fd535615ca6179b87ed2d67776a063b90872ecde6e427'),\n",
       "  HexBytes('0x5d4a1ee5b01046ccbfde5fa29f9850e9aaa7644f529037b036e1c37243003b59'),\n",
       "  HexBytes('0x24621ab5f2685039e8aa897aab9a12032c28dd5d267838eb187ce9f3b5e4abf8'),\n",
       "  HexBytes('0xf607af8592bcd125a663857c5bb37b7b7d9d1fc43408133f59c381704cd3b8df'),\n",
       "  HexBytes('0x480dc6eac8a50210fad4431621107ad31c24e2eac78d46620cb66f86cfb6ea50'),\n",
       "  HexBytes('0x3676bc3a3cb1cfe42db8ec27f3cd6489e13023f54aa976f18f91c09c44558987'),\n",
       "  HexBytes('0x8a93300ea1785cc01353d536421687688804bde947d860724e2d55aacdcf2cbf'),\n",
       "  HexBytes('0x7b269d94a115c1415a82f273c66762162f1db2a7bd4aedcfab08547799a64628'),\n",
       "  HexBytes('0x7ead43d7d51028e5474d8715b32995b796bd5a367537f4336b95030aa73840f6'),\n",
       "  HexBytes('0x9eefecf9dab8f6a93df12c48b0a4f97d940772d1f43935dfda96d58b92dfa60b'),\n",
       "  HexBytes('0xf83fcbbcf06c3be763867ce3e3fe653fce619a6131b2d897684259a7e18791a8'),\n",
       "  HexBytes('0x008e3afbf70470aa70c8e2f2a69beb77f19cac5011cadb150f91c1354851c453'),\n",
       "  HexBytes('0x8570c17c2823ac3ec82872747ef6013c4d53a69fee684cf9b3e63a326f60f785'),\n",
       "  HexBytes('0x5059c616118f8c0dba6d0465282a512e2fbda6dc9378023500abf6af8bbb94e8'),\n",
       "  HexBytes('0x2af6ade72624d2cf413a5e88899d2271e4d83bcac874e5a143f28b8dde49923c'),\n",
       "  HexBytes('0x6532d39247e167c3a0f8ca04a92d8fcce0f2ac5741e90feea1e43d3416172b61'),\n",
       "  HexBytes('0x2d1d2d9ed9805d484e38a29dfdadf102477809e35594515b48beea71bdd29d7d'),\n",
       "  HexBytes('0x351c389a8cb04924986481d1c71b58a803e1ea85674a75a69228fb1fb12ca082'),\n",
       "  HexBytes('0x4f80b076dac4c00774ad420437719781e990646c03a07083656984210f1e96d9'),\n",
       "  HexBytes('0xbd62a9b4064cdb9890c4eef80d006d4b363d4938bf551beea2c68ea74faff573'),\n",
       "  HexBytes('0x53439246dda5cc3789cf27fb8e5cf3cd517baa994f3b0c93d2cf425e751c9707'),\n",
       "  HexBytes('0x7fdb3c7f75998335bca853a30bb0c26ed50c02b7a9445abf101fcb6f1ce41a16'),\n",
       "  HexBytes('0x1b82bef20ff33deef1787c45e62cb255a1adc16a3181dcefea6f73cd3d05c08c'),\n",
       "  HexBytes('0x415009e1d3c0fd5d7353ac7880cb4a631eacd65a507f1edf0cc6ae3cb33ae358'),\n",
       "  HexBytes('0xe910b1821b164a9b7748db6af06b8a3b8a968a737584bc05309b8db955548134'),\n",
       "  HexBytes('0x2c95d3d9112d86b411222d6bf9024dd976b448cb2d5997e4d8d9ea25b2f51e13'),\n",
       "  HexBytes('0x3f7cf2d8a237afdc6d07bed36bca4c911681e6dd69dfd2e33f6bce952385a92d'),\n",
       "  HexBytes('0xfd8fdd172a82e14d274d371cf90f2e2363af110378225ec1bedc02251c975a78'),\n",
       "  HexBytes('0x2b46fabd786c766192c2d07e6068fee1f986a0e9d4e86b1a1df836080e612a96'),\n",
       "  HexBytes('0xe7209956f4033f5c705acf94bcc8718634ae0b9dc44afd1dce1625284999dc9b'),\n",
       "  HexBytes('0x368c46868f80d25ec4af8d380f37334f7be5a4cea0dd7760f81320210929149d'),\n",
       "  HexBytes('0xc090312f1b1daad832af6e713f384d4941dfdc4d39223ea083d4acc536f8dc38'),\n",
       "  HexBytes('0xaadfe8d07dbae51a13626ed4b178ecaebdb69d9b27f2c41a3fb92c47797ed4d8'),\n",
       "  HexBytes('0x5b51c8ad40437e1231c47535c29b6e3fb205449446d2ead5d5c9de995e10c7d3'),\n",
       "  HexBytes('0xbeb4bfde0c7224d42aee58d4fece1baf6a04c9fa1d62a674f567eb302f9d1224'),\n",
       "  HexBytes('0x88ccdfc2f8188fda3aca7898e804411d18518a48112b1b0688ca51f2fc3addb1'),\n",
       "  HexBytes('0xebe882fd8cff1a70baba0b3b48f8fe0ff4586cc3e323bb9ec76bcb263c07079f'),\n",
       "  HexBytes('0xdb16e27b087e01eb34b950aef40758e1c2b59f7cc5d4d6dd9ffe4ced7c70f84b'),\n",
       "  HexBytes('0xf35b43c5f66f509f91580bc0e193314957743600198975d10c3b7c53f86ee476'),\n",
       "  HexBytes('0x0010ab5ebdd5e8214bf065b12c280176767303cc6cfef3cdb13956907255099f'),\n",
       "  HexBytes('0x8c07a9fab03fbfa26c00686c1d0cd0ee637b4a53166750e05df3b178f0757e4d'),\n",
       "  HexBytes('0x5952fd07574ec86102ff4d3453306d57a7f312e69af012246a25d8ded2110556'),\n",
       "  HexBytes('0xbcb7f41e8c7f67cf4fd22276ade097cb7669652a4e5dc3dfa05c8874f509991c'),\n",
       "  HexBytes('0xee07fbbac4e27b07352282c95b143ad6d292b4b9a7be75764de96259e077e8ad'),\n",
       "  HexBytes('0x733f62b6db5ef56392f5d15e72deee29e4de323e4b9576d2f7515e267e0eea64'),\n",
       "  HexBytes('0xb36a607f76725ab93bcab152d3468282f6e676c90b82df4c860d653717b27f10'),\n",
       "  HexBytes('0xf409a7265c4140ec0caacf0e01cec935426fb5f284a0ec697b60045dbb1a3f0b'),\n",
       "  HexBytes('0x1e034f909df0726b84953e26c3e07314e7a8be370f5c1304f37e2d2f6938b037'),\n",
       "  HexBytes('0x6aab6e24690c791be0f3e709f5bbf854663b8f4e3822bfb8f98251bf8b545a15'),\n",
       "  HexBytes('0x3a1fa0f6d513c34622f77fbc1ca38cc72ab56a96152f23410839d23a05d6eadc'),\n",
       "  HexBytes('0xdca9026b94664868bd664de28eb3547ba033826d429740f9ef60fab520bc4465'),\n",
       "  HexBytes('0xdc193718dc95edc99b36862df11ef89641a750ac02aab65ea5090e5894312547'),\n",
       "  HexBytes('0xea31a27a6b1340e5b50af4254f1b9ab108545ea9ea60e022843abe0a2df505b6'),\n",
       "  HexBytes('0xcc47f2b7cdd79f5306fcdccf42db172e70d3849a63dd4056ff547a2f8b40acdd'),\n",
       "  HexBytes('0xd2d5731487c3c963af24134e2247f3c6431b8ec59964f402014529e8592ea713'),\n",
       "  HexBytes('0xa66d0ca242c7d41be513a914a5a7ebf11648ffeb2d82cfaf66a45acc4e04c7b2'),\n",
       "  HexBytes('0x992ab69ff1b781a6210f66b64bdc0792f30f29cde570d2261a93997217712ea1'),\n",
       "  HexBytes('0xa69eb772e462c3ce5a6237490ddf35df350bb18e328c6da2803f5a00e81c2e8c'),\n",
       "  HexBytes('0x56c662f44735d0e1508342d978667043834d9c2f81f16ee3e310d4425636a1e2'),\n",
       "  HexBytes('0x905becf4eca86dc382b2d149da2ad6e9f1ae0b4148d3a0232398cec1dcef9b82'),\n",
       "  HexBytes('0xfa637cf2fd55857cd6c4bd47d82034b0af499ff0b1522a116cc9badf99d3ba1f'),\n",
       "  HexBytes('0xb633faf9d4ed22c66745c848e1e7e89b40b345b05f9e128b8e0894b69ceb7c67'),\n",
       "  HexBytes('0x9f42529966577a7942fcf2823b5fafb4cedd3cb47161d3c92b69e88a654a9642'),\n",
       "  HexBytes('0xcee98bebff5e4655052fb9231ed14df0d71eeb4933846cea3cfa7d79003bf985'),\n",
       "  HexBytes('0x778ece593beb696aebd40ae46a85e3278e35757bfdbafb04023e8ba09c7a2294'),\n",
       "  HexBytes('0xdb670975e4b6206c617095dc1eb69eee1f24501f54e93948fc43eef477888cf1'),\n",
       "  HexBytes('0xca09e5555943aca555070206dd75f9b214c4a5e2170d95a852c6220e6725e84a'),\n",
       "  HexBytes('0xe755006e4cfec4d42b82b325e70a808f9140c2e7c0b6d882a90e0f4b316106dd'),\n",
       "  HexBytes('0x01c832a3cb488c7e30fbc816c07635bc459341f9107447a9bb315439ea1cda0e'),\n",
       "  HexBytes('0x01dbe6bc7924fbf0838715e14706d959e52ba57a66e5b7f6a2d977d3e0ee065f'),\n",
       "  HexBytes('0xfb08d1dffde95e7304ab1d8d6fea79eebc4b79dc5e999670d4951b42b90d00e7'),\n",
       "  HexBytes('0xf26b95e4b8d44efcdd0b14281fe2e1fb646faad011702e7fe2ce6d9c7c1ac295'),\n",
       "  HexBytes('0xad8f514dc685b9fadb7283100853dbd4e2b0b8d2d01e04e33c6bb9e207b5c230'),\n",
       "  HexBytes('0x717711425b41e70dd3bcd5dc4b3722f2f91c9caeb8714cc06081053fe352dcec'),\n",
       "  HexBytes('0x4cfade3ef972130e2035ac6925d7567e3ae9ee60198783465c7dbea4e161d6d3'),\n",
       "  HexBytes('0x7d0a1e6b20d1a22d977fbeb2e3ca6b2ac01260bf2fa116b2d3900e107e33c155'),\n",
       "  HexBytes('0x942e0d3de2ec06b1e7de970542c3648e577dc71b30d318ea59f1b5afc8381070'),\n",
       "  HexBytes('0xb5caaa08548313f29a9a2f339d482a62273d54dac58837067fad9c1bbbbef8ef'),\n",
       "  HexBytes('0xbed2ace28f4b69e3a6799d1f5224cc3f718686fb964f6ccdfdda28905492df90'),\n",
       "  HexBytes('0x869d3fd538db499169a732713e3cce0aa7d568b565b40206b0cf90c1481526f5'),\n",
       "  HexBytes('0xbbd2e4bbd4d1fad3cb937a32000d4e74c507f7abb824cbb92a4141c7b731ab3a'),\n",
       "  HexBytes('0x06b6181c46e109543e6913fdec3d871564d368cf60a6d18c2be9548647ee4319'),\n",
       "  HexBytes('0x8847665e1397d43fcf0c8411b43784807c4b75c4b08b94d7625628caa5e464ba'),\n",
       "  HexBytes('0xf1a859a43d5743046b22cd86d8f5cec71393e23dfe3414d2535a2dfbdf63b10c'),\n",
       "  HexBytes('0xb5023434adfa58dc57937357e3f5c48a0775bae84e1ae3dff8c03d1692a3f86e'),\n",
       "  HexBytes('0x4aa6da510dfb9fe3798b5b5f215b89e0d2222e2eccc190433e9c3aec8348f999'),\n",
       "  HexBytes('0x40170dcbaa427bd5464e54e745c1e8d335774c8ce53b812bbf8e609fe8fcdbb0'),\n",
       "  HexBytes('0x6462240ea574718f029444b78caf64048cacfa217311ee207d6260c86df4a252'),\n",
       "  HexBytes('0x8e42dd3ddf85cd8f690712798f75312a5e232785010a9e7b1bb4dcbc8477eab0'),\n",
       "  HexBytes('0x221e8b37fafb051dc590d98893294093a7e323999460e1a3256eced9dcc5d3ca'),\n",
       "  HexBytes('0x876ce7ea2c1d1fef936375b9ad4c839cc4f38eb9c9da694d83dda14b4ba10d76'),\n",
       "  HexBytes('0x7fce82777f37a81f612f854744e9cf21fb62a153b3511de16902fb27f747eb53'),\n",
       "  HexBytes('0x8f563bfdb52a1e14463c03cc2716e4b80d325228382dc59de5f01882db0205e0'),\n",
       "  HexBytes('0x09d0603b0760c6e702d766ce6dd5e34d5bd3f73636a3022e147b2a665a7fcc40'),\n",
       "  HexBytes('0xc4885c1dd93b52199a0ec5b6f4895a75480e457201c77f4bed2a02f337f76ce6'),\n",
       "  HexBytes('0x5de42fb8758480b321ef40ff5dbe176873d565a26334485a15717e72a8c66771'),\n",
       "  HexBytes('0xc5763176181511d751869075b42bb9de36426584c5e693386c95481f6b0d1738'),\n",
       "  HexBytes('0x93ff4f6e75cf8ccd28efb6ce798bb428572f04ad46ea312d5a386516e4f898e0'),\n",
       "  HexBytes('0x785a25f90b7f825685e2afdfc211a131fd4ecdd66a614833d6b6fd79f7e3c9e2'),\n",
       "  HexBytes('0x1afcf8b5967fdb4bd887b688f9f0c1dc468a1b791060a4b025b3cada6bf94517'),\n",
       "  HexBytes('0xfd6d4271abdd4dc381fd3e1f46bfd28dd696c9edaec5c4f4aa41d9c3b896aa4b'),\n",
       "  HexBytes('0xae025f0bd661cfd2094a946e174e626d78b7b33235538868c4d30dc1b583ea50'),\n",
       "  HexBytes('0x8413741579b23423da6ebc8a170d4dc917b9abb4b8935116b13cbc41f0bc6abf'),\n",
       "  HexBytes('0xee4accec80f4cdaaf638dbdb59ac296259b8f45cc29b4358d29c3d9d2d6ebbba'),\n",
       "  HexBytes('0x47a82ac85deada187114afade99e3165c2d2d6fe0a5298d68d650b6467655f93'),\n",
       "  HexBytes('0x6c905adb62f31524dce992dee9e2b27cb048212037ba206a5f523dfe4572fe0a'),\n",
       "  HexBytes('0xad0829e78a0fddbc9d9e2a1e26f6bcd18b15283eeb455dc7b3222f5aae9ab97a')],\n",
       " 'transactionsRoot': HexBytes('0x5d6f866202d57ff63b97331a3cbda27ba9c29e84afefff4aa3b08dc0d0b40bcd'),\n",
       " 'uncles': []})"
      ]
     },
     "execution_count": 88,
     "metadata": {},
     "output_type": "execute_result"
    }
   ],
   "source": [
    "get_block_info(w3, get_block_height(w3))"
   ]
  },
  {
   "cell_type": "code",
   "execution_count": 79,
   "metadata": {},
   "outputs": [
    {
     "name": "stdout",
     "output_type": "stream",
     "text": [
      "Account 1 balance: 0.1 ETH\n"
     ]
    }
   ],
   "source": [
    "print('Account 1 balance: {} ETH'.format(get_balance(w3, acc1)))"
   ]
  },
  {
   "cell_type": "markdown",
   "metadata": {},
   "source": [
    "## Task 4"
   ]
  },
  {
   "cell_type": "markdown",
   "metadata": {},
   "source": [
    "Send some Eth test coins from **Address 1** to **Address 2** and provide Transaction_ID."
   ]
  },
  {
   "cell_type": "markdown",
   "metadata": {},
   "source": [
    "Middleware to interact with POA testnet:"
   ]
  },
  {
   "cell_type": "code",
   "execution_count": 262,
   "metadata": {},
   "outputs": [],
   "source": [
    "from web3.middleware import geth_poa_middleware"
   ]
  },
  {
   "cell_type": "code",
   "execution_count": 99,
   "metadata": {},
   "outputs": [
    {
     "name": "stdout",
     "output_type": "stream",
     "text": [
      "Choose network to connect to:\n",
      "1: Ethereum Mainnet\n",
      "2: Ropsten Testnet\n",
      "3: Rinkeby Testnet\n",
      "4: Ganache\n",
      "...\n",
      "Failed to connect 1 times. Retrying...\n",
      "Successfully connected to https://rinkeby.infura.io/v3/2c00cdcf2f824e4085718bdb8546c235\n"
     ]
    },
    {
     "data": {
      "text/plain": [
       "'Geth/v1.10.13-omnibus-abb549b5/linux-amd64/go1.17.3'"
      ]
     },
     "execution_count": 99,
     "metadata": {},
     "output_type": "execute_result"
    }
   ],
   "source": [
    "w3 = connect()\n",
    "\n",
    "# inject the poa compatibility middleware to the innermost layer\n",
    "w3.middleware_onion.inject(geth_poa_middleware, layer=0)\n",
    "\n",
    "# confirm that the connection succeeded\n",
    "w3.clientVersion"
   ]
  },
  {
   "cell_type": "code",
   "execution_count": 117,
   "metadata": {},
   "outputs": [],
   "source": [
    "w3.eth.default_account = acc1"
   ]
  },
  {
   "cell_type": "markdown",
   "metadata": {},
   "source": [
    "This is the code to sign the transaction:"
   ]
  },
  {
   "cell_type": "code",
   "execution_count": 125,
   "metadata": {},
   "outputs": [],
   "source": [
    "# txParams = {\n",
    "#     'to' : acc2,\n",
    "#     'from' : acc1,\n",
    "#     'nonce' : w3.eth.get_transaction_count(acc1),\n",
    "#     'gas' : 100000,\n",
    "#     'maxFeePerGas' : 2000000000,\n",
    "#     'maxPriorityFeePerGas' : 1000000000,\n",
    "#     'value' : int(0.01e9),\n",
    "#     'type' : 2, \n",
    "#     'chainId' : 4\n",
    "# }\n",
    "\n",
    "# signed_txn = w3.eth.account.sign_transaction(txParams, acc1_private_key)"
   ]
  },
  {
   "cell_type": "markdown",
   "metadata": {},
   "source": [
    "And to perform the transaction:"
   ]
  },
  {
   "cell_type": "code",
   "execution_count": 126,
   "metadata": {},
   "outputs": [],
   "source": [
    "#txn_hash = w3.eth.send_raw_transaction(signed_txn.rawTransaction)"
   ]
  },
  {
   "cell_type": "code",
   "execution_count": 130,
   "metadata": {},
   "outputs": [
    {
     "data": {
      "text/plain": [
       "HexBytes('0x7b79282a7a4b5c218a7973378280055dd035f9a8911ab99df599f842ce41040d')"
      ]
     },
     "execution_count": 130,
     "metadata": {},
     "output_type": "execute_result"
    }
   ],
   "source": [
    "txn_hash"
   ]
  },
  {
   "cell_type": "code",
   "execution_count": 128,
   "metadata": {},
   "outputs": [
    {
     "data": {
      "text/plain": [
       "Decimal('0.09997899998979')"
      ]
     },
     "execution_count": 128,
     "metadata": {},
     "output_type": "execute_result"
    }
   ],
   "source": [
    "get_balance(w3, acc1)"
   ]
  },
  {
   "cell_type": "code",
   "execution_count": 129,
   "metadata": {},
   "outputs": [
    {
     "data": {
      "text/plain": [
       "Decimal('0.10000000001')"
      ]
     },
     "execution_count": 129,
     "metadata": {},
     "output_type": "execute_result"
    }
   ],
   "source": [
    "get_balance(w3, acc2)"
   ]
  },
  {
   "cell_type": "markdown",
   "metadata": {},
   "source": [
    "* Transaction hash: 0x7b79282a7a4b5c218a7973378280055dd035f9a8911ab99df599f842ce41040d\n",
    "* Transaction on etherscan: https://rinkeby.etherscan.io/tx/0x23fab1d8d11b8a3567a58f5aae98f34d4821ed5ffb750719ce64580a45d1f3ce"
   ]
  },
  {
   "cell_type": "markdown",
   "metadata": {},
   "source": [
    "## Task 5"
   ]
  },
  {
   "cell_type": "markdown",
   "metadata": {},
   "source": [
    "Contract is published here:\n",
    "\n",
    "* https://rinkeby.etherscan.io/address/0xcedde623fa1056ed672f6eba241c4c5e09fc4851#contracts"
   ]
  },
  {
   "cell_type": "markdown",
   "metadata": {},
   "source": [
    "Let's try to interact with it:"
   ]
  },
  {
   "cell_type": "code",
   "execution_count": 136,
   "metadata": {},
   "outputs": [
    {
     "name": "stdout",
     "output_type": "stream",
     "text": [
      "Choose network to connect to:\n",
      "1: Ethereum Mainnet\n",
      "2: Ropsten Testnet\n",
      "3: Rinkeby Testnet\n",
      "4: Ganache\n",
      "...\n",
      "Failed to connect 1 times. Retrying...\n",
      "Successfully connected to https://rinkeby.infura.io/v3/2c00cdcf2f824e4085718bdb8546c235\n"
     ]
    }
   ],
   "source": [
    "w3 = connect()"
   ]
  },
  {
   "cell_type": "markdown",
   "metadata": {},
   "source": [
    "Filling in the information about the contract:"
   ]
  },
  {
   "cell_type": "code",
   "execution_count": 154,
   "metadata": {},
   "outputs": [],
   "source": [
    "contract_address = \"0xCedde623fa1056ED672f6EBa241c4C5e09FC4851\"\n",
    "\n",
    "abi = [{\"inputs\":[{\"internalType\":\"uint256\",\"name\":\"a\",\"type\":\"uint256\"},{\"internalType\":\"uint256\",\"name\":\"b\",\"type\":\"uint256\"}],\"name\":\"add\",\"outputs\":[{\"internalType\":\"uint256\",\"name\":\"\",\"type\":\"uint256\"}],\"stateMutability\":\"pure\",\"type\":\"function\"}]\n",
    "\n",
    "c = w3.eth.contract(contract_address, abi=abi)"
   ]
  },
  {
   "cell_type": "markdown",
   "metadata": {},
   "source": [
    "Filling in the transaction paramteres:"
   ]
  },
  {
   "cell_type": "code",
   "execution_count": 193,
   "metadata": {},
   "outputs": [],
   "source": [
    "estGas = c.functions.add(1, 2).estimateGas()\n",
    "\n",
    "txParams = {\n",
    "    'from' : acc1,\n",
    "    'nonce' : w3.eth.get_transaction_count(acc1),\n",
    "    'type' : 2, \n",
    "    'chainId' : 4,\n",
    "    'gas' : estGas,\n",
    "    'maxFeePerGas' : 2000000000,\n",
    "    'maxPriorityFeePerGas' : 1000000000,\n",
    "    'nonce' : w3.eth.get_transaction_count(acc1),\n",
    "}\n",
    "\n",
    "# acc1_private_key = #here was the account private key\n",
    "# signed_txn = w3.eth.account.sign_transaction(txParams, acc1_private_key)"
   ]
  },
  {
   "cell_type": "markdown",
   "metadata": {},
   "source": [
    "Building the transaction to interact with the contract:"
   ]
  },
  {
   "cell_type": "code",
   "execution_count": 194,
   "metadata": {},
   "outputs": [],
   "source": [
    "txn = c.functions.add(1, 2).buildTransaction(txParams)"
   ]
  },
  {
   "cell_type": "markdown",
   "metadata": {},
   "source": [
    "Signing the transaction with **Address 1** private key:"
   ]
  },
  {
   "cell_type": "code",
   "execution_count": 195,
   "metadata": {},
   "outputs": [],
   "source": [
    "signed_txn = w3.eth.account.sign_transaction(txn, acc1_private_key)"
   ]
  },
  {
   "cell_type": "markdown",
   "metadata": {},
   "source": [
    "Sending the transaction:"
   ]
  },
  {
   "cell_type": "code",
   "execution_count": 196,
   "metadata": {},
   "outputs": [],
   "source": [
    "result = w3.eth.send_raw_transaction(signed_txn.rawTransaction)"
   ]
  },
  {
   "cell_type": "code",
   "execution_count": 197,
   "metadata": {},
   "outputs": [
    {
     "data": {
      "text/plain": [
       "HexBytes('0xf00a30f73a2c11aecc631519304414a585f1c4eaba0a3d463e7000bfd0dc01ea')"
      ]
     },
     "execution_count": 197,
     "metadata": {},
     "output_type": "execute_result"
    }
   ],
   "source": [
    "result"
   ]
  },
  {
   "cell_type": "markdown",
   "metadata": {},
   "source": [
    "Hooray!\n",
    "* Transaction address: https://rinkeby.etherscan.io/tx/0xf00a30f73a2c11aecc631519304414a585f1c4eaba0a3d463e7000bfd0dc01ea\n",
    "\n",
    "However, I wrote the most useless summator in the world: to receive the result of addition we have to send reciprocal transaction with **data** field containing the answer from the contract to the address that invoked the method of the contract."
   ]
  },
  {
   "cell_type": "markdown",
   "metadata": {},
   "source": [
    "## Task 6"
   ]
  },
  {
   "cell_type": "markdown",
   "metadata": {},
   "source": [
    "1. Create 100 tokens.  \n",
    "2. Deploy the contract from **Address 2**. Provide contract creation transaction_id and contract address (the address that is created when the contract is deployed) and 3 letters abbreviation of your coin. We will check the existence on the ropsten testnet.\n",
    "3. Send ten tokens to 0x7F0623b3Ed830BF5e7CE54A8a3cE7676779522F9 address. (Provide Transaction Id)"
   ]
  },
  {
   "cell_type": "markdown",
   "metadata": {},
   "source": [
    "I accidentally created 1000 tokens :("
   ]
  },
  {
   "cell_type": "code",
   "execution_count": 260,
   "metadata": {},
   "outputs": [
    {
     "ename": "SyntaxError",
     "evalue": "invalid syntax (Temp/ipykernel_13920/3553201879.py, line 4)",
     "output_type": "error",
     "traceback": [
      "\u001b[1;36m  File \u001b[1;32m\"C:\\Users\\backg\\AppData\\Local\\Temp/ipykernel_13920/3553201879.py\"\u001b[1;36m, line \u001b[1;32m4\u001b[0m\n\u001b[1;33m    acc2_private_key = # here was the private key for the address 2\u001b[0m\n\u001b[1;37m                                                                   ^\u001b[0m\n\u001b[1;31mSyntaxError\u001b[0m\u001b[1;31m:\u001b[0m invalid syntax\n"
     ]
    }
   ],
   "source": [
    "target_address = \"0x7F0623b3Ed830BF5e7CE54A8a3cE7676779522F9\"\n",
    "contract_address = \"0x939cB4eBcC9AD8cBE93bB40AB7B403dC5706f65a\"\n",
    "\n",
    "acc2_private_key = # here was the private key for the address 2"
   ]
  },
  {
   "cell_type": "code",
   "execution_count": 243,
   "metadata": {},
   "outputs": [],
   "source": [
    "abi = [{\"inputs\":[],\"stateMutability\":\"nonpayable\",\"type\":\"constructor\"},{\"anonymous\":False,\"inputs\":[{\"indexed\":True,\"internalType\":\"address\",\"name\":\"owner\",\"type\":\"address\"},{\"indexed\":True,\"internalType\":\"address\",\"name\":\"spender\",\"type\":\"address\"},{\"indexed\":False,\"internalType\":\"uint256\",\"name\":\"value\",\"type\":\"uint256\"}],\"name\":\"Approval\",\"type\":\"event\"},{\"anonymous\":False,\"inputs\":[{\"indexed\":True,\"internalType\":\"address\",\"name\":\"from\",\"type\":\"address\"},{\"indexed\":True,\"internalType\":\"address\",\"name\":\"to\",\"type\":\"address\"},{\"indexed\":False,\"internalType\":\"uint256\",\"name\":\"value\",\"type\":\"uint256\"}],\"name\":\"Transfer\",\"type\":\"event\"},{\"inputs\":[{\"internalType\":\"address\",\"name\":\"owner\",\"type\":\"address\"},{\"internalType\":\"address\",\"name\":\"spender\",\"type\":\"address\"}],\"name\":\"allowance\",\"outputs\":[{\"internalType\":\"uint256\",\"name\":\"\",\"type\":\"uint256\"}],\"stateMutability\":\"view\",\"type\":\"function\"},{\"inputs\":[{\"internalType\":\"address\",\"name\":\"spender\",\"type\":\"address\"},{\"internalType\":\"uint256\",\"name\":\"amount\",\"type\":\"uint256\"}],\"name\":\"approve\",\"outputs\":[{\"internalType\":\"bool\",\"name\":\"\",\"type\":\"bool\"}],\"stateMutability\":\"nonpayable\",\"type\":\"function\"},{\"inputs\":[{\"internalType\":\"address\",\"name\":\"account\",\"type\":\"address\"}],\"name\":\"balanceOf\",\"outputs\":[{\"internalType\":\"uint256\",\"name\":\"\",\"type\":\"uint256\"}],\"stateMutability\":\"view\",\"type\":\"function\"},{\"inputs\":[{\"internalType\":\"uint256\",\"name\":\"amount\",\"type\":\"uint256\"}],\"name\":\"burn\",\"outputs\":[],\"stateMutability\":\"nonpayable\",\"type\":\"function\"},{\"inputs\":[],\"name\":\"decimals\",\"outputs\":[{\"internalType\":\"uint8\",\"name\":\"\",\"type\":\"uint8\"}],\"stateMutability\":\"view\",\"type\":\"function\"},{\"inputs\":[{\"internalType\":\"address\",\"name\":\"spender\",\"type\":\"address\"},{\"internalType\":\"uint256\",\"name\":\"subtractedValue\",\"type\":\"uint256\"}],\"name\":\"decreaseAllowance\",\"outputs\":[{\"internalType\":\"bool\",\"name\":\"\",\"type\":\"bool\"}],\"stateMutability\":\"nonpayable\",\"type\":\"function\"},{\"inputs\":[{\"internalType\":\"address\",\"name\":\"spender\",\"type\":\"address\"},{\"internalType\":\"uint256\",\"name\":\"addedValue\",\"type\":\"uint256\"}],\"name\":\"increaseAllowance\",\"outputs\":[{\"internalType\":\"bool\",\"name\":\"\",\"type\":\"bool\"}],\"stateMutability\":\"nonpayable\",\"type\":\"function\"},{\"inputs\":[{\"internalType\":\"address\",\"name\":\"to\",\"type\":\"address\"},{\"internalType\":\"uint256\",\"name\":\"amount\",\"type\":\"uint256\"}],\"name\":\"mint\",\"outputs\":[],\"stateMutability\":\"nonpayable\",\"type\":\"function\"},{\"inputs\":[],\"name\":\"name\",\"outputs\":[{\"internalType\":\"string\",\"name\":\"\",\"type\":\"string\"}],\"stateMutability\":\"view\",\"type\":\"function\"},{\"inputs\":[],\"name\":\"scamGod\",\"outputs\":[{\"internalType\":\"address\",\"name\":\"\",\"type\":\"address\"}],\"stateMutability\":\"view\",\"type\":\"function\"},{\"inputs\":[],\"name\":\"symbol\",\"outputs\":[{\"internalType\":\"string\",\"name\":\"\",\"type\":\"string\"}],\"stateMutability\":\"view\",\"type\":\"function\"},{\"inputs\":[],\"name\":\"totalSupply\",\"outputs\":[{\"internalType\":\"uint256\",\"name\":\"\",\"type\":\"uint256\"}],\"stateMutability\":\"view\",\"type\":\"function\"},{\"inputs\":[{\"internalType\":\"address\",\"name\":\"recipient\",\"type\":\"address\"},{\"internalType\":\"uint256\",\"name\":\"amount\",\"type\":\"uint256\"}],\"name\":\"transfer\",\"outputs\":[{\"internalType\":\"bool\",\"name\":\"\",\"type\":\"bool\"}],\"stateMutability\":\"nonpayable\",\"type\":\"function\"},{\"inputs\":[{\"internalType\":\"address\",\"name\":\"sender\",\"type\":\"address\"},{\"internalType\":\"address\",\"name\":\"recipient\",\"type\":\"address\"},{\"internalType\":\"uint256\",\"name\":\"amount\",\"type\":\"uint256\"}],\"name\":\"transferFrom\",\"outputs\":[{\"internalType\":\"bool\",\"name\":\"\",\"type\":\"bool\"}],\"stateMutability\":\"nonpayable\",\"type\":\"function\"}]\n"
   ]
  },
  {
   "cell_type": "markdown",
   "metadata": {},
   "source": [
    "* Contract address: https://rinkeby.etherscan.io/address/0x939cb4ebcc9ad8cbe93bb40ab7b403dc5706f65a\n",
    "* Contract creation ID: https://rinkeby.etherscan.io/tx/0x86fb09860fed050545cb9d3ecf73d981771c79a6f20aa89e160777c187818c77\n",
    "* Token ticker: SCAM\n",
    "* Transaction to the target address: https://rinkeby.etherscan.io/tx/0x0e775bcb8a432b8aa028508e44d8a93b1962bd8181742b4a515370bebe8c7864\n",
    "* **Address 2**: https://rinkeby.etherscan.io/address/0x059c580fce97fade3b76b8fcb5d7f2a2712e68cc"
   ]
  },
  {
   "cell_type": "code",
   "execution_count": 215,
   "metadata": {},
   "outputs": [
    {
     "name": "stdout",
     "output_type": "stream",
     "text": [
      "Choose network to connect to:\n",
      "1: Ethereum Mainnet\n",
      "2: Ropsten Testnet\n",
      "3: Rinkeby Testnet\n",
      "4: Ganache\n",
      "...\n",
      "Failed to connect 1 times. Retrying...\n",
      "Successfully connected to https://rinkeby.infura.io/v3/2c00cdcf2f824e4085718bdb8546c235\n"
     ]
    }
   ],
   "source": [
    "w3 = connect()"
   ]
  },
  {
   "cell_type": "code",
   "execution_count": 246,
   "metadata": {},
   "outputs": [],
   "source": [
    "w3.eth.default_account = acc2"
   ]
  },
  {
   "cell_type": "code",
   "execution_count": 244,
   "metadata": {},
   "outputs": [],
   "source": [
    "c = w3.eth.contract(contract_address, abi=abi)"
   ]
  },
  {
   "cell_type": "code",
   "execution_count": 253,
   "metadata": {},
   "outputs": [],
   "source": [
    "estGas = c.functions.mint(target_address, 100 * 10 ** 18).estimateGas()"
   ]
  },
  {
   "cell_type": "code",
   "execution_count": 255,
   "metadata": {},
   "outputs": [],
   "source": [
    "txParams = {\n",
    "    'from' : acc2,\n",
    "    'nonce' : w3.eth.get_transaction_count(acc2),\n",
    "    'type' : 2, \n",
    "    'chainId' : 4,\n",
    "    'gas' : estGas,\n",
    "    'maxFeePerGas' : 2000000000,\n",
    "    'maxPriorityFeePerGas' : 1000000000\n",
    "}\n",
    "\n",
    "signed_txn = w3.eth.account.sign_transaction(txParams, acc2_private_key)"
   ]
  },
  {
   "cell_type": "code",
   "execution_count": 256,
   "metadata": {},
   "outputs": [],
   "source": [
    "txn = c.functions.mint(target_address, 100 * 10 ** 18).buildTransaction(txParams)"
   ]
  },
  {
   "cell_type": "code",
   "execution_count": 257,
   "metadata": {},
   "outputs": [],
   "source": [
    "signed_txn = w3.eth.account.sign_transaction(txn, acc2_private_key)"
   ]
  },
  {
   "cell_type": "code",
   "execution_count": 258,
   "metadata": {},
   "outputs": [],
   "source": [
    "result = w3.eth.send_raw_transaction(signed_txn.rawTransaction)"
   ]
  },
  {
   "cell_type": "code",
   "execution_count": 259,
   "metadata": {},
   "outputs": [
    {
     "data": {
      "text/plain": [
       "HexBytes('0x0e775bcb8a432b8aa028508e44d8a93b1962bd8181742b4a515370bebe8c7864')"
      ]
     },
     "execution_count": 259,
     "metadata": {},
     "output_type": "execute_result"
    }
   ],
   "source": [
    "result"
   ]
  },
  {
   "cell_type": "code",
   "execution_count": 289,
   "metadata": {},
   "outputs": [
    {
     "name": "stdout",
     "output_type": "stream",
     "text": [
      "Choose network to connect to:\n",
      "1: Ethereum Mainnet\n",
      "2: Ropsten Testnet\n",
      "3: Rinkeby Testnet\n",
      "4: Ganache\n",
      "...\n",
      "Successfully connected to https://rinkeby.infura.io/v3/2c00cdcf2f824e4085718bdb8546c235\n"
     ]
    }
   ],
   "source": [
    "w3 = connect()"
   ]
  },
  {
   "cell_type": "code",
   "execution_count": 290,
   "metadata": {},
   "outputs": [],
   "source": [
    "w3.eth.default_account = acc2"
   ]
  },
  {
   "cell_type": "code",
   "execution_count": 291,
   "metadata": {},
   "outputs": [],
   "source": [
    "sanya_address = '0x18A9dF8f50E1aE50a2Cc8313AfeB5f72de29983B'\n",
    "dasha_address = '0xbA274a8F0Bf1462D587D601Fee4E87b38b889A08'\n",
    "\n",
    "contract_address = '0x939cB4eBcC9AD8cBE93bB40AB7B403dC5706f65a'\n",
    "abi = [{\"inputs\":[],\"stateMutability\":\"nonpayable\",\"type\":\"constructor\"},{\"anonymous\":False,\"inputs\":[{\"indexed\":True,\"internalType\":\"address\",\"name\":\"owner\",\"type\":\"address\"},{\"indexed\":True,\"internalType\":\"address\",\"name\":\"spender\",\"type\":\"address\"},{\"indexed\":False,\"internalType\":\"uint256\",\"name\":\"value\",\"type\":\"uint256\"}],\"name\":\"Approval\",\"type\":\"event\"},{\"anonymous\":False,\"inputs\":[{\"indexed\":True,\"internalType\":\"address\",\"name\":\"from\",\"type\":\"address\"},{\"indexed\":True,\"internalType\":\"address\",\"name\":\"to\",\"type\":\"address\"},{\"indexed\":False,\"internalType\":\"uint256\",\"name\":\"value\",\"type\":\"uint256\"}],\"name\":\"Transfer\",\"type\":\"event\"},{\"inputs\":[{\"internalType\":\"address\",\"name\":\"owner\",\"type\":\"address\"},{\"internalType\":\"address\",\"name\":\"spender\",\"type\":\"address\"}],\"name\":\"allowance\",\"outputs\":[{\"internalType\":\"uint256\",\"name\":\"\",\"type\":\"uint256\"}],\"stateMutability\":\"view\",\"type\":\"function\"},{\"inputs\":[{\"internalType\":\"address\",\"name\":\"spender\",\"type\":\"address\"},{\"internalType\":\"uint256\",\"name\":\"amount\",\"type\":\"uint256\"}],\"name\":\"approve\",\"outputs\":[{\"internalType\":\"bool\",\"name\":\"\",\"type\":\"bool\"}],\"stateMutability\":\"nonpayable\",\"type\":\"function\"},{\"inputs\":[{\"internalType\":\"address\",\"name\":\"account\",\"type\":\"address\"}],\"name\":\"balanceOf\",\"outputs\":[{\"internalType\":\"uint256\",\"name\":\"\",\"type\":\"uint256\"}],\"stateMutability\":\"view\",\"type\":\"function\"},{\"inputs\":[{\"internalType\":\"uint256\",\"name\":\"amount\",\"type\":\"uint256\"}],\"name\":\"burn\",\"outputs\":[],\"stateMutability\":\"nonpayable\",\"type\":\"function\"},{\"inputs\":[],\"name\":\"decimals\",\"outputs\":[{\"internalType\":\"uint8\",\"name\":\"\",\"type\":\"uint8\"}],\"stateMutability\":\"view\",\"type\":\"function\"},{\"inputs\":[{\"internalType\":\"address\",\"name\":\"spender\",\"type\":\"address\"},{\"internalType\":\"uint256\",\"name\":\"subtractedValue\",\"type\":\"uint256\"}],\"name\":\"decreaseAllowance\",\"outputs\":[{\"internalType\":\"bool\",\"name\":\"\",\"type\":\"bool\"}],\"stateMutability\":\"nonpayable\",\"type\":\"function\"},{\"inputs\":[{\"internalType\":\"address\",\"name\":\"spender\",\"type\":\"address\"},{\"internalType\":\"uint256\",\"name\":\"addedValue\",\"type\":\"uint256\"}],\"name\":\"increaseAllowance\",\"outputs\":[{\"internalType\":\"bool\",\"name\":\"\",\"type\":\"bool\"}],\"stateMutability\":\"nonpayable\",\"type\":\"function\"},{\"inputs\":[{\"internalType\":\"address\",\"name\":\"to\",\"type\":\"address\"},{\"internalType\":\"uint256\",\"name\":\"amount\",\"type\":\"uint256\"}],\"name\":\"mint\",\"outputs\":[],\"stateMutability\":\"nonpayable\",\"type\":\"function\"},{\"inputs\":[],\"name\":\"name\",\"outputs\":[{\"internalType\":\"string\",\"name\":\"\",\"type\":\"string\"}],\"stateMutability\":\"view\",\"type\":\"function\"},{\"inputs\":[],\"name\":\"scamGod\",\"outputs\":[{\"internalType\":\"address\",\"name\":\"\",\"type\":\"address\"}],\"stateMutability\":\"view\",\"type\":\"function\"},{\"inputs\":[],\"name\":\"symbol\",\"outputs\":[{\"internalType\":\"string\",\"name\":\"\",\"type\":\"string\"}],\"stateMutability\":\"view\",\"type\":\"function\"},{\"inputs\":[],\"name\":\"totalSupply\",\"outputs\":[{\"internalType\":\"uint256\",\"name\":\"\",\"type\":\"uint256\"}],\"stateMutability\":\"view\",\"type\":\"function\"},{\"inputs\":[{\"internalType\":\"address\",\"name\":\"recipient\",\"type\":\"address\"},{\"internalType\":\"uint256\",\"name\":\"amount\",\"type\":\"uint256\"}],\"name\":\"transfer\",\"outputs\":[{\"internalType\":\"bool\",\"name\":\"\",\"type\":\"bool\"}],\"stateMutability\":\"nonpayable\",\"type\":\"function\"},{\"inputs\":[{\"internalType\":\"address\",\"name\":\"sender\",\"type\":\"address\"},{\"internalType\":\"address\",\"name\":\"recipient\",\"type\":\"address\"},{\"internalType\":\"uint256\",\"name\":\"amount\",\"type\":\"uint256\"}],\"name\":\"transferFrom\",\"outputs\":[{\"internalType\":\"bool\",\"name\":\"\",\"type\":\"bool\"}],\"stateMutability\":\"nonpayable\",\"type\":\"function\"}]\n",
    "\n",
    "acc2_private_key = '89bd3376526be4eed6128b05af8212b5a92a41b6ad91ed91584dd20e64a9c72a'"
   ]
  },
  {
   "cell_type": "code",
   "execution_count": 292,
   "metadata": {},
   "outputs": [],
   "source": [
    "c = w3.eth.contract(contract_address, abi=abi)"
   ]
  },
  {
   "cell_type": "code",
   "execution_count": 330,
   "metadata": {},
   "outputs": [],
   "source": [
    "estGas = c.functions.mint(dasha_address, 1488 * 10 ** 18).estimateGas()"
   ]
  },
  {
   "cell_type": "code",
   "execution_count": 331,
   "metadata": {},
   "outputs": [],
   "source": [
    "txnParams = {\n",
    "    'from' : acc2,\n",
    "    'nonce' : w3.eth.get_transaction_count(acc2),\n",
    "    'type' : 2, \n",
    "    'chainId' : 4,\n",
    "    'gas' : estGas,\n",
    "    'maxFeePerGas' : 20000000000,\n",
    "    'maxPriorityFeePerGas' : 10000000000\n",
    "}\n",
    "\n",
    "txn = c.functions.mint(dasha_address, 1488 * 10 ** 18).buildTransaction(txnParams)"
   ]
  },
  {
   "cell_type": "code",
   "execution_count": 332,
   "metadata": {},
   "outputs": [],
   "source": [
    "signed_txn = w3.eth.account.sign_transaction(txn, acc2_private_key)"
   ]
  },
  {
   "cell_type": "code",
   "execution_count": 333,
   "metadata": {},
   "outputs": [],
   "source": [
    "result = w3.eth.send_raw_transaction(signed_txn.rawTransaction)"
   ]
  },
  {
   "cell_type": "code",
   "execution_count": 334,
   "metadata": {},
   "outputs": [
    {
     "data": {
      "text/plain": [
       "HexBytes('0x0f491394bd86e621968c7ffefc80b7b9094186e61e1dd4b41871eed145963dd4')"
      ]
     },
     "execution_count": 334,
     "metadata": {},
     "output_type": "execute_result"
    }
   ],
   "source": [
    "result"
   ]
  },
  {
   "cell_type": "code",
   "execution_count": null,
   "metadata": {},
   "outputs": [],
   "source": []
  }
 ],
 "metadata": {
  "interpreter": {
   "hash": "0600588c3b5f4418cbe7b5ebc6825b479f3bc010269d8b60d75058cdd010adfe"
  },
  "kernelspec": {
   "display_name": "Python 3.7.9 64-bit",
   "language": "python",
   "name": "python3"
  },
  "language_info": {
   "codemirror_mode": {
    "name": "ipython",
    "version": 3
   },
   "file_extension": ".py",
   "mimetype": "text/x-python",
   "name": "python",
   "nbconvert_exporter": "python",
   "pygments_lexer": "ipython3",
   "version": "3.7.9"
  },
  "orig_nbformat": 4
 },
 "nbformat": 4,
 "nbformat_minor": 2
}
