{
 "cells": [
  {
   "cell_type": "markdown",
   "id": "47668c8e",
   "metadata": {},
   "source": [
    "# Problem Set 2"
   ]
  },
  {
   "cell_type": "markdown",
   "id": "a4b7e2a7",
   "metadata": {},
   "source": [
    "## Problem 1"
   ]
  },
  {
   "cell_type": "markdown",
   "id": "dbe45f51",
   "metadata": {},
   "source": [
    "Consider linear system\n",
    "\n",
    "$$\n",
    "\\begin{align*}\n",
    "2x_1 + x_2 = 1\\\\\n",
    "x_1 + 2x_2 + x_3 = 2\\\\\n",
    "x_2 + 2x_3 = 3\n",
    "\\end{align*}\n",
    "$$\n",
    "\n",
    "(a) Find the $LU$ factorization of the coefficient matrix $A$.   Show that $U = DL^T$ with $D$ diagonal and thus $A=LDL^T$. Find the exact solution using the $LU$ factorization.  \n",
    "\n",
    "(b) Solve the system using Jacobi and Gauss-Seidel iterations. How many iterations are needed to reduce the relative error of the solution to $10^{-8}$?  \n",
    "\n",
    "(c) Plot in semilog scales the relative errors by both methods as a function of the number of iterations.\n",
    "\n",
    "(d) Explain the convergence rate. Which of the methods is better and why?\n",
    "\n"
   ]
  },
  {
   "cell_type": "markdown",
   "id": "6377b2c6",
   "metadata": {},
   "source": [
    "### Solution\n",
    "\n",
    "Let us perform the $LU$ factorization by hand:"
   ]
  },
  {
   "cell_type": "markdown",
   "id": "ac8ede07",
   "metadata": {},
   "source": [
    "\n",
    "$$\n",
    "\\begin{align*}\n",
    "\\begin{bmatrix}\n",
    "2 & 1 & 0\\\\\n",
    "1 & 2 & 1\\\\\n",
    "0 & 1 & 2\n",
    "\\end{bmatrix}\n",
    "\\Rightarrow (R_2 - \\frac{1}{2}R_1)\n",
    "\\begin{bmatrix}\n",
    "2 & 1 & 0\\\\\n",
    "0 & \\frac{3}{2} & 1\\\\\n",
    "0 & 1 & 2\n",
    "\\end{bmatrix}\n",
    "\\Rightarrow (R_3 - \\frac{2}{3}R_2)\n",
    "\\begin{bmatrix}\n",
    "2 & 1 & 0\\\\\n",
    "0 & \\frac{3}{2} & 1\\\\\n",
    "0 & 0 & \\frac{4}{3}\n",
    "\\end{bmatrix}\n",
    "= U;\n",
    "\\hspace{10mm}\n",
    "L =\n",
    "\\begin{bmatrix}\n",
    "1 & 0 & 0\\\\\n",
    "\\frac{1}{2} & 1 & 0\\\\\n",
    "0 & \\frac{2}{3} & 1\n",
    "\\end{bmatrix}\n",
    "\\end{align*}\n",
    "$$"
   ]
  },
  {
   "cell_type": "markdown",
   "id": "7d17a9f8",
   "metadata": {},
   "source": [
    "And check it via *numpy*:"
   ]
  },
  {
   "cell_type": "code",
   "execution_count": 1,
   "id": "9fddb190",
   "metadata": {},
   "outputs": [
    {
     "name": "stdout",
     "output_type": "stream",
     "text": [
      "L:\n",
      "[[1.         0.         0.        ]\n",
      " [0.5        1.         0.        ]\n",
      " [0.         0.66666667 1.        ]]\n",
      "\n",
      "U:\n",
      "[[2.         1.         0.        ]\n",
      " [0.         1.5        1.        ]\n",
      " [0.         0.         1.33333333]]\n"
     ]
    }
   ],
   "source": [
    "import numpy as np\n",
    "from fractions import Fraction\n",
    "from scipy import linalg as lin\n",
    "import sympy as sp\n",
    "from sympy import abc\n",
    "\n",
    "A = np.matrix([\n",
    "    [2, 1, 0],\n",
    "    [1, 2, 1],\n",
    "    [0, 1, 2]\n",
    "])\n",
    "\n",
    "def bmatrix(a):\n",
    "    \"\"\"Returns a LaTeX bmatrix\n",
    "\n",
    "    :a: numpy array\n",
    "    :returns: LaTeX bmatrix as a string\n",
    "    \"\"\"\n",
    "    if len(a.shape) > 2:\n",
    "        raise ValueError('bmatrix can at most display two dimensions')\n",
    "    lines = str(a).replace('[', '').replace(']', '').splitlines()\n",
    "    rv = [r'\\begin{bmatrix}']\n",
    "    rv += ['  ' + ' & '.join(l.split()) + r'\\\\' for l in lines]\n",
    "    rv +=  [r'\\end{bmatrix}']\n",
    "    return '\\n'.join(rv)\n",
    "\n",
    "E, L, U = lin.lu(A, permute_l = False)\n",
    "L = np.matrix(L)\n",
    "U = np.matrix(U)\n",
    "print(\"L:\")\n",
    "print(L)\n",
    "print(\"\\nU:\")\n",
    "print(U)"
   ]
  },
  {
   "cell_type": "markdown",
   "id": "c0ada982",
   "metadata": {},
   "source": [
    "Let us show, that $U = DL^T$:\n",
    "\n",
    "$$\n",
    "L^T = \n",
    "\\begin{bmatrix}\n",
    "1 & \\frac{1}{2} & 0\\\\\n",
    "0 & 1 & \\frac{2}{3}\\\\\n",
    "0 & 0 & 1\n",
    "\\end{bmatrix}\n",
    ";\\hspace{10mm}\n",
    "D = \n",
    "\\begin{bmatrix}\n",
    "2 & 0 & 0\\\\\n",
    "0 & \\frac{3}{2} & 0\\\\\n",
    "0 & 0 & 1\n",
    "\\end{bmatrix}\n",
    ";\\hspace{10mm}\n",
    "U = DL^T\n",
    "$$\n",
    "\n",
    "That means, $A = LU = LDL^T$."
   ]
  },
  {
   "cell_type": "markdown",
   "id": "b68622bb",
   "metadata": {},
   "source": [
    "Now, let us solve the system using $LU$ factorization:\n",
    "\n",
    "$$\n",
    "Ax = b \\hspace{3mm} \\Rightarrow \\hspace{3mm} LUx = b;\n",
    "\\\\\n",
    "\\begin{align*}\n",
    "\\begin{cases}\n",
    "Ux = y;\\\\\n",
    "Ly = b\n",
    "\\end{cases}\n",
    "\\end{align*}\n",
    "$$"
   ]
  },
  {
   "cell_type": "markdown",
   "id": "3de3d355",
   "metadata": {},
   "source": [
    "$$\n",
    "\\begin{bmatrix}\n",
    "  1 & 0 & 0\\\\\n",
    "  \\frac{1}{2} & 1 & 0\\\\\n",
    "  0 & \\frac{2}{3} & 1\\\\\n",
    "\\end{bmatrix}\n",
    "\\begin{bmatrix}\n",
    "  y_1\\\\\n",
    "  y_2\\\\\n",
    "  y_3\n",
    "\\end{bmatrix}\n",
    "=\n",
    "\\begin{bmatrix}\n",
    "1\\\\\n",
    "2\\\\\n",
    "3\n",
    "\\end{bmatrix}\n",
    "\\Rightarrow\n",
    "\\begin{cases}\n",
    "y_1 = 1\\\\\n",
    "y_2 = \\frac{3}{2}\\\\\n",
    "y_3 = 2\n",
    "\\end{cases}\n",
    "$$\n",
    "\n",
    "$$\n",
    "\\begin{bmatrix}\n",
    "2 & 1 & 0\\\\\n",
    "0 & \\frac{3}{2} & 1\\\\\n",
    "0 & 0 & \\frac{4}{3}\n",
    "\\end{bmatrix}\n",
    "\\begin{bmatrix}\n",
    "x_1\\\\\n",
    "x_2\\\\\n",
    "x_3\n",
    "\\end{bmatrix}\n",
    "=\n",
    "\\begin{bmatrix}\n",
    "1\\\\\n",
    "\\frac{3}{2}\\\\\n",
    "2\n",
    "\\end{bmatrix}\n",
    "\\Rightarrow\n",
    "\\begin{cases}\n",
    "x_1 = \\frac{1}{2}\\\\\n",
    "x_2 = 0\\\\\n",
    "x_3 = \\frac{3}{2}\n",
    "\\end{cases}\n",
    "$$\n",
    "\n",
    "$$\n",
    "x = \n",
    "\\begin{bmatrix}\n",
    "1/2\\\\\n",
    "0\\\\\n",
    "3/2\n",
    "\\end{bmatrix}\n",
    "$$"
   ]
  },
  {
   "cell_type": "markdown",
   "id": "7c078281",
   "metadata": {},
   "source": [
    "Next we solve the system using Jacobi and Gauss-Seidel methods:"
   ]
  },
  {
   "cell_type": "code",
   "execution_count": 2,
   "id": "1352425b",
   "metadata": {},
   "outputs": [],
   "source": [
    "import matplotlib.pyplot as plt\n",
    "import copy"
   ]
  },
  {
   "cell_type": "code",
   "execution_count": 3,
   "id": "f381739f",
   "metadata": {},
   "outputs": [],
   "source": [
    "D = np.matrix(np.diag(np.diag(A)))\n",
    "U = np.matrix(np.triu(A-D))\n",
    "L = np.matrix(np.tril(A-D))\n",
    "\n",
    "x_exact = np.matrix([1/2, 0, 3/2]).T\n",
    "tol = 1e-8\n",
    "err = 1\n",
    "x_init = np.matrix([1, 1, 1]).T #initial x\n",
    "b = np.matrix([1, 2, 3]).T\n",
    "\n",
    "def Jacobi(L, D, U, x_init, b, err, tol):\n",
    "\n",
    "    x = copy.deepcopy(x_init)\n",
    "\n",
    "    max_iters = 500\n",
    "\n",
    "    err_iter = np.array([])\n",
    "    err_exact_iter = np.array([])\n",
    "    \n",
    "\n",
    "    iters = 0\n",
    "    while ((err > tol) and (iters <= max_iters)) :\n",
    "        iters = iters + 1\n",
    "        bb = b - (U + L)*x\n",
    "        x_new = np.linalg.solve(D, bb)\n",
    "        err = np.linalg.norm(x_new - x)/np.linalg.norm(x)\n",
    "        err_exact = np.linalg.norm(x_new - x_exact)\n",
    "\n",
    "        err_iter = np.append(err_iter, err)\n",
    "        err_exact_iter = np.append(err_exact_iter, err_exact)\n",
    "\n",
    "        x = x_new\n",
    "\n",
    "    return err_iter, err_exact_iter, x_new, iters\n",
    "\n",
    "def Gauss_Seidel(L, D, U, x_init, b, err, tol):\n",
    "\n",
    "    x = copy.deepcopy(x_init)\n",
    "\n",
    "    max_iters = 250\n",
    "\n",
    "    err_iter = np.array([])\n",
    "    err_exact_iter = np.array([])\n",
    "\n",
    "    iters = 0\n",
    "    while ((err > tol) and (iters <= max_iters)):\n",
    "        iters = iters + 1\n",
    "\n",
    "        bb = b - U*x\n",
    "        x_new = np.linalg.solve(D+L, bb)\n",
    "        err = np.linalg.norm(x_new - x)/np.linalg.norm(x)\n",
    "        err_exact = np.linalg.norm(x_new - x_exact)\n",
    "\n",
    "        err_iter = np.append(err_iter, err)\n",
    "        err_exact_iter = np.append(err_exact_iter, err_exact)\n",
    "\n",
    "        x = x_new\n",
    "\n",
    "    return err_iter, err_exact_iter, x_new, iters"
   ]
  },
  {
   "cell_type": "code",
   "execution_count": 4,
   "id": "3e3b5c28",
   "metadata": {},
   "outputs": [
    {
     "data": {
      "image/svg+xml": "<?xml version=\"1.0\" encoding=\"utf-8\" standalone=\"no\"?>\r\n<!DOCTYPE svg PUBLIC \"-//W3C//DTD SVG 1.1//EN\"\r\n  \"http://www.w3.org/Graphics/SVG/1.1/DTD/svg11.dtd\">\r\n<svg height=\"262.19625pt\" version=\"1.1\" viewBox=\"0 0 393.378125 262.19625\" width=\"393.378125pt\" xmlns=\"http://www.w3.org/2000/svg\" xmlns:xlink=\"http://www.w3.org/1999/xlink\">\r\n <metadata>\r\n  <rdf:RDF xmlns:cc=\"http://creativecommons.org/ns#\" xmlns:dc=\"http://purl.org/dc/elements/1.1/\" xmlns:rdf=\"http://www.w3.org/1999/02/22-rdf-syntax-ns#\">\r\n   <cc:Work>\r\n    <dc:type rdf:resource=\"http://purl.org/dc/dcmitype/StillImage\"/>\r\n    <dc:date>2021-10-16T20:38:44.350493</dc:date>\r\n    <dc:format>image/svg+xml</dc:format>\r\n    <dc:creator>\r\n     <cc:Agent>\r\n      <dc:title>Matplotlib v3.4.3, https://matplotlib.org/</dc:title>\r\n     </cc:Agent>\r\n    </dc:creator>\r\n   </cc:Work>\r\n  </rdf:RDF>\r\n </metadata>\r\n <defs>\r\n  <style type=\"text/css\">*{stroke-linecap:butt;stroke-linejoin:round;}</style>\r\n </defs>\r\n <g id=\"figure_1\">\r\n  <g id=\"patch_1\">\r\n   <path d=\"M 0 262.19625 \r\nL 393.378125 262.19625 \r\nL 393.378125 0 \r\nL 0 0 \r\nz\r\n\" style=\"fill:none;\"/>\r\n  </g>\r\n  <g id=\"axes_1\">\r\n   <g id=\"patch_2\">\r\n    <path d=\"M 51.378125 224.64 \r\nL 386.178125 224.64 \r\nL 386.178125 7.2 \r\nL 51.378125 7.2 \r\nz\r\n\" style=\"fill:#ffffff;\"/>\r\n   </g>\r\n   <g id=\"matplotlib.axis_1\">\r\n    <g id=\"xtick_1\">\r\n     <g id=\"line2d_1\">\r\n      <path clip-path=\"url(#pd04f8e56da)\" d=\"M 66.596307 224.64 \r\nL 66.596307 7.2 \r\n\" style=\"fill:none;stroke:#b0b0b0;stroke-linecap:square;stroke-width:0.8;\"/>\r\n     </g>\r\n     <g id=\"line2d_2\">\r\n      <defs>\r\n       <path d=\"M 0 0 \r\nL 0 3.5 \r\n\" id=\"m49534a2002\" style=\"stroke:#000000;stroke-width:0.8;\"/>\r\n      </defs>\r\n      <g>\r\n       <use style=\"stroke:#000000;stroke-width:0.8;\" x=\"66.596307\" xlink:href=\"#m49534a2002\" y=\"224.64\"/>\r\n      </g>\r\n     </g>\r\n     <g id=\"text_1\">\r\n      <!-- 0 -->\r\n      <g transform=\"translate(63.415057 239.238437)scale(0.1 -0.1)\">\r\n       <defs>\r\n        <path d=\"M 2034 4250 \r\nQ 1547 4250 1301 3770 \r\nQ 1056 3291 1056 2328 \r\nQ 1056 1369 1301 889 \r\nQ 1547 409 2034 409 \r\nQ 2525 409 2770 889 \r\nQ 3016 1369 3016 2328 \r\nQ 3016 3291 2770 3770 \r\nQ 2525 4250 2034 4250 \r\nz\r\nM 2034 4750 \r\nQ 2819 4750 3233 4129 \r\nQ 3647 3509 3647 2328 \r\nQ 3647 1150 3233 529 \r\nQ 2819 -91 2034 -91 \r\nQ 1250 -91 836 529 \r\nQ 422 1150 422 2328 \r\nQ 422 3509 836 4129 \r\nQ 1250 4750 2034 4750 \r\nz\r\n\" id=\"DejaVuSans-30\" transform=\"scale(0.015625)\"/>\r\n       </defs>\r\n       <use xlink:href=\"#DejaVuSans-30\"/>\r\n      </g>\r\n     </g>\r\n    </g>\r\n    <g id=\"xtick_2\">\r\n     <g id=\"line2d_3\">\r\n      <path clip-path=\"url(#pd04f8e56da)\" d=\"M 124.023408 224.64 \r\nL 124.023408 7.2 \r\n\" style=\"fill:none;stroke:#b0b0b0;stroke-linecap:square;stroke-width:0.8;\"/>\r\n     </g>\r\n     <g id=\"line2d_4\">\r\n      <g>\r\n       <use style=\"stroke:#000000;stroke-width:0.8;\" x=\"124.023408\" xlink:href=\"#m49534a2002\" y=\"224.64\"/>\r\n      </g>\r\n     </g>\r\n     <g id=\"text_2\">\r\n      <!-- 10 -->\r\n      <g transform=\"translate(117.660908 239.238437)scale(0.1 -0.1)\">\r\n       <defs>\r\n        <path d=\"M 794 531 \r\nL 1825 531 \r\nL 1825 4091 \r\nL 703 3866 \r\nL 703 4441 \r\nL 1819 4666 \r\nL 2450 4666 \r\nL 2450 531 \r\nL 3481 531 \r\nL 3481 0 \r\nL 794 0 \r\nL 794 531 \r\nz\r\n\" id=\"DejaVuSans-31\" transform=\"scale(0.015625)\"/>\r\n       </defs>\r\n       <use xlink:href=\"#DejaVuSans-31\"/>\r\n       <use x=\"63.623047\" xlink:href=\"#DejaVuSans-30\"/>\r\n      </g>\r\n     </g>\r\n    </g>\r\n    <g id=\"xtick_3\">\r\n     <g id=\"line2d_5\">\r\n      <path clip-path=\"url(#pd04f8e56da)\" d=\"M 181.450509 224.64 \r\nL 181.450509 7.2 \r\n\" style=\"fill:none;stroke:#b0b0b0;stroke-linecap:square;stroke-width:0.8;\"/>\r\n     </g>\r\n     <g id=\"line2d_6\">\r\n      <g>\r\n       <use style=\"stroke:#000000;stroke-width:0.8;\" x=\"181.450509\" xlink:href=\"#m49534a2002\" y=\"224.64\"/>\r\n      </g>\r\n     </g>\r\n     <g id=\"text_3\">\r\n      <!-- 20 -->\r\n      <g transform=\"translate(175.088009 239.238437)scale(0.1 -0.1)\">\r\n       <defs>\r\n        <path d=\"M 1228 531 \r\nL 3431 531 \r\nL 3431 0 \r\nL 469 0 \r\nL 469 531 \r\nQ 828 903 1448 1529 \r\nQ 2069 2156 2228 2338 \r\nQ 2531 2678 2651 2914 \r\nQ 2772 3150 2772 3378 \r\nQ 2772 3750 2511 3984 \r\nQ 2250 4219 1831 4219 \r\nQ 1534 4219 1204 4116 \r\nQ 875 4013 500 3803 \r\nL 500 4441 \r\nQ 881 4594 1212 4672 \r\nQ 1544 4750 1819 4750 \r\nQ 2544 4750 2975 4387 \r\nQ 3406 4025 3406 3419 \r\nQ 3406 3131 3298 2873 \r\nQ 3191 2616 2906 2266 \r\nQ 2828 2175 2409 1742 \r\nQ 1991 1309 1228 531 \r\nz\r\n\" id=\"DejaVuSans-32\" transform=\"scale(0.015625)\"/>\r\n       </defs>\r\n       <use xlink:href=\"#DejaVuSans-32\"/>\r\n       <use x=\"63.623047\" xlink:href=\"#DejaVuSans-30\"/>\r\n      </g>\r\n     </g>\r\n    </g>\r\n    <g id=\"xtick_4\">\r\n     <g id=\"line2d_7\">\r\n      <path clip-path=\"url(#pd04f8e56da)\" d=\"M 238.87761 224.64 \r\nL 238.87761 7.2 \r\n\" style=\"fill:none;stroke:#b0b0b0;stroke-linecap:square;stroke-width:0.8;\"/>\r\n     </g>\r\n     <g id=\"line2d_8\">\r\n      <g>\r\n       <use style=\"stroke:#000000;stroke-width:0.8;\" x=\"238.87761\" xlink:href=\"#m49534a2002\" y=\"224.64\"/>\r\n      </g>\r\n     </g>\r\n     <g id=\"text_4\">\r\n      <!-- 30 -->\r\n      <g transform=\"translate(232.51511 239.238437)scale(0.1 -0.1)\">\r\n       <defs>\r\n        <path d=\"M 2597 2516 \r\nQ 3050 2419 3304 2112 \r\nQ 3559 1806 3559 1356 \r\nQ 3559 666 3084 287 \r\nQ 2609 -91 1734 -91 \r\nQ 1441 -91 1130 -33 \r\nQ 819 25 488 141 \r\nL 488 750 \r\nQ 750 597 1062 519 \r\nQ 1375 441 1716 441 \r\nQ 2309 441 2620 675 \r\nQ 2931 909 2931 1356 \r\nQ 2931 1769 2642 2001 \r\nQ 2353 2234 1838 2234 \r\nL 1294 2234 \r\nL 1294 2753 \r\nL 1863 2753 \r\nQ 2328 2753 2575 2939 \r\nQ 2822 3125 2822 3475 \r\nQ 2822 3834 2567 4026 \r\nQ 2313 4219 1838 4219 \r\nQ 1578 4219 1281 4162 \r\nQ 984 4106 628 3988 \r\nL 628 4550 \r\nQ 988 4650 1302 4700 \r\nQ 1616 4750 1894 4750 \r\nQ 2613 4750 3031 4423 \r\nQ 3450 4097 3450 3541 \r\nQ 3450 3153 3228 2886 \r\nQ 3006 2619 2597 2516 \r\nz\r\n\" id=\"DejaVuSans-33\" transform=\"scale(0.015625)\"/>\r\n       </defs>\r\n       <use xlink:href=\"#DejaVuSans-33\"/>\r\n       <use x=\"63.623047\" xlink:href=\"#DejaVuSans-30\"/>\r\n      </g>\r\n     </g>\r\n    </g>\r\n    <g id=\"xtick_5\">\r\n     <g id=\"line2d_9\">\r\n      <path clip-path=\"url(#pd04f8e56da)\" d=\"M 296.304712 224.64 \r\nL 296.304712 7.2 \r\n\" style=\"fill:none;stroke:#b0b0b0;stroke-linecap:square;stroke-width:0.8;\"/>\r\n     </g>\r\n     <g id=\"line2d_10\">\r\n      <g>\r\n       <use style=\"stroke:#000000;stroke-width:0.8;\" x=\"296.304712\" xlink:href=\"#m49534a2002\" y=\"224.64\"/>\r\n      </g>\r\n     </g>\r\n     <g id=\"text_5\">\r\n      <!-- 40 -->\r\n      <g transform=\"translate(289.942212 239.238437)scale(0.1 -0.1)\">\r\n       <defs>\r\n        <path d=\"M 2419 4116 \r\nL 825 1625 \r\nL 2419 1625 \r\nL 2419 4116 \r\nz\r\nM 2253 4666 \r\nL 3047 4666 \r\nL 3047 1625 \r\nL 3713 1625 \r\nL 3713 1100 \r\nL 3047 1100 \r\nL 3047 0 \r\nL 2419 0 \r\nL 2419 1100 \r\nL 313 1100 \r\nL 313 1709 \r\nL 2253 4666 \r\nz\r\n\" id=\"DejaVuSans-34\" transform=\"scale(0.015625)\"/>\r\n       </defs>\r\n       <use xlink:href=\"#DejaVuSans-34\"/>\r\n       <use x=\"63.623047\" xlink:href=\"#DejaVuSans-30\"/>\r\n      </g>\r\n     </g>\r\n    </g>\r\n    <g id=\"xtick_6\">\r\n     <g id=\"line2d_11\">\r\n      <path clip-path=\"url(#pd04f8e56da)\" d=\"M 353.731813 224.64 \r\nL 353.731813 7.2 \r\n\" style=\"fill:none;stroke:#b0b0b0;stroke-linecap:square;stroke-width:0.8;\"/>\r\n     </g>\r\n     <g id=\"line2d_12\">\r\n      <g>\r\n       <use style=\"stroke:#000000;stroke-width:0.8;\" x=\"353.731813\" xlink:href=\"#m49534a2002\" y=\"224.64\"/>\r\n      </g>\r\n     </g>\r\n     <g id=\"text_6\">\r\n      <!-- 50 -->\r\n      <g transform=\"translate(347.369313 239.238437)scale(0.1 -0.1)\">\r\n       <defs>\r\n        <path d=\"M 691 4666 \r\nL 3169 4666 \r\nL 3169 4134 \r\nL 1269 4134 \r\nL 1269 2991 \r\nQ 1406 3038 1543 3061 \r\nQ 1681 3084 1819 3084 \r\nQ 2600 3084 3056 2656 \r\nQ 3513 2228 3513 1497 \r\nQ 3513 744 3044 326 \r\nQ 2575 -91 1722 -91 \r\nQ 1428 -91 1123 -41 \r\nQ 819 9 494 109 \r\nL 494 744 \r\nQ 775 591 1075 516 \r\nQ 1375 441 1709 441 \r\nQ 2250 441 2565 725 \r\nQ 2881 1009 2881 1497 \r\nQ 2881 1984 2565 2268 \r\nQ 2250 2553 1709 2553 \r\nQ 1456 2553 1204 2497 \r\nQ 953 2441 691 2322 \r\nL 691 4666 \r\nz\r\n\" id=\"DejaVuSans-35\" transform=\"scale(0.015625)\"/>\r\n       </defs>\r\n       <use xlink:href=\"#DejaVuSans-35\"/>\r\n       <use x=\"63.623047\" xlink:href=\"#DejaVuSans-30\"/>\r\n      </g>\r\n     </g>\r\n    </g>\r\n    <g id=\"text_7\">\r\n     <!-- Iterations -->\r\n     <g transform=\"translate(194.964844 252.916562)scale(0.1 -0.1)\">\r\n      <defs>\r\n       <path d=\"M 628 4666 \r\nL 1259 4666 \r\nL 1259 0 \r\nL 628 0 \r\nL 628 4666 \r\nz\r\n\" id=\"DejaVuSans-49\" transform=\"scale(0.015625)\"/>\r\n       <path d=\"M 1172 4494 \r\nL 1172 3500 \r\nL 2356 3500 \r\nL 2356 3053 \r\nL 1172 3053 \r\nL 1172 1153 \r\nQ 1172 725 1289 603 \r\nQ 1406 481 1766 481 \r\nL 2356 481 \r\nL 2356 0 \r\nL 1766 0 \r\nQ 1100 0 847 248 \r\nQ 594 497 594 1153 \r\nL 594 3053 \r\nL 172 3053 \r\nL 172 3500 \r\nL 594 3500 \r\nL 594 4494 \r\nL 1172 4494 \r\nz\r\n\" id=\"DejaVuSans-74\" transform=\"scale(0.015625)\"/>\r\n       <path d=\"M 3597 1894 \r\nL 3597 1613 \r\nL 953 1613 \r\nQ 991 1019 1311 708 \r\nQ 1631 397 2203 397 \r\nQ 2534 397 2845 478 \r\nQ 3156 559 3463 722 \r\nL 3463 178 \r\nQ 3153 47 2828 -22 \r\nQ 2503 -91 2169 -91 \r\nQ 1331 -91 842 396 \r\nQ 353 884 353 1716 \r\nQ 353 2575 817 3079 \r\nQ 1281 3584 2069 3584 \r\nQ 2775 3584 3186 3129 \r\nQ 3597 2675 3597 1894 \r\nz\r\nM 3022 2063 \r\nQ 3016 2534 2758 2815 \r\nQ 2500 3097 2075 3097 \r\nQ 1594 3097 1305 2825 \r\nQ 1016 2553 972 2059 \r\nL 3022 2063 \r\nz\r\n\" id=\"DejaVuSans-65\" transform=\"scale(0.015625)\"/>\r\n       <path d=\"M 2631 2963 \r\nQ 2534 3019 2420 3045 \r\nQ 2306 3072 2169 3072 \r\nQ 1681 3072 1420 2755 \r\nQ 1159 2438 1159 1844 \r\nL 1159 0 \r\nL 581 0 \r\nL 581 3500 \r\nL 1159 3500 \r\nL 1159 2956 \r\nQ 1341 3275 1631 3429 \r\nQ 1922 3584 2338 3584 \r\nQ 2397 3584 2469 3576 \r\nQ 2541 3569 2628 3553 \r\nL 2631 2963 \r\nz\r\n\" id=\"DejaVuSans-72\" transform=\"scale(0.015625)\"/>\r\n       <path d=\"M 2194 1759 \r\nQ 1497 1759 1228 1600 \r\nQ 959 1441 959 1056 \r\nQ 959 750 1161 570 \r\nQ 1363 391 1709 391 \r\nQ 2188 391 2477 730 \r\nQ 2766 1069 2766 1631 \r\nL 2766 1759 \r\nL 2194 1759 \r\nz\r\nM 3341 1997 \r\nL 3341 0 \r\nL 2766 0 \r\nL 2766 531 \r\nQ 2569 213 2275 61 \r\nQ 1981 -91 1556 -91 \r\nQ 1019 -91 701 211 \r\nQ 384 513 384 1019 \r\nQ 384 1609 779 1909 \r\nQ 1175 2209 1959 2209 \r\nL 2766 2209 \r\nL 2766 2266 \r\nQ 2766 2663 2505 2880 \r\nQ 2244 3097 1772 3097 \r\nQ 1472 3097 1187 3025 \r\nQ 903 2953 641 2809 \r\nL 641 3341 \r\nQ 956 3463 1253 3523 \r\nQ 1550 3584 1831 3584 \r\nQ 2591 3584 2966 3190 \r\nQ 3341 2797 3341 1997 \r\nz\r\n\" id=\"DejaVuSans-61\" transform=\"scale(0.015625)\"/>\r\n       <path d=\"M 603 3500 \r\nL 1178 3500 \r\nL 1178 0 \r\nL 603 0 \r\nL 603 3500 \r\nz\r\nM 603 4863 \r\nL 1178 4863 \r\nL 1178 4134 \r\nL 603 4134 \r\nL 603 4863 \r\nz\r\n\" id=\"DejaVuSans-69\" transform=\"scale(0.015625)\"/>\r\n       <path d=\"M 1959 3097 \r\nQ 1497 3097 1228 2736 \r\nQ 959 2375 959 1747 \r\nQ 959 1119 1226 758 \r\nQ 1494 397 1959 397 \r\nQ 2419 397 2687 759 \r\nQ 2956 1122 2956 1747 \r\nQ 2956 2369 2687 2733 \r\nQ 2419 3097 1959 3097 \r\nz\r\nM 1959 3584 \r\nQ 2709 3584 3137 3096 \r\nQ 3566 2609 3566 1747 \r\nQ 3566 888 3137 398 \r\nQ 2709 -91 1959 -91 \r\nQ 1206 -91 779 398 \r\nQ 353 888 353 1747 \r\nQ 353 2609 779 3096 \r\nQ 1206 3584 1959 3584 \r\nz\r\n\" id=\"DejaVuSans-6f\" transform=\"scale(0.015625)\"/>\r\n       <path d=\"M 3513 2113 \r\nL 3513 0 \r\nL 2938 0 \r\nL 2938 2094 \r\nQ 2938 2591 2744 2837 \r\nQ 2550 3084 2163 3084 \r\nQ 1697 3084 1428 2787 \r\nQ 1159 2491 1159 1978 \r\nL 1159 0 \r\nL 581 0 \r\nL 581 3500 \r\nL 1159 3500 \r\nL 1159 2956 \r\nQ 1366 3272 1645 3428 \r\nQ 1925 3584 2291 3584 \r\nQ 2894 3584 3203 3211 \r\nQ 3513 2838 3513 2113 \r\nz\r\n\" id=\"DejaVuSans-6e\" transform=\"scale(0.015625)\"/>\r\n       <path d=\"M 2834 3397 \r\nL 2834 2853 \r\nQ 2591 2978 2328 3040 \r\nQ 2066 3103 1784 3103 \r\nQ 1356 3103 1142 2972 \r\nQ 928 2841 928 2578 \r\nQ 928 2378 1081 2264 \r\nQ 1234 2150 1697 2047 \r\nL 1894 2003 \r\nQ 2506 1872 2764 1633 \r\nQ 3022 1394 3022 966 \r\nQ 3022 478 2636 193 \r\nQ 2250 -91 1575 -91 \r\nQ 1294 -91 989 -36 \r\nQ 684 19 347 128 \r\nL 347 722 \r\nQ 666 556 975 473 \r\nQ 1284 391 1588 391 \r\nQ 1994 391 2212 530 \r\nQ 2431 669 2431 922 \r\nQ 2431 1156 2273 1281 \r\nQ 2116 1406 1581 1522 \r\nL 1381 1569 \r\nQ 847 1681 609 1914 \r\nQ 372 2147 372 2553 \r\nQ 372 3047 722 3315 \r\nQ 1072 3584 1716 3584 \r\nQ 2034 3584 2315 3537 \r\nQ 2597 3491 2834 3397 \r\nz\r\n\" id=\"DejaVuSans-73\" transform=\"scale(0.015625)\"/>\r\n      </defs>\r\n      <use xlink:href=\"#DejaVuSans-49\"/>\r\n      <use x=\"29.492188\" xlink:href=\"#DejaVuSans-74\"/>\r\n      <use x=\"68.701172\" xlink:href=\"#DejaVuSans-65\"/>\r\n      <use x=\"130.224609\" xlink:href=\"#DejaVuSans-72\"/>\r\n      <use x=\"171.337891\" xlink:href=\"#DejaVuSans-61\"/>\r\n      <use x=\"232.617188\" xlink:href=\"#DejaVuSans-74\"/>\r\n      <use x=\"271.826172\" xlink:href=\"#DejaVuSans-69\"/>\r\n      <use x=\"299.609375\" xlink:href=\"#DejaVuSans-6f\"/>\r\n      <use x=\"360.791016\" xlink:href=\"#DejaVuSans-6e\"/>\r\n      <use x=\"424.169922\" xlink:href=\"#DejaVuSans-73\"/>\r\n     </g>\r\n    </g>\r\n   </g>\r\n   <g id=\"matplotlib.axis_2\">\r\n    <g id=\"ytick_1\">\r\n     <g id=\"line2d_13\">\r\n      <path clip-path=\"url(#pd04f8e56da)\" d=\"M 51.378125 186.63401 \r\nL 386.178125 186.63401 \r\n\" style=\"fill:none;stroke:#b0b0b0;stroke-linecap:square;stroke-width:0.8;\"/>\r\n     </g>\r\n     <g id=\"line2d_14\">\r\n      <defs>\r\n       <path d=\"M 0 0 \r\nL -3.5 0 \r\n\" id=\"mf1814c2653\" style=\"stroke:#000000;stroke-width:0.8;\"/>\r\n      </defs>\r\n      <g>\r\n       <use style=\"stroke:#000000;stroke-width:0.8;\" x=\"51.378125\" xlink:href=\"#mf1814c2653\" y=\"186.63401\"/>\r\n      </g>\r\n     </g>\r\n     <g id=\"text_8\">\r\n      <!-- $\\mathdefault{10^{-7}}$ -->\r\n      <g transform=\"translate(20.878125 190.433229)scale(0.1 -0.1)\">\r\n       <defs>\r\n        <path d=\"M 678 2272 \r\nL 4684 2272 \r\nL 4684 1741 \r\nL 678 1741 \r\nL 678 2272 \r\nz\r\n\" id=\"DejaVuSans-2212\" transform=\"scale(0.015625)\"/>\r\n        <path d=\"M 525 4666 \r\nL 3525 4666 \r\nL 3525 4397 \r\nL 1831 0 \r\nL 1172 0 \r\nL 2766 4134 \r\nL 525 4134 \r\nL 525 4666 \r\nz\r\n\" id=\"DejaVuSans-37\" transform=\"scale(0.015625)\"/>\r\n       </defs>\r\n       <use transform=\"translate(0 0.684375)\" xlink:href=\"#DejaVuSans-31\"/>\r\n       <use transform=\"translate(63.623047 0.684375)\" xlink:href=\"#DejaVuSans-30\"/>\r\n       <use transform=\"translate(128.203125 38.965625)scale(0.7)\" xlink:href=\"#DejaVuSans-2212\"/>\r\n       <use transform=\"translate(186.855469 38.965625)scale(0.7)\" xlink:href=\"#DejaVuSans-37\"/>\r\n      </g>\r\n     </g>\r\n    </g>\r\n    <g id=\"ytick_2\">\r\n     <g id=\"line2d_15\">\r\n      <path clip-path=\"url(#pd04f8e56da)\" d=\"M 51.378125 137.754839 \r\nL 386.178125 137.754839 \r\n\" style=\"fill:none;stroke:#b0b0b0;stroke-linecap:square;stroke-width:0.8;\"/>\r\n     </g>\r\n     <g id=\"line2d_16\">\r\n      <g>\r\n       <use style=\"stroke:#000000;stroke-width:0.8;\" x=\"51.378125\" xlink:href=\"#mf1814c2653\" y=\"137.754839\"/>\r\n      </g>\r\n     </g>\r\n     <g id=\"text_9\">\r\n      <!-- $\\mathdefault{10^{-5}}$ -->\r\n      <g transform=\"translate(20.878125 141.554058)scale(0.1 -0.1)\">\r\n       <use transform=\"translate(0 0.684375)\" xlink:href=\"#DejaVuSans-31\"/>\r\n       <use transform=\"translate(63.623047 0.684375)\" xlink:href=\"#DejaVuSans-30\"/>\r\n       <use transform=\"translate(128.203125 38.965625)scale(0.7)\" xlink:href=\"#DejaVuSans-2212\"/>\r\n       <use transform=\"translate(186.855469 38.965625)scale(0.7)\" xlink:href=\"#DejaVuSans-35\"/>\r\n      </g>\r\n     </g>\r\n    </g>\r\n    <g id=\"ytick_3\">\r\n     <g id=\"line2d_17\">\r\n      <path clip-path=\"url(#pd04f8e56da)\" d=\"M 51.378125 88.875668 \r\nL 386.178125 88.875668 \r\n\" style=\"fill:none;stroke:#b0b0b0;stroke-linecap:square;stroke-width:0.8;\"/>\r\n     </g>\r\n     <g id=\"line2d_18\">\r\n      <g>\r\n       <use style=\"stroke:#000000;stroke-width:0.8;\" x=\"51.378125\" xlink:href=\"#mf1814c2653\" y=\"88.875668\"/>\r\n      </g>\r\n     </g>\r\n     <g id=\"text_10\">\r\n      <!-- $\\mathdefault{10^{-3}}$ -->\r\n      <g transform=\"translate(20.878125 92.674887)scale(0.1 -0.1)\">\r\n       <use transform=\"translate(0 0.765625)\" xlink:href=\"#DejaVuSans-31\"/>\r\n       <use transform=\"translate(63.623047 0.765625)\" xlink:href=\"#DejaVuSans-30\"/>\r\n       <use transform=\"translate(128.203125 39.046875)scale(0.7)\" xlink:href=\"#DejaVuSans-2212\"/>\r\n       <use transform=\"translate(186.855469 39.046875)scale(0.7)\" xlink:href=\"#DejaVuSans-33\"/>\r\n      </g>\r\n     </g>\r\n    </g>\r\n    <g id=\"ytick_4\">\r\n     <g id=\"line2d_19\">\r\n      <path clip-path=\"url(#pd04f8e56da)\" d=\"M 51.378125 39.996497 \r\nL 386.178125 39.996497 \r\n\" style=\"fill:none;stroke:#b0b0b0;stroke-linecap:square;stroke-width:0.8;\"/>\r\n     </g>\r\n     <g id=\"line2d_20\">\r\n      <g>\r\n       <use style=\"stroke:#000000;stroke-width:0.8;\" x=\"51.378125\" xlink:href=\"#mf1814c2653\" y=\"39.996497\"/>\r\n      </g>\r\n     </g>\r\n     <g id=\"text_11\">\r\n      <!-- $\\mathdefault{10^{-1}}$ -->\r\n      <g transform=\"translate(20.878125 43.795715)scale(0.1 -0.1)\">\r\n       <use transform=\"translate(0 0.684375)\" xlink:href=\"#DejaVuSans-31\"/>\r\n       <use transform=\"translate(63.623047 0.684375)\" xlink:href=\"#DejaVuSans-30\"/>\r\n       <use transform=\"translate(128.203125 38.965625)scale(0.7)\" xlink:href=\"#DejaVuSans-2212\"/>\r\n       <use transform=\"translate(186.855469 38.965625)scale(0.7)\" xlink:href=\"#DejaVuSans-31\"/>\r\n      </g>\r\n     </g>\r\n    </g>\r\n    <g id=\"text_12\">\r\n     <!-- Relative error -->\r\n     <g transform=\"translate(14.798438 149.775469)rotate(-90)scale(0.1 -0.1)\">\r\n      <defs>\r\n       <path d=\"M 2841 2188 \r\nQ 3044 2119 3236 1894 \r\nQ 3428 1669 3622 1275 \r\nL 4263 0 \r\nL 3584 0 \r\nL 2988 1197 \r\nQ 2756 1666 2539 1819 \r\nQ 2322 1972 1947 1972 \r\nL 1259 1972 \r\nL 1259 0 \r\nL 628 0 \r\nL 628 4666 \r\nL 2053 4666 \r\nQ 2853 4666 3247 4331 \r\nQ 3641 3997 3641 3322 \r\nQ 3641 2881 3436 2590 \r\nQ 3231 2300 2841 2188 \r\nz\r\nM 1259 4147 \r\nL 1259 2491 \r\nL 2053 2491 \r\nQ 2509 2491 2742 2702 \r\nQ 2975 2913 2975 3322 \r\nQ 2975 3731 2742 3939 \r\nQ 2509 4147 2053 4147 \r\nL 1259 4147 \r\nz\r\n\" id=\"DejaVuSans-52\" transform=\"scale(0.015625)\"/>\r\n       <path d=\"M 603 4863 \r\nL 1178 4863 \r\nL 1178 0 \r\nL 603 0 \r\nL 603 4863 \r\nz\r\n\" id=\"DejaVuSans-6c\" transform=\"scale(0.015625)\"/>\r\n       <path d=\"M 191 3500 \r\nL 800 3500 \r\nL 1894 563 \r\nL 2988 3500 \r\nL 3597 3500 \r\nL 2284 0 \r\nL 1503 0 \r\nL 191 3500 \r\nz\r\n\" id=\"DejaVuSans-76\" transform=\"scale(0.015625)\"/>\r\n       <path id=\"DejaVuSans-20\" transform=\"scale(0.015625)\"/>\r\n      </defs>\r\n      <use xlink:href=\"#DejaVuSans-52\"/>\r\n      <use x=\"64.982422\" xlink:href=\"#DejaVuSans-65\"/>\r\n      <use x=\"126.505859\" xlink:href=\"#DejaVuSans-6c\"/>\r\n      <use x=\"154.289062\" xlink:href=\"#DejaVuSans-61\"/>\r\n      <use x=\"215.568359\" xlink:href=\"#DejaVuSans-74\"/>\r\n      <use x=\"254.777344\" xlink:href=\"#DejaVuSans-69\"/>\r\n      <use x=\"282.560547\" xlink:href=\"#DejaVuSans-76\"/>\r\n      <use x=\"341.740234\" xlink:href=\"#DejaVuSans-65\"/>\r\n      <use x=\"403.263672\" xlink:href=\"#DejaVuSans-20\"/>\r\n      <use x=\"435.050781\" xlink:href=\"#DejaVuSans-65\"/>\r\n      <use x=\"496.574219\" xlink:href=\"#DejaVuSans-72\"/>\r\n      <use x=\"535.9375\" xlink:href=\"#DejaVuSans-72\"/>\r\n      <use x=\"574.800781\" xlink:href=\"#DejaVuSans-6f\"/>\r\n      <use x=\"635.982422\" xlink:href=\"#DejaVuSans-72\"/>\r\n     </g>\r\n    </g>\r\n   </g>\r\n   <g id=\"line2d_21\">\r\n    <path clip-path=\"url(#pd04f8e56da)\" d=\"M 66.596307 17.70871 \r\nL 72.339017 17.083636 \r\nL 78.081727 26.130715 \r\nL 83.824437 27.017269 \r\nL 89.567147 33.112997 \r\nL 95.309857 35.558538 \r\nL 101.052568 40.372067 \r\nL 106.795278 43.476774 \r\nL 112.537988 47.704336 \r\nL 118.280698 51.106724 \r\nL 124.023408 55.055171 \r\nL 129.766118 58.598324 \r\nL 135.508828 62.410665 \r\nL 141.251538 66.022178 \r\nL 146.994248 69.767325 \r\nL 152.736959 73.412512 \r\nL 158.479669 77.124276 \r\nL 164.222379 80.786174 \r\nL 169.965089 84.4813 \r\nL 175.707799 88.151521 \r\nL 181.450509 91.838342 \r\nL 187.193219 95.512718 \r\nL 192.935929 99.195389 \r\nL 198.67864 102.87184 \r\nL 204.42135 106.552437 \r\nL 210.16406 110.229925 \r\nL 215.90677 113.909485 \r\nL 221.64948 117.587491 \r\nL 227.39219 121.266534 \r\nL 233.1349 124.944799 \r\nL 238.87761 128.623582 \r\nL 244.620321 132.301977 \r\nL 250.363031 135.98063 \r\nL 256.105741 139.65909 \r\nL 261.848451 143.337679 \r\nL 267.591161 147.016171 \r\nL 273.333871 150.694727 \r\nL 279.076581 154.373235 \r\nL 284.819291 158.051776 \r\nL 290.562002 161.730292 \r\nL 296.304712 165.408824 \r\nL 302.047422 169.087344 \r\nL 307.790132 172.765872 \r\nL 313.532842 176.444394 \r\nL 319.275552 180.122921 \r\nL 325.018262 183.801444 \r\nL 330.760972 187.479969 \r\nL 336.503682 191.158493 \r\nL 342.246393 194.837017 \r\nL 347.989103 198.515541 \r\nL 353.731813 202.194066 \r\nL 359.474523 205.87259 \r\nL 365.217233 209.551114 \r\nL 370.959943 213.229638 \r\n\" style=\"fill:none;stroke:#1f77b4;stroke-linecap:square;stroke-width:1.5;\"/>\r\n   </g>\r\n   <g id=\"line2d_22\">\r\n    <path clip-path=\"url(#pd04f8e56da)\" d=\"M 66.596307 19.944085 \r\nL 72.339017 29.123514 \r\nL 78.081727 37.044282 \r\nL 83.824437 44.920215 \r\nL 89.567147 52.578659 \r\nL 95.309857 60.094671 \r\nL 101.052568 67.533005 \r\nL 106.795278 74.931115 \r\nL 112.537988 82.308795 \r\nL 118.280698 89.676184 \r\nL 124.023408 97.038409 \r\nL 129.766118 104.398047 \r\nL 135.508828 111.756391 \r\nL 141.251538 119.114087 \r\nL 146.994248 126.471459 \r\nL 152.736959 133.82867 \r\nL 158.479669 141.185799 \r\nL 164.222379 148.542888 \r\nL 169.965089 155.899957 \r\nL 175.707799 163.257015 \r\nL 181.450509 170.614068 \r\nL 187.193219 177.971119 \r\nL 192.935929 185.328169 \r\nL 198.67864 192.685218 \r\nL 204.42135 200.042267 \r\nL 210.16406 207.399315 \r\nL 215.90677 214.756364 \r\n\" style=\"fill:none;stroke:#ff7f0e;stroke-linecap:square;stroke-width:1.5;\"/>\r\n   </g>\r\n   <g id=\"patch_3\">\r\n    <path d=\"M 51.378125 224.64 \r\nL 51.378125 7.2 \r\n\" style=\"fill:none;stroke:#000000;stroke-linecap:square;stroke-linejoin:miter;stroke-width:0.8;\"/>\r\n   </g>\r\n   <g id=\"patch_4\">\r\n    <path d=\"M 386.178125 224.64 \r\nL 386.178125 7.2 \r\n\" style=\"fill:none;stroke:#000000;stroke-linecap:square;stroke-linejoin:miter;stroke-width:0.8;\"/>\r\n   </g>\r\n   <g id=\"patch_5\">\r\n    <path d=\"M 51.378125 224.64 \r\nL 386.178125 224.64 \r\n\" style=\"fill:none;stroke:#000000;stroke-linecap:square;stroke-linejoin:miter;stroke-width:0.8;\"/>\r\n   </g>\r\n   <g id=\"patch_6\">\r\n    <path d=\"M 51.378125 7.2 \r\nL 386.178125 7.2 \r\n\" style=\"fill:none;stroke:#000000;stroke-linecap:square;stroke-linejoin:miter;stroke-width:0.8;\"/>\r\n   </g>\r\n   <g id=\"legend_1\">\r\n    <g id=\"patch_7\">\r\n     <path d=\"M 280.985938 44.834375 \r\nL 379.178125 44.834375 \r\nQ 381.178125 44.834375 381.178125 42.834375 \r\nL 381.178125 14.2 \r\nQ 381.178125 12.2 379.178125 12.2 \r\nL 280.985938 12.2 \r\nQ 278.985938 12.2 278.985938 14.2 \r\nL 278.985938 42.834375 \r\nQ 278.985938 44.834375 280.985938 44.834375 \r\nz\r\n\" style=\"fill:#ffffff;opacity:0.8;stroke:#cccccc;stroke-linejoin:miter;\"/>\r\n    </g>\r\n    <g id=\"line2d_23\">\r\n     <path d=\"M 282.985938 20.298437 \r\nL 302.985938 20.298437 \r\n\" style=\"fill:none;stroke:#1f77b4;stroke-linecap:square;stroke-width:1.5;\"/>\r\n    </g>\r\n    <g id=\"line2d_24\"/>\r\n    <g id=\"text_13\">\r\n     <!-- Jacobi -->\r\n     <g transform=\"translate(310.985938 23.798437)scale(0.1 -0.1)\">\r\n      <defs>\r\n       <path d=\"M 628 4666 \r\nL 1259 4666 \r\nL 1259 325 \r\nQ 1259 -519 939 -900 \r\nQ 619 -1281 -91 -1281 \r\nL -331 -1281 \r\nL -331 -750 \r\nL -134 -750 \r\nQ 284 -750 456 -515 \r\nQ 628 -281 628 325 \r\nL 628 4666 \r\nz\r\n\" id=\"DejaVuSans-4a\" transform=\"scale(0.015625)\"/>\r\n       <path d=\"M 3122 3366 \r\nL 3122 2828 \r\nQ 2878 2963 2633 3030 \r\nQ 2388 3097 2138 3097 \r\nQ 1578 3097 1268 2742 \r\nQ 959 2388 959 1747 \r\nQ 959 1106 1268 751 \r\nQ 1578 397 2138 397 \r\nQ 2388 397 2633 464 \r\nQ 2878 531 3122 666 \r\nL 3122 134 \r\nQ 2881 22 2623 -34 \r\nQ 2366 -91 2075 -91 \r\nQ 1284 -91 818 406 \r\nQ 353 903 353 1747 \r\nQ 353 2603 823 3093 \r\nQ 1294 3584 2113 3584 \r\nQ 2378 3584 2631 3529 \r\nQ 2884 3475 3122 3366 \r\nz\r\n\" id=\"DejaVuSans-63\" transform=\"scale(0.015625)\"/>\r\n       <path d=\"M 3116 1747 \r\nQ 3116 2381 2855 2742 \r\nQ 2594 3103 2138 3103 \r\nQ 1681 3103 1420 2742 \r\nQ 1159 2381 1159 1747 \r\nQ 1159 1113 1420 752 \r\nQ 1681 391 2138 391 \r\nQ 2594 391 2855 752 \r\nQ 3116 1113 3116 1747 \r\nz\r\nM 1159 2969 \r\nQ 1341 3281 1617 3432 \r\nQ 1894 3584 2278 3584 \r\nQ 2916 3584 3314 3078 \r\nQ 3713 2572 3713 1747 \r\nQ 3713 922 3314 415 \r\nQ 2916 -91 2278 -91 \r\nQ 1894 -91 1617 61 \r\nQ 1341 213 1159 525 \r\nL 1159 0 \r\nL 581 0 \r\nL 581 4863 \r\nL 1159 4863 \r\nL 1159 2969 \r\nz\r\n\" id=\"DejaVuSans-62\" transform=\"scale(0.015625)\"/>\r\n      </defs>\r\n      <use xlink:href=\"#DejaVuSans-4a\"/>\r\n      <use x=\"29.492188\" xlink:href=\"#DejaVuSans-61\"/>\r\n      <use x=\"90.771484\" xlink:href=\"#DejaVuSans-63\"/>\r\n      <use x=\"145.751953\" xlink:href=\"#DejaVuSans-6f\"/>\r\n      <use x=\"206.933594\" xlink:href=\"#DejaVuSans-62\"/>\r\n      <use x=\"270.410156\" xlink:href=\"#DejaVuSans-69\"/>\r\n     </g>\r\n    </g>\r\n    <g id=\"line2d_25\">\r\n     <path d=\"M 282.985938 34.976562 \r\nL 302.985938 34.976562 \r\n\" style=\"fill:none;stroke:#ff7f0e;stroke-linecap:square;stroke-width:1.5;\"/>\r\n    </g>\r\n    <g id=\"line2d_26\"/>\r\n    <g id=\"text_14\">\r\n     <!-- Gauss_Seidel -->\r\n     <g transform=\"translate(310.985938 38.476562)scale(0.1 -0.1)\">\r\n      <defs>\r\n       <path d=\"M 3809 666 \r\nL 3809 1919 \r\nL 2778 1919 \r\nL 2778 2438 \r\nL 4434 2438 \r\nL 4434 434 \r\nQ 4069 175 3628 42 \r\nQ 3188 -91 2688 -91 \r\nQ 1594 -91 976 548 \r\nQ 359 1188 359 2328 \r\nQ 359 3472 976 4111 \r\nQ 1594 4750 2688 4750 \r\nQ 3144 4750 3555 4637 \r\nQ 3966 4525 4313 4306 \r\nL 4313 3634 \r\nQ 3963 3931 3569 4081 \r\nQ 3175 4231 2741 4231 \r\nQ 1884 4231 1454 3753 \r\nQ 1025 3275 1025 2328 \r\nQ 1025 1384 1454 906 \r\nQ 1884 428 2741 428 \r\nQ 3075 428 3337 486 \r\nQ 3600 544 3809 666 \r\nz\r\n\" id=\"DejaVuSans-47\" transform=\"scale(0.015625)\"/>\r\n       <path d=\"M 544 1381 \r\nL 544 3500 \r\nL 1119 3500 \r\nL 1119 1403 \r\nQ 1119 906 1312 657 \r\nQ 1506 409 1894 409 \r\nQ 2359 409 2629 706 \r\nQ 2900 1003 2900 1516 \r\nL 2900 3500 \r\nL 3475 3500 \r\nL 3475 0 \r\nL 2900 0 \r\nL 2900 538 \r\nQ 2691 219 2414 64 \r\nQ 2138 -91 1772 -91 \r\nQ 1169 -91 856 284 \r\nQ 544 659 544 1381 \r\nz\r\nM 1991 3584 \r\nL 1991 3584 \r\nz\r\n\" id=\"DejaVuSans-75\" transform=\"scale(0.015625)\"/>\r\n       <path d=\"M 3263 -1063 \r\nL 3263 -1509 \r\nL -63 -1509 \r\nL -63 -1063 \r\nL 3263 -1063 \r\nz\r\n\" id=\"DejaVuSans-5f\" transform=\"scale(0.015625)\"/>\r\n       <path d=\"M 3425 4513 \r\nL 3425 3897 \r\nQ 3066 4069 2747 4153 \r\nQ 2428 4238 2131 4238 \r\nQ 1616 4238 1336 4038 \r\nQ 1056 3838 1056 3469 \r\nQ 1056 3159 1242 3001 \r\nQ 1428 2844 1947 2747 \r\nL 2328 2669 \r\nQ 3034 2534 3370 2195 \r\nQ 3706 1856 3706 1288 \r\nQ 3706 609 3251 259 \r\nQ 2797 -91 1919 -91 \r\nQ 1588 -91 1214 -16 \r\nQ 841 59 441 206 \r\nL 441 856 \r\nQ 825 641 1194 531 \r\nQ 1563 422 1919 422 \r\nQ 2459 422 2753 634 \r\nQ 3047 847 3047 1241 \r\nQ 3047 1584 2836 1778 \r\nQ 2625 1972 2144 2069 \r\nL 1759 2144 \r\nQ 1053 2284 737 2584 \r\nQ 422 2884 422 3419 \r\nQ 422 4038 858 4394 \r\nQ 1294 4750 2059 4750 \r\nQ 2388 4750 2728 4690 \r\nQ 3069 4631 3425 4513 \r\nz\r\n\" id=\"DejaVuSans-53\" transform=\"scale(0.015625)\"/>\r\n       <path d=\"M 2906 2969 \r\nL 2906 4863 \r\nL 3481 4863 \r\nL 3481 0 \r\nL 2906 0 \r\nL 2906 525 \r\nQ 2725 213 2448 61 \r\nQ 2172 -91 1784 -91 \r\nQ 1150 -91 751 415 \r\nQ 353 922 353 1747 \r\nQ 353 2572 751 3078 \r\nQ 1150 3584 1784 3584 \r\nQ 2172 3584 2448 3432 \r\nQ 2725 3281 2906 2969 \r\nz\r\nM 947 1747 \r\nQ 947 1113 1208 752 \r\nQ 1469 391 1925 391 \r\nQ 2381 391 2643 752 \r\nQ 2906 1113 2906 1747 \r\nQ 2906 2381 2643 2742 \r\nQ 2381 3103 1925 3103 \r\nQ 1469 3103 1208 2742 \r\nQ 947 2381 947 1747 \r\nz\r\n\" id=\"DejaVuSans-64\" transform=\"scale(0.015625)\"/>\r\n      </defs>\r\n      <use xlink:href=\"#DejaVuSans-47\"/>\r\n      <use x=\"77.490234\" xlink:href=\"#DejaVuSans-61\"/>\r\n      <use x=\"138.769531\" xlink:href=\"#DejaVuSans-75\"/>\r\n      <use x=\"202.148438\" xlink:href=\"#DejaVuSans-73\"/>\r\n      <use x=\"254.248047\" xlink:href=\"#DejaVuSans-73\"/>\r\n      <use x=\"306.347656\" xlink:href=\"#DejaVuSans-5f\"/>\r\n      <use x=\"356.347656\" xlink:href=\"#DejaVuSans-53\"/>\r\n      <use x=\"419.824219\" xlink:href=\"#DejaVuSans-65\"/>\r\n      <use x=\"481.347656\" xlink:href=\"#DejaVuSans-69\"/>\r\n      <use x=\"509.130859\" xlink:href=\"#DejaVuSans-64\"/>\r\n      <use x=\"572.607422\" xlink:href=\"#DejaVuSans-65\"/>\r\n      <use x=\"634.130859\" xlink:href=\"#DejaVuSans-6c\"/>\r\n     </g>\r\n    </g>\r\n   </g>\r\n  </g>\r\n </g>\r\n <defs>\r\n  <clipPath id=\"pd04f8e56da\">\r\n   <rect height=\"217.44\" width=\"334.8\" x=\"51.378125\" y=\"7.2\"/>\r\n  </clipPath>\r\n </defs>\r\n</svg>\r\n",
      "text/plain": [
       "<Figure size 432x288 with 1 Axes>"
      ]
     },
     "metadata": {
      "needs_background": "light"
     },
     "output_type": "display_data"
    }
   ],
   "source": [
    "%config InlineBackend.figure_format='svg'\n",
    "\n",
    "fig = plt.figure()\n",
    "ax = plt.gca()\n",
    "\n",
    "errs_j, ex_errs_j, x_j, i_j = Jacobi(L, D, U, x_init, b, err, tol)\n",
    "plt.plot(errs_j)\n",
    "\n",
    "errs_g, ex_errs_g, x_g, i_g = Gauss_Seidel(L, D, U, x_init, b, err, tol)\n",
    "plt.plot(errs_g)\n",
    "\n",
    "ax.set_yscale('log')\n",
    "\n",
    "\n",
    "ax.legend(('Jacobi', 'Gauss_Seidel'))\n",
    "ax.set_xlabel('Iterations')\n",
    "ax.set_ylabel('Relative error')\n",
    "ax.set_yticks([1e-7, 1e-5, 1e-3, 1e-1])\n",
    "ax.tick_params(axis='y', which='minor')\n",
    "ax.grid(which='both')"
   ]
  },
  {
   "cell_type": "markdown",
   "id": "f984c268",
   "metadata": {},
   "source": [
    "As we see, it took $26$ iterations for Gauss-Seidel method to reach the target tolerance of $10^{-8}$, while Jacobi method required $54$ iterations.\n",
    "\n",
    "This can be explained by the following: in Gauss-Seidel, as soon as we acquire a new iteration of a vector $x$ component $x_i^{(k+1)}$, we instantly utilize this updated value in the computation of the following components: $x_i^{(k+1)} = f(x_1^{(k+1)}, ..., x_{i-1}^{(k+1)}, x_{i+1}^{(k)}, ..., x_n^{(k)})$. In Jacobi, we calculate the new vector $x^{k+1}$ relying solely on the result of the previous iteration: $x_i^{k+1} = f(x_j^{(k)}),\\hspace{3mm}j \\neq i$."
   ]
  },
  {
   "cell_type": "markdown",
   "id": "c3b99b0e",
   "metadata": {},
   "source": [
    "## Problem 2"
   ]
  },
  {
   "cell_type": "markdown",
   "id": "0f5b4d56",
   "metadata": {},
   "source": [
    "Factor these two matrices $A$ into $S\\Lambda S^{-1}$:\n",
    "\n",
    "$$\n",
    "A1 = \n",
    "\\begin{bmatrix}\n",
    "1 & 2\\\\\n",
    "0 & 3\n",
    "\\end{bmatrix}\n",
    ",\\hspace{3mm}\n",
    "A2 =\n",
    "\\begin{bmatrix}\n",
    "1 & 2\\\\\n",
    "0 & 3\n",
    "\\end{bmatrix}\n",
    "$$\n",
    "\n",
    "Using that factorization, find for both: (a) $A^3$; (b) $A^{-1}$."
   ]
  },
  {
   "cell_type": "markdown",
   "id": "177527ae",
   "metadata": {},
   "source": [
    "### Solution\n",
    "\n",
    "Firstly, we find the eigenvalues and eigenvectors:\n",
    "\n",
    "$$\n",
    "\\begin{bmatrix}\n",
    "1-\\lambda & 2\\\\\n",
    "0 & 3-\\lambda\n",
    "\\end{bmatrix}\n",
    " = 0\n",
    "$$\n",
    "\n",
    "By performing simple calculations by hand, we obtain:\n",
    "\n",
    "$$\n",
    "h_1 = \n",
    "\\begin{bmatrix}\n",
    "1\\\\\n",
    "0\n",
    "\\end{bmatrix}\n",
    ",\\hspace{3mm}\n",
    "\\lambda_1 = 1\n",
    "\\\\\n",
    "h_2 =\n",
    "\\frac{\\sqrt{2}}{2}\n",
    "\\begin{bmatrix}\n",
    "1\\\\\n",
    "1\n",
    "\\end{bmatrix}\n",
    ",\\hspace{3mm}\n",
    "\\lambda_2 = 3\n",
    "$$\n",
    "\n",
    "```{Note}\n",
    "We normalized the eigenvectors\n",
    "```\n",
    "\n",
    "Now let's perform a check with *numpy*:"
   ]
  },
  {
   "cell_type": "code",
   "execution_count": 5,
   "id": "eca81ba5",
   "metadata": {},
   "outputs": [
    {
     "name": "stdout",
     "output_type": "stream",
     "text": [
      "E_values A1:\n",
      "[1. 3.]\n",
      "E_vectors A1:\n",
      "[[1.         0.70710678]\n",
      " [0.         0.70710678]]\n"
     ]
    }
   ],
   "source": [
    "A1 = np.matrix([\n",
    "    [1, 2],\n",
    "    [0, 3]\n",
    "])\n",
    "\n",
    "val1, vec1 = np.linalg.eig(A1)\n",
    "print(\"E_values A1:\")\n",
    "print(val1)\n",
    "print(\"E_vectors A1:\")\n",
    "print(vec1)"
   ]
  },
  {
   "cell_type": "markdown",
   "id": "c088127d",
   "metadata": {},
   "source": [
    "As we have our vectors and values, we can construct $\\Lambda$ and $S$, $S^{-1}$ matrices:"
   ]
  },
  {
   "cell_type": "code",
   "execution_count": 6,
   "id": "a58a628a",
   "metadata": {},
   "outputs": [
    {
     "name": "stdout",
     "output_type": "stream",
     "text": [
      "S:\n",
      "[[1.         0.70710678]\n",
      " [0.         0.70710678]]\n",
      "Lambda:\n",
      "[[1. 0.]\n",
      " [0. 3.]]\n",
      "S_inverse:\n",
      "[[ 1.         -1.        ]\n",
      " [ 0.          1.41421356]]\n"
     ]
    }
   ],
   "source": [
    "Lambda = np.matrix(np.diag(val1))\n",
    "S = vec1\n",
    "Si = np.linalg.inv(S)\n",
    "\n",
    "print(\"S:\")\n",
    "print(S)\n",
    "print(\"Lambda:\")\n",
    "print(Lambda)\n",
    "print(\"S_inverse:\")\n",
    "print(Si)"
   ]
  },
  {
   "cell_type": "markdown",
   "id": "957a3f12",
   "metadata": {},
   "source": [
    "$$\n",
    "\n",
    "S = \n",
    "\\begin{bmatrix}\n",
    "1 & \\sqrt{2}/2\\\\\n",
    "0 & \\sqrt{2}/{2}\n",
    "\\end{bmatrix}\n",
    ";\\hspace{3mm}\n",
    "\\Lambda = \n",
    "\\begin{bmatrix}\n",
    "1 & 0\\\\\n",
    "0 & 3\n",
    "\\end{bmatrix}\n",
    ";\\hspace{3mm}\n",
    "S^{-1} = \n",
    "\\begin{bmatrix}\n",
    "1 & -1\\\\\n",
    "0 & 2/\\sqrt{2}\n",
    "\\end{bmatrix}\n",
    "$$"
   ]
  },
  {
   "cell_type": "markdown",
   "id": "39497e9d",
   "metadata": {},
   "source": [
    "From now, we can fing the $A^3$ powered matrix by simply multiplying the decomposition:\n",
    "\n",
    "$$\n",
    "A^3 = S\\Lambda S^{-1} S \\Lambda S^{-1} S \\Lambda S^{-1} =\n",
    "\\\\\n",
    "\\hspace{1mm}\n",
    "\\\\\n",
    "= S \\Lambda^3 S^{-1}.\n",
    "$$\n",
    "\n",
    "And for $\\Lambda$ it is easy to power because it is a diagonal matrix.\n",
    "\n",
    "$$\n",
    "\\Lambda ^3 =\n",
    "\\begin{bmatrix}\n",
    "1 & 0\\\\\n",
    "0 & 9\n",
    "\\end{bmatrix}\n",
    ",\n",
    "\\\\\n",
    "\\hspace{1mm}\n",
    "\\\\\n",
    "S\\Lambda ^3 S^{-1} = \n",
    "\\begin{bmatrix}\n",
    "1 & 8\\\\\n",
    "0 & 9\n",
    "\\end{bmatrix}\n",
    "$$\n",
    "\n",
    "For inverse matrix:\n",
    "\n",
    "$$\n",
    "S\\Lambda S^{-1} A_1^{-1} = E, \\Rightarrow A_1^{-1} = S^{-1} \\Lambda ^{-1} S\n",
    "$$\n",
    "\n",
    "We already have $S$ and $S^{-1}$, and for diagonal $\\Lambda$ the inverse matrix contains the inverse diagonal elements of $\\Lambda$:\n",
    "\n",
    "$$\n",
    "\\Lambda ^{-1}= \n",
    "\\begin{bmatrix}\n",
    "1 & 0\\\\\n",
    "0 & 1/3\n",
    "\\end{bmatrix}\n",
    "$$\n",
    "\n",
    "So we easily find $A_1^{-1}$:\n",
    "\n",
    "$$\n",
    "A_1^{-1} = \n",
    "\\begin{bmatrix}\n",
    "1 & \\sqrt{2}{3}\\\\\n",
    "0 & 1/3\n",
    "\\end{bmatrix}\n",
    "$$"
   ]
  },
  {
   "cell_type": "markdown",
   "id": "85c343ab",
   "metadata": {},
   "source": [
    "Now let's look at the second matrix $A_2$. Instantly we notice it is a rank-1 matrix, meaning, $A_2^{-1}$ matrix doesn't exist.\n",
    "\n",
    "$$\n",
    "h_1 = \n",
    "\\begin{bmatrix}\n",
    "1\\\\\n",
    "-1\n",
    "\\end{bmatrix}\n",
    ",\\hspace{3mm}\n",
    "\\lambda_1 = 0\n",
    "\\\\\n",
    "\\hspace{1mm}\n",
    "\\\\\n",
    "h_2 =\n",
    "\\begin{bmatrix}\n",
    "1\\\\\n",
    "3\n",
    "\\end{bmatrix}\n",
    ",\\hspace{3mm}\n",
    "\\lambda_2 = 4\n",
    "$$\n",
    "\n",
    "It's eigenvectors are non-collinear and form a basis in 2-dimensional space. Thus we can perform the factorization.\n",
    "\n",
    "$$\n",
    "S = \n",
    "\\begin{bmatrix}\n",
    "1 & 1\\\\\n",
    "-1 & 3\n",
    "\\end{bmatrix}\n",
    ";\\hspace{3mm}\n",
    "\\Lambda = \n",
    "\\begin{bmatrix}\n",
    "0 & 0\\\\\n",
    "0 & 4\n",
    "\\end{bmatrix}\n",
    ";\\hspace{3mm}\n",
    "S^{-1} =  \n",
    "\\begin{bmatrix}\n",
    "3/4 & -1/4\\\\\n",
    "1/4 & 1/4\n",
    "\\end{bmatrix}\n",
    "$$"
   ]
  },
  {
   "cell_type": "markdown",
   "id": "a760fce9",
   "metadata": {},
   "source": [
    "For $A_2^3$:\n",
    "\n",
    "$$\n",
    "A_2^3 = \n",
    "\\begin{bmatrix}\n",
    "16 & 16\\\\\n",
    "48 & 48\n",
    "\\end{bmatrix}\n",
    ".\n",
    "$$\n"
   ]
  },
  {
   "cell_type": "markdown",
   "id": "a08b2b59",
   "metadata": {},
   "source": [
    "## Problem 3\n",
    "\n",
    "Given a system $Ax = b$ with\n",
    "\n",
    "$$\n",
    "A = \n",
    "\\begin{bmatrix}\n",
    "  1 & -1 & -3\\\\\n",
    "  2 & 3 & 4\\\\\n",
    "  -2 & 1 & 4\\\\\n",
    "\\end{bmatrix}\n",
    ",\\hspace{3mm}\n",
    "b = \n",
    "\\begin{bmatrix}\n",
    "  3\\\\\n",
    "  a\\\\\n",
    "  -1\\\\\n",
    "\\end{bmatrix}\n",
    ",\n",
    "$$\n",
    "\n",
    "for which $a$ there is a solution? Find the general solution of the system for that $a$.\n",
    "\n",
    "\n",
    "\n",
    "\n"
   ]
  },
  {
   "cell_type": "markdown",
   "id": "7ea6ccba",
   "metadata": {},
   "source": [
    "### Solution\n",
    "\n",
    "Let's check the matrix' rank:"
   ]
  },
  {
   "cell_type": "code",
   "execution_count": null,
   "id": "023357f7",
   "metadata": {},
   "outputs": [
    {
     "name": "stdout",
     "output_type": "stream",
     "text": [
      "Rank: 2\n"
     ]
    },
    {
     "data": {
      "text/latex": [
       "$\\displaystyle \\left[\\begin{matrix}1 & 0 & -1\\\\0 & 1 & 2\\\\0 & 0 & 0\\end{matrix}\\right]$"
      ],
      "text/plain": [
       "Matrix([\n",
       "[1, 0, -1],\n",
       "[0, 1,  2],\n",
       "[0, 0,  0]])"
      ]
     },
     "execution_count": 7,
     "metadata": {},
     "output_type": "execute_result"
    }
   ],
   "source": [
    "a = abc.symbols('a')\n",
    "\n",
    "A = sp.Matrix([\n",
    "    [1, -1, -3],\n",
    "    [2, 3, 4],\n",
    "    [-2, 1, 4]\n",
    "])\n",
    "\n",
    "b = sp.Matrix([\n",
    "    3, a, -1]\n",
    ")\n",
    "\n",
    "print('Rank: {}'.format(A.rank()))\n",
    "A.rref()[0]"
   ]
  },
  {
   "cell_type": "markdown",
   "id": "7447d016",
   "metadata": {},
   "source": [
    "This matrix is a rank-2 matrix. Let's find it's left nullspace, write down the solvability condition and find the appropriate $a$.\n",
    "Starting with the left null-space:"
   ]
  },
  {
   "cell_type": "code",
   "execution_count": null,
   "id": "506b6c4b",
   "metadata": {},
   "outputs": [
    {
     "data": {
      "text/latex": [
       "$\\displaystyle \\left[\\begin{matrix}\\frac{8}{5}\\\\\\frac{1}{5}\\\\1\\end{matrix}\\right]$"
      ],
      "text/plain": [
       "Matrix([\n",
       "[8/5],\n",
       "[1/5],\n",
       "[  1]])"
      ]
     },
     "execution_count": 8,
     "metadata": {},
     "output_type": "execute_result"
    }
   ],
   "source": [
    "y = A.T.nullspace()[0]\n",
    "y"
   ]
  },
  {
   "cell_type": "markdown",
   "id": "2aa3d9a5",
   "metadata": {},
   "source": [
    "We want to fulfill the following condition:\n",
    "\n",
    "$$\n",
    "y^Tb = 0\n",
    "$$"
   ]
  },
  {
   "cell_type": "code",
   "execution_count": null,
   "id": "2ade6dbb",
   "metadata": {},
   "outputs": [
    {
     "data": {
      "text/plain": [
       "{a: -19}"
      ]
     },
     "execution_count": 9,
     "metadata": {},
     "output_type": "execute_result"
    }
   ],
   "source": [
    "ans = sp.solve(y.T*b, a)\n",
    "ans"
   ]
  },
  {
   "cell_type": "markdown",
   "id": "343ca383",
   "metadata": {},
   "source": [
    "As we see, the system is solvable with $a = -19$. Let us perform some check:"
   ]
  },
  {
   "cell_type": "code",
   "execution_count": null,
   "id": "cd80dcb2",
   "metadata": {},
   "outputs": [
    {
     "data": {
      "text/latex": [
       "$\\displaystyle \\left[\\begin{matrix}0\\end{matrix}\\right]$"
      ],
      "text/plain": [
       "Matrix([[0]])"
      ]
     },
     "execution_count": 10,
     "metadata": {},
     "output_type": "execute_result"
    }
   ],
   "source": [
    "bs = b.subs(a, -19)\n",
    "y.T*bs"
   ]
  },
  {
   "cell_type": "markdown",
   "id": "47815603",
   "metadata": {},
   "source": [
    "Now as we have our vector $b$ with wich the system is solvable, we may find the general solution for the system:"
   ]
  },
  {
   "cell_type": "code",
   "execution_count": null,
   "id": "be948923",
   "metadata": {},
   "outputs": [
    {
     "data": {
      "text/latex": [
       "$\\displaystyle \\left\\{\\left( c - 2, \\  - 2 c - 5, \\  c\\right)\\right\\}$"
      ],
      "text/plain": [
       "{(c - 2, -2*c - 5, c)}"
      ]
     },
     "execution_count": 11,
     "metadata": {},
     "output_type": "execute_result"
    }
   ],
   "source": [
    "a, b, c = abc.symbols('a b c')\n",
    "system = A, bs\n",
    "sol = sp.linsolve((A, bs), a, b, c); sol"
   ]
  },
  {
   "cell_type": "markdown",
   "id": "aaca6116",
   "metadata": {},
   "source": [
    "With $c \\in \\mathbb{R}$ we get our solution:\n",
    "\n",
    "$$\n",
    "x =\n",
    "\\begin{bmatrix}\n",
    "-2\\\\\n",
    "-5\\\\\n",
    "0\n",
    "\\end{bmatrix}\n",
    "+\n",
    "\\begin{bmatrix}\n",
    "1\\\\\n",
    "-2\\\\\n",
    "1\n",
    "\\end{bmatrix}\n",
    "\\cdot\n",
    "c.\n",
    "$$"
   ]
  },
  {
   "cell_type": "markdown",
   "id": "24f72421",
   "metadata": {},
   "source": [
    "## Problem 4\n",
    "Consider the system of linear differential equations:\n",
    "\n",
    "$$\n",
    "\\frac{du}{dt} = Au, \\hspace{3mm} A = \n",
    "\\begin{bmatrix}\n",
    "  1 & -1 & 0\\\\\n",
    "  -1 & 2 & -1\\\\\n",
    "  0 & -1 & 1\\\\\n",
    "\\end{bmatrix}\n",
    ".\n",
    "$$\n",
    "\n",
    "(a) Using the spectral factorization of A, determine the general solution of the system.  \n",
    "(b) Find the behavior of the solution at large $t$ if the initial condition is $u(0) = \\begin{bmatrix} 1 & -1 & 1 \\end{bmatrix} ^T$"
   ]
  },
  {
   "cell_type": "markdown",
   "id": "ad1e8f13",
   "metadata": {},
   "source": [
    "### Solution"
   ]
  },
  {
   "cell_type": "markdown",
   "id": "d0dceb6b",
   "metadata": {},
   "source": [
    "Check the rank of the matrix:"
   ]
  },
  {
   "cell_type": "code",
   "execution_count": null,
   "id": "0c693363",
   "metadata": {},
   "outputs": [
    {
     "data": {
      "text/plain": [
       "2"
      ]
     },
     "execution_count": 31,
     "metadata": {},
     "output_type": "execute_result"
    }
   ],
   "source": [
    "A = sp.Matrix([\n",
    "    [1, -1, 0],\n",
    "    [-1, 2, -1],\n",
    "    [0, -1, 1]\n",
    "])\n",
    "\n",
    "A.rank()"
   ]
  },
  {
   "cell_type": "markdown",
   "id": "aeff4393",
   "metadata": {},
   "source": [
    "Spectral decomposition:"
   ]
  },
  {
   "cell_type": "code",
   "execution_count": null,
   "id": "9badde72",
   "metadata": {},
   "outputs": [],
   "source": [
    "S, L = A.diagonalize()"
   ]
  },
  {
   "cell_type": "code",
   "execution_count": null,
   "id": "f5bf739b",
   "metadata": {},
   "outputs": [
    {
     "name": "stdout",
     "output_type": "stream",
     "text": [
      "S:\n"
     ]
    },
    {
     "data": {
      "text/latex": [
       "$\\displaystyle \\left[\\begin{matrix}1 & -1 & 1\\\\1 & 0 & -2\\\\1 & 1 & 1\\end{matrix}\\right]$"
      ],
      "text/plain": [
       "Matrix([\n",
       "[1, -1,  1],\n",
       "[1,  0, -2],\n",
       "[1,  1,  1]])"
      ]
     },
     "execution_count": 36,
     "metadata": {},
     "output_type": "execute_result"
    }
   ],
   "source": [
    "print(\"S:\")\n",
    "S"
   ]
  },
  {
   "cell_type": "code",
   "execution_count": null,
   "id": "1af999d3",
   "metadata": {},
   "outputs": [
    {
     "name": "stdout",
     "output_type": "stream",
     "text": [
      "Lambda:\n"
     ]
    },
    {
     "data": {
      "text/latex": [
       "$\\displaystyle \\left[\\begin{matrix}0 & 0 & 0\\\\0 & 1 & 0\\\\0 & 0 & 3\\end{matrix}\\right]$"
      ],
      "text/plain": [
       "Matrix([\n",
       "[0, 0, 0],\n",
       "[0, 1, 0],\n",
       "[0, 0, 3]])"
      ]
     },
     "execution_count": 37,
     "metadata": {},
     "output_type": "execute_result"
    }
   ],
   "source": [
    "print(\"Lambda:\")\n",
    "L"
   ]
  },
  {
   "cell_type": "code",
   "execution_count": null,
   "id": "0c2c9a7c",
   "metadata": {},
   "outputs": [
    {
     "name": "stdout",
     "output_type": "stream",
     "text": [
      "S^-1:\n"
     ]
    },
    {
     "data": {
      "text/latex": [
       "$\\displaystyle \\left[\\begin{matrix}\\frac{1}{3} & \\frac{1}{3} & \\frac{1}{3}\\\\- \\frac{1}{2} & 0 & \\frac{1}{2}\\\\\\frac{1}{6} & - \\frac{1}{3} & \\frac{1}{6}\\end{matrix}\\right]$"
      ],
      "text/plain": [
       "Matrix([\n",
       "[ 1/3,  1/3, 1/3],\n",
       "[-1/2,    0, 1/2],\n",
       "[ 1/6, -1/3, 1/6]])"
      ]
     },
     "execution_count": 38,
     "metadata": {},
     "output_type": "execute_result"
    }
   ],
   "source": [
    "print(\"S^-1:\")\n",
    "S**-1"
   ]
  },
  {
   "cell_type": "markdown",
   "id": "9c246c24",
   "metadata": {},
   "source": [
    "The general solution may be written as follows:\n",
    "\n",
    "$$\n",
    "\\frac{du}{dt} = S\\Lambda S^{-1}u\\\\\n",
    "S^{-1}\\frac{du}{dt} = \\Lambda S^{-1}u \\\\\n",
    "\\frac{dv}{dt} = \\Lambda v, \\hspace{3mm} v = S^{-1}u \\Rightarrow \\\\\n",
    "\\Rightarrow\n",
    "v = e^{\\Lambda t}v_0; \\hspace{3mm} u = Se^{\\Lambda t}S^{-1}u_0\n",
    "$$"
   ]
  },
  {
   "cell_type": "code",
   "execution_count": null,
   "id": "53af9278",
   "metadata": {},
   "outputs": [
    {
     "data": {
      "text/latex": [
       "$\\displaystyle \\left[\\begin{matrix}\\frac{x_{0} \\left(e^{3 t} + 3 e^{t} + 2\\right)}{6} + \\frac{y_{0} \\left(1 - e^{3 t}\\right)}{3} + \\frac{z_{0} \\left(e^{3 t} - 3 e^{t} + 2\\right)}{6}\\\\\\frac{x_{0} \\left(1 - e^{3 t}\\right)}{3} + \\frac{y_{0} \\left(2 e^{3 t} + 1\\right)}{3} + \\frac{z_{0} \\left(1 - e^{3 t}\\right)}{3}\\\\\\frac{x_{0} \\left(e^{3 t} - 3 e^{t} + 2\\right)}{6} + \\frac{y_{0} \\left(1 - e^{3 t}\\right)}{3} + \\frac{z_{0} \\left(e^{3 t} + 3 e^{t} + 2\\right)}{6}\\end{matrix}\\right]$"
      ],
      "text/plain": [
       "Matrix([\n",
       "[x0*(exp(3*t) + 3*exp(t) + 2)/6 + y0*(1 - exp(3*t))/3 + z0*(exp(3*t) - 3*exp(t) + 2)/6],\n",
       "[                    x0*(1 - exp(3*t))/3 + y0*(2*exp(3*t) + 1)/3 + z0*(1 - exp(3*t))/3],\n",
       "[x0*(exp(3*t) - 3*exp(t) + 2)/6 + y0*(1 - exp(3*t))/3 + z0*(exp(3*t) + 3*exp(t) + 2)/6]])"
      ]
     },
     "execution_count": 50,
     "metadata": {},
     "output_type": "execute_result"
    }
   ],
   "source": [
    "x, y, z, t = abc.symbols('x, y, z, t')\n",
    "x0, y0, z0 = abc.symbols('x0, y0, z0')\n",
    "u = sp.Matrix([x, y, z])\n",
    "\n",
    "v = S**-1*u\n",
    "\n",
    "elambdat = (L*t).exp()\n",
    "\n",
    "u0 = sp.Matrix([x0, y0, z0])\n",
    "\n",
    "u_ans = S*elambdat*S**-1*u0; u_ans.simplify()\n",
    "u_ans\n",
    "\n"
   ]
  },
  {
   "cell_type": "markdown",
   "id": "bf36a5ca",
   "metadata": {},
   "source": [
    "With $u_0 = \\begin{bmatrix}1 & -1 & 1\\end{bmatrix}$:"
   ]
  },
  {
   "cell_type": "code",
   "execution_count": null,
   "id": "2c453f3c",
   "metadata": {},
   "outputs": [
    {
     "data": {
      "text/latex": [
       "$\\displaystyle \\left[\\begin{matrix}\\frac{2 e^{3 t}}{3} + \\frac{1}{3}\\\\\\frac{1}{3} - \\frac{4 e^{3 t}}{3}\\\\\\frac{2 e^{3 t}}{3} + \\frac{1}{3}\\end{matrix}\\right]$"
      ],
      "text/plain": [
       "Matrix([\n",
       "[2*exp(3*t)/3 + 1/3],\n",
       "[1/3 - 4*exp(3*t)/3],\n",
       "[2*exp(3*t)/3 + 1/3]])"
      ]
     },
     "execution_count": 65,
     "metadata": {},
     "output_type": "execute_result"
    }
   ],
   "source": [
    "u_ans_num = u_ans.subs({x0: 1, y0: -1, z0: 1})\n",
    "u_ans_num"
   ]
  },
  {
   "cell_type": "markdown",
   "id": "b55ef42c",
   "metadata": {},
   "source": [
    "We can decompose the solution into two vectors:"
   ]
  },
  {
   "cell_type": "code",
   "execution_count": null,
   "id": "3a8983bf",
   "metadata": {},
   "outputs": [
    {
     "data": {
      "text/latex": [
       "$\\displaystyle \\left[\\begin{matrix}\\frac{2 e^{3 t}}{3}\\\\- \\frac{4 e^{3 t}}{3}\\\\\\frac{2 e^{3 t}}{3}\\end{matrix}\\right]$"
      ],
      "text/plain": [
       "Matrix([\n",
       "[ 2*exp(3*t)/3],\n",
       "[-4*exp(3*t)/3],\n",
       "[ 2*exp(3*t)/3]])"
      ]
     },
     "execution_count": 67,
     "metadata": {},
     "output_type": "execute_result"
    }
   ],
   "source": [
    "vec_c = sp.Matrix([1/3, 1/3, 1/3])\n",
    "u_e = u_ans_num - vec_c\n",
    "u_e"
   ]
  },
  {
   "cell_type": "markdown",
   "id": "7b5530f5",
   "metadata": {},
   "source": [
    "$$\n",
    "u =\n",
    "\\begin{bmatrix}\n",
    "1/3\\\\\n",
    "1/3\\\\\n",
    "1/3\n",
    "\\end{bmatrix}\n",
    "+\n",
    "\\frac{2}{3}\n",
    "\\begin{bmatrix}\n",
    "1\\\\\n",
    "-2\\\\\n",
    "1\n",
    "\\end{bmatrix}\n",
    "e^{3t}\n",
    "$$"
   ]
  },
  {
   "cell_type": "markdown",
   "id": "c87e7847",
   "metadata": {},
   "source": [
    "With large $t$, the solution will approach the $\\begin{bmatrix}1 & -2 & 1\\end{bmatrix}^T$ direction."
   ]
  },
  {
   "cell_type": "markdown",
   "id": "96343bd6",
   "metadata": {},
   "source": [
    "## Problem 5\n",
    "For matrix $A = \\begin{bmatrix} 2021 & 20 & 0\\\\ 20 & 2021 & 21\\\\ 0 & 21 & 2021\\\\ \\end{bmatrix} $ and vector\n",
    "$b = \\begin{bmatrix}2\\\\1\\\\0\\end{bmatrix}$,\n",
    "what is the most likely direction of vector $x = A^{2021}b$?"
   ]
  },
  {
   "cell_type": "markdown",
   "id": "9dafcc67",
   "metadata": {},
   "source": [
    "### Solution"
   ]
  },
  {
   "cell_type": "markdown",
   "id": "149400d5",
   "metadata": {},
   "source": [
    "Diagonalization:"
   ]
  },
  {
   "cell_type": "code",
   "execution_count": null,
   "id": "39491e62",
   "metadata": {},
   "outputs": [],
   "source": [
    "A = sp.Matrix([\n",
    "    [2021, 20, 0],\n",
    "    [20, 2021, 21],\n",
    "    [0, 21, 2021]\n",
    "])\n",
    "\n",
    "b = sp.Matrix([2, 1, 0])\n",
    "\n",
    "S, L = A.diagonalize()"
   ]
  },
  {
   "cell_type": "markdown",
   "id": "9b0b8be2",
   "metadata": {},
   "source": [
    "$$\n",
    "A^{2021} = S\\Lambda^{2021} S^{-1}\n",
    "$$"
   ]
  },
  {
   "cell_type": "code",
   "execution_count": null,
   "id": "e63dc10e",
   "metadata": {},
   "outputs": [
    {
     "name": "stdout",
     "output_type": "stream",
     "text": [
      "Lambda:\n"
     ]
    },
    {
     "data": {
      "text/latex": [
       "$\\displaystyle \\left[\\begin{matrix}1992 & 0 & 0\\\\0 & 2021 & 0\\\\0 & 0 & 2050\\end{matrix}\\right]$"
      ],
      "text/plain": [
       "Matrix([\n",
       "[1992,    0,    0],\n",
       "[   0, 2021,    0],\n",
       "[   0,    0, 2050]])"
      ]
     },
     "execution_count": 99,
     "metadata": {},
     "output_type": "execute_result"
    }
   ],
   "source": [
    "print(\"Lambda:\")\n",
    "L\n"
   ]
  },
  {
   "cell_type": "code",
   "execution_count": null,
   "id": "fa693d1c",
   "metadata": {},
   "outputs": [
    {
     "name": "stdout",
     "output_type": "stream",
     "text": [
      "S:\n"
     ]
    },
    {
     "data": {
      "text/latex": [
       "$\\displaystyle \\left[\\begin{matrix}20 & -21 & 20\\\\-29 & 0 & 29\\\\21 & 20 & 21\\end{matrix}\\right]$"
      ],
      "text/plain": [
       "Matrix([\n",
       "[ 20, -21, 20],\n",
       "[-29,   0, 29],\n",
       "[ 21,  20, 21]])"
      ]
     },
     "execution_count": 100,
     "metadata": {},
     "output_type": "execute_result"
    }
   ],
   "source": [
    "print(\"S:\")\n",
    "S"
   ]
  },
  {
   "cell_type": "markdown",
   "id": "979a0d0b",
   "metadata": {},
   "source": [
    "```{note}\n",
    "we will extract the common denominator from the $\\Lambda$, as we are only interested in the direction (this step is not necessary but is helpful)\n",
    "```"
   ]
  },
  {
   "cell_type": "code",
   "execution_count": null,
   "id": "98acc2a1",
   "metadata": {},
   "outputs": [
    {
     "data": {
      "text/latex": [
       "$\\displaystyle \\left[\\begin{matrix}\\frac{996}{1025} & 0 & 0\\\\0 & \\frac{2021}{2050} & 0\\\\0 & 0 & 1\\end{matrix}\\right]$"
      ],
      "text/plain": [
       "Matrix([\n",
       "[996/1025,         0, 0],\n",
       "[       0, 2021/2050, 0],\n",
       "[       0,         0, 1]])"
      ]
     },
     "execution_count": 128,
     "metadata": {},
     "output_type": "execute_result"
    }
   ],
   "source": [
    "denom = 2050\n",
    "L_denom = L/denom\n",
    "L_denom"
   ]
  },
  {
   "cell_type": "markdown",
   "id": "5d7d93cd",
   "metadata": {},
   "source": [
    "As we see, upon exponentiation of the matrix, the $3^{rd}$ diagonal element of the matrix $\\Lambda$ will stay equal to $1$, while the $1^{st}$ and the $2^{nd}$ tend to zero. So we may neglect the $\\lambda_1$ and $\\lambda_2$ in comparison with $\\lambda_3$.\n",
    "\n",
    "We will substitute the matrix with the following pseudo-matrix:\n",
    "\n",
    "$$\n",
    "\\Lambda_{pseudo} =\n",
    "\\begin{bmatrix}\n",
    "0 & 0 & 0\\\\\n",
    "0 & 0 & 0\\\\\n",
    "0 & 0 & 1\\\\\n",
    "\\end{bmatrix}\n",
    "$$\n",
    "\n",
    "because the denominator is a scalar that can be removed to the left of the whole equation chain:\n",
    "\n",
    "$$\n",
    "x = D^{2021}S\\Lambda _D^{2021} S^{-1}b \\approx D^{2021}S\\Lambda _{pseudo}^{2021}S^{-1}b\n",
    "$$\n",
    "\n",
    "And to know the direction, we may get rid of the denominator completely, also noting that $\\Lambda_{pseudo}^{2021} = \\Lambda _{pseudo}$:\n",
    "\n",
    "$$\n",
    "x_{dir} = S\\Lambda _{pseudo} S^{-1} b\n",
    "$$\n",
    "\n",
    "The only thing left is to explicitly calculate the $x_{dir}$ vector, conjure a bit with the denominators (remember, we don't care about the length of the vector) and find the direction:"
   ]
  },
  {
   "cell_type": "code",
   "execution_count": null,
   "id": "1e2053c6",
   "metadata": {},
   "outputs": [
    {
     "data": {
      "text/latex": [
       "$\\displaystyle \\left[\\begin{matrix}1\\\\\\frac{29}{20}\\\\\\frac{21}{20}\\end{matrix}\\right]$"
      ],
      "text/plain": [
       "Matrix([\n",
       "[    1],\n",
       "[29/20],\n",
       "[21/20]])"
      ]
     },
     "execution_count": 133,
     "metadata": {},
     "output_type": "execute_result"
    }
   ],
   "source": [
    "L_pseudo = sp.diag([0, 0, 1], unpack=True)\n",
    "x = S*L_pseudo*S**-1*b\n",
    "x*1682/1380"
   ]
  },
  {
   "cell_type": "markdown",
   "id": "e107289d",
   "metadata": {},
   "source": [
    "$$\n",
    "x_{dir} =\n",
    "\\begin{bmatrix}\n",
    "1\\\\\n",
    "\\frac{29}{20}\\\\\n",
    "\\frac{21}{20}\n",
    "\\end{bmatrix}\n",
    "\\approx\n",
    "\\begin{bmatrix}\n",
    "1\\\\\n",
    "1.5\\\\\n",
    "1\n",
    "\\end{bmatrix}\n",
    ".$$\n"
   ]
  },
  {
   "cell_type": "markdown",
   "id": "0d942c3e",
   "metadata": {},
   "source": [
    "## Problem 6\n",
    "\n",
    "Four unit masses are joined by springs of unit spring constant on a ring of unit raduis as shown in the figure. \n",
    "\n",
    "```{figure} ../attachments/PS2/Problem6.png\n",
    "---\n",
    "height: 150px\n",
    "name: directive-fig\n",
    "---\n",
    "System illustration\n",
    "```\n",
    "\n",
    "Convince yourself that Newton's second law for the masses results in\n",
    "\n",
    "$$\n",
    "\\ddot{\\phi}_1 = -2\\phi_1 + \\phi_2 + \\phi_4 \\\\\n",
    "\\ddot{\\phi}_2 = -2\\phi_2 + \\phi_3 + \\phi_1 \\\\\n",
    "\\ddot{\\phi}_3 = -2\\phi_3 + \\phi_4 + \\phi_2 \\\\\n",
    "\\ddot{\\phi}_4 = -2\\phi_4 + \\phi_1 + \\phi_3 \\\\\n",
    "\n",
    "$$\n",
    "or $\\ddot{u} = -K_4 u$, where $u = \\begin{bmatrix}\\phi_1 \\\\ \\phi_2\\\\ \\phi_3 \\\\ \\phi_4\\end{bmatrix}$ and $K_4$ is a matrix of coefficients.\n",
    "\n",
    "(a) How can you see that $K_4$ is singular? What is the physical meaning of this fact?\n",
    "\n",
    "(b) Find the eigenvalues and eigenvectors of $K_4$ and using the spectral factorization, $K_4 = S \\Lambda S^{-1}$, diagonalize and solve the system.\n",
    "\n",
    "(c) Describe the normal modes of the oscillators in terms of eigenvalues and eigenvectors of $K_4$. What are the largest and smallest frequencies and corresponding eigenvectors? Can you explain the physics of the largest frequency mode?\n",
    "\n",
    "(d) What is the solution that starts at $u(0) = \\begin{bmatrix}1 & 0 & -1 & 0\\end{bmatrix}^T$ and $\\dot{u}(0) = 0$?"
   ]
  },
  {
   "cell_type": "markdown",
   "id": "4f227c70",
   "metadata": {},
   "source": [
    "### Solution"
   ]
  },
  {
   "cell_type": "code",
   "execution_count": 98,
   "id": "639a5524",
   "metadata": {},
   "outputs": [
    {
     "name": "stdout",
     "output_type": "stream",
     "text": [
      "Rank: 3\n"
     ]
    }
   ],
   "source": [
    "K = sp.Matrix([\n",
    "    [-2, 1, 0, 1],\n",
    "    [1, -2, 1, 0],\n",
    "    [0, 1, -2, 1],\n",
    "    [1, 0, 1, -2]\n",
    "])\n",
    "K = -K\n",
    "print(\"Rank: {}\".format(K.rank()))"
   ]
  },
  {
   "cell_type": "markdown",
   "id": "44930fc4",
   "metadata": {},
   "source": [
    "The singularity of the matrix implies that we have a redundant coordinate: the system is described with 4 variables, while 3 independend variables would be enough."
   ]
  },
  {
   "cell_type": "code",
   "execution_count": 200,
   "id": "39f46257",
   "metadata": {},
   "outputs": [],
   "source": [
    "from sympy import Function\n",
    "\n",
    "phi1, phi2, phi3, phi4 = abc.symbols('phi1, phi2, phi3, phi4', cls=Function)\n",
    "t = abc.symbols('t')\n",
    "\n",
    "phi1 = phi1(t)\n",
    "phi2 = phi2(t)\n",
    "phi3 = phi3(t)\n",
    "phi4 = phi4(t)\n",
    "\n",
    "phi1d, phi2d, phi3d, phi4d = (sp.diff(i, t) for i in (phi1, phi2, phi3, phi4))\n",
    "phi1dd, phi2dd, phi3dd, phi4dd = (sp.diff(i, t) for i in (phi1d, phi2d, phi3d, phi4d))\n",
    "\n",
    "u = sp.Matrix([phi1, phi2, phi3, phi4])\n",
    "udd = sp.Matrix([phi1dd, phi2dd, phi3dd, phi4dd])\n",
    "\n",
    "\n",
    "eig = K.eigenvects()\n",
    "l1 = eig[0][0]\n",
    "l2 = eig[1][0]\n",
    "l3 = eig[2][0]\n",
    "h1 = eig[0][2][0]\n",
    "h21 = eig[1][2][0]\n",
    "h22 = eig[1][2][1]\n",
    "h3 = eig[2][2][0]"
   ]
  },
  {
   "cell_type": "markdown",
   "id": "1aec5eb4",
   "metadata": {},
   "source": [
    "$$\n",
    "\\lambda_1 = 4, \\hspace{3mm}\n",
    "h_1 = \\begin{bmatrix}-1\\\\1\\\\-1\\\\1\\end{bmatrix};\\\\\n",
    "\\lambda_2 = 2, \\hspace{3mm}\n",
    "h_{2_1} = \\begin{bmatrix}-1\\\\0\\\\1\\\\0\\end{bmatrix}, \\hspace{3mm}\n",
    "h_{2_2} = \\begin{bmatrix}0\\\\-1\\\\0\\\\1\\end{bmatrix};\\\\\n",
    "\\lambda_3 = 0, \\hspace{3mm}\n",
    "h_3 = \\begin{bmatrix}1\\\\1\\\\1\\\\1\\end{bmatrix}.\n",
    "$$"
   ]
  },
  {
   "cell_type": "code",
   "execution_count": 147,
   "id": "92d7d6bc",
   "metadata": {},
   "outputs": [
    {
     "data": {
      "text/latex": [
       "$\\displaystyle \\left[\\begin{matrix}0 & 0 & 0 & 0\\\\0 & 2 & 0 & 0\\\\0 & 0 & 2 & 0\\\\0 & 0 & 0 & 4\\end{matrix}\\right]$"
      ],
      "text/plain": [
       "Matrix([\n",
       "[0, 0, 0, 0],\n",
       "[0, 2, 0, 0],\n",
       "[0, 0, 2, 0],\n",
       "[0, 0, 0, 4]])"
      ]
     },
     "execution_count": 147,
     "metadata": {},
     "output_type": "execute_result"
    }
   ],
   "source": [
    "Ss, L = K.diagonalize()\n",
    "L"
   ]
  },
  {
   "cell_type": "markdown",
   "id": "5e8b4409",
   "metadata": {},
   "source": [
    "We found the $\\Lambda$ component of the diagonalized matrix $K$, now we can proceed with solving:\n",
    "\n",
    "$$\n",
    "\\ddot{u} = S\\Lambda S^{-1}u,\\\\\n",
    "\\ddot{v} = \\Lambda v, \\hspace{3mm} v = S^{-1}u;\n",
    "\\\\\\hspace{3mm}\n",
    "\\ddot{v}_i = c_1\\cos{(\\sqrt{\\lambda_i}t)} + c_2\\sin{(\\sqrt{\\lambda_i}t)}\n",
    "$$\n",
    "\n",
    "```{note}\n",
    "All the eigenvalues are $\\geq 0$. That means, our solutions are representable as a sum of $\\sin$ and $\\cos$ functions.\n",
    "```"
   ]
  },
  {
   "cell_type": "markdown",
   "id": "892540e4",
   "metadata": {},
   "source": [
    "Finally, our general solution looks like this:\n",
    "\n",
    "$$\n",
    "v_1(t) = c_1\\cos{(2t)} + c_2\\sin{(2t)};\\\\\n",
    "v_2(t) = c_3\\cos{(\\sqrt{2}t)} + c_4\\sin{(\\sqrt{2}t)};\\\\\n",
    "v_3(t) = c_5\\cos{(\\sqrt{2}t)} + c_6\\sin{(\\sqrt{2}t)};\\\\\n",
    "v_4(t) = (c_7 + c_8t)\n",
    "$$\n",
    "\n",
    "and after returning into original basis ($u = Sv$):\n",
    "\n",
    "$$\n",
    "\\begin{align*}\n",
    "u = (c_7 + c_8t)h_3 \\\\\n",
    "+\\\\\n",
    "(c_{3}\\cos{(\\sqrt{2}t)} + c_{4}\\sin{(\\sqrt{2}t)})h_{2_1} \\\\\n",
    "+\\\\\n",
    "(c_{5}\\cos{(\\sqrt{2}t)} + c_{6}\\sin{(\\sqrt{2}t)})h_{2_2} \\\\\n",
    "+\\\\\n",
    "(c_1\\cos{(2t)} + c_2\\sin{(2t)})h_1\n",
    "\\end{align*}\n",
    "$$\n",
    "\n",
    "Let's confirm this with *sympy*:"
   ]
  },
  {
   "cell_type": "code",
   "execution_count": 145,
   "id": "ccd6b043",
   "metadata": {},
   "outputs": [
    {
     "data": {
      "text/latex": [
       "$\\displaystyle \\left[\\begin{matrix}- c_{1} \\cos{\\left(2 t \\right)} - c_{2} \\sin{\\left(2 t \\right)} - c_{3} \\cos{\\left(\\sqrt{2} t \\right)} - c_{4} \\sin{\\left(\\sqrt{2} t \\right)} + c_{7} + c_{8} t\\\\c_{1} \\cos{\\left(2 t \\right)} + c_{2} \\sin{\\left(2 t \\right)} - c_{5} \\cos{\\left(\\sqrt{2} t \\right)} - c_{6} \\sin{\\left(\\sqrt{2} t \\right)} + c_{7} + c_{8} t\\\\- c_{1} \\cos{\\left(2 t \\right)} - c_{2} \\sin{\\left(2 t \\right)} + c_{3} \\cos{\\left(\\sqrt{2} t \\right)} + c_{4} \\sin{\\left(\\sqrt{2} t \\right)} + c_{7} + c_{8} t\\\\c_{1} \\cos{\\left(2 t \\right)} + c_{2} \\sin{\\left(2 t \\right)} + c_{5} \\cos{\\left(\\sqrt{2} t \\right)} + c_{6} \\sin{\\left(\\sqrt{2} t \\right)} + c_{7} + c_{8} t\\end{matrix}\\right]$"
      ],
      "text/plain": [
       "Matrix([\n",
       "[-c1*cos(2*t) - c2*sin(2*t) - c3*cos(sqrt(2)*t) - c4*sin(sqrt(2)*t) + c7 + c8*t],\n",
       "[ c1*cos(2*t) + c2*sin(2*t) - c5*cos(sqrt(2)*t) - c6*sin(sqrt(2)*t) + c7 + c8*t],\n",
       "[-c1*cos(2*t) - c2*sin(2*t) + c3*cos(sqrt(2)*t) + c4*sin(sqrt(2)*t) + c7 + c8*t],\n",
       "[ c1*cos(2*t) + c2*sin(2*t) + c5*cos(sqrt(2)*t) + c6*sin(sqrt(2)*t) + c7 + c8*t]])"
      ]
     },
     "execution_count": 145,
     "metadata": {},
     "output_type": "execute_result"
    }
   ],
   "source": [
    "from sympy import *\n",
    "\n",
    "v1, v2, v3, v4 = abc.symbols('v1, v2, v3, v4', cls=Function)\n",
    "c1, c2, c3, c4, c5, c6, c7, c8 = abc.symbols('c1, c2, c3, c4, c5, c6, c7, c8')\n",
    "t = abc.symbols('t')\n",
    "v1 = v1(t)\n",
    "v2 = v2(t)\n",
    "v3 = v3(t)\n",
    "v4 = v4(t)\n",
    "\n",
    "v1 = c7 + c8*t\n",
    "v2 = c3*cos(sqrt(2)*t) + c4*sin(sqrt(2)*t)\n",
    "v3 = c5*cos(sqrt(2)*t) + c6*sin(sqrt(2)*t)\n",
    "v4 = c1*cos(2*t) + c2*sin(2*t)\n",
    "\n",
    "v = sp.Matrix([v1, v2, v3, v4])\n",
    "\n",
    "Ss*v"
   ]
  },
  {
   "cell_type": "markdown",
   "id": "9e2f4f83",
   "metadata": {},
   "source": [
    "$$\n",
    "u = \n",
    "\\begin{bmatrix}\n",
    "\\phi_1(t)\\\\\n",
    "\\phi_2(t)\\\\\n",
    "\\phi_3(t)\\\\\n",
    "\\phi_4(t)\n",
    "\\end{bmatrix} = \\\\\n",
    "\\\\ \\hspace{1mm}\n",
    "\\\\ \\hspace{1mm}\n",
    "=\n",
    "\\begin{bmatrix}\n",
    "  -c_1cos(2t) & - & c_2sin(2t) & - & c_3cos(\\sqrt{2}t) & - & c_4sin(\\sqrt{2}t) & + & c_7 & + & c_8t\\\\\n",
    "  c1cos(2t) & + & c_2sin(2t) & - & c_5cos(\\sqrt{2}t) & - & c_6sin(\\sqrt{2}t) & + & c_7 & + & c_8t\\\\\n",
    "  -c_1cos(2t) & - & c_2sin(2t) & + & c_3cos(\\sqrt{2}t) & + & c_4sin(\\sqrt{2}t) & + & c_7 & + & c_8t\\\\\n",
    "  c1cos(2t) & + & c_2sin(2t) & + & c_5cos(\\sqrt{2}t) & + & c_6sin(\\sqrt{2}t) & + & c_7 & + & c_8t\\\\\n",
    "\\end{bmatrix}\n",
    "$$"
   ]
  },
  {
   "cell_type": "markdown",
   "metadata": {},
   "source": [
    "We can analyze the system by looking at the eigenvalues and eigenvectors.\n",
    "The eigenvalue $\\lambda_1 = 0$ and the corresponding $h_1 = \\begin{bmatrix}1 & 1 & 1 & 1\\end{bmatrix}^T$ represent the rotational motion of the system as a whole. It's frequency is 0, and the time function $f_1(t) = c_7 + c_8t$ accounts for the initial position $c_7$ and the initial velocity $c_8$.\n",
    "\n",
    "The rest of the eigen-entities correspond to a certain type of oscillation, see the related picture.\n",
    "\n",
    "```{figure} ../attachments/PS2/Problem6_2.jpg\n",
    "---\n",
    "height: 600px\n",
    "name: directive-fig\n",
    "---\n",
    "Oscillation types\n",
    "```\n",
    "\n",
    "The eigenvalues correspond to the amplitude of the oscillations. \n",
    "The oscillations corresponding to the $\\lambda_1 = 4$ will be the most frequent, because the eigenvalue is effectively the squared frequency in the harmonic time function.\n",
    "\n",
    "Now let us analyze the initial conditions:\n",
    "\n",
    "$\n",
    "u(0) = \\begin{bmatrix}1 & 0 & -1 & 0\\end{bmatrix}^T$ and $\\dot{u}(0) = 0.\n",
    "$\n",
    "\n",
    "Let us start top-down.\n",
    "* Firstly, we substitude $t$ with $0$ at the general solution and solve for $u(0)$:"
   ]
  },
  {
   "cell_type": "code",
   "execution_count": 155,
   "id": "fff22cc7",
   "metadata": {},
   "outputs": [
    {
     "data": {
      "text/latex": [
       "$\\displaystyle \\left[\\begin{matrix}- c_{1} - c_{3} + c_{7}\\\\c_{1} - c_{5} + c_{7}\\\\- c_{1} + c_{3} + c_{7}\\\\c_{1} + c_{5} + c_{7}\\end{matrix}\\right]$"
      ],
      "text/plain": [
       "Matrix([\n",
       "[-c1 - c3 + c7],\n",
       "[ c1 - c5 + c7],\n",
       "[-c1 + c3 + c7],\n",
       "[ c1 + c5 + c7]])"
      ]
     },
     "execution_count": 155,
     "metadata": {},
     "output_type": "execute_result"
    }
   ],
   "source": [
    "\n",
    "u0 = Matrix([1, 0, -1, 0])\n",
    "u0d = 0\n",
    "c_vec = Matrix([c1, c2, c3, c4, c5, c6, c7, c8])\n",
    "\n",
    "S0 = Ss*v.subs(t, 0)\n",
    "S0"
   ]
  },
  {
   "cell_type": "code",
   "execution_count": 177,
   "id": "a53312e3",
   "metadata": {},
   "outputs": [
    {
     "data": {
      "text/plain": [
       "{c1: 0, c3: -1, c5: 0, c7: 0}"
      ]
     },
     "execution_count": 177,
     "metadata": {},
     "output_type": "execute_result"
    }
   ],
   "source": [
    "sol = solve(S0 - u0, c_vec)\n",
    "sol"
   ]
  },
  {
   "cell_type": "markdown",
   "id": "b830bbb5",
   "metadata": {},
   "source": [
    "We get the following constants:"
   ]
  },
  {
   "cell_type": "code",
   "execution_count": 178,
   "id": "ec7b57b9",
   "metadata": {},
   "outputs": [
    {
     "data": {
      "text/latex": [
       "$\\displaystyle \\left[\\begin{matrix}0\\\\c_{2}\\\\-1\\\\c_{4}\\\\0\\\\c_{6}\\\\0\\\\c_{8}\\end{matrix}\\right]$"
      ],
      "text/plain": [
       "Matrix([\n",
       "[ 0],\n",
       "[c2],\n",
       "[-1],\n",
       "[c4],\n",
       "[ 0],\n",
       "[c6],\n",
       "[ 0],\n",
       "[c8]])"
      ]
     },
     "execution_count": 178,
     "metadata": {},
     "output_type": "execute_result"
    }
   ],
   "source": [
    "c_vec_s = copy.deepcopy(c_vec)\n",
    "c_vec_s = c_vec_s.subs(sol)\n",
    "c_vec_s"
   ]
  },
  {
   "cell_type": "markdown",
   "id": "05bfa4bc",
   "metadata": {},
   "source": [
    "And we receive the following semi-solution:"
   ]
  },
  {
   "cell_type": "code",
   "execution_count": 189,
   "id": "169fc003",
   "metadata": {},
   "outputs": [
    {
     "data": {
      "text/latex": [
       "$\\displaystyle \\left[\\begin{matrix}- c_{2} \\sin{\\left(2 t \\right)} - c_{4} \\sin{\\left(\\sqrt{2} t \\right)} + c_{8} t + \\cos{\\left(\\sqrt{2} t \\right)}\\\\c_{2} \\sin{\\left(2 t \\right)} - c_{6} \\sin{\\left(\\sqrt{2} t \\right)} + c_{8} t\\\\- c_{2} \\sin{\\left(2 t \\right)} + c_{4} \\sin{\\left(\\sqrt{2} t \\right)} + c_{8} t - \\cos{\\left(\\sqrt{2} t \\right)}\\\\c_{2} \\sin{\\left(2 t \\right)} + c_{6} \\sin{\\left(\\sqrt{2} t \\right)} + c_{8} t\\end{matrix}\\right]$"
      ],
      "text/plain": [
       "Matrix([\n",
       "[-c2*sin(2*t) - c4*sin(sqrt(2)*t) + c8*t + cos(sqrt(2)*t)],\n",
       "[                  c2*sin(2*t) - c6*sin(sqrt(2)*t) + c8*t],\n",
       "[-c2*sin(2*t) + c4*sin(sqrt(2)*t) + c8*t - cos(sqrt(2)*t)],\n",
       "[                  c2*sin(2*t) + c6*sin(sqrt(2)*t) + c8*t]])"
      ]
     },
     "execution_count": 189,
     "metadata": {},
     "output_type": "execute_result"
    }
   ],
   "source": [
    "u_s = Ss*v\n",
    "u_s.subs(sol)"
   ]
  },
  {
   "cell_type": "markdown",
   "id": "46e997d5",
   "metadata": {},
   "source": [
    "* Now, to account for $\\dot{u}(0) = 0$, we need to differentiate our solution $u$ and apply the condition:"
   ]
  },
  {
   "cell_type": "code",
   "execution_count": 198,
   "id": "12fdb83f",
   "metadata": {},
   "outputs": [
    {
     "data": {
      "text/latex": [
       "$\\displaystyle \\left[\\begin{matrix}- 2 c_{2} - \\sqrt{2} c_{4} + c_{8}\\\\2 c_{2} - \\sqrt{2} c_{6} + c_{8}\\\\- 2 c_{2} + \\sqrt{2} c_{4} + c_{8}\\\\2 c_{2} + \\sqrt{2} c_{6} + c_{8}\\end{matrix}\\right]$"
      ],
      "text/plain": [
       "Matrix([\n",
       "[-2*c2 - sqrt(2)*c4 + c8],\n",
       "[ 2*c2 - sqrt(2)*c6 + c8],\n",
       "[-2*c2 + sqrt(2)*c4 + c8],\n",
       "[ 2*c2 + sqrt(2)*c6 + c8]])"
      ]
     },
     "execution_count": 198,
     "metadata": {},
     "output_type": "execute_result"
    }
   ],
   "source": [
    "u_s_1 = diff(u_s, t).subs(t, 0)\n",
    "u_s_1"
   ]
  },
  {
   "cell_type": "code",
   "execution_count": 199,
   "id": "676812f3",
   "metadata": {},
   "outputs": [
    {
     "data": {
      "text/plain": [
       "{c2: 0, c4: 0, c6: 0, c8: 0}"
      ]
     },
     "execution_count": 199,
     "metadata": {},
     "output_type": "execute_result"
    }
   ],
   "source": [
    "sol2 = solve(u_s_1, c2, c4, c6, c8)\n",
    "sol2"
   ]
  },
  {
   "cell_type": "code",
   "execution_count": 201,
   "id": "47438cbb",
   "metadata": {},
   "outputs": [
    {
     "data": {
      "text/latex": [
       "$\\displaystyle \\left[\\begin{matrix}0\\\\0\\\\-1\\\\0\\\\0\\\\0\\\\0\\\\0\\end{matrix}\\right]$"
      ],
      "text/plain": [
       "Matrix([\n",
       "[ 0],\n",
       "[ 0],\n",
       "[-1],\n",
       "[ 0],\n",
       "[ 0],\n",
       "[ 0],\n",
       "[ 0],\n",
       "[ 0]])"
      ]
     },
     "execution_count": 201,
     "metadata": {},
     "output_type": "execute_result"
    }
   ],
   "source": [
    "c_vec_s2 = copy.deepcopy(c_vec_s)\n",
    "c_vec_s2 = c_vec_s2.subs(sol2)\n",
    "c_vec_s2.simplify()\n",
    "c_vec_s2"
   ]
  },
  {
   "cell_type": "markdown",
   "id": "df7f7577",
   "metadata": {},
   "source": [
    "We get $c_3 = -1$ and all other constants equal to $0$."
   ]
  },
  {
   "cell_type": "code",
   "execution_count": 206,
   "id": "9e73a05f",
   "metadata": {},
   "outputs": [
    {
     "data": {
      "text/latex": [
       "$\\displaystyle \\left[\\begin{matrix}\\cos{\\left(\\sqrt{2} t \\right)}\\\\0\\\\- \\cos{\\left(\\sqrt{2} t \\right)}\\\\0\\end{matrix}\\right]$"
      ],
      "text/plain": [
       "Matrix([\n",
       "[ cos(sqrt(2)*t)],\n",
       "[              0],\n",
       "[-cos(sqrt(2)*t)],\n",
       "[              0]])"
      ]
     },
     "execution_count": 206,
     "metadata": {},
     "output_type": "execute_result"
    }
   ],
   "source": [
    "uuu = u_s.subs(sol).subs(sol2)\n",
    "uuu\n",
    "#print(bmatrix(np.matrix(uuu)))"
   ]
  },
  {
   "cell_type": "markdown",
   "id": "96977af1",
   "metadata": {},
   "source": [
    "This is our particular solution for given initial conditions:\n",
    "\n",
    "$$\n",
    "u_p(t) = \n",
    "\\begin{bmatrix}\n",
    "  \\cos(\\sqrt{2}t)\\\\\n",
    "  0\\\\\n",
    "  -\\cos(\\sqrt{2}t)\\\\\n",
    "  0\\\\\n",
    "\\end{bmatrix}\n",
    "$$"
   ]
  },
  {
   "cell_type": "markdown",
   "id": "702d5fb3",
   "metadata": {},
   "source": [
    "But, we may come to this solution by some reasoning. If we look at the initial condition $u(0)$, we may notice this is one of the eigenvectors taken with a factor $-1$. So, the resulting motion will be a normal mode of the corresponding oscillation. That we can see in our exact solution, with $c_3 = -1$."
   ]
  }
 ],
 "metadata": {
  "interpreter": {
   "hash": "0600588c3b5f4418cbe7b5ebc6825b479f3bc010269d8b60d75058cdd010adfe"
  },
  "kernelspec": {
   "display_name": "Python 3.7.9 64-bit",
   "name": "python3"
  },
  "language_info": {
   "codemirror_mode": {
    "name": "ipython",
    "version": 3
   },
   "file_extension": ".py",
   "mimetype": "text/x-python",
   "name": "python",
   "nbconvert_exporter": "python",
   "pygments_lexer": "ipython3",
   "version": "3.7.9"
  }
 },
 "nbformat": 4,
 "nbformat_minor": 5
}
