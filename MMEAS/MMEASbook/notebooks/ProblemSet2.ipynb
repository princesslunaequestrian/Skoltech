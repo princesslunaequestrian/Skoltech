{
 "cells": [
  {
   "cell_type": "markdown",
   "id": "47668c8e",
   "metadata": {},
   "source": [
    "# Problem Set 2"
   ]
  },
  {
   "cell_type": "markdown",
   "id": "a4b7e2a7",
   "metadata": {},
   "source": [
    "## Problem 1"
   ]
  },
  {
   "cell_type": "markdown",
   "id": "dbe45f51",
   "metadata": {},
   "source": [
    "Consider linear system\n",
    "\n",
    "$$\n",
    "\\begin{align*}\n",
    "2x_1 + x_2 = 1\\\\\n",
    "x_1 + 2x_2 + x_3 = 2\\\\\n",
    "x_2 + 2x_3 = 3\n",
    "\\end{align*}\n",
    "$$\n",
    "\n",
    "(a) Find the LU factorization of the coefficient matrix $A$.   Show that $U = DL^T$ with $D$ diagonal and thus $A=LDL^T$. Find the exact solution using the $LU$ factorization.  \n",
    "\n",
    "(b) Solve the system using Jacobi and Gauss-Seidel iterations. How many iterations are needed to reduce the relative error of the solution to $10^{-8}$?  \n",
    "\n",
    "(c) Plot in semilog scales the relative errors by both methods as a function of the number of iterations.\n",
    "\n",
    "(d) Explain the convergence rate. Which of the methods is better and why?\n",
    "\n"
   ]
  },
  {
   "cell_type": "markdown",
   "id": "7c078281",
   "metadata": {},
   "source": []
  }
 ],
 "metadata": {
  "language_info": {
   "name": "python"
  }
 },
 "nbformat": 4,
 "nbformat_minor": 5
}
