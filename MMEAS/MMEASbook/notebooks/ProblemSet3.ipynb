{
 "cells": [
  {
   "cell_type": "markdown",
   "metadata": {},
   "source": [
    "# Problem Set 3"
   ]
  },
  {
   "cell_type": "markdown",
   "metadata": {},
   "source": [
    "## Problem 1\n",
    "\n",
    "The e-value problem for longitudinal waves in an elastic rod is:\n",
    "\n",
    "$$\n",
    "u'' + k^{2}u = 0, \\\\\n",
    "u(0) = 0, \\hspace{3mm} u_{x}(l) = 0.\n",
    "$$\n",
    "\n",
    "(a) Explain the physical meaning of the second boundary condition.  \n",
    "\n",
    "(b) Solve the problem analytically to find $k$ and $u$.  \n",
    "\n",
    "(c) Plot the eigenfunctions that correspond to the lowest three eigenvalues."
   ]
  },
  {
   "cell_type": "markdown",
   "metadata": {},
   "source": [
    "### Solution\n",
    "\n",
    "#### (a)\n",
    "\n",
    "The meaning of the second boundary condition - derivative of $u$ with respect to $x$ - can be understood, if we \"plot\" the function $u(x)$. It has to intersect the line $x = l$ normally, meaning that the difference in displacement of any two points at the point $l$ neighborhood tends to zero. In other words, point $l$ will be an antinode of the standing waves (eigenfunctions).\n",
    "\n",
    "#### (b)\n",
    "\n",
    "The analytical solution to this problem is as follows.  \n",
    "\n",
    "1. Write down the characteristic equation and find the general solution:\n",
    "\n",
    "$$\n",
    "\\lambda ^{2} + k^{2} = 0, \\\\\n",
    "\\lambda = \\pm ik, \\hspace{3mm} \\Rightarrow \\hspace{3mm} u_{g}(x) = C_{1}\\cos{(kx)} + C_{2}\\sin{(kx)}.\n",
    "$$\n",
    "\n",
    "2. Plug $u_{g}$ into boundary conditions:\n",
    "\n",
    "$$\n",
    "u(0) = 0, \\hspace{3mm} \\Rightarrow \\hspace{3mm} C_{1} = 0, \\\\\n",
    "u'_{l} = 0, \\hspace{3mm} \\Rightarrow \\hspace{3mm} kl = \\frac{2n+1}{2} \\pi, \\\\\n",
    "k = \\frac{(2n+1)\\pi}{2l}.\n",
    "$$\n",
    "\n",
    "3. Write down the final form of the solution:\n",
    "\n",
    "$$\n",
    "u(x) = C_{2}\\sin{(\\frac{(2n+1)\\pi}{2l}x)}.\n",
    "$$\n",
    "\n",
    "#### (c)\n",
    "\n",
    "Now we plot the function for the lowest three eigenvalues:\n",
    "\n",
    "$$\n",
    "n = (0, 1, 2), \\hspace{3mm} \n",
    "$$"
   ]
  },
  {
   "cell_type": "code",
   "execution_count": 2,
   "metadata": {},
   "outputs": [
    {
     "data": {
      "image/svg+xml": "<?xml version=\"1.0\" encoding=\"utf-8\" standalone=\"no\"?>\r\n<!DOCTYPE svg PUBLIC \"-//W3C//DTD SVG 1.1//EN\"\r\n  \"http://www.w3.org/Graphics/SVG/1.1/DTD/svg11.dtd\">\r\n<svg height=\"246.958125pt\" version=\"1.1\" viewBox=\"0 0 374.759943 246.958125\" width=\"374.759943pt\" xmlns=\"http://www.w3.org/2000/svg\" xmlns:xlink=\"http://www.w3.org/1999/xlink\">\r\n <metadata>\r\n  <rdf:RDF xmlns:cc=\"http://creativecommons.org/ns#\" xmlns:dc=\"http://purl.org/dc/elements/1.1/\" xmlns:rdf=\"http://www.w3.org/1999/02/22-rdf-syntax-ns#\">\r\n   <cc:Work>\r\n    <dc:type rdf:resource=\"http://purl.org/dc/dcmitype/StillImage\"/>\r\n    <dc:date>2021-10-22T17:11:05.078884</dc:date>\r\n    <dc:format>image/svg+xml</dc:format>\r\n    <dc:creator>\r\n     <cc:Agent>\r\n      <dc:title>Matplotlib v3.4.3, https://matplotlib.org/</dc:title>\r\n     </cc:Agent>\r\n    </dc:creator>\r\n   </cc:Work>\r\n  </rdf:RDF>\r\n </metadata>\r\n <defs>\r\n  <style type=\"text/css\">*{stroke-linecap:butt;stroke-linejoin:round;}</style>\r\n </defs>\r\n <g id=\"figure_1\">\r\n  <g id=\"patch_1\">\r\n   <path d=\"M 0 246.958125 \r\nL 374.759943 246.958125 \r\nL 374.759943 0 \r\nL 0 0 \r\nz\r\n\" style=\"fill:none;\"/>\r\n  </g>\r\n  <g id=\"axes_1\">\r\n   <g id=\"patch_2\">\r\n    <path d=\"M 32.759943 239.758125 \r\nL 367.559943 239.758125 \r\nL 367.559943 22.318125 \r\nL 32.759943 22.318125 \r\nz\r\n\" style=\"fill:#ffffff;\"/>\r\n   </g>\r\n   <g id=\"matplotlib.axis_1\">\r\n    <g id=\"xtick_1\">\r\n     <g id=\"line2d_1\">\r\n      <defs>\r\n       <path d=\"M 0 0 \r\nL 0 3.5 \r\n\" id=\"mbae909ba66\" style=\"stroke:#000000;stroke-width:0.8;\"/>\r\n      </defs>\r\n      <g>\r\n       <use style=\"stroke:#000000;stroke-width:0.8;\" x=\"47.978125\" xlink:href=\"#mbae909ba66\" y=\"131.038125\"/>\r\n      </g>\r\n     </g>\r\n     <g id=\"text_1\">\r\n      <!-- $0$ -->\r\n      <g transform=\"translate(44.778125 145.636563)scale(0.1 -0.1)\">\r\n       <defs>\r\n        <path d=\"M 2034 4250 \r\nQ 1547 4250 1301 3770 \r\nQ 1056 3291 1056 2328 \r\nQ 1056 1369 1301 889 \r\nQ 1547 409 2034 409 \r\nQ 2525 409 2770 889 \r\nQ 3016 1369 3016 2328 \r\nQ 3016 3291 2770 3770 \r\nQ 2525 4250 2034 4250 \r\nz\r\nM 2034 4750 \r\nQ 2819 4750 3233 4129 \r\nQ 3647 3509 3647 2328 \r\nQ 3647 1150 3233 529 \r\nQ 2819 -91 2034 -91 \r\nQ 1250 -91 836 529 \r\nQ 422 1150 422 2328 \r\nQ 422 3509 836 4129 \r\nQ 1250 4750 2034 4750 \r\nz\r\n\" id=\"DejaVuSans-30\" transform=\"scale(0.015625)\"/>\r\n       </defs>\r\n       <use transform=\"translate(0 0.78125)\" xlink:href=\"#DejaVuSans-30\"/>\r\n      </g>\r\n     </g>\r\n    </g>\r\n    <g id=\"xtick_2\">\r\n     <g id=\"line2d_2\">\r\n      <g>\r\n       <use style=\"stroke:#000000;stroke-width:0.8;\" x=\"169.72358\" xlink:href=\"#mbae909ba66\" y=\"131.038125\"/>\r\n      </g>\r\n     </g>\r\n     <g id=\"text_2\">\r\n      <!-- $\\frac{2}{5}l$ -->\r\n      <g transform=\"translate(165.47358 147.638125)scale(0.1 -0.1)\">\r\n       <defs>\r\n        <path d=\"M 1228 531 \r\nL 3431 531 \r\nL 3431 0 \r\nL 469 0 \r\nL 469 531 \r\nQ 828 903 1448 1529 \r\nQ 2069 2156 2228 2338 \r\nQ 2531 2678 2651 2914 \r\nQ 2772 3150 2772 3378 \r\nQ 2772 3750 2511 3984 \r\nQ 2250 4219 1831 4219 \r\nQ 1534 4219 1204 4116 \r\nQ 875 4013 500 3803 \r\nL 500 4441 \r\nQ 881 4594 1212 4672 \r\nQ 1544 4750 1819 4750 \r\nQ 2544 4750 2975 4387 \r\nQ 3406 4025 3406 3419 \r\nQ 3406 3131 3298 2873 \r\nQ 3191 2616 2906 2266 \r\nQ 2828 2175 2409 1742 \r\nQ 1991 1309 1228 531 \r\nz\r\n\" id=\"DejaVuSans-32\" transform=\"scale(0.015625)\"/>\r\n        <path d=\"M 691 4666 \r\nL 3169 4666 \r\nL 3169 4134 \r\nL 1269 4134 \r\nL 1269 2991 \r\nQ 1406 3038 1543 3061 \r\nQ 1681 3084 1819 3084 \r\nQ 2600 3084 3056 2656 \r\nQ 3513 2228 3513 1497 \r\nQ 3513 744 3044 326 \r\nQ 2575 -91 1722 -91 \r\nQ 1428 -91 1123 -41 \r\nQ 819 9 494 109 \r\nL 494 744 \r\nQ 775 591 1075 516 \r\nQ 1375 441 1709 441 \r\nQ 2250 441 2565 725 \r\nQ 2881 1009 2881 1497 \r\nQ 2881 1984 2565 2268 \r\nQ 2250 2553 1709 2553 \r\nQ 1456 2553 1204 2497 \r\nQ 953 2441 691 2322 \r\nL 691 4666 \r\nz\r\n\" id=\"DejaVuSans-35\" transform=\"scale(0.015625)\"/>\r\n        <path d=\"M 1172 4863 \r\nL 1747 4863 \r\nL 800 0 \r\nL 225 0 \r\nL 1172 4863 \r\nz\r\n\" id=\"DejaVuSans-Oblique-6c\" transform=\"scale(0.015625)\"/>\r\n       </defs>\r\n       <use transform=\"translate(0 44.046875)scale(0.7)\" xlink:href=\"#DejaVuSans-32\"/>\r\n       <use transform=\"translate(0 -38.2375)scale(0.7)\" xlink:href=\"#DejaVuSans-35\"/>\r\n       <use transform=\"translate(57.036133 0.25)\" xlink:href=\"#DejaVuSans-Oblique-6c\"/>\r\n       <path d=\"M 0 19.046875 \r\nL 0 25.296875 \r\nL 44.536133 25.296875 \r\nL 44.536133 19.046875 \r\nL 0 19.046875 \r\nz\r\n\"/>\r\n      </g>\r\n     </g>\r\n    </g>\r\n    <g id=\"xtick_3\">\r\n     <g id=\"line2d_3\">\r\n      <g>\r\n       <use style=\"stroke:#000000;stroke-width:0.8;\" x=\"200.159943\" xlink:href=\"#mbae909ba66\" y=\"131.038125\"/>\r\n      </g>\r\n     </g>\r\n     <g id=\"text_3\">\r\n      <!-- $\\frac{1}{2}l$ -->\r\n      <g transform=\"translate(195.909943 147.538125)scale(0.1 -0.1)\">\r\n       <defs>\r\n        <path d=\"M 794 531 \r\nL 1825 531 \r\nL 1825 4091 \r\nL 703 3866 \r\nL 703 4441 \r\nL 1819 4666 \r\nL 2450 4666 \r\nL 2450 531 \r\nL 3481 531 \r\nL 3481 0 \r\nL 794 0 \r\nL 794 531 \r\nz\r\n\" id=\"DejaVuSans-31\" transform=\"scale(0.015625)\"/>\r\n       </defs>\r\n       <use transform=\"translate(0 43.965625)scale(0.7)\" xlink:href=\"#DejaVuSans-31\"/>\r\n       <use transform=\"translate(0 -39.2375)scale(0.7)\" xlink:href=\"#DejaVuSans-32\"/>\r\n       <use transform=\"translate(57.036133 0.16875)\" xlink:href=\"#DejaVuSans-Oblique-6c\"/>\r\n       <path d=\"M 0 18.965625 \r\nL 0 25.215625 \r\nL 44.536133 25.215625 \r\nL 44.536133 18.965625 \r\nL 0 18.965625 \r\nz\r\n\"/>\r\n      </g>\r\n     </g>\r\n    </g>\r\n    <g id=\"xtick_4\">\r\n     <g id=\"line2d_4\">\r\n      <g>\r\n       <use style=\"stroke:#000000;stroke-width:0.8;\" x=\"250.887216\" xlink:href=\"#mbae909ba66\" y=\"131.038125\"/>\r\n      </g>\r\n     </g>\r\n     <g id=\"text_4\">\r\n      <!-- $\\frac{2}{3}l$ -->\r\n      <g transform=\"translate(246.637216 147.638125)scale(0.1 -0.1)\">\r\n       <defs>\r\n        <path d=\"M 2597 2516 \r\nQ 3050 2419 3304 2112 \r\nQ 3559 1806 3559 1356 \r\nQ 3559 666 3084 287 \r\nQ 2609 -91 1734 -91 \r\nQ 1441 -91 1130 -33 \r\nQ 819 25 488 141 \r\nL 488 750 \r\nQ 750 597 1062 519 \r\nQ 1375 441 1716 441 \r\nQ 2309 441 2620 675 \r\nQ 2931 909 2931 1356 \r\nQ 2931 1769 2642 2001 \r\nQ 2353 2234 1838 2234 \r\nL 1294 2234 \r\nL 1294 2753 \r\nL 1863 2753 \r\nQ 2328 2753 2575 2939 \r\nQ 2822 3125 2822 3475 \r\nQ 2822 3834 2567 4026 \r\nQ 2313 4219 1838 4219 \r\nQ 1578 4219 1281 4162 \r\nQ 984 4106 628 3988 \r\nL 628 4550 \r\nQ 988 4650 1302 4700 \r\nQ 1616 4750 1894 4750 \r\nQ 2613 4750 3031 4423 \r\nQ 3450 4097 3450 3541 \r\nQ 3450 3153 3228 2886 \r\nQ 3006 2619 2597 2516 \r\nz\r\n\" id=\"DejaVuSans-33\" transform=\"scale(0.015625)\"/>\r\n       </defs>\r\n       <use transform=\"translate(0 44.046875)scale(0.7)\" xlink:href=\"#DejaVuSans-32\"/>\r\n       <use transform=\"translate(0 -39.15625)scale(0.7)\" xlink:href=\"#DejaVuSans-33\"/>\r\n       <use transform=\"translate(57.036133 0.25)\" xlink:href=\"#DejaVuSans-Oblique-6c\"/>\r\n       <path d=\"M 0 19.046875 \r\nL 0 25.296875 \r\nL 44.536133 25.296875 \r\nL 44.536133 19.046875 \r\nL 0 19.046875 \r\nz\r\n\"/>\r\n      </g>\r\n     </g>\r\n    </g>\r\n    <g id=\"xtick_5\">\r\n     <g id=\"line2d_5\">\r\n      <g>\r\n       <use style=\"stroke:#000000;stroke-width:0.8;\" x=\"352.341761\" xlink:href=\"#mbae909ba66\" y=\"131.038125\"/>\r\n      </g>\r\n     </g>\r\n     <g id=\"text_5\">\r\n      <!-- $l\\hspace{1}$ -->\r\n      <g transform=\"translate(346.041761 145.636563)scale(0.1 -0.1)\">\r\n       <use transform=\"translate(0 0.015625)\" xlink:href=\"#DejaVuSans-Oblique-6c\"/>\r\n      </g>\r\n     </g>\r\n    </g>\r\n    <g id=\"text_6\">\r\n     <!-- $x$ -->\r\n     <g transform=\"translate(197.159943 163.336563)scale(0.1 -0.1)\">\r\n      <defs>\r\n       <path d=\"M 3841 3500 \r\nL 2234 1784 \r\nL 3219 0 \r\nL 2559 0 \r\nL 1819 1388 \r\nL 531 0 \r\nL -166 0 \r\nL 1556 1844 \r\nL 641 3500 \r\nL 1300 3500 \r\nL 1972 2234 \r\nL 3144 3500 \r\nL 3841 3500 \r\nz\r\n\" id=\"DejaVuSans-Oblique-78\" transform=\"scale(0.015625)\"/>\r\n      </defs>\r\n      <use transform=\"translate(0 0.3125)\" xlink:href=\"#DejaVuSans-Oblique-78\"/>\r\n     </g>\r\n    </g>\r\n   </g>\r\n   <g id=\"matplotlib.axis_2\">\r\n    <g id=\"ytick_1\">\r\n     <g id=\"line2d_6\">\r\n      <defs>\r\n       <path d=\"M 0 0 \r\nL -3.5 0 \r\n\" id=\"m3598a58b65\" style=\"stroke:#000000;stroke-width:0.8;\"/>\r\n      </defs>\r\n      <g>\r\n       <use style=\"stroke:#000000;stroke-width:0.8;\" x=\"47.978125\" xlink:href=\"#m3598a58b65\" y=\"229.874489\"/>\r\n      </g>\r\n     </g>\r\n     <g id=\"text_7\">\r\n      <!-- $-C_2$ -->\r\n      <g transform=\"translate(20.878125 233.673707)scale(0.1 -0.1)\">\r\n       <defs>\r\n        <path d=\"M 678 2272 \r\nL 4684 2272 \r\nL 4684 1741 \r\nL 678 1741 \r\nL 678 2272 \r\nz\r\n\" id=\"DejaVuSans-2212\" transform=\"scale(0.015625)\"/>\r\n        <path d=\"M 4447 4306 \r\nL 4319 3641 \r\nQ 4019 3944 3683 4091 \r\nQ 3347 4238 2956 4238 \r\nQ 2422 4238 2017 3981 \r\nQ 1613 3725 1319 3200 \r\nQ 1131 2863 1032 2486 \r\nQ 934 2109 934 1728 \r\nQ 934 1091 1264 756 \r\nQ 1594 422 2222 422 \r\nQ 2656 422 3056 561 \r\nQ 3456 700 3834 978 \r\nL 3688 231 \r\nQ 3316 72 2936 -9 \r\nQ 2556 -91 2175 -91 \r\nQ 1278 -91 773 396 \r\nQ 269 884 269 1753 \r\nQ 269 2309 461 2846 \r\nQ 653 3384 1013 3828 \r\nQ 1394 4300 1883 4525 \r\nQ 2372 4750 3022 4750 \r\nQ 3422 4750 3780 4639 \r\nQ 4138 4528 4447 4306 \r\nz\r\n\" id=\"DejaVuSans-Oblique-43\" transform=\"scale(0.015625)\"/>\r\n       </defs>\r\n       <use transform=\"translate(0 0.78125)\" xlink:href=\"#DejaVuSans-2212\"/>\r\n       <use transform=\"translate(83.789062 0.78125)\" xlink:href=\"#DejaVuSans-Oblique-43\"/>\r\n       <use transform=\"translate(153.613281 -15.625)scale(0.7)\" xlink:href=\"#DejaVuSans-32\"/>\r\n      </g>\r\n     </g>\r\n    </g>\r\n    <g id=\"ytick_2\">\r\n     <g id=\"line2d_7\">\r\n      <g>\r\n       <use style=\"stroke:#000000;stroke-width:0.8;\" x=\"47.978125\" xlink:href=\"#m3598a58b65\" y=\"131.038125\"/>\r\n      </g>\r\n     </g>\r\n     <g id=\"text_8\">\r\n      <!-- $0$ -->\r\n      <g transform=\"translate(34.578125 134.837344)scale(0.1 -0.1)\">\r\n       <use transform=\"translate(0 0.78125)\" xlink:href=\"#DejaVuSans-30\"/>\r\n      </g>\r\n     </g>\r\n    </g>\r\n    <g id=\"ytick_3\">\r\n     <g id=\"line2d_8\">\r\n      <g>\r\n       <use style=\"stroke:#000000;stroke-width:0.8;\" x=\"47.978125\" xlink:href=\"#m3598a58b65\" y=\"32.201761\"/>\r\n      </g>\r\n     </g>\r\n     <g id=\"text_9\">\r\n      <!-- $C_2$ -->\r\n      <g transform=\"translate(29.178125 36.00098)scale(0.1 -0.1)\">\r\n       <use transform=\"translate(0 0.78125)\" xlink:href=\"#DejaVuSans-Oblique-43\"/>\r\n       <use transform=\"translate(69.824219 -15.625)scale(0.7)\" xlink:href=\"#DejaVuSans-32\"/>\r\n      </g>\r\n     </g>\r\n    </g>\r\n    <g id=\"text_10\">\r\n     <!-- $u(x)$ -->\r\n     <g transform=\"translate(14.798438 141.088125)rotate(-90)scale(0.1 -0.1)\">\r\n      <defs>\r\n       <path d=\"M 428 1388 \r\nL 838 3500 \r\nL 1416 3500 \r\nL 1006 1409 \r\nQ 975 1256 961 1147 \r\nQ 947 1038 947 966 \r\nQ 947 700 1109 554 \r\nQ 1272 409 1569 409 \r\nQ 2031 409 2368 721 \r\nQ 2706 1034 2809 1563 \r\nL 3194 3500 \r\nL 3769 3500 \r\nL 3091 0 \r\nL 2516 0 \r\nL 2631 550 \r\nQ 2388 244 2052 76 \r\nQ 1716 -91 1338 -91 \r\nQ 878 -91 622 161 \r\nQ 366 413 366 863 \r\nQ 366 956 381 1097 \r\nQ 397 1238 428 1388 \r\nz\r\n\" id=\"DejaVuSans-Oblique-75\" transform=\"scale(0.015625)\"/>\r\n       <path d=\"M 1984 4856 \r\nQ 1566 4138 1362 3434 \r\nQ 1159 2731 1159 2009 \r\nQ 1159 1288 1364 580 \r\nQ 1569 -128 1984 -844 \r\nL 1484 -844 \r\nQ 1016 -109 783 600 \r\nQ 550 1309 550 2009 \r\nQ 550 2706 781 3412 \r\nQ 1013 4119 1484 4856 \r\nL 1984 4856 \r\nz\r\n\" id=\"DejaVuSans-28\" transform=\"scale(0.015625)\"/>\r\n       <path d=\"M 513 4856 \r\nL 1013 4856 \r\nQ 1481 4119 1714 3412 \r\nQ 1947 2706 1947 2009 \r\nQ 1947 1309 1714 600 \r\nQ 1481 -109 1013 -844 \r\nL 513 -844 \r\nQ 928 -128 1133 580 \r\nQ 1338 1288 1338 2009 \r\nQ 1338 2731 1133 3434 \r\nQ 928 4138 513 4856 \r\nz\r\n\" id=\"DejaVuSans-29\" transform=\"scale(0.015625)\"/>\r\n      </defs>\r\n      <use transform=\"translate(0 0.125)\" xlink:href=\"#DejaVuSans-Oblique-75\"/>\r\n      <use transform=\"translate(63.378906 0.125)\" xlink:href=\"#DejaVuSans-28\"/>\r\n      <use transform=\"translate(102.392578 0.125)\" xlink:href=\"#DejaVuSans-Oblique-78\"/>\r\n      <use transform=\"translate(161.572266 0.125)\" xlink:href=\"#DejaVuSans-29\"/>\r\n     </g>\r\n    </g>\r\n   </g>\r\n   <g id=\"line2d_9\">\r\n    <path clip-path=\"url(#p4bad3e9ba9)\" d=\"M 47.978125 131.038125 \r\nL 51.021761 129.485671 \r\nL 54.065398 127.9336 \r\nL 57.109034 126.382295 \r\nL 60.15267 124.832138 \r\nL 63.196307 123.283513 \r\nL 66.239943 121.736802 \r\nL 69.28358 120.192385 \r\nL 72.327216 118.650644 \r\nL 75.370852 117.11196 \r\nL 78.414489 115.576711 \r\nL 81.458125 114.045278 \r\nL 84.501761 112.518037 \r\nL 87.545398 110.995366 \r\nL 90.589034 109.47764 \r\nL 93.63267 107.965234 \r\nL 96.676307 106.458521 \r\nL 99.719943 104.957872 \r\nL 102.76358 103.463659 \r\nL 105.807216 101.976248 \r\nL 108.850852 100.496009 \r\nL 111.894489 99.023305 \r\nL 114.938125 97.558501 \r\nL 117.981761 96.101957 \r\nL 121.025398 94.654033 \r\nL 124.069034 93.215086 \r\nL 127.11267 91.785472 \r\nL 130.156307 90.365542 \r\nL 133.199943 88.955648 \r\nL 136.24358 87.556137 \r\nL 139.287216 86.167355 \r\nL 142.330852 84.789644 \r\nL 145.374489 83.423344 \r\nL 148.418125 82.068792 \r\nL 151.461761 80.726323 \r\nL 154.505398 79.396267 \r\nL 157.549034 78.078953 \r\nL 160.59267 76.774706 \r\nL 163.636307 75.483848 \r\nL 166.679943 74.206697 \r\nL 169.72358 72.943568 \r\nL 172.767216 71.694773 \r\nL 175.810852 70.460621 \r\nL 178.854489 69.241414 \r\nL 181.898125 68.037456 \r\nL 184.941761 66.849042 \r\nL 187.985398 65.676465 \r\nL 191.029034 64.520015 \r\nL 194.07267 63.379978 \r\nL 197.116307 62.256635 \r\nL 200.159943 61.150262 \r\nL 203.20358 60.061133 \r\nL 206.247216 58.989517 \r\nL 209.290852 57.935677 \r\nL 212.334489 56.899875 \r\nL 215.378125 55.882364 \r\nL 218.421761 54.883398 \r\nL 221.465398 53.903221 \r\nL 224.509034 52.942077 \r\nL 227.55267 52.000201 \r\nL 230.596307 51.077827 \r\nL 233.639943 50.175182 \r\nL 236.68358 49.292489 \r\nL 239.727216 48.429965 \r\nL 242.770852 47.587823 \r\nL 245.814489 46.766272 \r\nL 248.858125 45.965513 \r\nL 251.901761 45.185745 \r\nL 254.945398 44.427159 \r\nL 257.989034 43.689944 \r\nL 261.03267 42.97428 \r\nL 264.076307 42.280345 \r\nL 267.119943 41.608309 \r\nL 270.16358 40.958339 \r\nL 273.207216 40.330595 \r\nL 276.250852 39.725232 \r\nL 279.294489 39.142398 \r\nL 282.338125 38.582239 \r\nL 285.381761 38.044891 \r\nL 288.425398 37.530488 \r\nL 291.469034 37.039157 \r\nL 294.51267 36.571019 \r\nL 297.556307 36.126189 \r\nL 300.599943 35.704777 \r\nL 303.64358 35.306887 \r\nL 306.687216 34.932618 \r\nL 309.730852 34.582061 \r\nL 312.774489 34.255303 \r\nL 315.818125 33.952425 \r\nL 318.861761 33.673501 \r\nL 321.905398 33.418601 \r\nL 324.949034 33.187787 \r\nL 327.99267 32.981116 \r\nL 331.036307 32.798639 \r\nL 334.079943 32.640401 \r\nL 337.12358 32.506441 \r\nL 340.167216 32.396792 \r\nL 343.210852 32.311482 \r\nL 346.254489 32.250531 \r\nL 349.298125 32.213955 \r\nL 352.341761 32.201761 \r\n\" style=\"fill:none;stroke:#1f77b4;stroke-linecap:square;stroke-width:1.5;\"/>\r\n   </g>\r\n   <g id=\"line2d_10\">\r\n    <path clip-path=\"url(#p4bad3e9ba9)\" d=\"M 47.978125 131.038125 \r\nL 51.021761 126.382295 \r\nL 54.065398 121.736802 \r\nL 57.109034 117.11196 \r\nL 60.15267 112.518037 \r\nL 63.196307 107.965234 \r\nL 66.239943 103.463659 \r\nL 69.28358 99.023305 \r\nL 72.327216 94.654033 \r\nL 75.370852 90.365542 \r\nL 78.414489 86.167355 \r\nL 81.458125 82.068792 \r\nL 84.501761 78.078953 \r\nL 87.545398 74.206697 \r\nL 90.589034 70.460621 \r\nL 93.63267 66.849042 \r\nL 96.676307 63.379978 \r\nL 99.719943 60.061133 \r\nL 102.76358 56.899875 \r\nL 105.807216 53.903221 \r\nL 108.850852 51.077827 \r\nL 111.894489 48.429965 \r\nL 114.938125 45.965513 \r\nL 117.981761 43.689944 \r\nL 121.025398 41.608309 \r\nL 124.069034 39.725232 \r\nL 127.11267 38.044891 \r\nL 130.156307 36.571019 \r\nL 133.199943 35.306887 \r\nL 136.24358 34.255303 \r\nL 139.287216 33.418601 \r\nL 142.330852 32.798639 \r\nL 145.374489 32.396792 \r\nL 148.418125 32.213955 \r\nL 151.461761 32.250531 \r\nL 154.505398 32.506441 \r\nL 157.549034 32.981116 \r\nL 160.59267 33.673501 \r\nL 163.636307 34.582061 \r\nL 166.679943 35.704777 \r\nL 169.72358 37.039157 \r\nL 172.767216 38.582239 \r\nL 175.810852 40.330595 \r\nL 178.854489 42.280345 \r\nL 181.898125 44.427159 \r\nL 184.941761 46.766272 \r\nL 187.985398 49.292489 \r\nL 191.029034 52.000201 \r\nL 194.07267 54.883398 \r\nL 197.116307 57.935677 \r\nL 200.159943 61.150262 \r\nL 203.20358 64.520015 \r\nL 206.247216 68.037456 \r\nL 209.290852 71.694773 \r\nL 212.334489 75.483848 \r\nL 215.378125 79.396267 \r\nL 218.421761 83.423344 \r\nL 221.465398 87.556137 \r\nL 224.509034 91.785472 \r\nL 227.55267 96.101957 \r\nL 230.596307 100.496009 \r\nL 233.639943 104.957872 \r\nL 236.68358 109.47764 \r\nL 239.727216 114.045278 \r\nL 242.770852 118.650644 \r\nL 245.814489 123.283513 \r\nL 248.858125 127.9336 \r\nL 251.901761 132.590579 \r\nL 254.945398 137.244112 \r\nL 257.989034 141.883865 \r\nL 261.03267 146.499539 \r\nL 264.076307 151.080884 \r\nL 267.119943 155.617729 \r\nL 270.16358 160.100002 \r\nL 273.207216 164.517749 \r\nL 276.250852 168.861164 \r\nL 279.294489 173.120602 \r\nL 282.338125 177.286606 \r\nL 285.381761 181.349927 \r\nL 288.425398 185.301544 \r\nL 291.469034 189.132682 \r\nL 294.51267 192.834836 \r\nL 297.556307 196.399785 \r\nL 300.599943 199.819615 \r\nL 303.64358 203.086733 \r\nL 306.687216 206.193886 \r\nL 309.730852 209.134173 \r\nL 312.774489 211.901068 \r\nL 315.818125 214.488427 \r\nL 318.861761 216.890505 \r\nL 321.905398 219.10197 \r\nL 324.949034 221.117911 \r\nL 327.99267 222.933852 \r\nL 331.036307 224.545762 \r\nL 334.079943 225.950061 \r\nL 337.12358 227.143632 \r\nL 340.167216 228.123825 \r\nL 343.210852 228.888463 \r\nL 346.254489 229.435849 \r\nL 349.298125 229.764768 \r\nL 352.341761 229.874489 \r\n\" style=\"fill:none;stroke:#ff7f0e;stroke-linecap:square;stroke-width:1.5;\"/>\r\n   </g>\r\n   <g id=\"line2d_11\">\r\n    <path clip-path=\"url(#p4bad3e9ba9)\" d=\"M 47.978125 131.038125 \r\nL 51.021761 123.283513 \r\nL 54.065398 115.576711 \r\nL 57.109034 107.965234 \r\nL 60.15267 100.496009 \r\nL 63.196307 93.215086 \r\nL 66.239943 86.167355 \r\nL 69.28358 79.396267 \r\nL 72.327216 72.943568 \r\nL 75.370852 66.849042 \r\nL 78.414489 61.150262 \r\nL 81.458125 55.882364 \r\nL 84.501761 51.077827 \r\nL 87.545398 46.766272 \r\nL 90.589034 42.97428 \r\nL 93.63267 39.725232 \r\nL 96.676307 37.039157 \r\nL 99.719943 34.932618 \r\nL 102.76358 33.418601 \r\nL 105.807216 32.506441 \r\nL 108.850852 32.201761 \r\nL 111.894489 32.506441 \r\nL 114.938125 33.418601 \r\nL 117.981761 34.932618 \r\nL 121.025398 37.039157 \r\nL 124.069034 39.725232 \r\nL 127.11267 42.97428 \r\nL 130.156307 46.766272 \r\nL 133.199943 51.077827 \r\nL 136.24358 55.882364 \r\nL 139.287216 61.150262 \r\nL 142.330852 66.849042 \r\nL 145.374489 72.943568 \r\nL 148.418125 79.396267 \r\nL 151.461761 86.167355 \r\nL 154.505398 93.215086 \r\nL 157.549034 100.496009 \r\nL 160.59267 107.965234 \r\nL 163.636307 115.576711 \r\nL 166.679943 123.283513 \r\nL 169.72358 131.038125 \r\nL 172.767216 138.792737 \r\nL 175.810852 146.499539 \r\nL 178.854489 154.111016 \r\nL 181.898125 161.580241 \r\nL 184.941761 168.861164 \r\nL 187.985398 175.908895 \r\nL 191.029034 182.679983 \r\nL 194.07267 189.132682 \r\nL 197.116307 195.227208 \r\nL 200.159943 200.925988 \r\nL 203.20358 206.193886 \r\nL 206.247216 210.998423 \r\nL 209.290852 215.309978 \r\nL 212.334489 219.10197 \r\nL 215.378125 222.351018 \r\nL 218.421761 225.037093 \r\nL 221.465398 227.143632 \r\nL 224.509034 228.657649 \r\nL 227.55267 229.569809 \r\nL 230.596307 229.874489 \r\nL 233.639943 229.569809 \r\nL 236.68358 228.657649 \r\nL 239.727216 227.143632 \r\nL 242.770852 225.037093 \r\nL 245.814489 222.351018 \r\nL 248.858125 219.10197 \r\nL 251.901761 215.309978 \r\nL 254.945398 210.998423 \r\nL 257.989034 206.193886 \r\nL 261.03267 200.925988 \r\nL 264.076307 195.227208 \r\nL 267.119943 189.132682 \r\nL 270.16358 182.679983 \r\nL 273.207216 175.908895 \r\nL 276.250852 168.861164 \r\nL 279.294489 161.580241 \r\nL 282.338125 154.111016 \r\nL 285.381761 146.499539 \r\nL 288.425398 138.792737 \r\nL 291.469034 131.038125 \r\nL 294.51267 123.283513 \r\nL 297.556307 115.576711 \r\nL 300.599943 107.965234 \r\nL 303.64358 100.496009 \r\nL 306.687216 93.215086 \r\nL 309.730852 86.167355 \r\nL 312.774489 79.396267 \r\nL 315.818125 72.943568 \r\nL 318.861761 66.849042 \r\nL 321.905398 61.150262 \r\nL 324.949034 55.882364 \r\nL 327.99267 51.077827 \r\nL 331.036307 46.766272 \r\nL 334.079943 42.97428 \r\nL 337.12358 39.725232 \r\nL 340.167216 37.039157 \r\nL 343.210852 34.932618 \r\nL 346.254489 33.418601 \r\nL 349.298125 32.506441 \r\nL 352.341761 32.201761 \r\n\" style=\"fill:none;stroke:#2ca02c;stroke-linecap:square;stroke-width:1.5;\"/>\r\n   </g>\r\n   <g id=\"patch_3\">\r\n    <path d=\"M 47.978125 239.758125 \r\nL 47.978125 22.318125 \r\n\" style=\"fill:none;stroke:#000000;stroke-linecap:square;stroke-linejoin:miter;stroke-width:0.8;\"/>\r\n   </g>\r\n   <g id=\"patch_4\">\r\n    <path d=\"M 352.341761 239.758125 \r\nL 352.341761 22.318125 \r\n\" style=\"fill:none;stroke:#000000;stroke-linecap:square;stroke-linejoin:miter;stroke-width:0.8;\"/>\r\n   </g>\r\n   <g id=\"patch_5\">\r\n    <path d=\"M 32.759943 131.038125 \r\nL 367.559943 131.038125 \r\n\" style=\"fill:none;stroke:#000000;stroke-linecap:square;stroke-linejoin:miter;stroke-width:0.8;\"/>\r\n   </g>\r\n   <g id=\"patch_6\">\r\n    <path d=\"M 32.759943 22.318125 \r\nL 367.559943 22.318125 \r\n\" style=\"fill:none;\"/>\r\n   </g>\r\n   <g id=\"text_11\">\r\n    <!-- Eigenfunctions -->\r\n    <g transform=\"translate(155.763693 16.318125)scale(0.12 -0.12)\">\r\n     <defs>\r\n      <path d=\"M 628 4666 \r\nL 3578 4666 \r\nL 3578 4134 \r\nL 1259 4134 \r\nL 1259 2753 \r\nL 3481 2753 \r\nL 3481 2222 \r\nL 1259 2222 \r\nL 1259 531 \r\nL 3634 531 \r\nL 3634 0 \r\nL 628 0 \r\nL 628 4666 \r\nz\r\n\" id=\"DejaVuSans-45\" transform=\"scale(0.015625)\"/>\r\n      <path d=\"M 603 3500 \r\nL 1178 3500 \r\nL 1178 0 \r\nL 603 0 \r\nL 603 3500 \r\nz\r\nM 603 4863 \r\nL 1178 4863 \r\nL 1178 4134 \r\nL 603 4134 \r\nL 603 4863 \r\nz\r\n\" id=\"DejaVuSans-69\" transform=\"scale(0.015625)\"/>\r\n      <path d=\"M 2906 1791 \r\nQ 2906 2416 2648 2759 \r\nQ 2391 3103 1925 3103 \r\nQ 1463 3103 1205 2759 \r\nQ 947 2416 947 1791 \r\nQ 947 1169 1205 825 \r\nQ 1463 481 1925 481 \r\nQ 2391 481 2648 825 \r\nQ 2906 1169 2906 1791 \r\nz\r\nM 3481 434 \r\nQ 3481 -459 3084 -895 \r\nQ 2688 -1331 1869 -1331 \r\nQ 1566 -1331 1297 -1286 \r\nQ 1028 -1241 775 -1147 \r\nL 775 -588 \r\nQ 1028 -725 1275 -790 \r\nQ 1522 -856 1778 -856 \r\nQ 2344 -856 2625 -561 \r\nQ 2906 -266 2906 331 \r\nL 2906 616 \r\nQ 2728 306 2450 153 \r\nQ 2172 0 1784 0 \r\nQ 1141 0 747 490 \r\nQ 353 981 353 1791 \r\nQ 353 2603 747 3093 \r\nQ 1141 3584 1784 3584 \r\nQ 2172 3584 2450 3431 \r\nQ 2728 3278 2906 2969 \r\nL 2906 3500 \r\nL 3481 3500 \r\nL 3481 434 \r\nz\r\n\" id=\"DejaVuSans-67\" transform=\"scale(0.015625)\"/>\r\n      <path d=\"M 3597 1894 \r\nL 3597 1613 \r\nL 953 1613 \r\nQ 991 1019 1311 708 \r\nQ 1631 397 2203 397 \r\nQ 2534 397 2845 478 \r\nQ 3156 559 3463 722 \r\nL 3463 178 \r\nQ 3153 47 2828 -22 \r\nQ 2503 -91 2169 -91 \r\nQ 1331 -91 842 396 \r\nQ 353 884 353 1716 \r\nQ 353 2575 817 3079 \r\nQ 1281 3584 2069 3584 \r\nQ 2775 3584 3186 3129 \r\nQ 3597 2675 3597 1894 \r\nz\r\nM 3022 2063 \r\nQ 3016 2534 2758 2815 \r\nQ 2500 3097 2075 3097 \r\nQ 1594 3097 1305 2825 \r\nQ 1016 2553 972 2059 \r\nL 3022 2063 \r\nz\r\n\" id=\"DejaVuSans-65\" transform=\"scale(0.015625)\"/>\r\n      <path d=\"M 3513 2113 \r\nL 3513 0 \r\nL 2938 0 \r\nL 2938 2094 \r\nQ 2938 2591 2744 2837 \r\nQ 2550 3084 2163 3084 \r\nQ 1697 3084 1428 2787 \r\nQ 1159 2491 1159 1978 \r\nL 1159 0 \r\nL 581 0 \r\nL 581 3500 \r\nL 1159 3500 \r\nL 1159 2956 \r\nQ 1366 3272 1645 3428 \r\nQ 1925 3584 2291 3584 \r\nQ 2894 3584 3203 3211 \r\nQ 3513 2838 3513 2113 \r\nz\r\n\" id=\"DejaVuSans-6e\" transform=\"scale(0.015625)\"/>\r\n      <path d=\"M 2375 4863 \r\nL 2375 4384 \r\nL 1825 4384 \r\nQ 1516 4384 1395 4259 \r\nQ 1275 4134 1275 3809 \r\nL 1275 3500 \r\nL 2222 3500 \r\nL 2222 3053 \r\nL 1275 3053 \r\nL 1275 0 \r\nL 697 0 \r\nL 697 3053 \r\nL 147 3053 \r\nL 147 3500 \r\nL 697 3500 \r\nL 697 3744 \r\nQ 697 4328 969 4595 \r\nQ 1241 4863 1831 4863 \r\nL 2375 4863 \r\nz\r\n\" id=\"DejaVuSans-66\" transform=\"scale(0.015625)\"/>\r\n      <path d=\"M 544 1381 \r\nL 544 3500 \r\nL 1119 3500 \r\nL 1119 1403 \r\nQ 1119 906 1312 657 \r\nQ 1506 409 1894 409 \r\nQ 2359 409 2629 706 \r\nQ 2900 1003 2900 1516 \r\nL 2900 3500 \r\nL 3475 3500 \r\nL 3475 0 \r\nL 2900 0 \r\nL 2900 538 \r\nQ 2691 219 2414 64 \r\nQ 2138 -91 1772 -91 \r\nQ 1169 -91 856 284 \r\nQ 544 659 544 1381 \r\nz\r\nM 1991 3584 \r\nL 1991 3584 \r\nz\r\n\" id=\"DejaVuSans-75\" transform=\"scale(0.015625)\"/>\r\n      <path d=\"M 3122 3366 \r\nL 3122 2828 \r\nQ 2878 2963 2633 3030 \r\nQ 2388 3097 2138 3097 \r\nQ 1578 3097 1268 2742 \r\nQ 959 2388 959 1747 \r\nQ 959 1106 1268 751 \r\nQ 1578 397 2138 397 \r\nQ 2388 397 2633 464 \r\nQ 2878 531 3122 666 \r\nL 3122 134 \r\nQ 2881 22 2623 -34 \r\nQ 2366 -91 2075 -91 \r\nQ 1284 -91 818 406 \r\nQ 353 903 353 1747 \r\nQ 353 2603 823 3093 \r\nQ 1294 3584 2113 3584 \r\nQ 2378 3584 2631 3529 \r\nQ 2884 3475 3122 3366 \r\nz\r\n\" id=\"DejaVuSans-63\" transform=\"scale(0.015625)\"/>\r\n      <path d=\"M 1172 4494 \r\nL 1172 3500 \r\nL 2356 3500 \r\nL 2356 3053 \r\nL 1172 3053 \r\nL 1172 1153 \r\nQ 1172 725 1289 603 \r\nQ 1406 481 1766 481 \r\nL 2356 481 \r\nL 2356 0 \r\nL 1766 0 \r\nQ 1100 0 847 248 \r\nQ 594 497 594 1153 \r\nL 594 3053 \r\nL 172 3053 \r\nL 172 3500 \r\nL 594 3500 \r\nL 594 4494 \r\nL 1172 4494 \r\nz\r\n\" id=\"DejaVuSans-74\" transform=\"scale(0.015625)\"/>\r\n      <path d=\"M 1959 3097 \r\nQ 1497 3097 1228 2736 \r\nQ 959 2375 959 1747 \r\nQ 959 1119 1226 758 \r\nQ 1494 397 1959 397 \r\nQ 2419 397 2687 759 \r\nQ 2956 1122 2956 1747 \r\nQ 2956 2369 2687 2733 \r\nQ 2419 3097 1959 3097 \r\nz\r\nM 1959 3584 \r\nQ 2709 3584 3137 3096 \r\nQ 3566 2609 3566 1747 \r\nQ 3566 888 3137 398 \r\nQ 2709 -91 1959 -91 \r\nQ 1206 -91 779 398 \r\nQ 353 888 353 1747 \r\nQ 353 2609 779 3096 \r\nQ 1206 3584 1959 3584 \r\nz\r\n\" id=\"DejaVuSans-6f\" transform=\"scale(0.015625)\"/>\r\n      <path d=\"M 2834 3397 \r\nL 2834 2853 \r\nQ 2591 2978 2328 3040 \r\nQ 2066 3103 1784 3103 \r\nQ 1356 3103 1142 2972 \r\nQ 928 2841 928 2578 \r\nQ 928 2378 1081 2264 \r\nQ 1234 2150 1697 2047 \r\nL 1894 2003 \r\nQ 2506 1872 2764 1633 \r\nQ 3022 1394 3022 966 \r\nQ 3022 478 2636 193 \r\nQ 2250 -91 1575 -91 \r\nQ 1294 -91 989 -36 \r\nQ 684 19 347 128 \r\nL 347 722 \r\nQ 666 556 975 473 \r\nQ 1284 391 1588 391 \r\nQ 1994 391 2212 530 \r\nQ 2431 669 2431 922 \r\nQ 2431 1156 2273 1281 \r\nQ 2116 1406 1581 1522 \r\nL 1381 1569 \r\nQ 847 1681 609 1914 \r\nQ 372 2147 372 2553 \r\nQ 372 3047 722 3315 \r\nQ 1072 3584 1716 3584 \r\nQ 2034 3584 2315 3537 \r\nQ 2597 3491 2834 3397 \r\nz\r\n\" id=\"DejaVuSans-73\" transform=\"scale(0.015625)\"/>\r\n     </defs>\r\n     <use xlink:href=\"#DejaVuSans-45\"/>\r\n     <use x=\"63.183594\" xlink:href=\"#DejaVuSans-69\"/>\r\n     <use x=\"90.966797\" xlink:href=\"#DejaVuSans-67\"/>\r\n     <use x=\"154.443359\" xlink:href=\"#DejaVuSans-65\"/>\r\n     <use x=\"215.966797\" xlink:href=\"#DejaVuSans-6e\"/>\r\n     <use x=\"279.345703\" xlink:href=\"#DejaVuSans-66\"/>\r\n     <use x=\"314.550781\" xlink:href=\"#DejaVuSans-75\"/>\r\n     <use x=\"377.929688\" xlink:href=\"#DejaVuSans-6e\"/>\r\n     <use x=\"441.308594\" xlink:href=\"#DejaVuSans-63\"/>\r\n     <use x=\"496.289062\" xlink:href=\"#DejaVuSans-74\"/>\r\n     <use x=\"535.498047\" xlink:href=\"#DejaVuSans-69\"/>\r\n     <use x=\"563.28125\" xlink:href=\"#DejaVuSans-6f\"/>\r\n     <use x=\"624.462891\" xlink:href=\"#DejaVuSans-6e\"/>\r\n     <use x=\"687.841797\" xlink:href=\"#DejaVuSans-73\"/>\r\n    </g>\r\n   </g>\r\n   <g id=\"legend_1\">\r\n    <g id=\"patch_7\">\r\n     <path d=\"M 39.759943 234.758125 \r\nL 96.759943 234.758125 \r\nQ 98.759943 234.758125 98.759943 232.758125 \r\nL 98.759943 189.72375 \r\nQ 98.759943 187.72375 96.759943 187.72375 \r\nL 39.759943 187.72375 \r\nQ 37.759943 187.72375 37.759943 189.72375 \r\nL 37.759943 232.758125 \r\nQ 37.759943 234.758125 39.759943 234.758125 \r\nz\r\n\" style=\"fill:#ffffff;opacity:0.8;stroke:#cccccc;stroke-linejoin:miter;\"/>\r\n    </g>\r\n    <g id=\"line2d_12\">\r\n     <path d=\"M 41.759943 195.822188 \r\nL 61.759943 195.822188 \r\n\" style=\"fill:none;stroke:#1f77b4;stroke-linecap:square;stroke-width:1.5;\"/>\r\n    </g>\r\n    <g id=\"line2d_13\"/>\r\n    <g id=\"text_12\">\r\n     <!-- $n = 0$ -->\r\n     <g transform=\"translate(69.759943 199.322188)scale(0.1 -0.1)\">\r\n      <defs>\r\n       <path d=\"M 3566 2113 \r\nL 3156 0 \r\nL 2578 0 \r\nL 2988 2091 \r\nQ 3016 2238 3031 2350 \r\nQ 3047 2463 3047 2528 \r\nQ 3047 2791 2881 2937 \r\nQ 2716 3084 2419 3084 \r\nQ 1956 3084 1622 2776 \r\nQ 1288 2469 1184 1941 \r\nL 800 0 \r\nL 225 0 \r\nL 903 3500 \r\nL 1478 3500 \r\nL 1363 2950 \r\nQ 1603 3253 1940 3418 \r\nQ 2278 3584 2650 3584 \r\nQ 3113 3584 3367 3334 \r\nQ 3622 3084 3622 2631 \r\nQ 3622 2519 3608 2391 \r\nQ 3594 2263 3566 2113 \r\nz\r\n\" id=\"DejaVuSans-Oblique-6e\" transform=\"scale(0.015625)\"/>\r\n       <path d=\"M 678 2906 \r\nL 4684 2906 \r\nL 4684 2381 \r\nL 678 2381 \r\nL 678 2906 \r\nz\r\nM 678 1631 \r\nL 4684 1631 \r\nL 4684 1100 \r\nL 678 1100 \r\nL 678 1631 \r\nz\r\n\" id=\"DejaVuSans-3d\" transform=\"scale(0.015625)\"/>\r\n      </defs>\r\n      <use transform=\"translate(0 0.78125)\" xlink:href=\"#DejaVuSans-Oblique-6e\"/>\r\n      <use transform=\"translate(82.861328 0.78125)\" xlink:href=\"#DejaVuSans-3d\"/>\r\n      <use transform=\"translate(186.132812 0.78125)\" xlink:href=\"#DejaVuSans-30\"/>\r\n     </g>\r\n    </g>\r\n    <g id=\"line2d_14\">\r\n     <path d=\"M 41.759943 210.500313 \r\nL 61.759943 210.500313 \r\n\" style=\"fill:none;stroke:#ff7f0e;stroke-linecap:square;stroke-width:1.5;\"/>\r\n    </g>\r\n    <g id=\"line2d_15\"/>\r\n    <g id=\"text_13\">\r\n     <!-- $n = 1$ -->\r\n     <g transform=\"translate(69.759943 214.000313)scale(0.1 -0.1)\">\r\n      <use transform=\"translate(0 0.09375)\" xlink:href=\"#DejaVuSans-Oblique-6e\"/>\r\n      <use transform=\"translate(82.861328 0.09375)\" xlink:href=\"#DejaVuSans-3d\"/>\r\n      <use transform=\"translate(186.132812 0.09375)\" xlink:href=\"#DejaVuSans-31\"/>\r\n     </g>\r\n    </g>\r\n    <g id=\"line2d_16\">\r\n     <path d=\"M 41.759943 225.178438 \r\nL 61.759943 225.178438 \r\n\" style=\"fill:none;stroke:#2ca02c;stroke-linecap:square;stroke-width:1.5;\"/>\r\n    </g>\r\n    <g id=\"line2d_17\"/>\r\n    <g id=\"text_14\">\r\n     <!-- $n = 2$ -->\r\n     <g transform=\"translate(69.759943 228.678438)scale(0.1 -0.1)\">\r\n      <use transform=\"translate(0 0.78125)\" xlink:href=\"#DejaVuSans-Oblique-6e\"/>\r\n      <use transform=\"translate(82.861328 0.78125)\" xlink:href=\"#DejaVuSans-3d\"/>\r\n      <use transform=\"translate(186.132812 0.78125)\" xlink:href=\"#DejaVuSans-32\"/>\r\n     </g>\r\n    </g>\r\n   </g>\r\n  </g>\r\n </g>\r\n <defs>\r\n  <clipPath id=\"p4bad3e9ba9\">\r\n   <rect height=\"217.44\" width=\"334.8\" x=\"32.759943\" y=\"22.318125\"/>\r\n  </clipPath>\r\n </defs>\r\n</svg>\r\n",
      "text/plain": [
       "<Figure size 432x288 with 1 Axes>"
      ]
     },
     "metadata": {
      "needs_background": "light"
     },
     "output_type": "display_data"
    }
   ],
   "source": [
    "%config InlineBackend.figure_format = 'svg'\n",
    "\n",
    "import numpy as np\n",
    "from matplotlib import pyplot as plt\n",
    "import sympy as sp\n",
    "from sympy import abc\n",
    "from sympy import *\n",
    "\n",
    "C2, pi, n, l, x = abc.symbols('C2, pi, n, l, x')\n",
    "\n",
    "f = sin((2*n + 1)*pi/(2*l) * x)\n",
    "\n",
    "ns = np.array([0, 1, 2])\n",
    "\n",
    "fig, ax = plt.subplots()\n",
    "\n",
    "for n_ in ns:\n",
    "    f_ = f.subs({n: n_, l: 1, pi: np.pi})\n",
    "    func = lambdify(x, f_)\n",
    "\n",
    "    X = np.arange(0, 1.01, 0.01)\n",
    "    Y = func(X)\n",
    "\n",
    "    ax.plot(X, Y)\n",
    "    plt.xticks([0, 2/5, 0.5, 2/3, 1],\n",
    "            ('$0$', '$\\\\frac{2}{5}l$',\n",
    "            '$\\\\frac{1}{2}l$', '$\\\\frac{2}{3}l$',\n",
    "            '$l\\\\hspace{1}$')\n",
    "            )\n",
    "    plt.yticks([-1, 0, 1], ('$-C_2$', '$0$', '$C_2$'))\n",
    "\n",
    "ax.set_title('Eigenfunctions')\n",
    "ax.set_xlabel('$x$')\n",
    "ax.set_ylabel('$u(x)$')\n",
    "ax.legend(('$n = 0$', '$n = 1$', '$n = 2$'))\n",
    "ax.spines['left'].set_position('zero')\n",
    "ax.spines['bottom'].set_position('zero')\n",
    "ax.spines['top'].set_color('none')\n",
    "ax.spines['right'].set_position(('data', 1))"
   ]
  },
  {
   "cell_type": "markdown",
   "metadata": {},
   "source": [
    "## Problem 2\n",
    "\n",
    "Concider elastic waves in a nonuniform rod between $x = 0$ and $x = l$, as in the lecture nodes. The density of the rod varies with space as $\\rho = \\rho_{0} (1 - \\epsilon \\frac{x(l-x)}{l^{2}})$, where $\\rho_0$ is constant and $\\epsilon \\ge 0$ is some number. The corresponding eigenvalue problem is:\n",
    "\n",
    "$$\n",
    "\\phi'' + k_{0}^{2} \\left( 1 - \\epsilon \\frac{x(l-x)}{l^{2}} \\right) \\phi = 0, \\hspace{3mm} \\phi(0) = \\phi(l) = 0.\n",
    "$$\n",
    "\n",
    "Here $k_{0}^{2} = \\rho_{0} \\omega^{2} l^{2} / c_{0}^{2}$. After rescaling, $x$ with $l$, the equation can be written as \n",
    "\n",
    "$$\n",
    "\\phi'' + \\lambda^{2}(1 - \\epsilon x (1-x))\\phi = 0, \\hspace{3mm} \\phi(0) = \\phi(1) = 0,\n",
    "$$\n",
    "\n",
    "where $\\lambda^{2} = k_{0}^{2}l^{2} = \\omega^{2}l^{2}/c_{0}^{2}$.  \n",
    "\n",
    "Next, the problem is to find the solution at various values of $\\epsilon$.  \n",
    "\n",
    "Note that if $\\epsilon = 0$, then we have the analytical solution: $\\lambda_{n} = n\\pi$ and $\\phi_{n} = \\sin{(\\pi n x)}, n \\in \\mathbb{N}$.\n",
    "\n",
    "**(a)** Find the eigenvalues $\\lambda^{2}$ numerically using the second derivative approximation\n",
    "\n",
    "$$\n",
    "\\phi'' \\approx (\\phi_{i-1} - 2\\phi_{i} + \\phi_{i+1})/h^{2}\n",
    "$$\n",
    "\n",
    "with the grid points $x = x_{i} = ih, i=0, 1, 2, ..., n+1$ and the grid size $h = l/(n+1)$. Take $n$ sufficiently large so that the computed eigenvalues and eigenvectors are accurate. How do you choose that number?  \n",
    "\n",
    "**(b)** Plot the eigenvectors that correspond to the lowest five eigenvalues at $\\epsilon = 0.1$ and on a separate plot show the first ten numerically found eigenvalues $\\lambda$. How do they compare with those at $\\epsilon = 0$?  \n",
    "\n",
    "**(c)** How do the eigenvalues and eigenfunctions change when $\\epsilon$ increases? Plot $\\lambda (\\epsilon)$."
   ]
  },
  {
   "cell_type": "markdown",
   "metadata": {},
   "source": [
    "### Solution\n",
    "\n"
   ]
  },
  {
   "cell_type": "markdown",
   "metadata": {},
   "source": [
    "#### (a)\n",
    "\n",
    "At first, we need to come up with the matrix form.  \n",
    "\n",
    "For this, let's plug the approximation into the equation and rearrange the members:\n",
    "\n",
    "$$\n",
    "\\phi_{i-1} - 2\\phi_{i} + \\phi_{i+1} + \\lambda^{2} h^{2}(1-\\epsilon x(1-x))\\phi_{i} = 0, \\\\\n",
    "\\hspace{3mm} \\\\\n",
    "\\phi_{i-1} - 2\\phi_{i} + \\phi_{i+1} = \\lambda^{2} h^{2} \\hat{\\rho_{i}} \\phi_{i} \\\\\n",
    "\\hspace{3mm} \\\\\n",
    "A\\phi = \\lambda^{2} K\\phi,\n",
    "$$\n",
    "\n",
    "where $\\hat{\\rho_{i}} = (\\epsilon x_{i}(1-x_{i}) - 1)$.\n",
    "\n",
    "To move $K$ to the left, we have to be sure that it is not singular. Since it is a diagonal matrix with elements $h^{2}\\hat{\\rho_{i}}$, all of it's elemets must be non-zero. Knowing $h^{2}$ is not zero, we get the condition of singularity:\n",
    "\n",
    "$$\n",
    "\\epsilon x_{i}(1-x_{i}) - 1 = 0,\n",
    "$$\n",
    "\n",
    "or\n",
    "\n",
    "$$\n",
    "x^{2}_{i} - x_{i} + \\frac{1}{\\epsilon} = 0, \\hspace{3mm} \\epsilon \\neq 0.\n",
    "$$\n",
    "\n",
    "Solving this quadratic equation for $x_{i}$, we get:\n",
    "\n",
    "$$\n",
    "x_{i_{1, 2}} = \\frac{1}{2} \\left( 1 \\pm \\sqrt{1 - \\frac{4}{\\epsilon}}\\right).\n",
    "$$\n",
    "\n",
    "For $x_{i}$ to have real roots, $\\epsilon$ must be $\\geq 4$. As long as $\\epsilon \\leq 4$, the matrix $K$ is non-singular and can be moved to the left:\n",
    "\n",
    "$$\n",
    "K^{-1}A\\phi = \\lambda^{2} \\phi.\n",
    "$$\n",
    "\n",
    "$K$ doesn't depend on $\\phi$, thus we can precalculate it and then transfer the inverted matrix $K^{-1}$.\n",
    "\n",
    "```{warning}\n",
    "At first, I want to see the general solution with any $\\epsilon$ and abstract $h$. By the powers of *SymPy* I will carry $\\epsilon$ in the calculations. Due to the computation complexity of eigen**values** (let alone eigen**vectors**), the grid for this step will be chosen extremely sparse Actually, I was not able to get any solution for grids larger that 2 (!) points. Let it be 2 points then.\n",
    "\n",
    "This is just for pure educational purposes, it serves no practical reason.\n",
    "```\n",
    "\n",
    "For matrix $K$, we can write it's diagonal element in terms of our grid as follows:\n",
    "\n",
    "$$\n",
    "K^{i}_{i} = h^{2}(\\epsilon ih(1-ih)-1)\n",
    "$$\n"
   ]
  },
  {
   "cell_type": "code",
   "execution_count": 148,
   "metadata": {},
   "outputs": [],
   "source": [
    "x0, eps, h = symbols('x0, epsilon, h')\n",
    "\n",
    "step = 0.5\n",
    "\n",
    "\n",
    "def create_grid(step):\n",
    "    X = np.arange(0, 1, step)\n",
    "    m = len(X)\n",
    "    return X, m\n",
    "\n",
    "X, m = create_grid(step)\n",
    "\n",
    "\n",
    "#computing the matrix K along the grid\n",
    "def matrix_K(m):\n",
    "    vec = [h**2*(eps*i*h*(1-(i*h))-1) for i in range(m)]\n",
    "    K = sp.Matrix.diag(vec)\n",
    "    return K\n",
    "\n",
    "K = matrix_K(m)\n",
    "\n",
    "\n",
    "#building the inverse matrix K^-1\n",
    "K_inv = K.inv()\n",
    "\n",
    "\n",
    "#Building the matrix A\n",
    "def matrix_A(m):\n",
    "    A = sp.Matrix.diag([-2 for i in range(m)])\n",
    "    ud = sp.Matrix(np.eye(m, m, 1, dtype=int))\n",
    "    ld = sp.Matrix(np.eye(m, m, -1, dtype=int))\n",
    "    A = A + ud + ld\n",
    "    return A\n",
    "\n",
    "A = matrix_A(m)\n",
    "\n",
    "\n",
    "#Building the final matrix B: B{phi} = lambda^2 {phi}\n",
    "B = K_inv*A"
   ]
  },
  {
   "cell_type": "markdown",
   "metadata": {},
   "source": [
    "Let's have a look at the matrix $B$:"
   ]
  },
  {
   "cell_type": "code",
   "execution_count": 150,
   "metadata": {},
   "outputs": [
    {
     "data": {
      "text/latex": [
       "$\\displaystyle \\left[\\begin{matrix}\\frac{2}{h^{2}} & - \\frac{1}{h^{2}}\\\\- \\frac{1}{\\epsilon h^{4} - \\epsilon h^{3} + h^{2}} & \\frac{2}{\\epsilon h^{4} - \\epsilon h^{3} + h^{2}}\\end{matrix}\\right]$"
      ],
      "text/plain": [
       "Matrix([\n",
       "[                                 2/h**2,                                -1/h**2],\n",
       "[-1/(epsilon*h**4 - epsilon*h**3 + h**2), 2/(epsilon*h**4 - epsilon*h**3 + h**2)]])"
      ]
     },
     "execution_count": 150,
     "metadata": {},
     "output_type": "execute_result"
    }
   ],
   "source": [
    "B"
   ]
  },
  {
   "cell_type": "markdown",
   "metadata": {},
   "source": [
    "Now we can find the eigenvalues with respect to $\\epsilon$:"
   ]
  },
  {
   "cell_type": "code",
   "execution_count": 151,
   "metadata": {},
   "outputs": [
    {
     "data": {
      "text/latex": [
       "$\\displaystyle \\left[\\begin{matrix}\\frac{\\epsilon h^{2} - \\epsilon h - \\sqrt{\\epsilon^{2} h^{4} - 2 \\epsilon^{2} h^{3} + \\epsilon^{2} h^{2} + \\epsilon h^{2} - \\epsilon h + 1} + 2}{h^{2} \\left(\\epsilon h^{2} - \\epsilon h + 1\\right)}\\\\\\frac{\\epsilon h^{2} - \\epsilon h + \\sqrt{\\epsilon^{2} h^{4} - 2 \\epsilon^{2} h^{3} + \\epsilon^{2} h^{2} + \\epsilon h^{2} - \\epsilon h + 1} + 2}{h^{2} \\left(\\epsilon h^{2} - \\epsilon h + 1\\right)}\\end{matrix}\\right]$"
      ],
      "text/plain": [
       "Matrix([\n",
       "[(epsilon*h**2 - epsilon*h - sqrt(epsilon**2*h**4 - 2*epsilon**2*h**3 + epsilon**2*h**2 + epsilon*h**2 - epsilon*h + 1) + 2)/(h**2*(epsilon*h**2 - epsilon*h + 1))],\n",
       "[(epsilon*h**2 - epsilon*h + sqrt(epsilon**2*h**4 - 2*epsilon**2*h**3 + epsilon**2*h**2 + epsilon*h**2 - epsilon*h + 1) + 2)/(h**2*(epsilon*h**2 - epsilon*h + 1))]])"
      ]
     },
     "execution_count": 151,
     "metadata": {},
     "output_type": "execute_result"
    }
   ],
   "source": [
    "vals = B.eigenvals()\n",
    "vals_list = list(vals.keys())\n",
    "vals_vec = sp.Matrix(vals_list)\n",
    "vals_vec.simplify()\n",
    "vals_vec"
   ]
  },
  {
   "cell_type": "markdown",
   "metadata": {},
   "source": [
    "```{note}\n",
    "At this point, there is no point (sorry) for solving the system symbolically. It just takes a large (and unknown) amount of time.\n",
    "```"
   ]
  },
  {
   "cell_type": "markdown",
   "metadata": {},
   "source": [
    "Now let us increase the grid density and substitute the $\\epsilon$ and $h$ with real values. We'll take $\\epsilon = 0.1$ to correspond with the next point of the problem. The grid density was taken large enough to be accurate, but low enough to not brick my laptop for hours.\n",
    "\n",
    "```{note}\n",
    "As for more meaningful reasoning for the grid density, we shall account for the approximation method of the second derivative. In this method, we assume that between the points $x_{i-1}$ and $x_{i}$, as well as $x_{i}$ and $x_{i+1}$ the change between "
   ]
  },
  {
   "cell_type": "code",
   "execution_count": 193,
   "metadata": {},
   "outputs": [
    {
     "data": {
      "text/latex": [
       "$\\displaystyle \\left[\\begin{matrix}80000.0 & -40000.0 & 0\\\\-40019.9099051778 & 80039.8198103556 & -40019.9099051778\\\\0 & -40039.6392428504 & 80079.2784857008\\end{matrix}\\right]$"
      ],
      "text/plain": [
       "Matrix([\n",
       "[          80000.0,          -40000.0,                 0],\n",
       "[-40019.9099051778,  80039.8198103556, -40019.9099051778],\n",
       "[                0, -40039.6392428504,  80079.2784857008]])"
      ]
     },
     "execution_count": 193,
     "metadata": {},
     "output_type": "execute_result"
    }
   ],
   "source": [
    "step = 0.005\n",
    "\n",
    "X, m = create_grid(step)\n",
    "\n",
    "K = matrix_K(m)\n",
    "\n",
    "K_inv = K.inv()\n",
    "\n",
    "A = matrix_A(m)\n",
    "\n",
    "B = K_inv*A\n",
    "\n",
    "#substitution dictionary:\n",
    "\n",
    "sub = {h: step, eps: 0.1}\n",
    "\n",
    "B_sub = B.subs(sub)\n",
    "B_sub[0:3, 0:3]"
   ]
  },
  {
   "cell_type": "code",
   "execution_count": 194,
   "metadata": {},
   "outputs": [
    {
     "data": {
      "text/latex": [
       "$\\displaystyle \\left[\\begin{matrix}9.98816227171942\\\\39.7938944175406\\\\89.4633831983826\\\\158.983843331693\\\\248.338218124979\\\\357.504660920439\\\\486.456496708025\\\\635.162220479624\\\\803.585502722618\\\\991.685197549488\\end{matrix}\\right]$"
      ],
      "text/plain": [
       "Matrix([\n",
       "[9.98816227171942],\n",
       "[39.7938944175406],\n",
       "[89.4633831983826],\n",
       "[158.983843331693],\n",
       "[248.338218124979],\n",
       "[357.504660920439],\n",
       "[486.456496708025],\n",
       "[635.162220479624],\n",
       "[803.585502722618],\n",
       "[991.685197549488]])"
      ]
     },
     "execution_count": 194,
     "metadata": {},
     "output_type": "execute_result"
    }
   ],
   "source": [
    "import scipy as scp\n",
    "from scipy import sparse\n",
    "from scipy.sparse import linalg\n",
    "\n",
    "B_sparse = np.matrix(B_sub)\n",
    "B_sparse = B_sparse.astype(float)\n",
    "vals, vecs = linalg.eigs(B_sparse, k=10, sigma=0)\n",
    "\n",
    "sp.Matrix(vals)\n"
   ]
  },
  {
   "cell_type": "markdown",
   "metadata": {},
   "source": [
    "Here are the 10 lowest eigenvalues $\\lambda ^{2}$."
   ]
  },
  {
   "cell_type": "code",
   "execution_count": 200,
   "metadata": {},
   "outputs": [
    {
     "name": "stderr",
     "output_type": "stream",
     "text": [
      "C:\\Program Files\\Python37\\lib\\site-packages\\matplotlib\\cbook\\__init__.py:1333: ComplexWarning: Casting complex values to real discards the imaginary part\n",
      "  return np.asarray(x, float)\n"
     ]
    },
    {
     "data": {
      "text/plain": [
       "[<matplotlib.lines.Line2D at 0x245fccc7d48>]"
      ]
     },
     "execution_count": 200,
     "metadata": {},
     "output_type": "execute_result"
    },
    {
     "data": {
      "image/svg+xml": "<?xml version=\"1.0\" encoding=\"utf-8\" standalone=\"no\"?>\r\n<!DOCTYPE svg PUBLIC \"-//W3C//DTD SVG 1.1//EN\"\r\n  \"http://www.w3.org/Graphics/SVG/1.1/DTD/svg11.dtd\">\r\n<svg height=\"248.518125pt\" version=\"1.1\" viewBox=\"0 0 393.207813 248.518125\" width=\"393.207813pt\" xmlns=\"http://www.w3.org/2000/svg\" xmlns:xlink=\"http://www.w3.org/1999/xlink\">\r\n <metadata>\r\n  <rdf:RDF xmlns:cc=\"http://creativecommons.org/ns#\" xmlns:dc=\"http://purl.org/dc/elements/1.1/\" xmlns:rdf=\"http://www.w3.org/1999/02/22-rdf-syntax-ns#\">\r\n   <cc:Work>\r\n    <dc:type rdf:resource=\"http://purl.org/dc/dcmitype/StillImage\"/>\r\n    <dc:date>2021-10-22T19:43:20.641736</dc:date>\r\n    <dc:format>image/svg+xml</dc:format>\r\n    <dc:creator>\r\n     <cc:Agent>\r\n      <dc:title>Matplotlib v3.4.3, https://matplotlib.org/</dc:title>\r\n     </cc:Agent>\r\n    </dc:creator>\r\n   </cc:Work>\r\n  </rdf:RDF>\r\n </metadata>\r\n <defs>\r\n  <style type=\"text/css\">*{stroke-linecap:butt;stroke-linejoin:round;}</style>\r\n </defs>\r\n <g id=\"figure_1\">\r\n  <g id=\"patch_1\">\r\n   <path d=\"M 0 248.518125 \r\nL 393.207813 248.518125 \r\nL 393.207813 0 \r\nL 0 0 \r\nz\r\n\" style=\"fill:none;\"/>\r\n  </g>\r\n  <g id=\"axes_1\">\r\n   <g id=\"patch_2\">\r\n    <path d=\"M 51.207813 224.64 \r\nL 386.007812 224.64 \r\nL 386.007812 7.2 \r\nL 51.207813 7.2 \r\nz\r\n\" style=\"fill:#ffffff;\"/>\r\n   </g>\r\n   <g id=\"matplotlib.axis_1\">\r\n    <g id=\"xtick_1\">\r\n     <g id=\"line2d_1\">\r\n      <defs>\r\n       <path d=\"M 0 0 \r\nL 0 3.5 \r\n\" id=\"m859a24aaab\" style=\"stroke:#000000;stroke-width:0.8;\"/>\r\n      </defs>\r\n      <g>\r\n       <use style=\"stroke:#000000;stroke-width:0.8;\" x=\"66.425994\" xlink:href=\"#m859a24aaab\" y=\"224.64\"/>\r\n      </g>\r\n     </g>\r\n     <g id=\"text_1\">\r\n      <!-- 0 -->\r\n      <g transform=\"translate(63.244744 239.238437)scale(0.1 -0.1)\">\r\n       <defs>\r\n        <path d=\"M 2034 4250 \r\nQ 1547 4250 1301 3770 \r\nQ 1056 3291 1056 2328 \r\nQ 1056 1369 1301 889 \r\nQ 1547 409 2034 409 \r\nQ 2525 409 2770 889 \r\nQ 3016 1369 3016 2328 \r\nQ 3016 3291 2770 3770 \r\nQ 2525 4250 2034 4250 \r\nz\r\nM 2034 4750 \r\nQ 2819 4750 3233 4129 \r\nQ 3647 3509 3647 2328 \r\nQ 3647 1150 3233 529 \r\nQ 2819 -91 2034 -91 \r\nQ 1250 -91 836 529 \r\nQ 422 1150 422 2328 \r\nQ 422 3509 836 4129 \r\nQ 1250 4750 2034 4750 \r\nz\r\n\" id=\"DejaVuSans-30\" transform=\"scale(0.015625)\"/>\r\n       </defs>\r\n       <use xlink:href=\"#DejaVuSans-30\"/>\r\n      </g>\r\n     </g>\r\n    </g>\r\n    <g id=\"xtick_2\">\r\n     <g id=\"line2d_2\">\r\n      <g>\r\n       <use style=\"stroke:#000000;stroke-width:0.8;\" x=\"104.662632\" xlink:href=\"#m859a24aaab\" y=\"224.64\"/>\r\n      </g>\r\n     </g>\r\n     <g id=\"text_2\">\r\n      <!-- 25 -->\r\n      <g transform=\"translate(98.300132 239.238437)scale(0.1 -0.1)\">\r\n       <defs>\r\n        <path d=\"M 1228 531 \r\nL 3431 531 \r\nL 3431 0 \r\nL 469 0 \r\nL 469 531 \r\nQ 828 903 1448 1529 \r\nQ 2069 2156 2228 2338 \r\nQ 2531 2678 2651 2914 \r\nQ 2772 3150 2772 3378 \r\nQ 2772 3750 2511 3984 \r\nQ 2250 4219 1831 4219 \r\nQ 1534 4219 1204 4116 \r\nQ 875 4013 500 3803 \r\nL 500 4441 \r\nQ 881 4594 1212 4672 \r\nQ 1544 4750 1819 4750 \r\nQ 2544 4750 2975 4387 \r\nQ 3406 4025 3406 3419 \r\nQ 3406 3131 3298 2873 \r\nQ 3191 2616 2906 2266 \r\nQ 2828 2175 2409 1742 \r\nQ 1991 1309 1228 531 \r\nz\r\n\" id=\"DejaVuSans-32\" transform=\"scale(0.015625)\"/>\r\n        <path d=\"M 691 4666 \r\nL 3169 4666 \r\nL 3169 4134 \r\nL 1269 4134 \r\nL 1269 2991 \r\nQ 1406 3038 1543 3061 \r\nQ 1681 3084 1819 3084 \r\nQ 2600 3084 3056 2656 \r\nQ 3513 2228 3513 1497 \r\nQ 3513 744 3044 326 \r\nQ 2575 -91 1722 -91 \r\nQ 1428 -91 1123 -41 \r\nQ 819 9 494 109 \r\nL 494 744 \r\nQ 775 591 1075 516 \r\nQ 1375 441 1709 441 \r\nQ 2250 441 2565 725 \r\nQ 2881 1009 2881 1497 \r\nQ 2881 1984 2565 2268 \r\nQ 2250 2553 1709 2553 \r\nQ 1456 2553 1204 2497 \r\nQ 953 2441 691 2322 \r\nL 691 4666 \r\nz\r\n\" id=\"DejaVuSans-35\" transform=\"scale(0.015625)\"/>\r\n       </defs>\r\n       <use xlink:href=\"#DejaVuSans-32\"/>\r\n       <use x=\"63.623047\" xlink:href=\"#DejaVuSans-35\"/>\r\n      </g>\r\n     </g>\r\n    </g>\r\n    <g id=\"xtick_3\">\r\n     <g id=\"line2d_3\">\r\n      <g>\r\n       <use style=\"stroke:#000000;stroke-width:0.8;\" x=\"142.89927\" xlink:href=\"#m859a24aaab\" y=\"224.64\"/>\r\n      </g>\r\n     </g>\r\n     <g id=\"text_3\">\r\n      <!-- 50 -->\r\n      <g transform=\"translate(136.53677 239.238437)scale(0.1 -0.1)\">\r\n       <use xlink:href=\"#DejaVuSans-35\"/>\r\n       <use x=\"63.623047\" xlink:href=\"#DejaVuSans-30\"/>\r\n      </g>\r\n     </g>\r\n    </g>\r\n    <g id=\"xtick_4\">\r\n     <g id=\"line2d_4\">\r\n      <g>\r\n       <use style=\"stroke:#000000;stroke-width:0.8;\" x=\"181.135908\" xlink:href=\"#m859a24aaab\" y=\"224.64\"/>\r\n      </g>\r\n     </g>\r\n     <g id=\"text_4\">\r\n      <!-- 75 -->\r\n      <g transform=\"translate(174.773408 239.238437)scale(0.1 -0.1)\">\r\n       <defs>\r\n        <path d=\"M 525 4666 \r\nL 3525 4666 \r\nL 3525 4397 \r\nL 1831 0 \r\nL 1172 0 \r\nL 2766 4134 \r\nL 525 4134 \r\nL 525 4666 \r\nz\r\n\" id=\"DejaVuSans-37\" transform=\"scale(0.015625)\"/>\r\n       </defs>\r\n       <use xlink:href=\"#DejaVuSans-37\"/>\r\n       <use x=\"63.623047\" xlink:href=\"#DejaVuSans-35\"/>\r\n      </g>\r\n     </g>\r\n    </g>\r\n    <g id=\"xtick_5\">\r\n     <g id=\"line2d_5\">\r\n      <g>\r\n       <use style=\"stroke:#000000;stroke-width:0.8;\" x=\"219.372545\" xlink:href=\"#m859a24aaab\" y=\"224.64\"/>\r\n      </g>\r\n     </g>\r\n     <g id=\"text_5\">\r\n      <!-- 100 -->\r\n      <g transform=\"translate(209.828795 239.238437)scale(0.1 -0.1)\">\r\n       <defs>\r\n        <path d=\"M 794 531 \r\nL 1825 531 \r\nL 1825 4091 \r\nL 703 3866 \r\nL 703 4441 \r\nL 1819 4666 \r\nL 2450 4666 \r\nL 2450 531 \r\nL 3481 531 \r\nL 3481 0 \r\nL 794 0 \r\nL 794 531 \r\nz\r\n\" id=\"DejaVuSans-31\" transform=\"scale(0.015625)\"/>\r\n       </defs>\r\n       <use xlink:href=\"#DejaVuSans-31\"/>\r\n       <use x=\"63.623047\" xlink:href=\"#DejaVuSans-30\"/>\r\n       <use x=\"127.246094\" xlink:href=\"#DejaVuSans-30\"/>\r\n      </g>\r\n     </g>\r\n    </g>\r\n    <g id=\"xtick_6\">\r\n     <g id=\"line2d_6\">\r\n      <g>\r\n       <use style=\"stroke:#000000;stroke-width:0.8;\" x=\"257.609183\" xlink:href=\"#m859a24aaab\" y=\"224.64\"/>\r\n      </g>\r\n     </g>\r\n     <g id=\"text_6\">\r\n      <!-- 125 -->\r\n      <g transform=\"translate(248.065433 239.238437)scale(0.1 -0.1)\">\r\n       <use xlink:href=\"#DejaVuSans-31\"/>\r\n       <use x=\"63.623047\" xlink:href=\"#DejaVuSans-32\"/>\r\n       <use x=\"127.246094\" xlink:href=\"#DejaVuSans-35\"/>\r\n      </g>\r\n     </g>\r\n    </g>\r\n    <g id=\"xtick_7\">\r\n     <g id=\"line2d_7\">\r\n      <g>\r\n       <use style=\"stroke:#000000;stroke-width:0.8;\" x=\"295.845821\" xlink:href=\"#m859a24aaab\" y=\"224.64\"/>\r\n      </g>\r\n     </g>\r\n     <g id=\"text_7\">\r\n      <!-- 150 -->\r\n      <g transform=\"translate(286.302071 239.238437)scale(0.1 -0.1)\">\r\n       <use xlink:href=\"#DejaVuSans-31\"/>\r\n       <use x=\"63.623047\" xlink:href=\"#DejaVuSans-35\"/>\r\n       <use x=\"127.246094\" xlink:href=\"#DejaVuSans-30\"/>\r\n      </g>\r\n     </g>\r\n    </g>\r\n    <g id=\"xtick_8\">\r\n     <g id=\"line2d_8\">\r\n      <g>\r\n       <use style=\"stroke:#000000;stroke-width:0.8;\" x=\"334.082458\" xlink:href=\"#m859a24aaab\" y=\"224.64\"/>\r\n      </g>\r\n     </g>\r\n     <g id=\"text_8\">\r\n      <!-- 175 -->\r\n      <g transform=\"translate(324.538708 239.238437)scale(0.1 -0.1)\">\r\n       <use xlink:href=\"#DejaVuSans-31\"/>\r\n       <use x=\"63.623047\" xlink:href=\"#DejaVuSans-37\"/>\r\n       <use x=\"127.246094\" xlink:href=\"#DejaVuSans-35\"/>\r\n      </g>\r\n     </g>\r\n    </g>\r\n    <g id=\"xtick_9\">\r\n     <g id=\"line2d_9\">\r\n      <g>\r\n       <use style=\"stroke:#000000;stroke-width:0.8;\" x=\"372.319096\" xlink:href=\"#m859a24aaab\" y=\"224.64\"/>\r\n      </g>\r\n     </g>\r\n     <g id=\"text_9\">\r\n      <!-- 200 -->\r\n      <g transform=\"translate(362.775346 239.238437)scale(0.1 -0.1)\">\r\n       <use xlink:href=\"#DejaVuSans-32\"/>\r\n       <use x=\"63.623047\" xlink:href=\"#DejaVuSans-30\"/>\r\n       <use x=\"127.246094\" xlink:href=\"#DejaVuSans-30\"/>\r\n      </g>\r\n     </g>\r\n    </g>\r\n   </g>\r\n   <g id=\"matplotlib.axis_2\">\r\n    <g id=\"ytick_1\">\r\n     <g id=\"line2d_10\">\r\n      <defs>\r\n       <path d=\"M 0 0 \r\nL -3.5 0 \r\n\" id=\"md36d4b14e6\" style=\"stroke:#000000;stroke-width:0.8;\"/>\r\n      </defs>\r\n      <g>\r\n       <use style=\"stroke:#000000;stroke-width:0.8;\" x=\"51.207813\" xlink:href=\"#md36d4b14e6\" y=\"214.919825\"/>\r\n      </g>\r\n     </g>\r\n     <g id=\"text_10\">\r\n      <!-- −0.100 -->\r\n      <g transform=\"translate(7.2 218.719043)scale(0.1 -0.1)\">\r\n       <defs>\r\n        <path d=\"M 678 2272 \r\nL 4684 2272 \r\nL 4684 1741 \r\nL 678 1741 \r\nL 678 2272 \r\nz\r\n\" id=\"DejaVuSans-2212\" transform=\"scale(0.015625)\"/>\r\n        <path d=\"M 684 794 \r\nL 1344 794 \r\nL 1344 0 \r\nL 684 0 \r\nL 684 794 \r\nz\r\n\" id=\"DejaVuSans-2e\" transform=\"scale(0.015625)\"/>\r\n       </defs>\r\n       <use xlink:href=\"#DejaVuSans-2212\"/>\r\n       <use x=\"83.789062\" xlink:href=\"#DejaVuSans-30\"/>\r\n       <use x=\"147.412109\" xlink:href=\"#DejaVuSans-2e\"/>\r\n       <use x=\"179.199219\" xlink:href=\"#DejaVuSans-31\"/>\r\n       <use x=\"242.822266\" xlink:href=\"#DejaVuSans-30\"/>\r\n       <use x=\"306.445312\" xlink:href=\"#DejaVuSans-30\"/>\r\n      </g>\r\n     </g>\r\n    </g>\r\n    <g id=\"ytick_2\">\r\n     <g id=\"line2d_11\">\r\n      <g>\r\n       <use style=\"stroke:#000000;stroke-width:0.8;\" x=\"51.207813\" xlink:href=\"#md36d4b14e6\" y=\"190.170203\"/>\r\n      </g>\r\n     </g>\r\n     <g id=\"text_11\">\r\n      <!-- −0.075 -->\r\n      <g transform=\"translate(7.2 193.969422)scale(0.1 -0.1)\">\r\n       <use xlink:href=\"#DejaVuSans-2212\"/>\r\n       <use x=\"83.789062\" xlink:href=\"#DejaVuSans-30\"/>\r\n       <use x=\"147.412109\" xlink:href=\"#DejaVuSans-2e\"/>\r\n       <use x=\"179.199219\" xlink:href=\"#DejaVuSans-30\"/>\r\n       <use x=\"242.822266\" xlink:href=\"#DejaVuSans-37\"/>\r\n       <use x=\"306.445312\" xlink:href=\"#DejaVuSans-35\"/>\r\n      </g>\r\n     </g>\r\n    </g>\r\n    <g id=\"ytick_3\">\r\n     <g id=\"line2d_12\">\r\n      <g>\r\n       <use style=\"stroke:#000000;stroke-width:0.8;\" x=\"51.207813\" xlink:href=\"#md36d4b14e6\" y=\"165.420581\"/>\r\n      </g>\r\n     </g>\r\n     <g id=\"text_12\">\r\n      <!-- −0.050 -->\r\n      <g transform=\"translate(7.2 169.2198)scale(0.1 -0.1)\">\r\n       <use xlink:href=\"#DejaVuSans-2212\"/>\r\n       <use x=\"83.789062\" xlink:href=\"#DejaVuSans-30\"/>\r\n       <use x=\"147.412109\" xlink:href=\"#DejaVuSans-2e\"/>\r\n       <use x=\"179.199219\" xlink:href=\"#DejaVuSans-30\"/>\r\n       <use x=\"242.822266\" xlink:href=\"#DejaVuSans-35\"/>\r\n       <use x=\"306.445312\" xlink:href=\"#DejaVuSans-30\"/>\r\n      </g>\r\n     </g>\r\n    </g>\r\n    <g id=\"ytick_4\">\r\n     <g id=\"line2d_13\">\r\n      <g>\r\n       <use style=\"stroke:#000000;stroke-width:0.8;\" x=\"51.207813\" xlink:href=\"#md36d4b14e6\" y=\"140.670959\"/>\r\n      </g>\r\n     </g>\r\n     <g id=\"text_13\">\r\n      <!-- −0.025 -->\r\n      <g transform=\"translate(7.2 144.470178)scale(0.1 -0.1)\">\r\n       <use xlink:href=\"#DejaVuSans-2212\"/>\r\n       <use x=\"83.789062\" xlink:href=\"#DejaVuSans-30\"/>\r\n       <use x=\"147.412109\" xlink:href=\"#DejaVuSans-2e\"/>\r\n       <use x=\"179.199219\" xlink:href=\"#DejaVuSans-30\"/>\r\n       <use x=\"242.822266\" xlink:href=\"#DejaVuSans-32\"/>\r\n       <use x=\"306.445312\" xlink:href=\"#DejaVuSans-35\"/>\r\n      </g>\r\n     </g>\r\n    </g>\r\n    <g id=\"ytick_5\">\r\n     <g id=\"line2d_14\">\r\n      <g>\r\n       <use style=\"stroke:#000000;stroke-width:0.8;\" x=\"51.207813\" xlink:href=\"#md36d4b14e6\" y=\"115.921337\"/>\r\n      </g>\r\n     </g>\r\n     <g id=\"text_14\">\r\n      <!-- 0.000 -->\r\n      <g transform=\"translate(15.579688 119.720556)scale(0.1 -0.1)\">\r\n       <use xlink:href=\"#DejaVuSans-30\"/>\r\n       <use x=\"63.623047\" xlink:href=\"#DejaVuSans-2e\"/>\r\n       <use x=\"95.410156\" xlink:href=\"#DejaVuSans-30\"/>\r\n       <use x=\"159.033203\" xlink:href=\"#DejaVuSans-30\"/>\r\n       <use x=\"222.65625\" xlink:href=\"#DejaVuSans-30\"/>\r\n      </g>\r\n     </g>\r\n    </g>\r\n    <g id=\"ytick_6\">\r\n     <g id=\"line2d_15\">\r\n      <g>\r\n       <use style=\"stroke:#000000;stroke-width:0.8;\" x=\"51.207813\" xlink:href=\"#md36d4b14e6\" y=\"91.171715\"/>\r\n      </g>\r\n     </g>\r\n     <g id=\"text_15\">\r\n      <!-- 0.025 -->\r\n      <g transform=\"translate(15.579688 94.970934)scale(0.1 -0.1)\">\r\n       <use xlink:href=\"#DejaVuSans-30\"/>\r\n       <use x=\"63.623047\" xlink:href=\"#DejaVuSans-2e\"/>\r\n       <use x=\"95.410156\" xlink:href=\"#DejaVuSans-30\"/>\r\n       <use x=\"159.033203\" xlink:href=\"#DejaVuSans-32\"/>\r\n       <use x=\"222.65625\" xlink:href=\"#DejaVuSans-35\"/>\r\n      </g>\r\n     </g>\r\n    </g>\r\n    <g id=\"ytick_7\">\r\n     <g id=\"line2d_16\">\r\n      <g>\r\n       <use style=\"stroke:#000000;stroke-width:0.8;\" x=\"51.207813\" xlink:href=\"#md36d4b14e6\" y=\"66.422093\"/>\r\n      </g>\r\n     </g>\r\n     <g id=\"text_16\">\r\n      <!-- 0.050 -->\r\n      <g transform=\"translate(15.579688 70.221312)scale(0.1 -0.1)\">\r\n       <use xlink:href=\"#DejaVuSans-30\"/>\r\n       <use x=\"63.623047\" xlink:href=\"#DejaVuSans-2e\"/>\r\n       <use x=\"95.410156\" xlink:href=\"#DejaVuSans-30\"/>\r\n       <use x=\"159.033203\" xlink:href=\"#DejaVuSans-35\"/>\r\n       <use x=\"222.65625\" xlink:href=\"#DejaVuSans-30\"/>\r\n      </g>\r\n     </g>\r\n    </g>\r\n    <g id=\"ytick_8\">\r\n     <g id=\"line2d_17\">\r\n      <g>\r\n       <use style=\"stroke:#000000;stroke-width:0.8;\" x=\"51.207813\" xlink:href=\"#md36d4b14e6\" y=\"41.672471\"/>\r\n      </g>\r\n     </g>\r\n     <g id=\"text_17\">\r\n      <!-- 0.075 -->\r\n      <g transform=\"translate(15.579688 45.47169)scale(0.1 -0.1)\">\r\n       <use xlink:href=\"#DejaVuSans-30\"/>\r\n       <use x=\"63.623047\" xlink:href=\"#DejaVuSans-2e\"/>\r\n       <use x=\"95.410156\" xlink:href=\"#DejaVuSans-30\"/>\r\n       <use x=\"159.033203\" xlink:href=\"#DejaVuSans-37\"/>\r\n       <use x=\"222.65625\" xlink:href=\"#DejaVuSans-35\"/>\r\n      </g>\r\n     </g>\r\n    </g>\r\n    <g id=\"ytick_9\">\r\n     <g id=\"line2d_18\">\r\n      <g>\r\n       <use style=\"stroke:#000000;stroke-width:0.8;\" x=\"51.207813\" xlink:href=\"#md36d4b14e6\" y=\"16.92285\"/>\r\n      </g>\r\n     </g>\r\n     <g id=\"text_18\">\r\n      <!-- 0.100 -->\r\n      <g transform=\"translate(15.579688 20.722068)scale(0.1 -0.1)\">\r\n       <use xlink:href=\"#DejaVuSans-30\"/>\r\n       <use x=\"63.623047\" xlink:href=\"#DejaVuSans-2e\"/>\r\n       <use x=\"95.410156\" xlink:href=\"#DejaVuSans-31\"/>\r\n       <use x=\"159.033203\" xlink:href=\"#DejaVuSans-30\"/>\r\n       <use x=\"222.65625\" xlink:href=\"#DejaVuSans-30\"/>\r\n      </g>\r\n     </g>\r\n    </g>\r\n   </g>\r\n   <g id=\"line2d_19\">\r\n    <path clip-path=\"url(#p26f9a67472)\" d=\"M 66.425994 131.358805 \r\nL 69.484925 160.712696 \r\nL 71.014391 173.902472 \r\nL 72.543856 185.656896 \r\nL 74.073322 195.685815 \r\nL 75.602787 203.742024 \r\nL 77.132253 209.627306 \r\nL 78.661718 213.197265 \r\nL 80.191184 214.364807 \r\nL 81.720649 213.102214 \r\nL 83.250115 209.441744 \r\nL 84.77958 203.474756 \r\nL 86.309046 195.349373 \r\nL 87.838511 185.266769 \r\nL 89.367977 173.476135 \r\nL 90.897442 160.268495 \r\nL 93.956373 130.931314 \r\nL 98.54477 85.117143 \r\nL 100.074236 70.86424 \r\nL 101.603701 57.717462 \r\nL 103.133167 45.998996 \r\nL 104.662632 35.995748 \r\nL 106.192098 27.952353 \r\nL 107.721563 22.06523 \r\nL 109.251029 18.477827 \r\nL 110.780494 17.27717 \r\nL 112.30996 18.491792 \r\nL 113.839425 22.091103 \r\nL 115.368891 27.986198 \r\nL 116.898356 36.032091 \r\nL 118.427822 46.03132 \r\nL 119.957287 57.738824 \r\nL 121.486753 70.86797 \r\nL 124.545684 100.079891 \r\nL 129.13408 145.846235 \r\nL 130.663546 160.133256 \r\nL 132.193011 173.342354 \r\nL 133.722477 185.151889 \r\nL 135.251942 195.274504 \r\nL 136.781408 203.464091 \r\nL 138.310873 209.521743 \r\nL 139.840339 213.30056 \r\nL 141.369804 214.709174 \r\nL 142.89927 213.713931 \r\nL 144.428735 210.33966 \r\nL 145.958201 204.669028 \r\nL 147.487666 196.840484 \r\nL 149.017132 187.044857 \r\nL 150.546597 175.520681 \r\nL 152.076063 162.54837 \r\nL 155.134994 133.54853 \r\nL 159.72339 87.785382 \r\nL 162.782321 60.05945 \r\nL 164.311787 48.067278 \r\nL 165.841252 37.720746 \r\nL 167.370718 29.270442 \r\nL 168.900183 22.920901 \r\nL 170.429649 18.825673 \r\nL 171.959114 17.083636 \r\nL 173.48858 17.736624 \r\nL 175.018045 20.768441 \r\nL 176.547511 26.105285 \r\nL 178.076977 33.617557 \r\nL 179.606442 43.123021 \r\nL 181.135908 54.39124 \r\nL 182.665373 67.149168 \r\nL 185.724304 95.86953 \r\nL 191.842166 156.149842 \r\nL 193.371632 169.680624 \r\nL 194.901097 181.910956 \r\nL 196.430563 192.545118 \r\nL 197.960028 201.326036 \r\nL 199.489494 208.041487 \r\nL 201.018959 212.529214 \r\nL 202.548425 214.680842 \r\nL 204.07789 214.444483 \r\nL 205.607356 211.825979 \r\nL 207.136821 206.888755 \r\nL 208.666287 199.752276 \r\nL 210.195752 190.589154 \r\nL 211.725218 179.62097 \r\nL 213.254683 167.112919 \r\nL 216.313614 138.716698 \r\nL 222.431476 78.29151 \r\nL 223.960942 64.559871 \r\nL 225.490407 52.069787 \r\nL 227.019873 41.123207 \r\nL 228.549338 31.984788 \r\nL 230.078804 24.875498 \r\nL 231.608269 19.967274 \r\nL 233.137735 17.378863 \r\nL 234.6672 17.172949 \r\nL 236.196666 19.354624 \r\nL 237.726131 23.871266 \r\nL 239.255597 30.613794 \r\nL 240.785062 39.419297 \r\nL 242.314528 50.074962 \r\nL 243.843993 62.323205 \r\nL 246.902924 90.381478 \r\nL 253.020786 150.932293 \r\nL 254.550252 164.858107 \r\nL 256.079717 177.599401 \r\nL 257.609183 188.847591 \r\nL 259.138648 198.330159 \r\nL 260.668114 205.817261 \r\nL 262.19758 211.127307 \r\nL 263.727045 214.131378 \r\nL 265.256511 214.756364 \r\nL 266.785976 212.986764 \r\nL 268.315442 208.865085 \r\nL 269.844907 202.490841 \r\nL 271.374373 194.018167 \r\nL 272.903838 183.652116 \r\nL 274.433304 171.643712 \r\nL 275.962769 158.283892 \r\nL 279.0217 128.830333 \r\nL 283.610097 83.243925 \r\nL 285.139562 69.149822 \r\nL 286.669028 56.191655 \r\nL 288.198493 44.684461 \r\nL 289.727959 34.908168 \r\nL 291.257424 27.100777 \r\nL 292.78689 21.452547 \r\nL 294.316355 18.101338 \r\nL 295.845821 17.129222 \r\nL 297.375286 18.56045 \r\nL 298.904752 22.360813 \r\nL 300.434217 28.438431 \r\nL 301.963683 36.645946 \r\nL 303.493148 46.784059 \r\nL 305.022614 58.606344 \r\nL 306.552079 71.825206 \r\nL 309.61101 101.13911 \r\nL 314.199407 146.862622 \r\nL 315.728872 161.083907 \r\nL 317.258338 174.202397 \r\nL 318.787803 185.897303 \r\nL 320.317269 195.882402 \r\nL 321.846734 203.913068 \r\nL 323.3762 209.792287 \r\nL 324.905665 213.375524 \r\nL 326.435131 214.574309 \r\nL 327.964596 213.358461 \r\nL 329.494062 209.756887 \r\nL 331.023527 203.856939 \r\nL 332.552993 195.802339 \r\nL 334.082458 185.789718 \r\nL 335.611924 174.063856 \r\nL 337.141389 160.911739 \r\nL 340.20032 131.644887 \r\nL 344.788717 85.808928 \r\nL 346.318183 71.515106 \r\nL 347.847648 58.313647 \r\nL 349.377114 46.529893 \r\nL 350.906579 36.454567 \r\nL 352.436045 28.336565 \r\nL 353.96551 22.376779 \r\nL 355.494976 18.723082 \r\nL 357.024441 17.466612 \r\nL 358.553907 18.63945 \r\nL 360.083372 22.213749 \r\nL 361.612838 28.102337 \r\nL 363.142303 36.160792 \r\nL 364.671769 46.190926 \r\nL 366.201234 57.945611 \r\nL 367.7307 71.134822 \r\nL 370.789631 100.485796 \r\nL 370.789631 100.485796 \r\n\" style=\"fill:none;stroke:#1f77b4;stroke-linecap:square;stroke-width:1.5;\"/>\r\n   </g>\r\n   <g id=\"patch_3\">\r\n    <path d=\"M 51.207813 224.64 \r\nL 51.207813 7.2 \r\n\" style=\"fill:none;stroke:#000000;stroke-linecap:square;stroke-linejoin:miter;stroke-width:0.8;\"/>\r\n   </g>\r\n   <g id=\"patch_4\">\r\n    <path d=\"M 386.007812 224.64 \r\nL 386.007812 7.2 \r\n\" style=\"fill:none;stroke:#000000;stroke-linecap:square;stroke-linejoin:miter;stroke-width:0.8;\"/>\r\n   </g>\r\n   <g id=\"patch_5\">\r\n    <path d=\"M 51.207813 224.64 \r\nL 386.007813 224.64 \r\n\" style=\"fill:none;stroke:#000000;stroke-linecap:square;stroke-linejoin:miter;stroke-width:0.8;\"/>\r\n   </g>\r\n   <g id=\"patch_6\">\r\n    <path d=\"M 51.207813 7.2 \r\nL 386.007813 7.2 \r\n\" style=\"fill:none;stroke:#000000;stroke-linecap:square;stroke-linejoin:miter;stroke-width:0.8;\"/>\r\n   </g>\r\n  </g>\r\n </g>\r\n <defs>\r\n  <clipPath id=\"p26f9a67472\">\r\n   <rect height=\"217.44\" width=\"334.8\" x=\"51.207813\" y=\"7.2\"/>\r\n  </clipPath>\r\n </defs>\r\n</svg>\r\n",
      "text/plain": [
       "<Figure size 432x288 with 1 Axes>"
      ]
     },
     "metadata": {
      "needs_background": "light"
     },
     "output_type": "display_data"
    }
   ],
   "source": [
    "plt.plot(vecs[:, 9])"
   ]
  },
  {
   "cell_type": "code",
   "execution_count": null,
   "metadata": {},
   "outputs": [],
   "source": []
  }
 ],
 "metadata": {
  "interpreter": {
   "hash": "0600588c3b5f4418cbe7b5ebc6825b479f3bc010269d8b60d75058cdd010adfe"
  },
  "kernelspec": {
   "display_name": "Python 3.7.9 64-bit",
   "name": "python3"
  },
  "language_info": {
   "codemirror_mode": {
    "name": "ipython",
    "version": 3
   },
   "file_extension": ".py",
   "mimetype": "text/x-python",
   "name": "python",
   "nbconvert_exporter": "python",
   "pygments_lexer": "ipython3",
   "version": "3.7.9"
  },
  "orig_nbformat": 4
 },
 "nbformat": 4,
 "nbformat_minor": 2
}
