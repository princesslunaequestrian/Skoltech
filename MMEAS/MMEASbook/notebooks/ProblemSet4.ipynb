{
 "cells": [
  {
   "cell_type": "markdown",
   "metadata": {},
   "source": [
    "# Problem Set 4 "
   ]
  },
  {
   "cell_type": "markdown",
   "metadata": {},
   "source": [
    "## Problem 1\n",
    "\n",
    "Explain:\n",
    "\n",
    "**(a)** why $A^TA$ is not singular when matrix $A$ has independent columns;  \n",
    "**(b)** why $A$ and $A^TA$ have the same nullspace\n",
    "\n",
    "### Solution\n",
    "\n",
    "#### (a)\n",
    "\n",
    "$A$ has independent columns $\\Rightarrow$ it is full-rank, because column rank equals row rank. Then it has an inverse matrix $A^{-1}$ and:\n",
    "\n",
    "$$\n",
    "A^TA = M,\\\\\n",
    "A^TAA^{-1} = MA^{-1},\\\\\n",
    "A^T = MA^{-1}\n",
    "$$\n",
    "\n",
    "Because $A^T$ is a full-rank matrix ($rk(A^T) = rk(A)$), $M$ also has to be a full-rank matrix, thus, not singular.\n",
    "\n",
    "#### (b)\n",
    "\n",
    "Nullspace is a space spanned by all vectors $x$ such that $Ax = 0$. Let $x$ be any vector of that space $N(A)$. Then:\n",
    "\n",
    "$$\n",
    "\\forall x \\in N(A) \\rightarrow A^TAx = A^T(Ax) = A^T0 = 0.\n",
    "$$\n",
    "\n",
    "We've proven that $N(A) \\subset N(A^TA)$. To prove that $N(A^TA) \\subset N(A)$, we do the following. Let $A^TAy = 0$, but $Ay \\neq 0$. Then:\n",
    "\n",
    "$$\n",
    "A^TAy = 0; \\hspace{3mm} Ay = b \\neq 0,\\\\\n",
    "A^Tb = 0 \\Rightarrow b \\in N(A^T).\n",
    "$$\n",
    "\n",
    "But $N(A^T) \\perp R(A^T) = C(A)$. This means that $b$ is not from column space of $A$, which is a contradiction, as $b = Ay$. Thus $b = Ay = 0$ and $N(A^TA) \\subset N(A)$. Uniting the results, we obtain $N(A) = N(A^TA)$."
   ]
  },
  {
   "cell_type": "markdown",
   "metadata": {},
   "source": [
    "## Problem 2\n",
    "\n",
    "A plane in $\\mathbb{R}^3$ is given by the equation $x_1 - 2x_2 + x_3 = 0$.\n",
    "\n",
    "**(a)** Identify two orthonormal vectors $u_1$ and $u_2$ that span the same plane.\n",
    "\n",
    "**(b)** Find a projector matrix P that projects any vector from $\\mathbb{R}^3$ to the plane and a projector $P_{\\perp}$ that projects any vector to the direction normal to the plane.\n",
    "\n",
    "**(c)** Using these two projectors find the unit normal to the plane and verify that it agrees with a normal found by calculus methods (that use the gradient).\n",
    "\n",
    "### Solution\n",
    "\n",
    "#### (a)\n",
    "\n",
    "We find any two lines belonging to the plane, vectorizethem, then perform orthogonalization and normalize the vectors.\n",
    "\n",
    "The first vector $\\hat{u}_1$ we can obtain by plugging $x_1 = 0$ into the plane equation. Then,\n",
    "\n",
    "$$\n",
    "-2x_2 + x_3 = 0; \\hspace{3mm} x_3 = 2x_2\n",
    "$$\n",
    "\n",
    "and\n",
    "\n",
    "$$\n",
    "\\hat{u}_1 = \\frac{1}{\\sqrt{5}}\\begin{bmatrix}0 & 1 & 2\\end{bmatrix}^T.\n",
    "$$\n",
    "\n",
    "The second $\\hat{u}_2$ we find by plugging $x2 = 0$:\n",
    "\n",
    "$$\n",
    "x_1 + x_3 = 0; \\hspace{3mm} x_1 = -x_3\n",
    "$$\n",
    "\n",
    "and\n",
    "\n",
    "$$\n",
    "\\hat{u}_2 = \\frac{1}{\\sqrt{2}}\\begin{bmatrix}1 & 0 & -1\\end{bmatrix}^T.\n",
    "$$\n",
    "\n",
    "The orthogonalization:\n",
    "\n",
    "$$\n",
    "u_2 = \\hat{u}_2 - proj_{u_1}(u_2) =\n",
    "\\hat{u}_2 - \\hat{u}_1\\frac{(\\hat{u}_1, \\hat{u}_2)}{|\\hat{u}_1||\\hat{u}_1|}\n",
    "$$\n",
    "\n",
    "By this operations we receive:\n",
    "\n",
    "$$\n",
    "u_1 = \\hat{u}_1,\\\\\n",
    "u_2 = \\frac{1}{\\sqrt{30}}\\begin{bmatrix}5 & 2 & -1\\end{bmatrix}^T\n",
    "$$\n",
    "\n",
    "#### (b)\n",
    "\n",
    "In our case, as $u_1$ and $u_2$ are orthonormal, plane projector $P$ can be built as:\n",
    "\n",
    "$$\n",
    "P = UU^T, \\\\\n",
    "U = \\begin{bmatrix}u_1 & u_2\\end{bmatrix}\n",
    "$$\n",
    "\n",
    "We receive the following matrix:\n",
    "\n",
    "$$\n",
    "P = \n",
    "\\begin{bmatrix}\n",
    "\\frac{5}{6} & \\frac{1}{3} & - \\frac{1}{6}\\\\\n",
    "\\frac{1}{3} & \\frac{1}{3} & \\frac{1}{3}\\\\\n",
    "- \\frac{1}{6} & \\frac{1}{3} & \\frac{5}{6}\n",
    "\\end{bmatrix}\n",
    "$$\n",
    "\n",
    "Now, to obtain $P_{\\perp}$, which is basically $nn^T$, where $n$ is a vector normal to the plane, we find the vector, whose coordinates are the coefficients in the equation of the plane:\n",
    "\n",
    "```{note}\n",
    "This is the gradient method\n",
    "```\n",
    "\n",
    "$$\n",
    "n = \\frac{1}{\\sqrt{6}}\\begin{bmatrix}1 & -2 & 1\\end{bmatrix} \n",
    "$$\n",
    "\n",
    "and put in into the matrix:\n",
    "\n",
    "$$\n",
    "P_{\\perp} = nn^T = \n",
    "\n",
    "\\begin{bmatrix}\n",
    "\\frac{1}{6} & - \\frac{1}{3} & \\frac{1}{6}\\\\\n",
    "- \\frac{1}{3} & \\frac{2}{3} & - \\frac{1}{3}\\\\\n",
    "\\frac{1}{6} & - \\frac{1}{3} & \\frac{1}{6}\n",
    "\\end{bmatrix}\n",
    "$$\n",
    "\n",
    "#### (c)\n",
    "\n",
    "```{note}\n",
    "As long as I've done the task in the wrong sequence, here is projector $P_{\\perp} obtained by other means: $P_{\\perp}$ projects to the nullspace of the $P$. So we find the vector that spans the nullspace of $P$ and make a projector out of it.\n",
    "```\n",
    "$$\n",
    "N(P) = \\begin{bmatrix}-1 & 2 & -1\\end{bmatrix}\n",
    "$$\n",
    "\n",
    "Well, from this point it is obvious, because the steps are the same.\n",
    "\n",
    "```{note}\n",
    "Below is the code for all necessary computations that were avoided being done by hand.\n",
    "```"
   ]
  },
  {
   "cell_type": "markdown",
   "metadata": {},
   "source": []
  },
  {
   "cell_type": "code",
   "execution_count": 60,
   "metadata": {},
   "outputs": [
    {
     "data": {
      "text/latex": [
       "$\\displaystyle \\left[\\begin{matrix}\\frac{\\sqrt{30}}{6}\\\\\\frac{\\sqrt{30}}{15}\\\\- \\frac{\\sqrt{30}}{30}\\end{matrix}\\right]$"
      ],
      "text/plain": [
       "Matrix([\n",
       "[  sqrt(30)/6],\n",
       "[ sqrt(30)/15],\n",
       "[-sqrt(30)/30]])"
      ]
     },
     "execution_count": 60,
     "metadata": {},
     "output_type": "execute_result"
    }
   ],
   "source": [
    "import sympy as sp\n",
    "\n",
    "############ Finding u_2\n",
    "\n",
    "u1h = sp.Matrix([0, 1, 2])*1/sp.sqrt(5)\n",
    "u2h = sp.Matrix([1, 0, -1])*1/sp.sqrt(2)\n",
    "\n",
    "u2 = u2h - u1h*u1h.dot(u2h)\n",
    "u2 = u2.normalized()\n",
    "\n",
    "u2"
   ]
  },
  {
   "cell_type": "code",
   "execution_count": 72,
   "metadata": {},
   "outputs": [
    {
     "data": {
      "text/latex": [
       "$\\displaystyle \\left[\\begin{matrix}\\frac{5}{6} & \\frac{1}{3} & - \\frac{1}{6}\\\\\\frac{1}{3} & \\frac{1}{3} & \\frac{1}{3}\\\\- \\frac{1}{6} & \\frac{1}{3} & \\frac{5}{6}\\end{matrix}\\right]$"
      ],
      "text/plain": [
       "Matrix([\n",
       "[ 5/6, 1/3, -1/6],\n",
       "[ 1/3, 1/3,  1/3],\n",
       "[-1/6, 1/3,  5/6]])"
      ]
     },
     "execution_count": 72,
     "metadata": {},
     "output_type": "execute_result"
    }
   ],
   "source": [
    "############ Finding P\n",
    "\n",
    "u1 = u1h\n",
    "\n",
    "U = u1.row_join(u2)\n",
    "\n",
    "P = U*U.T\n",
    "P"
   ]
  },
  {
   "cell_type": "code",
   "execution_count": 73,
   "metadata": {},
   "outputs": [
    {
     "data": {
      "text/latex": [
       "$\\displaystyle \\left[\\begin{matrix}\\frac{1}{6} & - \\frac{1}{3} & \\frac{1}{6}\\\\- \\frac{1}{3} & \\frac{2}{3} & - \\frac{1}{3}\\\\\\frac{1}{6} & - \\frac{1}{3} & \\frac{1}{6}\\end{matrix}\\right]$"
      ],
      "text/plain": [
       "Matrix([\n",
       "[ 1/6, -1/3,  1/6],\n",
       "[-1/3,  2/3, -1/3],\n",
       "[ 1/6, -1/3,  1/6]])"
      ]
     },
     "execution_count": 73,
     "metadata": {},
     "output_type": "execute_result"
    }
   ],
   "source": [
    "############ Finding P_perp\n",
    "\n",
    "n = sp.Matrix([1, -2, 1]).normalized()\n",
    "\n",
    "Pp = n*n.T\n",
    "Pp"
   ]
  },
  {
   "cell_type": "code",
   "execution_count": 74,
   "metadata": {},
   "outputs": [
    {
     "data": {
      "text/latex": [
       "$\\displaystyle \\left[\\begin{matrix}\\frac{1}{6} & - \\frac{1}{3} & \\frac{1}{6}\\\\- \\frac{1}{3} & \\frac{2}{3} & - \\frac{1}{3}\\\\\\frac{1}{6} & - \\frac{1}{3} & \\frac{1}{6}\\end{matrix}\\right]$"
      ],
      "text/plain": [
       "Matrix([\n",
       "[ 1/6, -1/3,  1/6],\n",
       "[-1/3,  2/3, -1/3],\n",
       "[ 1/6, -1/3,  1/6]])"
      ]
     },
     "execution_count": 74,
     "metadata": {},
     "output_type": "execute_result"
    }
   ],
   "source": [
    "############ P_perp by the means of the nullspace\n",
    "\n",
    "a = sp.Matrix(P.nullspace())\n",
    "a = a.normalized()\n",
    "a*a.T"
   ]
  },
  {
   "cell_type": "markdown",
   "metadata": {},
   "source": [
    "## Problem 3\n",
    "\n",
    "Let $M = span\\{v_1, v_2\\}$, where $v_1 = \\begin{bmatrix}1 & 0 & 1 & 1\\end{bmatrix}^T$, $v_2 = \\begin{bmatrix}1 & -1 & 0 & -1\\end{bmatrix}^T$.  \n",
    "\n",
    "**(a)** Find the orthogonal projector $P_M$ on $M$.  \n",
    "\n",
    "**(b)** Find the kernel (nullspace) and range (column space) of $P_M$.\n",
    "\n",
    "**(c)** Find $x \\in M$ which is closest, in 2-norm, to the vector $a = \\begin{bmatrix}1 & -1 & 1 & -1\\end{bmatrix}^T$."
   ]
  },
  {
   "cell_type": "markdown",
   "metadata": {},
   "source": []
  }
 ],
 "metadata": {
  "interpreter": {
   "hash": "0600588c3b5f4418cbe7b5ebc6825b479f3bc010269d8b60d75058cdd010adfe"
  },
  "kernelspec": {
   "display_name": "Python 3.7.9 64-bit",
   "language": "python",
   "name": "python3"
  },
  "language_info": {
   "codemirror_mode": {
    "name": "ipython",
    "version": 3
   },
   "file_extension": ".py",
   "mimetype": "text/x-python",
   "name": "python",
   "nbconvert_exporter": "python",
   "pygments_lexer": "ipython3",
   "version": "3.7.9"
  },
  "orig_nbformat": 4
 },
 "nbformat": 4,
 "nbformat_minor": 2
}
