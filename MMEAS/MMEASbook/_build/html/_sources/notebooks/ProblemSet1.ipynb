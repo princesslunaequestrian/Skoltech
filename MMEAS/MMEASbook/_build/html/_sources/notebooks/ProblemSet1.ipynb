{
 "cells": [
  {
   "cell_type": "markdown",
   "id": "21bda2c5",
   "metadata": {},
   "source": [
    "# Problem Set 1"
   ]
  },
  {
   "cell_type": "code",
   "execution_count": 1,
   "id": "b275b1bb",
   "metadata": {
    "tags": [
     "hide_input"
    ]
   },
   "outputs": [],
   "source": [
    "import numpy as np\n",
    "import matplotlib.pyplot as plt"
   ]
  },
  {
   "cell_type": "markdown",
   "id": "b33ed039",
   "metadata": {},
   "source": [
    "## Problem 1\n",
    "##### Some basic problems on matrix/vector multiplication.\n",
    "\n",
    "(a) Calculate by hand the following matrix/vector products:\n",
    "\n",
    "$$\n",
    "(i) \\hspace{10mm}\n",
    "\\begin{bmatrix}\n",
    "2 & 1\\\\\n",
    "\\end{bmatrix}\n",
    "\\begin{bmatrix}\n",
    "1 & −2 & 1\\\\\n",
    "2 & 3 & 2\n",
    "\\end{bmatrix};\n",
    "\\\\\n",
    "\\\\\n",
    "(ii) \\hspace{10mm}\n",
    "\\begin{bmatrix}\n",
    "2 & -1 & 1\\\\\n",
    "3 & 0 & 4\n",
    "\\end{bmatrix}\n",
    "\\begin{bmatrix}\n",
    "2 & 1\\\\\n",
    "1 & 2\\\\\n",
    "-1 & 0\n",
    "\\end{bmatrix}\n",
    "$$\n",
    "\n",
    "as a combination of columns of the left matrix aswell as a combination of rows of the right matrix.\n",
    "\n",
    "(b) Write down a permutation matrix $P_4$ that exchanges row 1 with row 3 and row 2with row 4. What is the connection of this matrix with the permutation matricesthat exchange only row 1 and row 3, and only row 2 and row 4?"
   ]
  },
  {
   "cell_type": "markdown",
   "id": "fa9a50fb",
   "metadata": {},
   "source": [
    "### Solution\n",
    "```{image} ../attachments/ProblemSet1_data/problem1.jpg\n",
    ":alt: Problem 1\n",
    ":width: 800px\n",
    ":align: center\n",
    "```\n"
   ]
  },
  {
   "cell_type": "markdown",
   "id": "ccac4188",
   "metadata": {},
   "source": [
    "## Problem 2\n",
    "\n",
    "Given a $3\\times3$ matrix $A= \\begin{bmatrix}a1&a2&a3\\end{bmatrix}$ with columns $a_i$, find a matrix $B$ that when multiplied with $A$, either from left or right, performs the following operations with $A$:\n",
    "\n",
    "(a) exchanges row 1 and row 2;  \n",
    "(b) exchanges columns 1 and 2;  \n",
    "(c) doubles the first row;  \n",
    "(d) subtracts twice row 1 from row 2.  \n",
    "Also find the inverse of this matrix. What doesthe inverse of this $B$ do?"
   ]
  },
  {
   "cell_type": "markdown",
   "id": "07f58b7b",
   "metadata": {},
   "source": [
    "### Solution\n",
    "```{image} ../attachments/ProblemSet1_data/problem2_1.jpg\n",
    ":alt: Problem 2\n",
    ":width: 800px\n",
    ":align: center\n",
    "```\n",
    "```{image} ../attachments/ProblemSet1_data/problem2 (2).jpg\n",
    ":alt: Problem 2\n",
    ":width: 800px\n",
    ":align: center\n",
    "```"
   ]
  },
  {
   "cell_type": "markdown",
   "id": "aaf39c3b",
   "metadata": {},
   "source": [
    "## Problem 3\n",
    "\n",
    "\n",
    "For matrix \n",
    "A =\n",
    "$\\begin{bmatrix}\n",
    "1 & 2 & 3\\\\\n",
    "3 & 4 & 5\\\\\n",
    "5 & 6 & 7\n",
    "\\end{bmatrix}$\n",
    ", determine the following:\n",
    "\n",
    "(a) rank;  \n",
    "(b) eigenvalues and eigenvectors;  \n",
    "(c) nullspace and left nullspace;  \n",
    "(d) column space and row space;  \n",
    "(e) write $A$ as a sum of rank-1 matrices in at least two different ways."
   ]
  },
  {
   "cell_type": "markdown",
   "id": "34da7930",
   "metadata": {},
   "source": [
    "### Solution\n",
    "\n",
    "```{image} ../attachments/ProblemSet1_data/problem3 (1).jpg\n",
    ":alt: Problem 2\n",
    ":width: 800px\n",
    ":align: center\n",
    "```\n",
    "```{image} ../attachments/ProblemSet1_data/problem3 (2).jpg\n",
    ":alt: Problem 2\n",
    ":width: 800px\n",
    ":align: center\n",
    "```"
   ]
  },
  {
   "cell_type": "markdown",
   "id": "36af99f6",
   "metadata": {},
   "source": [
    "***d) Column space and row space:***\n",
    "\n",
    "* Column space: $span(\n",
    "\\begin{bmatrix}\n",
    "1\\\\\n",
    "0\\\\\n",
    "-1\n",
    "\\end{bmatrix},\n",
    "\\begin{bmatrix}\n",
    "0\\\\\n",
    "1\\\\\n",
    "2\n",
    "\\end{bmatrix})\n",
    "$; equals to the row space.\n",
    "\n",
    "***e) write $A$  as a sum of rank-1 matrices in at least two different ways:***\n",
    "\n",
    "Obviously, we can present the matrix $A$ as a sum of single-row or single-column rank-1 matricies (with other rows or columns filled with zeros). Also, we have 3 non-colinear eigenvectors, that can be our matrix basis in the canonical decomposition (diagonalization):\n",
    "\n",
    "$$\n",
    "A = UDU^{-1} = \\sum\\limits_{i=1}\\limits^{3}{d_i\\lambda_i\\lambda_i^T}\n",
    "$$"
   ]
  },
  {
   "cell_type": "markdown",
   "id": "dbfd9e9a",
   "metadata": {},
   "source": [
    "## Problem 4\n",
    "\n",
    "The columns of matrix $C = \n",
    "\\begin{bmatrix}\n",
    "2 & 2 & 1 & 1 & 2 & 2 & 1 & 1\\\\\n",
    "1 & 2 & 2 & 1 & 1 & 2 & 2 & 1\\\\\n",
    "1 & 1 & 1 & 1 & 2 & 2 & 2 & 2\n",
    "\\end{bmatrix}\n",
    "$\n",
    "represent vertices of a cube. Describe transformations of the cube that result from the action on $C$ of the following three matrices:\n",
    "\n",
    "$A_1 = \n",
    "\\begin{bmatrix}\n",
    "1 & 2 & 2\\\\\n",
    "0 & 2 & 2\\\\\n",
    "0 & 0 & 3\n",
    "\\end{bmatrix}, \\hspace{3mm}\n",
    "A_2 = \n",
    "\\begin{bmatrix}\n",
    "1 & 2 & 2\\\\\n",
    "0 & 2 & 2\\\\\n",
    "0 & 0 & 0\n",
    "\\end{bmatrix}, \\hspace{3mm}\n",
    "A3 = \n",
    "\\begin{bmatrix}\n",
    "0 & 2 & 2\\\\\n",
    "0 & 2 & 2\\\\\n",
    "0 & 0 & 0\n",
    "\\end{bmatrix}.\n",
    "$\n",
    "\n",
    "Relate the results to the ranks of $A_k$ and to the dimensions and bases of the four fundamental subspaces of $A_k$. Is there a $3\\times3$ matrix $A$ that can transform a cube into a tetrahedron? Explain."
   ]
  },
  {
   "cell_type": "markdown",
   "id": "f1f2d33c",
   "metadata": {},
   "source": [
    "### Solution\n",
    "\n",
    "Firstly, let us see what every transformation does with the cube."
   ]
  },
  {
   "cell_type": "code",
   "execution_count": 2,
   "id": "1aef5465",
   "metadata": {
    "tags": [
     "hdie_input"
    ]
   },
   "outputs": [
    {
     "data": {
      "text/plain": [
       "<matplotlib.legend.Legend at 0x1a0e0e1eb08>"
      ]
     },
     "execution_count": 2,
     "metadata": {},
     "output_type": "execute_result"
    },
    {
     "data": {
      "image/svg+xml": "<?xml version=\"1.0\" encoding=\"utf-8\" standalone=\"no\"?>\r\n<!DOCTYPE svg PUBLIC \"-//W3C//DTD SVG 1.1//EN\"\r\n  \"http://www.w3.org/Graphics/SVG/1.1/DTD/svg11.dtd\">\r\n<svg height=\"256.979499pt\" version=\"1.1\" viewBox=\"0 0 262.797716 256.979499\" width=\"262.797716pt\" xmlns=\"http://www.w3.org/2000/svg\" xmlns:xlink=\"http://www.w3.org/1999/xlink\">\r\n <metadata>\r\n  <rdf:RDF xmlns:cc=\"http://creativecommons.org/ns#\" xmlns:dc=\"http://purl.org/dc/elements/1.1/\" xmlns:rdf=\"http://www.w3.org/1999/02/22-rdf-syntax-ns#\">\r\n   <cc:Work>\r\n    <dc:type rdf:resource=\"http://purl.org/dc/dcmitype/StillImage\"/>\r\n    <dc:date>2021-10-14T11:56:50.238602</dc:date>\r\n    <dc:format>image/svg+xml</dc:format>\r\n    <dc:creator>\r\n     <cc:Agent>\r\n      <dc:title>Matplotlib v3.4.3, https://matplotlib.org/</dc:title>\r\n     </cc:Agent>\r\n    </dc:creator>\r\n   </cc:Work>\r\n  </rdf:RDF>\r\n </metadata>\r\n <defs>\r\n  <style type=\"text/css\">*{stroke-linecap:butt;stroke-linejoin:round;}</style>\r\n </defs>\r\n <g id=\"figure_1\">\r\n  <g id=\"patch_1\">\r\n   <path d=\"M 0 256.979499 \r\nL 262.797716 256.979499 \r\nL 262.797716 0 \r\nL 0 0 \r\nz\r\n\" style=\"fill:none;\"/>\r\n  </g>\r\n  <g id=\"patch_2\">\r\n   <path d=\"M 7.2 239.758125 \r\nL 224.64 239.758125 \r\nL 224.64 22.318125 \r\nL 7.2 22.318125 \r\nz\r\n\" style=\"fill:#ffffff;\"/>\r\n  </g>\r\n  <g id=\"pane3d_1\">\r\n   <g id=\"patch_3\">\r\n    <path d=\"M 23.61822 186.144389 \r\nL 95.424009 125.955353 \r\nL 94.42584 39.152003 \r\nL 19.183773 94.060236 \r\n\" style=\"fill:#f2f2f2;opacity:0.5;stroke:#f2f2f2;stroke-linejoin:miter;\"/>\r\n   </g>\r\n  </g>\r\n  <g id=\"pane3d_2\">\r\n   <g id=\"patch_4\">\r\n    <path d=\"M 95.424009 125.955353 \r\nL 210.64668 159.446035 \r\nL 214.758571 69.652843 \r\nL 94.42584 39.152003 \r\n\" style=\"fill:#e6e6e6;opacity:0.5;stroke:#e6e6e6;stroke-linejoin:miter;\"/>\r\n   </g>\r\n  </g>\r\n  <g id=\"pane3d_3\">\r\n   <g id=\"patch_5\">\r\n    <path d=\"M 23.61822 186.144389 \r\nL 145.759879 226.035855 \r\nL 210.64668 159.446035 \r\nL 95.424009 125.955353 \r\n\" style=\"fill:#ececec;opacity:0.5;stroke:#ececec;stroke-linejoin:miter;\"/>\r\n   </g>\r\n  </g>\r\n  <g id=\"axis3d_1\">\r\n   <g id=\"line2d_1\">\r\n    <path d=\"M 23.61822 186.144389 \r\nL 145.759879 226.035855 \r\n\" style=\"fill:none;stroke:#000000;stroke-linecap:square;stroke-width:0.8;\"/>\r\n   </g>\r\n   <g id=\"text_1\">\r\n    <!-- x -->\r\n    <g transform=\"translate(63.797868 243.661389)scale(0.1 -0.1)\">\r\n     <defs>\r\n      <path d=\"M 3513 3500 \r\nL 2247 1797 \r\nL 3578 0 \r\nL 2900 0 \r\nL 1881 1375 \r\nL 863 0 \r\nL 184 0 \r\nL 1544 1831 \r\nL 300 3500 \r\nL 978 3500 \r\nL 1906 2253 \r\nL 2834 3500 \r\nL 3513 3500 \r\nz\r\n\" id=\"DejaVuSans-78\" transform=\"scale(0.015625)\"/>\r\n     </defs>\r\n     <use xlink:href=\"#DejaVuSans-78\"/>\r\n    </g>\r\n   </g>\r\n   <g id=\"Line3DCollection_1\">\r\n    <path d=\"M 25.937943 186.902011 \r\nL 97.621825 126.594171 \r\nL 96.716379 39.732588 \r\n\" style=\"fill:none;stroke:#b0b0b0;stroke-width:0.8;\"/>\r\n    <path d=\"M 47.473721 193.935596 \r\nL 118.008221 132.519692 \r\nL 117.971643 45.120178 \r\n\" style=\"fill:none;stroke:#b0b0b0;stroke-width:0.8;\"/>\r\n    <path d=\"M 69.424292 201.104653 \r\nL 138.754592 138.549843 \r\nL 139.61852 50.60703 \r\n\" style=\"fill:none;stroke:#b0b0b0;stroke-width:0.8;\"/>\r\n    <path d=\"M 91.801756 208.413132 \r\nL 159.870557 144.68742 \r\nL 161.667934 56.195914 \r\n\" style=\"fill:none;stroke:#b0b0b0;stroke-width:0.8;\"/>\r\n    <path d=\"M 114.618689 215.865143 \r\nL 181.366081 150.93532 \r\nL 184.131219 61.889702 \r\n\" style=\"fill:none;stroke:#b0b0b0;stroke-width:0.8;\"/>\r\n    <path d=\"M 137.888166 223.464954 \r\nL 203.251491 157.296545 \r\nL 207.020138 67.691375 \r\n\" style=\"fill:none;stroke:#b0b0b0;stroke-width:0.8;\"/>\r\n   </g>\r\n   <g id=\"xtick_1\">\r\n    <g id=\"line2d_2\">\r\n     <path d=\"M 26.562049 186.37695 \r\nL 24.687061 187.954382 \r\n\" style=\"fill:none;stroke:#000000;stroke-linecap:square;stroke-width:0.8;\"/>\r\n    </g>\r\n    <g id=\"text_2\">\r\n     <!-- 0 -->\r\n     <g transform=\"translate(15.215292 210.181266)scale(0.1 -0.1)\">\r\n      <defs>\r\n       <path d=\"M 2034 4250 \r\nQ 1547 4250 1301 3770 \r\nQ 1056 3291 1056 2328 \r\nQ 1056 1369 1301 889 \r\nQ 1547 409 2034 409 \r\nQ 2525 409 2770 889 \r\nQ 3016 1369 3016 2328 \r\nQ 3016 3291 2770 3770 \r\nQ 2525 4250 2034 4250 \r\nz\r\nM 2034 4750 \r\nQ 2819 4750 3233 4129 \r\nQ 3647 3509 3647 2328 \r\nQ 3647 1150 3233 529 \r\nQ 2819 -91 2034 -91 \r\nQ 1250 -91 836 529 \r\nQ 422 1150 422 2328 \r\nQ 422 3509 836 4129 \r\nQ 1250 4750 2034 4750 \r\nz\r\n\" id=\"DejaVuSans-30\" transform=\"scale(0.015625)\"/>\r\n      </defs>\r\n      <use xlink:href=\"#DejaVuSans-30\"/>\r\n     </g>\r\n    </g>\r\n   </g>\r\n   <g id=\"xtick_2\">\r\n    <g id=\"line2d_3\">\r\n     <path d=\"M 48.088295 193.400474 \r\nL 46.241918 195.008154 \r\n\" style=\"fill:none;stroke:#000000;stroke-linecap:square;stroke-width:0.8;\"/>\r\n    </g>\r\n    <g id=\"text_3\">\r\n     <!-- 2 -->\r\n     <g transform=\"translate(36.777578 217.397366)scale(0.1 -0.1)\">\r\n      <defs>\r\n       <path d=\"M 1228 531 \r\nL 3431 531 \r\nL 3431 0 \r\nL 469 0 \r\nL 469 531 \r\nQ 828 903 1448 1529 \r\nQ 2069 2156 2228 2338 \r\nQ 2531 2678 2651 2914 \r\nQ 2772 3150 2772 3378 \r\nQ 2772 3750 2511 3984 \r\nQ 2250 4219 1831 4219 \r\nQ 1534 4219 1204 4116 \r\nQ 875 4013 500 3803 \r\nL 500 4441 \r\nQ 881 4594 1212 4672 \r\nQ 1544 4750 1819 4750 \r\nQ 2544 4750 2975 4387 \r\nQ 3406 4025 3406 3419 \r\nQ 3406 3131 3298 2873 \r\nQ 3191 2616 2906 2266 \r\nQ 2828 2175 2409 1742 \r\nQ 1991 1309 1228 531 \r\nz\r\n\" id=\"DejaVuSans-32\" transform=\"scale(0.015625)\"/>\r\n      </defs>\r\n      <use xlink:href=\"#DejaVuSans-32\"/>\r\n     </g>\r\n    </g>\r\n   </g>\r\n   <g id=\"xtick_3\">\r\n    <g id=\"line2d_4\">\r\n     <path d=\"M 70.028849 200.559178 \r\nL 68.21254 202.197983 \r\n\" style=\"fill:none;stroke:#000000;stroke-linecap:square;stroke-width:0.8;\"/>\r\n    </g>\r\n    <g id=\"text_4\">\r\n     <!-- 4 -->\r\n     <g transform=\"translate(58.757091 224.753097)scale(0.1 -0.1)\">\r\n      <defs>\r\n       <path d=\"M 2419 4116 \r\nL 825 1625 \r\nL 2419 1625 \r\nL 2419 4116 \r\nz\r\nM 2253 4666 \r\nL 3047 4666 \r\nL 3047 1625 \r\nL 3713 1625 \r\nL 3713 1100 \r\nL 3047 1100 \r\nL 3047 0 \r\nL 2419 0 \r\nL 2419 1100 \r\nL 313 1100 \r\nL 313 1709 \r\nL 2253 4666 \r\nz\r\n\" id=\"DejaVuSans-34\" transform=\"scale(0.015625)\"/>\r\n      </defs>\r\n      <use xlink:href=\"#DejaVuSans-34\"/>\r\n     </g>\r\n    </g>\r\n   </g>\r\n   <g id=\"xtick_4\">\r\n    <g id=\"line2d_5\">\r\n     <path d=\"M 92.395789 207.857001 \r\nL 90.611073 209.527845 \r\n\" style=\"fill:none;stroke:#000000;stroke-linecap:square;stroke-width:0.8;\"/>\r\n    </g>\r\n    <g id=\"text_5\">\r\n     <!-- 6 -->\r\n     <g transform=\"translate(81.166059 232.252551)scale(0.1 -0.1)\">\r\n      <defs>\r\n       <path d=\"M 2113 2584 \r\nQ 1688 2584 1439 2293 \r\nQ 1191 2003 1191 1497 \r\nQ 1191 994 1439 701 \r\nQ 1688 409 2113 409 \r\nQ 2538 409 2786 701 \r\nQ 3034 994 3034 1497 \r\nQ 3034 2003 2786 2293 \r\nQ 2538 2584 2113 2584 \r\nz\r\nM 3366 4563 \r\nL 3366 3988 \r\nQ 3128 4100 2886 4159 \r\nQ 2644 4219 2406 4219 \r\nQ 1781 4219 1451 3797 \r\nQ 1122 3375 1075 2522 \r\nQ 1259 2794 1537 2939 \r\nQ 1816 3084 2150 3084 \r\nQ 2853 3084 3261 2657 \r\nQ 3669 2231 3669 1497 \r\nQ 3669 778 3244 343 \r\nQ 2819 -91 2113 -91 \r\nQ 1303 -91 875 529 \r\nQ 447 1150 447 2328 \r\nQ 447 3434 972 4092 \r\nQ 1497 4750 2381 4750 \r\nQ 2619 4750 2861 4703 \r\nQ 3103 4656 3366 4563 \r\nz\r\n\" id=\"DejaVuSans-36\" transform=\"scale(0.015625)\"/>\r\n      </defs>\r\n      <use xlink:href=\"#DejaVuSans-36\"/>\r\n     </g>\r\n    </g>\r\n   </g>\r\n   <g id=\"xtick_5\">\r\n    <g id=\"line2d_6\">\r\n     <path d=\"M 115.201666 215.29804 \r\nL 113.450141 217.001871 \r\n\" style=\"fill:none;stroke:#000000;stroke-linecap:square;stroke-width:0.8;\"/>\r\n    </g>\r\n    <g id=\"text_6\">\r\n     <!-- 8 -->\r\n     <g transform=\"translate(104.017192 239.899981)scale(0.1 -0.1)\">\r\n      <defs>\r\n       <path d=\"M 2034 2216 \r\nQ 1584 2216 1326 1975 \r\nQ 1069 1734 1069 1313 \r\nQ 1069 891 1326 650 \r\nQ 1584 409 2034 409 \r\nQ 2484 409 2743 651 \r\nQ 3003 894 3003 1313 \r\nQ 3003 1734 2745 1975 \r\nQ 2488 2216 2034 2216 \r\nz\r\nM 1403 2484 \r\nQ 997 2584 770 2862 \r\nQ 544 3141 544 3541 \r\nQ 544 4100 942 4425 \r\nQ 1341 4750 2034 4750 \r\nQ 2731 4750 3128 4425 \r\nQ 3525 4100 3525 3541 \r\nQ 3525 3141 3298 2862 \r\nQ 3072 2584 2669 2484 \r\nQ 3125 2378 3379 2068 \r\nQ 3634 1759 3634 1313 \r\nQ 3634 634 3220 271 \r\nQ 2806 -91 2034 -91 \r\nQ 1263 -91 848 271 \r\nQ 434 634 434 1313 \r\nQ 434 1759 690 2068 \r\nQ 947 2378 1403 2484 \r\nz\r\nM 1172 3481 \r\nQ 1172 3119 1398 2916 \r\nQ 1625 2713 2034 2713 \r\nQ 2441 2713 2670 2916 \r\nQ 2900 3119 2900 3481 \r\nQ 2900 3844 2670 4047 \r\nQ 2441 4250 2034 4250 \r\nQ 1625 4250 1398 4047 \r\nQ 1172 3844 1172 3481 \r\nz\r\n\" id=\"DejaVuSans-38\" transform=\"scale(0.015625)\"/>\r\n      </defs>\r\n      <use xlink:href=\"#DejaVuSans-38\"/>\r\n     </g>\r\n    </g>\r\n   </g>\r\n   <g id=\"xtick_6\">\r\n    <g id=\"line2d_7\">\r\n     <path d=\"M 138.45953 222.886552 \r\nL 136.74287 224.624356 \r\n\" style=\"fill:none;stroke:#000000;stroke-linecap:square;stroke-width:0.8;\"/>\r\n    </g>\r\n    <g id=\"text_7\">\r\n     <!-- 10 -->\r\n     <g transform=\"translate(124.142459 247.699812)scale(0.1 -0.1)\">\r\n      <defs>\r\n       <path d=\"M 794 531 \r\nL 1825 531 \r\nL 1825 4091 \r\nL 703 3866 \r\nL 703 4441 \r\nL 1819 4666 \r\nL 2450 4666 \r\nL 2450 531 \r\nL 3481 531 \r\nL 3481 0 \r\nL 794 0 \r\nL 794 531 \r\nz\r\n\" id=\"DejaVuSans-31\" transform=\"scale(0.015625)\"/>\r\n      </defs>\r\n      <use xlink:href=\"#DejaVuSans-31\"/>\r\n      <use x=\"63.623047\" xlink:href=\"#DejaVuSans-30\"/>\r\n     </g>\r\n    </g>\r\n   </g>\r\n  </g>\r\n  <g id=\"axis3d_2\">\r\n   <g id=\"line2d_8\">\r\n    <path d=\"M 210.64668 159.446035 \r\nL 145.759879 226.035855 \r\n\" style=\"fill:none;stroke:#000000;stroke-linecap:square;stroke-width:0.8;\"/>\r\n   </g>\r\n   <g id=\"text_8\">\r\n    <!-- y -->\r\n    <g transform=\"translate(203.674082 222.028913)scale(0.1 -0.1)\">\r\n     <defs>\r\n      <path d=\"M 2059 -325 \r\nQ 1816 -950 1584 -1140 \r\nQ 1353 -1331 966 -1331 \r\nL 506 -1331 \r\nL 506 -850 \r\nL 844 -850 \r\nQ 1081 -850 1212 -737 \r\nQ 1344 -625 1503 -206 \r\nL 1606 56 \r\nL 191 3500 \r\nL 800 3500 \r\nL 1894 763 \r\nL 2988 3500 \r\nL 3597 3500 \r\nL 2059 -325 \r\nz\r\n\" id=\"DejaVuSans-79\" transform=\"scale(0.015625)\"/>\r\n     </defs>\r\n     <use xlink:href=\"#DejaVuSans-79\"/>\r\n    </g>\r\n   </g>\r\n   <g id=\"Line3DCollection_2\">\r\n    <path d=\"M 20.825689 92.86204 \r\nL 25.179341 184.835827 \r\nL 147.176681 224.581868 \r\n\" style=\"fill:none;stroke:#b0b0b0;stroke-width:0.8;\"/>\r\n    <path d=\"M 36.282933 81.582048 \r\nL 39.888635 172.506205 \r\nL 160.512791 210.895738 \r\n\" style=\"fill:none;stroke:#b0b0b0;stroke-width:0.8;\"/>\r\n    <path d=\"M 51.207487 70.690788 \r\nL 54.112785 160.58324 \r\nL 173.386098 197.684558 \r\n\" style=\"fill:none;stroke:#b0b0b0;stroke-width:0.8;\"/>\r\n    <path d=\"M 65.626422 60.168506 \r\nL 67.875404 149.047139 \r\nL 185.820282 184.924026 \r\n\" style=\"fill:none;stroke:#b0b0b0;stroke-width:0.8;\"/>\r\n    <path d=\"M 79.565004 49.996764 \r\nL 81.198597 137.879376 \r\nL 197.837435 172.591471 \r\n\" style=\"fill:none;stroke:#b0b0b0;stroke-width:0.8;\"/>\r\n    <path d=\"M 93.046844 40.158331 \r\nL 94.103077 127.062584 \r\nL 209.458191 160.665717 \r\n\" style=\"fill:none;stroke:#b0b0b0;stroke-width:0.8;\"/>\r\n   </g>\r\n   <g id=\"xtick_7\">\r\n    <g id=\"line2d_9\">\r\n     <path d=\"M 146.148393 224.246857 \r\nL 149.235927 225.252759 \r\n\" style=\"fill:none;stroke:#000000;stroke-linecap:square;stroke-width:0.8;\"/>\r\n    </g>\r\n    <g id=\"text_9\">\r\n     <!-- 0 -->\r\n     <g transform=\"translate(156.928197 245.662604)scale(0.1 -0.1)\">\r\n      <use xlink:href=\"#DejaVuSans-30\"/>\r\n     </g>\r\n    </g>\r\n   </g>\r\n   <g id=\"xtick_8\">\r\n    <g id=\"line2d_10\">\r\n     <path d=\"M 159.49699 210.572452 \r\nL 162.546984 211.543135 \r\n\" style=\"fill:none;stroke:#000000;stroke-linecap:square;stroke-width:0.8;\"/>\r\n    </g>\r\n    <g id=\"text_10\">\r\n     <!-- 2 -->\r\n     <g transform=\"translate(170.045417 231.728339)scale(0.1 -0.1)\">\r\n      <use xlink:href=\"#DejaVuSans-32\"/>\r\n     </g>\r\n    </g>\r\n   </g>\r\n   <g id=\"xtick_9\">\r\n    <g id=\"line2d_11\">\r\n     <path d=\"M 172.382544 197.372391 \r\nL 175.395721 198.309674 \r\n\" style=\"fill:none;stroke:#000000;stroke-linecap:square;stroke-width:0.8;\"/>\r\n    </g>\r\n    <g id=\"text_11\">\r\n     <!-- 4 -->\r\n     <g transform=\"translate(182.707107 218.277979)scale(0.1 -0.1)\">\r\n      <use xlink:href=\"#DejaVuSans-34\"/>\r\n     </g>\r\n    </g>\r\n   </g>\r\n   <g id=\"xtick_10\">\r\n    <g id=\"line2d_12\">\r\n     <path d=\"M 184.828738 184.622415 \r\nL 187.805814 185.527992 \r\n\" style=\"fill:none;stroke:#000000;stroke-linecap:square;stroke-width:0.8;\"/>\r\n    </g>\r\n    <g id=\"text_12\">\r\n     <!-- 6 -->\r\n     <g transform=\"translate(194.936591 205.286746)scale(0.1 -0.1)\">\r\n      <use xlink:href=\"#DejaVuSans-36\"/>\r\n     </g>\r\n    </g>\r\n   </g>\r\n   <g id=\"xtick_11\">\r\n    <g id=\"line2d_13\">\r\n     <path d=\"M 196.857666 172.299888 \r\nL 199.799347 173.175342 \r\n\" style=\"fill:none;stroke:#000000;stroke-linecap:square;stroke-width:0.8;\"/>\r\n    </g>\r\n    <g id=\"text_13\">\r\n     <!-- 8 -->\r\n     <g transform=\"translate(206.755628 192.731526)scale(0.1 -0.1)\">\r\n      <use xlink:href=\"#DejaVuSans-38\"/>\r\n     </g>\r\n    </g>\r\n   </g>\r\n   <g id=\"xtick_12\">\r\n    <g id=\"line2d_14\">\r\n     <path d=\"M 208.489966 160.383671 \r\nL 211.396948 161.23048 \r\n\" style=\"fill:none;stroke:#000000;stroke-linecap:square;stroke-width:0.8;\"/>\r\n    </g>\r\n    <g id=\"text_14\">\r\n     <!-- 10 -->\r\n     <g transform=\"translate(215.003289 180.590732)scale(0.1 -0.1)\">\r\n      <use xlink:href=\"#DejaVuSans-31\"/>\r\n      <use x=\"63.623047\" xlink:href=\"#DejaVuSans-30\"/>\r\n     </g>\r\n    </g>\r\n   </g>\r\n  </g>\r\n  <g id=\"axis3d_3\">\r\n   <g id=\"line2d_15\">\r\n    <path d=\"M 210.64668 159.446035 \r\nL 214.758571 69.652843 \r\n\" style=\"fill:none;stroke:#000000;stroke-linecap:square;stroke-width:0.8;\"/>\r\n   </g>\r\n   <g id=\"text_15\">\r\n    <!-- z -->\r\n    <g transform=\"translate(250.349279 112.891103)scale(0.1 -0.1)\">\r\n     <defs>\r\n      <path d=\"M 353 3500 \r\nL 3084 3500 \r\nL 3084 2975 \r\nL 922 459 \r\nL 3084 459 \r\nL 3084 0 \r\nL 275 0 \r\nL 275 525 \r\nL 2438 3041 \r\nL 353 3041 \r\nL 353 3500 \r\nz\r\n\" id=\"DejaVuSans-7a\" transform=\"scale(0.015625)\"/>\r\n     </defs>\r\n     <use xlink:href=\"#DejaVuSans-7a\"/>\r\n    </g>\r\n   </g>\r\n   <g id=\"Line3DCollection_3\">\r\n    <path d=\"M 210.897812 153.961962 \r\nL 95.362925 120.643365 \r\nL 23.347816 180.529294 \r\n\" style=\"fill:none;stroke:#b0b0b0;stroke-width:0.8;\"/>\r\n    <path d=\"M 211.47702 141.313543 \r\nL 95.222103 108.397068 \r\nL 22.723949 167.574279 \r\n\" style=\"fill:none;stroke:#b0b0b0;stroke-width:0.8;\"/>\r\n    <path d=\"M 212.063563 128.504922 \r\nL 95.079582 96.003087 \r\nL 22.091878 154.448909 \r\n\" style=\"fill:none;stroke:#b0b0b0;stroke-width:0.8;\"/>\r\n    <path d=\"M 212.657584 115.533036 \r\nL 94.935332 83.458734 \r\nL 21.45144 141.149802 \r\n\" style=\"fill:none;stroke:#b0b0b0;stroke-width:0.8;\"/>\r\n    <path d=\"M 213.259224 102.394743 \r\nL 94.789321 70.761255 \r\nL 20.802468 127.673484 \r\n\" style=\"fill:none;stroke:#b0b0b0;stroke-width:0.8;\"/>\r\n    <path d=\"M 213.868633 89.086821 \r\nL 94.641517 57.90783 \r\nL 20.144791 114.016391 \r\n\" style=\"fill:none;stroke:#b0b0b0;stroke-width:0.8;\"/>\r\n    <path d=\"M 214.48596 75.605962 \r\nL 94.491886 44.895568 \r\nL 19.478232 100.17486 \r\n\" style=\"fill:none;stroke:#b0b0b0;stroke-width:0.8;\"/>\r\n   </g>\r\n   <g id=\"xtick_13\">\r\n    <g id=\"line2d_16\">\r\n     <path d=\"M 209.928032 153.682291 \r\nL 212.839685 154.52197 \r\n\" style=\"fill:none;stroke:#000000;stroke-linecap:square;stroke-width:0.8;\"/>\r\n    </g>\r\n    <g id=\"text_16\">\r\n     <!-- 0 -->\r\n     <g transform=\"translate(226.00175 158.970217)scale(0.1 -0.1)\">\r\n      <use xlink:href=\"#DejaVuSans-30\"/>\r\n     </g>\r\n    </g>\r\n   </g>\r\n   <g id=\"xtick_14\">\r\n    <g id=\"line2d_17\">\r\n     <path d=\"M 210.500908 141.037166 \r\nL 213.431586 141.86696 \r\n\" style=\"fill:none;stroke:#000000;stroke-linecap:square;stroke-width:0.8;\"/>\r\n    </g>\r\n    <g id=\"text_17\">\r\n     <!-- 1 -->\r\n     <g transform=\"translate(226.693458 146.352357)scale(0.1 -0.1)\">\r\n      <use xlink:href=\"#DejaVuSans-31\"/>\r\n     </g>\r\n    </g>\r\n   </g>\r\n   <g id=\"xtick_15\">\r\n    <g id=\"line2d_18\">\r\n     <path d=\"M 211.081037 128.231945 \r\nL 214.03099 129.051535 \r\n\" style=\"fill:none;stroke:#000000;stroke-linecap:square;stroke-width:0.8;\"/>\r\n    </g>\r\n    <g id=\"text_18\">\r\n     <!-- 2 -->\r\n     <g transform=\"translate(227.393895 133.575276)scale(0.1 -0.1)\">\r\n      <use xlink:href=\"#DejaVuSans-32\"/>\r\n     </g>\r\n    </g>\r\n   </g>\r\n   <g id=\"xtick_16\">\r\n    <g id=\"line2d_19\">\r\n     <path d=\"M 211.668557 115.263568 \r\nL 214.638041 116.072626 \r\n\" style=\"fill:none;stroke:#000000;stroke-linecap:square;stroke-width:0.8;\"/>\r\n    </g>\r\n    <g id=\"text_19\">\r\n     <!-- 3 -->\r\n     <g transform=\"translate(228.103227 120.635943)scale(0.1 -0.1)\">\r\n      <defs>\r\n       <path d=\"M 2597 2516 \r\nQ 3050 2419 3304 2112 \r\nQ 3559 1806 3559 1356 \r\nQ 3559 666 3084 287 \r\nQ 2609 -91 1734 -91 \r\nQ 1441 -91 1130 -33 \r\nQ 819 25 488 141 \r\nL 488 750 \r\nQ 750 597 1062 519 \r\nQ 1375 441 1716 441 \r\nQ 2309 441 2620 675 \r\nQ 2931 909 2931 1356 \r\nQ 2931 1769 2642 2001 \r\nQ 2353 2234 1838 2234 \r\nL 1294 2234 \r\nL 1294 2753 \r\nL 1863 2753 \r\nQ 2328 2753 2575 2939 \r\nQ 2822 3125 2822 3475 \r\nQ 2822 3834 2567 4026 \r\nQ 2313 4219 1838 4219 \r\nQ 1578 4219 1281 4162 \r\nQ 984 4106 628 3988 \r\nL 628 4550 \r\nQ 988 4650 1302 4700 \r\nQ 1616 4750 1894 4750 \r\nQ 2613 4750 3031 4423 \r\nQ 3450 4097 3450 3541 \r\nQ 3450 3153 3228 2886 \r\nQ 3006 2619 2597 2516 \r\nz\r\n\" id=\"DejaVuSans-33\" transform=\"scale(0.015625)\"/>\r\n      </defs>\r\n      <use xlink:href=\"#DejaVuSans-33\"/>\r\n     </g>\r\n    </g>\r\n   </g>\r\n   <g id=\"xtick_17\">\r\n    <g id=\"line2d_20\">\r\n     <path d=\"M 212.263612 102.128897 \r\nL 215.252885 102.927085 \r\n\" style=\"fill:none;stroke:#000000;stroke-linecap:square;stroke-width:0.8;\"/>\r\n    </g>\r\n    <g id=\"text_20\">\r\n     <!-- 4 -->\r\n     <g transform=\"translate(228.821623 107.531246)scale(0.1 -0.1)\">\r\n      <use xlink:href=\"#DejaVuSans-34\"/>\r\n     </g>\r\n    </g>\r\n   </g>\r\n   <g id=\"xtick_18\">\r\n    <g id=\"line2d_21\">\r\n     <path d=\"M 212.866346 88.824713 \r\nL 215.875674 89.61168 \r\n\" style=\"fill:none;stroke:#000000;stroke-linecap:square;stroke-width:0.8;\"/>\r\n    </g>\r\n    <g id=\"text_21\">\r\n     <!-- 5 -->\r\n     <g transform=\"translate(229.54926 94.257996)scale(0.1 -0.1)\">\r\n      <defs>\r\n       <path d=\"M 691 4666 \r\nL 3169 4666 \r\nL 3169 4134 \r\nL 1269 4134 \r\nL 1269 2991 \r\nQ 1406 3038 1543 3061 \r\nQ 1681 3084 1819 3084 \r\nQ 2600 3084 3056 2656 \r\nQ 3513 2228 3513 1497 \r\nQ 3513 744 3044 326 \r\nQ 2575 -91 1722 -91 \r\nQ 1428 -91 1123 -41 \r\nQ 819 9 494 109 \r\nL 494 744 \r\nQ 775 591 1075 516 \r\nQ 1375 441 1709 441 \r\nQ 2250 441 2565 725 \r\nQ 2881 1009 2881 1497 \r\nQ 2881 1984 2565 2268 \r\nQ 2250 2553 1709 2553 \r\nQ 1456 2553 1204 2497 \r\nQ 953 2441 691 2322 \r\nL 691 4666 \r\nz\r\n\" id=\"DejaVuSans-35\" transform=\"scale(0.015625)\"/>\r\n      </defs>\r\n      <use xlink:href=\"#DejaVuSans-35\"/>\r\n     </g>\r\n    </g>\r\n   </g>\r\n   <g id=\"xtick_19\">\r\n    <g id=\"line2d_22\">\r\n     <path d=\"M 213.476909 75.347713 \r\nL 216.506563 76.1231 \r\n\" style=\"fill:none;stroke:#000000;stroke-linecap:square;stroke-width:0.8;\"/>\r\n    </g>\r\n    <g id=\"text_22\">\r\n     <!-- 6 -->\r\n     <g transform=\"translate(230.286317 80.812919)scale(0.1 -0.1)\">\r\n      <use xlink:href=\"#DejaVuSans-36\"/>\r\n     </g>\r\n    </g>\r\n   </g>\r\n  </g>\r\n  <g id=\"axes_1\">\r\n   <g id=\"Path3DCollection_1\">\r\n    <defs>\r\n     <path d=\"M 0 2.236068 \r\nC 0.593012 2.236068 1.161816 2.000462 1.581139 1.581139 \r\nC 2.000462 1.161816 2.236068 0.593012 2.236068 -0 \r\nC 2.236068 -0.593012 2.000462 -1.161816 1.581139 -1.581139 \r\nC 1.161816 -2.000462 0.593012 -2.236068 0 -2.236068 \r\nC -0.593012 -2.236068 -1.161816 -2.000462 -1.581139 -1.581139 \r\nC -2.000462 -1.161816 -2.236068 -0.593012 -2.236068 0 \r\nC -2.236068 0.593012 -2.000462 1.161816 -1.581139 1.581139 \r\nC -1.161816 2.000462 -0.593012 2.236068 0 2.236068 \r\nz\r\n\" id=\"C0_0_2980c59242\"/>\r\n    </defs>\r\n    <g clip-path=\"url(#pfe57d6c338)\">\r\n     <use style=\"fill:#ffff00;fill-opacity:0.3;stroke:#ffff00;stroke-opacity:0.3;\" x=\"168.31341\" xlink:href=\"#C0_0_2980c59242\" y=\"158.258986\"/>\r\n    </g>\r\n    <g clip-path=\"url(#pfe57d6c338)\">\r\n     <use style=\"fill:#ffff00;fill-opacity:0.3;stroke:#ffff00;stroke-opacity:0.3;\" x=\"168.31341\" xlink:href=\"#C0_0_2980c59242\" y=\"158.258986\"/>\r\n    </g>\r\n    <g clip-path=\"url(#pfe57d6c338)\">\r\n     <use style=\"fill:#ffff00;fill-opacity:0.647379;stroke:#ffff00;stroke-opacity:0.647379;\" x=\"133.836787\" xlink:href=\"#C0_0_2980c59242\" y=\"163.566828\"/>\r\n    </g>\r\n    <g clip-path=\"url(#pfe57d6c338)\">\r\n     <use style=\"fill:#ffff00;fill-opacity:0.647379;stroke:#ffff00;stroke-opacity:0.647379;\" x=\"133.836787\" xlink:href=\"#C0_0_2980c59242\" y=\"163.566828\"/>\r\n    </g>\r\n    <g clip-path=\"url(#pfe57d6c338)\">\r\n     <use style=\"fill:#ffff00;fill-opacity:0.647379;stroke:#ffff00;stroke-opacity:0.647379;\" x=\"133.836787\" xlink:href=\"#C0_0_2980c59242\" y=\"163.566828\"/>\r\n    </g>\r\n    <g clip-path=\"url(#pfe57d6c338)\">\r\n     <use style=\"fill:#ffff00;fill-opacity:0.647379;stroke:#ffff00;stroke-opacity:0.647379;\" x=\"133.836787\" xlink:href=\"#C0_0_2980c59242\" y=\"163.566828\"/>\r\n    </g>\r\n    <g clip-path=\"url(#pfe57d6c338)\">\r\n     <use style=\"fill:#ffff00;stroke:#ffff00;\" x=\"98.839873\" xlink:href=\"#C0_0_2980c59242\" y=\"168.954771\"/>\r\n    </g>\r\n    <g clip-path=\"url(#pfe57d6c338)\">\r\n     <use style=\"fill:#ffff00;stroke:#ffff00;\" x=\"98.839873\" xlink:href=\"#C0_0_2980c59242\" y=\"168.954771\"/>\r\n    </g>\r\n   </g>\r\n   <g id=\"text_23\">\r\n    <!-- Cube Transformations -->\r\n    <g transform=\"translate(50.384063 16.318125)scale(0.12 -0.12)\">\r\n     <defs>\r\n      <path d=\"M 4122 4306 \r\nL 4122 3641 \r\nQ 3803 3938 3442 4084 \r\nQ 3081 4231 2675 4231 \r\nQ 1875 4231 1450 3742 \r\nQ 1025 3253 1025 2328 \r\nQ 1025 1406 1450 917 \r\nQ 1875 428 2675 428 \r\nQ 3081 428 3442 575 \r\nQ 3803 722 4122 1019 \r\nL 4122 359 \r\nQ 3791 134 3420 21 \r\nQ 3050 -91 2638 -91 \r\nQ 1578 -91 968 557 \r\nQ 359 1206 359 2328 \r\nQ 359 3453 968 4101 \r\nQ 1578 4750 2638 4750 \r\nQ 3056 4750 3426 4639 \r\nQ 3797 4528 4122 4306 \r\nz\r\n\" id=\"DejaVuSans-43\" transform=\"scale(0.015625)\"/>\r\n      <path d=\"M 544 1381 \r\nL 544 3500 \r\nL 1119 3500 \r\nL 1119 1403 \r\nQ 1119 906 1312 657 \r\nQ 1506 409 1894 409 \r\nQ 2359 409 2629 706 \r\nQ 2900 1003 2900 1516 \r\nL 2900 3500 \r\nL 3475 3500 \r\nL 3475 0 \r\nL 2900 0 \r\nL 2900 538 \r\nQ 2691 219 2414 64 \r\nQ 2138 -91 1772 -91 \r\nQ 1169 -91 856 284 \r\nQ 544 659 544 1381 \r\nz\r\nM 1991 3584 \r\nL 1991 3584 \r\nz\r\n\" id=\"DejaVuSans-75\" transform=\"scale(0.015625)\"/>\r\n      <path d=\"M 3116 1747 \r\nQ 3116 2381 2855 2742 \r\nQ 2594 3103 2138 3103 \r\nQ 1681 3103 1420 2742 \r\nQ 1159 2381 1159 1747 \r\nQ 1159 1113 1420 752 \r\nQ 1681 391 2138 391 \r\nQ 2594 391 2855 752 \r\nQ 3116 1113 3116 1747 \r\nz\r\nM 1159 2969 \r\nQ 1341 3281 1617 3432 \r\nQ 1894 3584 2278 3584 \r\nQ 2916 3584 3314 3078 \r\nQ 3713 2572 3713 1747 \r\nQ 3713 922 3314 415 \r\nQ 2916 -91 2278 -91 \r\nQ 1894 -91 1617 61 \r\nQ 1341 213 1159 525 \r\nL 1159 0 \r\nL 581 0 \r\nL 581 4863 \r\nL 1159 4863 \r\nL 1159 2969 \r\nz\r\n\" id=\"DejaVuSans-62\" transform=\"scale(0.015625)\"/>\r\n      <path d=\"M 3597 1894 \r\nL 3597 1613 \r\nL 953 1613 \r\nQ 991 1019 1311 708 \r\nQ 1631 397 2203 397 \r\nQ 2534 397 2845 478 \r\nQ 3156 559 3463 722 \r\nL 3463 178 \r\nQ 3153 47 2828 -22 \r\nQ 2503 -91 2169 -91 \r\nQ 1331 -91 842 396 \r\nQ 353 884 353 1716 \r\nQ 353 2575 817 3079 \r\nQ 1281 3584 2069 3584 \r\nQ 2775 3584 3186 3129 \r\nQ 3597 2675 3597 1894 \r\nz\r\nM 3022 2063 \r\nQ 3016 2534 2758 2815 \r\nQ 2500 3097 2075 3097 \r\nQ 1594 3097 1305 2825 \r\nQ 1016 2553 972 2059 \r\nL 3022 2063 \r\nz\r\n\" id=\"DejaVuSans-65\" transform=\"scale(0.015625)\"/>\r\n      <path id=\"DejaVuSans-20\" transform=\"scale(0.015625)\"/>\r\n      <path d=\"M -19 4666 \r\nL 3928 4666 \r\nL 3928 4134 \r\nL 2272 4134 \r\nL 2272 0 \r\nL 1638 0 \r\nL 1638 4134 \r\nL -19 4134 \r\nL -19 4666 \r\nz\r\n\" id=\"DejaVuSans-54\" transform=\"scale(0.015625)\"/>\r\n      <path d=\"M 2631 2963 \r\nQ 2534 3019 2420 3045 \r\nQ 2306 3072 2169 3072 \r\nQ 1681 3072 1420 2755 \r\nQ 1159 2438 1159 1844 \r\nL 1159 0 \r\nL 581 0 \r\nL 581 3500 \r\nL 1159 3500 \r\nL 1159 2956 \r\nQ 1341 3275 1631 3429 \r\nQ 1922 3584 2338 3584 \r\nQ 2397 3584 2469 3576 \r\nQ 2541 3569 2628 3553 \r\nL 2631 2963 \r\nz\r\n\" id=\"DejaVuSans-72\" transform=\"scale(0.015625)\"/>\r\n      <path d=\"M 2194 1759 \r\nQ 1497 1759 1228 1600 \r\nQ 959 1441 959 1056 \r\nQ 959 750 1161 570 \r\nQ 1363 391 1709 391 \r\nQ 2188 391 2477 730 \r\nQ 2766 1069 2766 1631 \r\nL 2766 1759 \r\nL 2194 1759 \r\nz\r\nM 3341 1997 \r\nL 3341 0 \r\nL 2766 0 \r\nL 2766 531 \r\nQ 2569 213 2275 61 \r\nQ 1981 -91 1556 -91 \r\nQ 1019 -91 701 211 \r\nQ 384 513 384 1019 \r\nQ 384 1609 779 1909 \r\nQ 1175 2209 1959 2209 \r\nL 2766 2209 \r\nL 2766 2266 \r\nQ 2766 2663 2505 2880 \r\nQ 2244 3097 1772 3097 \r\nQ 1472 3097 1187 3025 \r\nQ 903 2953 641 2809 \r\nL 641 3341 \r\nQ 956 3463 1253 3523 \r\nQ 1550 3584 1831 3584 \r\nQ 2591 3584 2966 3190 \r\nQ 3341 2797 3341 1997 \r\nz\r\n\" id=\"DejaVuSans-61\" transform=\"scale(0.015625)\"/>\r\n      <path d=\"M 3513 2113 \r\nL 3513 0 \r\nL 2938 0 \r\nL 2938 2094 \r\nQ 2938 2591 2744 2837 \r\nQ 2550 3084 2163 3084 \r\nQ 1697 3084 1428 2787 \r\nQ 1159 2491 1159 1978 \r\nL 1159 0 \r\nL 581 0 \r\nL 581 3500 \r\nL 1159 3500 \r\nL 1159 2956 \r\nQ 1366 3272 1645 3428 \r\nQ 1925 3584 2291 3584 \r\nQ 2894 3584 3203 3211 \r\nQ 3513 2838 3513 2113 \r\nz\r\n\" id=\"DejaVuSans-6e\" transform=\"scale(0.015625)\"/>\r\n      <path d=\"M 2834 3397 \r\nL 2834 2853 \r\nQ 2591 2978 2328 3040 \r\nQ 2066 3103 1784 3103 \r\nQ 1356 3103 1142 2972 \r\nQ 928 2841 928 2578 \r\nQ 928 2378 1081 2264 \r\nQ 1234 2150 1697 2047 \r\nL 1894 2003 \r\nQ 2506 1872 2764 1633 \r\nQ 3022 1394 3022 966 \r\nQ 3022 478 2636 193 \r\nQ 2250 -91 1575 -91 \r\nQ 1294 -91 989 -36 \r\nQ 684 19 347 128 \r\nL 347 722 \r\nQ 666 556 975 473 \r\nQ 1284 391 1588 391 \r\nQ 1994 391 2212 530 \r\nQ 2431 669 2431 922 \r\nQ 2431 1156 2273 1281 \r\nQ 2116 1406 1581 1522 \r\nL 1381 1569 \r\nQ 847 1681 609 1914 \r\nQ 372 2147 372 2553 \r\nQ 372 3047 722 3315 \r\nQ 1072 3584 1716 3584 \r\nQ 2034 3584 2315 3537 \r\nQ 2597 3491 2834 3397 \r\nz\r\n\" id=\"DejaVuSans-73\" transform=\"scale(0.015625)\"/>\r\n      <path d=\"M 2375 4863 \r\nL 2375 4384 \r\nL 1825 4384 \r\nQ 1516 4384 1395 4259 \r\nQ 1275 4134 1275 3809 \r\nL 1275 3500 \r\nL 2222 3500 \r\nL 2222 3053 \r\nL 1275 3053 \r\nL 1275 0 \r\nL 697 0 \r\nL 697 3053 \r\nL 147 3053 \r\nL 147 3500 \r\nL 697 3500 \r\nL 697 3744 \r\nQ 697 4328 969 4595 \r\nQ 1241 4863 1831 4863 \r\nL 2375 4863 \r\nz\r\n\" id=\"DejaVuSans-66\" transform=\"scale(0.015625)\"/>\r\n      <path d=\"M 1959 3097 \r\nQ 1497 3097 1228 2736 \r\nQ 959 2375 959 1747 \r\nQ 959 1119 1226 758 \r\nQ 1494 397 1959 397 \r\nQ 2419 397 2687 759 \r\nQ 2956 1122 2956 1747 \r\nQ 2956 2369 2687 2733 \r\nQ 2419 3097 1959 3097 \r\nz\r\nM 1959 3584 \r\nQ 2709 3584 3137 3096 \r\nQ 3566 2609 3566 1747 \r\nQ 3566 888 3137 398 \r\nQ 2709 -91 1959 -91 \r\nQ 1206 -91 779 398 \r\nQ 353 888 353 1747 \r\nQ 353 2609 779 3096 \r\nQ 1206 3584 1959 3584 \r\nz\r\n\" id=\"DejaVuSans-6f\" transform=\"scale(0.015625)\"/>\r\n      <path d=\"M 3328 2828 \r\nQ 3544 3216 3844 3400 \r\nQ 4144 3584 4550 3584 \r\nQ 5097 3584 5394 3201 \r\nQ 5691 2819 5691 2113 \r\nL 5691 0 \r\nL 5113 0 \r\nL 5113 2094 \r\nQ 5113 2597 4934 2840 \r\nQ 4756 3084 4391 3084 \r\nQ 3944 3084 3684 2787 \r\nQ 3425 2491 3425 1978 \r\nL 3425 0 \r\nL 2847 0 \r\nL 2847 2094 \r\nQ 2847 2600 2669 2842 \r\nQ 2491 3084 2119 3084 \r\nQ 1678 3084 1418 2786 \r\nQ 1159 2488 1159 1978 \r\nL 1159 0 \r\nL 581 0 \r\nL 581 3500 \r\nL 1159 3500 \r\nL 1159 2956 \r\nQ 1356 3278 1631 3431 \r\nQ 1906 3584 2284 3584 \r\nQ 2666 3584 2933 3390 \r\nQ 3200 3197 3328 2828 \r\nz\r\n\" id=\"DejaVuSans-6d\" transform=\"scale(0.015625)\"/>\r\n      <path d=\"M 1172 4494 \r\nL 1172 3500 \r\nL 2356 3500 \r\nL 2356 3053 \r\nL 1172 3053 \r\nL 1172 1153 \r\nQ 1172 725 1289 603 \r\nQ 1406 481 1766 481 \r\nL 2356 481 \r\nL 2356 0 \r\nL 1766 0 \r\nQ 1100 0 847 248 \r\nQ 594 497 594 1153 \r\nL 594 3053 \r\nL 172 3053 \r\nL 172 3500 \r\nL 594 3500 \r\nL 594 4494 \r\nL 1172 4494 \r\nz\r\n\" id=\"DejaVuSans-74\" transform=\"scale(0.015625)\"/>\r\n      <path d=\"M 603 3500 \r\nL 1178 3500 \r\nL 1178 0 \r\nL 603 0 \r\nL 603 3500 \r\nz\r\nM 603 4863 \r\nL 1178 4863 \r\nL 1178 4134 \r\nL 603 4134 \r\nL 603 4863 \r\nz\r\n\" id=\"DejaVuSans-69\" transform=\"scale(0.015625)\"/>\r\n     </defs>\r\n     <use xlink:href=\"#DejaVuSans-43\"/>\r\n     <use x=\"69.824219\" xlink:href=\"#DejaVuSans-75\"/>\r\n     <use x=\"133.203125\" xlink:href=\"#DejaVuSans-62\"/>\r\n     <use x=\"196.679688\" xlink:href=\"#DejaVuSans-65\"/>\r\n     <use x=\"258.203125\" xlink:href=\"#DejaVuSans-20\"/>\r\n     <use x=\"289.990234\" xlink:href=\"#DejaVuSans-54\"/>\r\n     <use x=\"336.324219\" xlink:href=\"#DejaVuSans-72\"/>\r\n     <use x=\"377.4375\" xlink:href=\"#DejaVuSans-61\"/>\r\n     <use x=\"438.716797\" xlink:href=\"#DejaVuSans-6e\"/>\r\n     <use x=\"502.095703\" xlink:href=\"#DejaVuSans-73\"/>\r\n     <use x=\"554.195312\" xlink:href=\"#DejaVuSans-66\"/>\r\n     <use x=\"589.400391\" xlink:href=\"#DejaVuSans-6f\"/>\r\n     <use x=\"650.582031\" xlink:href=\"#DejaVuSans-72\"/>\r\n     <use x=\"689.945312\" xlink:href=\"#DejaVuSans-6d\"/>\r\n     <use x=\"787.357422\" xlink:href=\"#DejaVuSans-61\"/>\r\n     <use x=\"848.636719\" xlink:href=\"#DejaVuSans-74\"/>\r\n     <use x=\"887.845703\" xlink:href=\"#DejaVuSans-69\"/>\r\n     <use x=\"915.628906\" xlink:href=\"#DejaVuSans-6f\"/>\r\n     <use x=\"976.810547\" xlink:href=\"#DejaVuSans-6e\"/>\r\n     <use x=\"1040.189453\" xlink:href=\"#DejaVuSans-73\"/>\r\n    </g>\r\n   </g>\r\n   <g id=\"Path3DCollection_2\">\r\n    <defs>\r\n     <path d=\"M 0 2.236068 \r\nC 0.593012 2.236068 1.161816 2.000462 1.581139 1.581139 \r\nC 2.000462 1.161816 2.236068 0.593012 2.236068 -0 \r\nC 2.236068 -0.593012 2.000462 -1.161816 1.581139 -1.581139 \r\nC 1.161816 -2.000462 0.593012 -2.236068 0 -2.236068 \r\nC -0.593012 -2.236068 -1.161816 -2.000462 -1.581139 -1.581139 \r\nC -2.000462 -1.161816 -2.236068 -0.593012 -2.236068 0 \r\nC -2.236068 0.593012 -2.000462 1.161816 -1.581139 1.581139 \r\nC -1.161816 2.000462 -0.593012 2.236068 0 2.236068 \r\nz\r\n\" id=\"C1_0_8765c68196\"/>\r\n    </defs>\r\n    <g clip-path=\"url(#pfe57d6c338)\">\r\n     <use style=\"fill:#008000;fill-opacity:0.3;stroke:#008000;stroke-opacity:0.3;\" x=\"179.377386\" xlink:href=\"#C1_0_8765c68196\" y=\"161.526095\"/>\r\n    </g>\r\n    <g clip-path=\"url(#pfe57d6c338)\">\r\n     <use style=\"fill:#008000;fill-opacity:0.462618;stroke:#008000;stroke-opacity:0.462618;\" x=\"190.543838\" xlink:href=\"#C1_0_8765c68196\" y=\"164.823465\"/>\r\n    </g>\r\n    <g clip-path=\"url(#pfe57d6c338)\">\r\n     <use style=\"fill:#008000;fill-opacity:0.564198;stroke:#008000;stroke-opacity:0.564198;\" x=\"144.823884\" xlink:href=\"#C1_0_8765c68196\" y=\"166.88317\"/>\r\n    </g>\r\n    <g clip-path=\"url(#pfe57d6c338)\">\r\n     <use style=\"fill:#008000;fill-opacity:0.564198;stroke:#008000;stroke-opacity:0.564198;\" x=\"144.823884\" xlink:href=\"#C1_0_8765c68196\" y=\"166.88317\"/>\r\n    </g>\r\n    <g clip-path=\"url(#pfe57d6c338)\">\r\n     <use style=\"fill:#008000;fill-opacity:0.729278;stroke:#008000;stroke-opacity:0.729278;\" x=\"155.913514\" xlink:href=\"#C1_0_8765c68196\" y=\"170.230461\"/>\r\n    </g>\r\n    <g clip-path=\"url(#pfe57d6c338)\">\r\n     <use style=\"fill:#008000;fill-opacity:0.729278;stroke:#008000;stroke-opacity:0.729278;\" x=\"155.913514\" xlink:href=\"#C1_0_8765c68196\" y=\"170.230461\"/>\r\n    </g>\r\n    <g clip-path=\"url(#pfe57d6c338)\">\r\n     <use style=\"fill:#008000;fill-opacity:0.832401;stroke:#008000;stroke-opacity:0.832401;\" x=\"109.746492\" xlink:href=\"#C1_0_8765c68196\" y=\"172.321467\"/>\r\n    </g>\r\n    <g clip-path=\"url(#pfe57d6c338)\">\r\n     <use style=\"fill:#008000;stroke:#008000;\" x=\"120.755666\" xlink:href=\"#C1_0_8765c68196\" y=\"175.719821\"/>\r\n    </g>\r\n   </g>\r\n   <g id=\"Path3DCollection_3\">\r\n    <defs>\r\n     <path d=\"M 0 2.236068 \r\nC 0.593012 2.236068 1.161816 2.000462 1.581139 1.581139 \r\nC 2.000462 1.161816 2.236068 0.593012 2.236068 -0 \r\nC 2.236068 -0.593012 2.000462 -1.161816 1.581139 -1.581139 \r\nC 1.161816 -2.000462 0.593012 -2.236068 0 -2.236068 \r\nC -0.593012 -2.236068 -1.161816 -2.000462 -1.581139 -1.581139 \r\nC -2.000462 -1.161816 -2.236068 -0.593012 -2.236068 0 \r\nC -2.236068 0.593012 -2.000462 1.161816 -1.581139 1.581139 \r\nC -1.161816 2.000462 -0.593012 2.236068 0 2.236068 \r\nz\r\n\" id=\"C2_0_6472a049b1\"/>\r\n    </defs>\r\n    <g clip-path=\"url(#pfe57d6c338)\">\r\n     <use style=\"fill:#1f77b4;fill-opacity:0.3;stroke:#1f77b4;stroke-opacity:0.3;\" x=\"52.162305\" xlink:href=\"#C2_0_6472a049b1\" y=\"158.191453\"/>\r\n    </g>\r\n    <g clip-path=\"url(#pfe57d6c338)\">\r\n     <use style=\"fill:#1f77b4;fill-opacity:0.4649;stroke:#1f77b4;stroke-opacity:0.4649;\" x=\"62.951021\" xlink:href=\"#C2_0_6472a049b1\" y=\"161.538974\"/>\r\n    </g>\r\n    <g clip-path=\"url(#pfe57d6c338)\">\r\n     <use style=\"fill:#1f77b4;fill-opacity:0.52651;stroke:#1f77b4;stroke-opacity:0.52651;\" x=\"51.729554\" xlink:href=\"#C2_0_6472a049b1\" y=\"145.177824\"/>\r\n    </g>\r\n    <g clip-path=\"url(#pfe57d6c338)\">\r\n     <use style=\"fill:#1f77b4;fill-opacity:0.599615;stroke:#1f77b4;stroke-opacity:0.599615;\" x=\"44.864912\" xlink:href=\"#C2_0_6472a049b1\" y=\"164.273713\"/>\r\n    </g>\r\n    <g clip-path=\"url(#pfe57d6c338)\">\r\n     <use style=\"fill:#1f77b4;fill-opacity:0.693562;stroke:#1f77b4;stroke-opacity:0.693562;\" x=\"62.586547\" xlink:href=\"#C2_0_6472a049b1\" y=\"148.485296\"/>\r\n    </g>\r\n    <g clip-path=\"url(#pfe57d6c338)\">\r\n     <use style=\"fill:#1f77b4;fill-opacity:0.767365;stroke:#1f77b4;stroke-opacity:0.767365;\" x=\"55.711896\" xlink:href=\"#C2_0_6472a049b1\" y=\"167.679079\"/>\r\n    </g>\r\n    <g clip-path=\"url(#pfe57d6c338)\">\r\n     <use style=\"fill:#1f77b4;fill-opacity:0.830042;stroke:#1f77b4;stroke-opacity:0.830042;\" x=\"44.380665\" xlink:href=\"#C2_0_6472a049b1\" y=\"151.187468\"/>\r\n    </g>\r\n    <g clip-path=\"url(#pfe57d6c338)\">\r\n     <use style=\"fill:#1f77b4;stroke:#1f77b4;\" x=\"55.296655\" xlink:href=\"#C2_0_6472a049b1\" y=\"154.55247\"/>\r\n    </g>\r\n   </g>\r\n   <g id=\"legend_1\">\r\n    <g id=\"patch_6\">\r\n     <path d=\"M 14.2 89.030625 \r\nL 102.870313 89.030625 \r\nQ 104.870313 89.030625 104.870313 87.030625 \r\nL 104.870313 29.318125 \r\nQ 104.870313 27.318125 102.870313 27.318125 \r\nL 14.2 27.318125 \r\nQ 12.2 27.318125 12.2 29.318125 \r\nL 12.2 87.030625 \r\nQ 12.2 89.030625 14.2 89.030625 \r\nz\r\n\" style=\"fill:#ffffff;opacity:0.8;stroke:#cccccc;stroke-linejoin:miter;\"/>\r\n    </g>\r\n    <g id=\"Path3DCollection_4\">\r\n     <defs>\r\n      <path d=\"M 0 2.236068 \r\nC 0.593012 2.236068 1.161816 2.000462 1.581139 1.581139 \r\nC 2.000462 1.161816 2.236068 0.593012 2.236068 0 \r\nC 2.236068 -0.593012 2.000462 -1.161816 1.581139 -1.581139 \r\nC 1.161816 -2.000462 0.593012 -2.236068 0 -2.236068 \r\nC -0.593012 -2.236068 -1.161816 -2.000462 -1.581139 -1.581139 \r\nC -2.000462 -1.161816 -2.236068 -0.593012 -2.236068 0 \r\nC -2.236068 0.593012 -2.000462 1.161816 -1.581139 1.581139 \r\nC -1.161816 2.000462 -0.593012 2.236068 0 2.236068 \r\nz\r\n\" id=\"maa178b2026\" style=\"stroke:#1f77b4;\"/>\r\n     </defs>\r\n     <g>\r\n      <use style=\"fill:#1f77b4;stroke:#1f77b4;\" x=\"26.2\" xlink:href=\"#maa178b2026\" y=\"36.291562\"/>\r\n     </g>\r\n    </g>\r\n    <g id=\"text_24\">\r\n     <!-- Initial Cube -->\r\n     <g transform=\"translate(44.2 38.916562)scale(0.1 -0.1)\">\r\n      <defs>\r\n       <path d=\"M 628 4666 \r\nL 1259 4666 \r\nL 1259 0 \r\nL 628 0 \r\nL 628 4666 \r\nz\r\n\" id=\"DejaVuSans-49\" transform=\"scale(0.015625)\"/>\r\n       <path d=\"M 603 4863 \r\nL 1178 4863 \r\nL 1178 0 \r\nL 603 0 \r\nL 603 4863 \r\nz\r\n\" id=\"DejaVuSans-6c\" transform=\"scale(0.015625)\"/>\r\n      </defs>\r\n      <use xlink:href=\"#DejaVuSans-49\"/>\r\n      <use x=\"29.492188\" xlink:href=\"#DejaVuSans-6e\"/>\r\n      <use x=\"92.871094\" xlink:href=\"#DejaVuSans-69\"/>\r\n      <use x=\"120.654297\" xlink:href=\"#DejaVuSans-74\"/>\r\n      <use x=\"159.863281\" xlink:href=\"#DejaVuSans-69\"/>\r\n      <use x=\"187.646484\" xlink:href=\"#DejaVuSans-61\"/>\r\n      <use x=\"248.925781\" xlink:href=\"#DejaVuSans-6c\"/>\r\n      <use x=\"276.708984\" xlink:href=\"#DejaVuSans-20\"/>\r\n      <use x=\"308.496094\" xlink:href=\"#DejaVuSans-43\"/>\r\n      <use x=\"378.320312\" xlink:href=\"#DejaVuSans-75\"/>\r\n      <use x=\"441.699219\" xlink:href=\"#DejaVuSans-62\"/>\r\n      <use x=\"505.175781\" xlink:href=\"#DejaVuSans-65\"/>\r\n     </g>\r\n    </g>\r\n    <g id=\"Path3DCollection_5\">\r\n     <defs>\r\n      <path d=\"M 0 2.236068 \r\nC 0.593012 2.236068 1.161816 2.000462 1.581139 1.581139 \r\nC 2.000462 1.161816 2.236068 0.593012 2.236068 0 \r\nC 2.236068 -0.593012 2.000462 -1.161816 1.581139 -1.581139 \r\nC 1.161816 -2.000462 0.593012 -2.236068 0 -2.236068 \r\nC -0.593012 -2.236068 -1.161816 -2.000462 -1.581139 -1.581139 \r\nC -2.000462 -1.161816 -2.236068 -0.593012 -2.236068 0 \r\nC -2.236068 0.593012 -2.000462 1.161816 -1.581139 1.581139 \r\nC -1.161816 2.000462 -0.593012 2.236068 0 2.236068 \r\nz\r\n\" id=\"m198714b72a\" style=\"stroke:#ff0000;\"/>\r\n     </defs>\r\n     <g>\r\n      <use style=\"fill:#ff0000;stroke:#ff0000;\" x=\"26.2\" xlink:href=\"#m198714b72a\" y=\"50.969687\"/>\r\n     </g>\r\n    </g>\r\n    <g id=\"text_25\">\r\n     <!-- A1 -->\r\n     <g transform=\"translate(44.2 53.594687)scale(0.1 -0.1)\">\r\n      <defs>\r\n       <path d=\"M 2188 4044 \r\nL 1331 1722 \r\nL 3047 1722 \r\nL 2188 4044 \r\nz\r\nM 1831 4666 \r\nL 2547 4666 \r\nL 4325 0 \r\nL 3669 0 \r\nL 3244 1197 \r\nL 1141 1197 \r\nL 716 0 \r\nL 50 0 \r\nL 1831 4666 \r\nz\r\n\" id=\"DejaVuSans-41\" transform=\"scale(0.015625)\"/>\r\n      </defs>\r\n      <use xlink:href=\"#DejaVuSans-41\"/>\r\n      <use x=\"68.408203\" xlink:href=\"#DejaVuSans-31\"/>\r\n     </g>\r\n    </g>\r\n    <g id=\"Path3DCollection_6\">\r\n     <defs>\r\n      <path d=\"M 0 2.236068 \r\nC 0.593012 2.236068 1.161816 2.000462 1.581139 1.581139 \r\nC 2.000462 1.161816 2.236068 0.593012 2.236068 0 \r\nC 2.236068 -0.593012 2.000462 -1.161816 1.581139 -1.581139 \r\nC 1.161816 -2.000462 0.593012 -2.236068 0 -2.236068 \r\nC -0.593012 -2.236068 -1.161816 -2.000462 -1.581139 -1.581139 \r\nC -2.000462 -1.161816 -2.236068 -0.593012 -2.236068 0 \r\nC -2.236068 0.593012 -2.000462 1.161816 -1.581139 1.581139 \r\nC -1.161816 2.000462 -0.593012 2.236068 0 2.236068 \r\nz\r\n\" id=\"m31394130fb\" style=\"stroke:#008000;\"/>\r\n     </defs>\r\n     <g>\r\n      <use style=\"fill:#008000;stroke:#008000;\" x=\"26.2\" xlink:href=\"#m31394130fb\" y=\"65.647812\"/>\r\n     </g>\r\n    </g>\r\n    <g id=\"text_26\">\r\n     <!-- A2 -->\r\n     <g transform=\"translate(44.2 68.272812)scale(0.1 -0.1)\">\r\n      <use xlink:href=\"#DejaVuSans-41\"/>\r\n      <use x=\"68.408203\" xlink:href=\"#DejaVuSans-32\"/>\r\n     </g>\r\n    </g>\r\n    <g id=\"Path3DCollection_7\">\r\n     <defs>\r\n      <path d=\"M 0 2.236068 \r\nC 0.593012 2.236068 1.161816 2.000462 1.581139 1.581139 \r\nC 2.000462 1.161816 2.236068 0.593012 2.236068 0 \r\nC 2.236068 -0.593012 2.000462 -1.161816 1.581139 -1.581139 \r\nC 1.161816 -2.000462 0.593012 -2.236068 0 -2.236068 \r\nC -0.593012 -2.236068 -1.161816 -2.000462 -1.581139 -1.581139 \r\nC -2.000462 -1.161816 -2.236068 -0.593012 -2.236068 0 \r\nC -2.236068 0.593012 -2.000462 1.161816 -1.581139 1.581139 \r\nC -1.161816 2.000462 -0.593012 2.236068 0 2.236068 \r\nz\r\n\" id=\"md5cc9acf9a\" style=\"stroke:#ffff00;\"/>\r\n     </defs>\r\n     <g>\r\n      <use style=\"fill:#ffff00;stroke:#ffff00;\" x=\"26.2\" xlink:href=\"#md5cc9acf9a\" y=\"80.325938\"/>\r\n     </g>\r\n    </g>\r\n    <g id=\"text_27\">\r\n     <!-- A3 -->\r\n     <g transform=\"translate(44.2 82.950938)scale(0.1 -0.1)\">\r\n      <use xlink:href=\"#DejaVuSans-41\"/>\r\n      <use x=\"68.408203\" xlink:href=\"#DejaVuSans-33\"/>\r\n     </g>\r\n    </g>\r\n   </g>\r\n   <g id=\"Path3DCollection_8\">\r\n    <defs>\r\n     <path d=\"M 0 2.236068 \r\nC 0.593012 2.236068 1.161816 2.000462 1.581139 1.581139 \r\nC 2.000462 1.161816 2.236068 0.593012 2.236068 -0 \r\nC 2.236068 -0.593012 2.000462 -1.161816 1.581139 -1.581139 \r\nC 1.161816 -2.000462 0.593012 -2.236068 0 -2.236068 \r\nC -0.593012 -2.236068 -1.161816 -2.000462 -1.581139 -1.581139 \r\nC -2.000462 -1.161816 -2.236068 -0.593012 -2.236068 0 \r\nC -2.236068 0.593012 -2.000462 1.161816 -1.581139 1.581139 \r\nC -1.161816 2.000462 -0.593012 2.236068 0 2.236068 \r\nz\r\n\" id=\"C3_0_39df6710cd\"/>\r\n    </defs>\r\n    <g clip-path=\"url(#pfe57d6c338)\">\r\n     <use style=\"fill:#ff0000;fill-opacity:0.3;stroke:#ff0000;stroke-opacity:0.3;\" x=\"145.329622\" xlink:href=\"#C3_0_39df6710cd\" y=\"127.987314\"/>\r\n    </g>\r\n    <g clip-path=\"url(#pfe57d6c338)\">\r\n     <use style=\"fill:#ff0000;fill-opacity:0.43421;stroke:#ff0000;stroke-opacity:0.43421;\" x=\"156.638681\" xlink:href=\"#C3_0_39df6710cd\" y=\"131.215069\"/>\r\n    </g>\r\n    <g clip-path=\"url(#pfe57d6c338)\">\r\n     <use style=\"fill:#ff0000;fill-opacity:0.518062;stroke:#ff0000;stroke-opacity:0.518062;\" x=\"109.567645\" xlink:href=\"#C3_0_39df6710cd\" y=\"133.231701\"/>\r\n    </g>\r\n    <g clip-path=\"url(#pfe57d6c338)\">\r\n     <use style=\"fill:#ff0000;fill-opacity:0.637067;stroke:#ff0000;stroke-opacity:0.637067;\" x=\"181.763047\" xlink:href=\"#C3_0_39df6710cd\" y=\"82.593751\"/>\r\n    </g>\r\n    <g clip-path=\"url(#pfe57d6c338)\">\r\n     <use style=\"fill:#ff0000;fill-opacity:0.65436;stroke:#ff0000;stroke-opacity:0.65436;\" x=\"120.793085\" xlink:href=\"#C3_0_39df6710cd\" y=\"136.509669\"/>\r\n    </g>\r\n    <g clip-path=\"url(#pfe57d6c338)\">\r\n     <use style=\"fill:#ff0000;fill-opacity:0.774511;stroke:#ff0000;stroke-opacity:0.774511;\" x=\"193.383285\" xlink:href=\"#C3_0_39df6710cd\" y=\"85.641712\"/>\r\n    </g>\r\n    <g clip-path=\"url(#pfe57d6c338)\">\r\n     <use style=\"fill:#ff0000;fill-opacity:0.860391;stroke:#ff0000;stroke-opacity:0.860391;\" x=\"145.855452\" xlink:href=\"#C3_0_39df6710cd\" y=\"87.546188\"/>\r\n    </g>\r\n    <g clip-path=\"url(#pfe57d6c338)\">\r\n     <use style=\"fill:#ff0000;stroke:#ff0000;\" x=\"157.392798\" xlink:href=\"#C3_0_39df6710cd\" y=\"90.642138\"/>\r\n    </g>\r\n   </g>\r\n  </g>\r\n </g>\r\n <defs>\r\n  <clipPath id=\"pfe57d6c338\">\r\n   <rect height=\"217.44\" width=\"217.44\" x=\"7.2\" y=\"22.318125\"/>\r\n  </clipPath>\r\n </defs>\r\n</svg>\r\n",
      "text/plain": [
       "<Figure size 432x288 with 1 Axes>"
      ]
     },
     "metadata": {
      "needs_background": "light"
     },
     "output_type": "display_data"
    }
   ],
   "source": [
    "# Creating matricies\n",
    "\n",
    "A1 = np.matrix([\n",
    "    [1, 2, 2],\n",
    "    [0, 2, 2],\n",
    "    [0, 0, 3]\n",
    "])\n",
    "\n",
    "A2 = np.matrix([\n",
    "    [1, 2, 2],\n",
    "    [0, 2, 2],\n",
    "    [0, 0, 0]\n",
    "])\n",
    "\n",
    "A3 = np.matrix([\n",
    "    [0, 2, 2],\n",
    "    [0, 2, 2],\n",
    "    [0, 0, 0]\n",
    "])\n",
    "\n",
    "C = np.matrix([\n",
    "    [2, 2, 1, 1, 2, 2, 1, 1],\n",
    "    [1, 2, 2, 1, 1, 2, 2, 1],\n",
    "    [1, 1, 1, 1, 2, 2, 2, 2]\n",
    "])\n",
    "\n",
    "#Applying A matricies to the cube\n",
    "\n",
    "B1 = A1*C\n",
    "B2 = A2*C\n",
    "B3 = A3*C\n",
    "\n",
    "#Plotting\n",
    "\n",
    "%config InlineBackend.figure_format = 'svg'\n",
    "fig = plt.figure()\n",
    "ax = fig.add_subplot(111, projection='3d')\n",
    "ax.scatter(xs = C[0], ys = C[1], zs = C[2])\n",
    "ax.scatter(xs = B1[0], ys = B1[1], zs = B1[2], color='red', depthshade = True)\n",
    "ax.scatter(xs = B2[0], ys = B2[1], zs = B2[2], color='green', depthshade = True)\n",
    "ax.scatter(xs = B3[0], ys = B3[1], zs = B3[2], color='yellow', depthshade = True)\n",
    "ax.set_xticks(np.arange(0, 11, 2))\n",
    "ax.set_yticks(np.arange(0, 11, 2))\n",
    "ax.set_zticks(np.arange(0, 7, 1))\n",
    "ax.set_xlabel('x')\n",
    "ax.set_ylabel('y')\n",
    "ax.set_zlabel('z')\n",
    "\n",
    "plt.title('Cube Transformations')\n",
    "\n",
    "plt.legend(('Initial Cube', 'A1', 'A2', 'A3'))\n"
   ]
  },
  {
   "cell_type": "markdown",
   "id": "0a5550a6",
   "metadata": {},
   "source": [
    "The points on this 3D plot represent the verticies of the initial cube (blue) and resulting shapes.\n",
    "As we see,\n",
    "* A1 combines some stretching and rotation;\n",
    "* A2 projects the first transformation on the $XY$ plane;\n",
    "* A3 projects the first (or the second) transformation on a line.\n",
    "\n",
    "Now, let's derive the properties of each matrix $A_i$.\n",
    "\n",
    "$$\n",
    "rg(A_1) = 3;\\hspace{3mm}rg(A_2) = 2;\\hspace{3mm}rg(A_3) = 1\n",
    "$$\n",
    "\n",
    "It follows from the Main theorem of Linear Algebra that\n",
    "\n",
    "$$\n",
    "rg(ker(A_1)) = 0;\\hspace{3mm}rg(ker(A_2)) = 1;\\hspace{3mm}rg(ker(A_3)) = 2\n",
    "$$\n",
    "\n",
    "That means, \n",
    "* $A_1$ maps $\\mathbb{R}^3$ to $\\mathbb{R}^3$\n",
    "* $A_2$ maps $\\mathbb{R}^3$ to $\\mathbb{R}^2$\n",
    "* $A_3$ maps $\\mathbb{R}^3$ to $\\mathbb{R}^1$\n",
    "\n",
    "That corresponds to our findings in the previous section.\n",
    "\n",
    "Let us find the four fundamental subspaces for each $A_i$ operator:\n",
    "\n",
    "* $A_1$ is a full-rank matrix, that means nullspace is empty. \n",
    "\n",
    "The same applies to $A_1^T$. $A_1$ column space is $\n",
    "\\begin{bmatrix}\n",
    "1\\\\\n",
    "0\\\\\n",
    "0\n",
    "\\end{bmatrix}\n",
    ",\n",
    "\\begin{bmatrix}\n",
    "0\\\\\n",
    "2\\\\\n",
    "0\n",
    "\\end{bmatrix},\n",
    "\\begin{bmatrix}\n",
    "0\\\\\n",
    "0\\\\\n",
    "3\n",
    "\\end{bmatrix}\n",
    "$, as well as for $A_1^T$ (row space of $A_1$).\n",
    "\n",
    "* for $A_2$ we solve a simple set of linear equations and receive the following result:\n",
    "\n",
    "$$Null(A_2) = span(\n",
    "\\begin{bmatrix}\n",
    "0\\\\\n",
    "1\\\\\n",
    "-1\n",
    "\\end{bmatrix}\n",
    ")\n",
    "; \\hspace{3mm} Null(A_2^T) = span(\n",
    "\\begin{bmatrix}\n",
    "0\\\\\n",
    "1\\\\\n",
    "-1\n",
    "\\end{bmatrix}\n",
    ").\n",
    "$$\n",
    "\n",
    "The column space of $A_2$ is\n",
    "$\n",
    "\\begin{bmatrix}\n",
    "1\\\\\n",
    "0\\\\\n",
    "0\n",
    "\\end{bmatrix},\n",
    "\\begin{bmatrix}\n",
    "0\\\\\n",
    "2\\\\\n",
    "0\n",
    "\\end{bmatrix}\n",
    "$, the row space is the same.\n",
    "* for $A_3$, we have two-dimensional null space: $Null(A_3) = span(\n",
    "\\begin{bmatrix}\n",
    "1\\\\\n",
    "1\\\\\n",
    "-1\n",
    "\\end{bmatrix},\n",
    "\\begin{bmatrix}\n",
    "1\\\\\n",
    "-1\\\\\n",
    "1\n",
    "\\end{bmatrix}\n",
    ")$. It coincides with the nullspace of $A_3^T$.\n",
    "\n",
    "The column space of $A_3$ is $span(\n",
    "\\begin{bmatrix}\n",
    "1\\\\\n",
    "1\\\\\n",
    "0\n",
    "\\end{bmatrix})$, as well as the row space. This result is easily observed on the visualisation: the result of the 3rd transformation lies on the $y = x$ line on the $XY$ plane."
   ]
  },
  {
   "cell_type": "code",
   "execution_count": null,
   "id": "dd321be5",
   "metadata": {
    "tags": [
     "hdie_input"
    ]
   },
   "outputs": [],
   "source": [
    "def print_eig(A, number):\n",
    "    val, vec = np.linalg.eig(A)\n",
    "    print(\"Eigenvalues and eigenvectors for matrix A{}:\".format(number))\n",
    "    print(val)\n",
    "    print(vec)\n",
    "    print()\n",
    "    \n",
    "#print_eig(A1, 1)\n",
    "#print_eig(A2, 2)\n",
    "#print_eig(A3, 3)"
   ]
  },
  {
   "cell_type": "markdown",
   "id": "1aa93c62",
   "metadata": {},
   "source": [
    "**On transforming a cube into a tetrahedron:**\n",
    "Linear transformation implies that we can describe it only acting on basis vectors.\n",
    "That means, I suppose there is no such $3\\times 3$ matrix to perform this operation."
   ]
  },
  {
   "cell_type": "markdown",
   "id": "46e190ae",
   "metadata": {},
   "source": [
    "## Problem 5\n",
    "\n",
    "\n",
    "For matrix\n",
    "$A=\n",
    "\\begin{bmatrix}\n",
    "2 & 1\\\\\n",
    "1 & 2\n",
    "\\end{bmatrix}\n",
    "$\n",
    "determine which unit vector $x_M$ is stretched the most and which $x_m$ the least and by how much. That is, find $x$ such that $y=Ax$ has the largest (or smallest) possible Euclidian length. You can do this by calculus methods, e.g. using Lagrange multipliers. Relate your findings to eigenvalues and eigenvectors of $A$."
   ]
  },
  {
   "cell_type": "markdown",
   "metadata": {},
   "source": [
    "### Solution\n",
    "\n",
    "Firstly, we SVD the matrix $A$:"
   ]
  },
  {
   "cell_type": "code",
   "execution_count": null,
   "id": "16a14c55",
   "metadata": {
    "tags": [
     "hide_input"
    ]
   },
   "outputs": [],
   "source": [
    "A = np.matrix([\n",
    "    [2, 1],\n",
    "    [1, 2]\n",
    "])\n",
    "\n",
    "u, s, v = np.linalg.svd(A)\n",
    "print('U:\\n', u)\n",
    "print('E:', s)\n",
    "print('V*:\\n', v)"
   ]
  },
  {
   "cell_type": "markdown",
   "id": "86e4fed4",
   "metadata": {},
   "source": [
    "We see that the matricies $U$ and $V*$ may be rewritten as a combination of the following matricies:\n",
    "\n",
    "$$\n",
    "U = V^* = \n",
    "\\begin{bmatrix}\n",
    "-\\frac{\\sqrt{2}}{2} & -\\frac{\\sqrt{2}}{2}\\\\\n",
    "-\\frac{\\sqrt{2}}{2} & \\frac{\\sqrt{2}}{2}\n",
    "\\end{bmatrix}\n",
    "=\n",
    "\\frac{\\sqrt{2}}{2}\n",
    "\\begin{bmatrix}\n",
    "-1 & -1\\\\\n",
    "-1 & 1\n",
    "\\end{bmatrix}\n",
    "=\n",
    "\\frac{\\sqrt{2}}{2}\n",
    "\\begin{bmatrix}\n",
    "1 & -1\\\\\n",
    "1 & 1\n",
    "\\end{bmatrix}\n",
    "\\times\n",
    "\\begin{bmatrix}\n",
    "-1 & 0\\\\\n",
    "0 & 1\n",
    "\\end{bmatrix}\n",
    "=\\\\\n",
    "=cR\\times M,\n",
    "$$\n",
    "\n",
    "where $c = \\frac{\\sqrt{2}}{2}$, $cR$ is a rotation matrix with $\\varphi = \\frac{1}{4}\\pi$, $M$ is a mirror operator that mirrors about $X$ axis.\n",
    "\n",
    "The matrix $\\Sigma$ has diagonal elements $\\begin{bmatrix} 3 & 1 \\end{bmatrix}$ and represents stretching times 3 along $X$ axis."
   ]
  },
  {
   "cell_type": "code",
   "execution_count": null,
   "id": "ebabd54e",
   "metadata": {},
   "outputs": [],
   "source": [
    "M = np.matrix([\n",
    "    [-1, 0],\n",
    "    [0, 1]\n",
    "])\n",
    "c = np.sqrt(2)/2\n",
    "R = np.matrix([\n",
    "    [1, -1],\n",
    "    [1, 1]\n",
    "])\n",
    "\n",
    "#c*R*M\n",
    "\n",
    "#c*R"
   ]
  },
  {
   "cell_type": "markdown",
   "id": "ff569ab1",
   "metadata": {},
   "source": [
    "After the stretch has been completed, the matrix $U$ does the reverse transformation: mirrors the $X'$ axis and rotates $\\frac{1}{4}\\pi$ counterclockwise.\n",
    "\n",
    "Now we can say that the most stretched vector $x_M$ will be the\n",
    "$\n",
    "\\frac{\\sqrt{2}}{2}\n",
    "\\begin{bmatrix}\n",
    "1\\\\\n",
    "1\n",
    "\\end{bmatrix}\n",
    "$ (or it's mirrored counterpart)\n",
    "unit vector, which during the transformations is aligned along the direction of the stretch operation and it's Euclidian length will be $3$, and the least stretched vector $x_m$ is the \n",
    "$\n",
    "\\frac{\\sqrt{2}}{2}\n",
    "\\begin{bmatrix}\n",
    "1\\\\\n",
    "-1\n",
    "\\end{bmatrix}\n",
    "$ (or it's mirrored counterpart), which lies perpendicular to the axis of the stretch operation. It's Euclidian length remains $1$.\n",
    "\n",
    "Now let's look at the Eigenvalues and Eigenvectors of the matrix (the values and the vectors can be easily calculated by hand):"
   ]
  },
  {
   "cell_type": "code",
   "execution_count": 1,
   "id": "59a7c12d",
   "metadata": {
    "tags": [
     "hide_input"
    ]
   },
   "outputs": [
    {
     "ename": "NameError",
     "evalue": "name 'np' is not defined",
     "output_type": "error",
     "traceback": [
      "\u001b[1;31m---------------------------------------------------------------------------\u001b[0m",
      "\u001b[1;31mNameError\u001b[0m                                 Traceback (most recent call last)",
      "\u001b[1;32m~\\AppData\\Local\\Temp/ipykernel_12664/3190747947.py\u001b[0m in \u001b[0;36m<module>\u001b[1;34m\u001b[0m\n\u001b[1;32m----> 1\u001b[1;33m \u001b[0mval\u001b[0m\u001b[1;33m,\u001b[0m \u001b[0mvec\u001b[0m \u001b[1;33m=\u001b[0m \u001b[0mnp\u001b[0m\u001b[1;33m.\u001b[0m\u001b[0mlinalg\u001b[0m\u001b[1;33m.\u001b[0m\u001b[0meig\u001b[0m\u001b[1;33m(\u001b[0m\u001b[0mA\u001b[0m\u001b[1;33m)\u001b[0m\u001b[1;33m\u001b[0m\u001b[1;33m\u001b[0m\u001b[0m\n\u001b[0m\u001b[0;32m      2\u001b[0m \u001b[0mprint\u001b[0m\u001b[1;33m(\u001b[0m\u001b[1;34m'Eigenvalues: '\u001b[0m\u001b[1;33m,\u001b[0m \u001b[0mval\u001b[0m\u001b[1;33m)\u001b[0m\u001b[1;33m\u001b[0m\u001b[1;33m\u001b[0m\u001b[0m\n\u001b[0;32m      3\u001b[0m \u001b[0mprint\u001b[0m\u001b[1;33m(\u001b[0m\u001b[1;34m'Eigenvectors:'\u001b[0m\u001b[1;33m)\u001b[0m\u001b[1;33m\u001b[0m\u001b[1;33m\u001b[0m\u001b[0m\n\u001b[0;32m      4\u001b[0m \u001b[0mprint\u001b[0m\u001b[1;33m(\u001b[0m\u001b[0mvec\u001b[0m\u001b[1;33m)\u001b[0m\u001b[1;33m\u001b[0m\u001b[1;33m\u001b[0m\u001b[0m\n",
      "\u001b[1;31mNameError\u001b[0m: name 'np' is not defined"
     ]
    }
   ],
   "source": [
    "val, vec = np.linalg.eig(A)\n",
    "print('Eigenvalues: ', val)\n",
    "print('Eigenvectors:')\n",
    "print(vec)"
   ]
  },
  {
   "cell_type": "markdown",
   "id": "ae3a6593",
   "metadata": {},
   "source": [
    "The result coincides with the result derived from SV decomposition: the\n",
    "$\n",
    "\\frac{\\sqrt{2}}{2}\n",
    "\\begin{bmatrix}\n",
    "1\\\\\n",
    "1\n",
    "\\end{bmatrix}\n",
    "$\n",
    "vector is stretched 3 times, the\n",
    "$\n",
    "\\frac{\\sqrt{2}}{2}\n",
    "\\begin{bmatrix}\n",
    "1\\\\\n",
    "-1\n",
    "\\end{bmatrix}\n",
    "$\n",
    "vector remains the same."
   ]
  },
  {
   "cell_type": "markdown",
   "id": "aee1aceb",
   "metadata": {},
   "source": [
    "## Problem 6\n",
    "\n",
    "\n",
    "Find eigenvalues and eigenvectors of the following matrices:  \n",
    "(a)\n",
    "$A_1=\n",
    "\\begin{bmatrix}\n",
    "0 & 1\\\\\n",
    "-1 & 0\n",
    "\\end{bmatrix}\n",
    "$\n",
    ". If $x$ is any real vector, how is $y=A_1x$ related to $x$ geometrically?  \n",
    "\n",
    "(b)\n",
    "$A_2=\n",
    "\\begin{bmatrix}\n",
    "1 & 1 & 0\\\\\n",
    "0 & 1 & 1\\\\\n",
    "0 & 0 & 1\n",
    "\\end{bmatrix}\n",
    "$\n",
    ". What is the rank of $A_2$? How many eigenvectors are there?"
   ]
  },
  {
   "cell_type": "markdown",
   "metadata": {},
   "source": [
    "\n",
    "### Solution\n",
    "\n",
    "The calculation of eigenvalues and eigenvectors may be performed by hand easily, as well as with *NumPy* package.\n",
    "\n",
    "We start with matrix $A_1$:"
   ]
  },
  {
   "cell_type": "code",
   "execution_count": null,
   "id": "87f9185d",
   "metadata": {
    "tags": [
     "hide_input"
    ]
   },
   "outputs": [],
   "source": [
    "A1 = np.matrix([\n",
    "    [0, 1],\n",
    "    [-1, 0]\n",
    "])\n",
    "\n",
    "A2 = np.matrix([\n",
    "    [1, 1, 0],\n",
    "    [0, 1, 1],\n",
    "    [0, 0, 1]\n",
    "])\n",
    "\n",
    "val1, vec1 = np.linalg.eig(A1)\n",
    "val2, vec2 = np.linalg.eig(A2)\n",
    "\n",
    "print_eig(A1, 1)"
   ]
  },
  {
   "cell_type": "markdown",
   "id": "db165d04",
   "metadata": {},
   "source": [
    "Instantly from one glance at the matrix $A_1$, as well as by seeing the result of eigen_operations, we derive that the matrix conducts a rotation. There are no real eigenvectors, obviously, as there are no vectors $x$ that would be collinearly translated into another vectors $y$."
   ]
  },
  {
   "cell_type": "markdown",
   "id": "0ff12020",
   "metadata": {},
   "source": [
    "Now, let's analyze the matrix $A_2$. It is obvious, that $rg(A_2) = 1$, because we can perform simple row operations ($r_2 = r_2 - r_3; \\hspace{3mm} r_1 = r_1 - (r_2 - r_3)$) to get the resulting matrix $\n",
    "\\begin{bmatrix}\n",
    "1 & 0 & 0\\\\\n",
    "0 & 0 & 0\\\\\n",
    "0 & 0 & 0\n",
    "\\end{bmatrix}\n",
    "$."
   ]
  },
  {
   "cell_type": "code",
   "execution_count": 2,
   "id": "457bd6ee",
   "metadata": {
    "tags": [
     "hide-input"
    ]
   },
   "outputs": [
    {
     "ename": "NameError",
     "evalue": "name 'print_eig' is not defined",
     "output_type": "error",
     "traceback": [
      "\u001b[1;31m---------------------------------------------------------------------------\u001b[0m",
      "\u001b[1;31mNameError\u001b[0m                                 Traceback (most recent call last)",
      "\u001b[1;32m~\\AppData\\Local\\Temp/ipykernel_12664/2487981374.py\u001b[0m in \u001b[0;36m<module>\u001b[1;34m\u001b[0m\n\u001b[1;32m----> 1\u001b[1;33m \u001b[0mprint_eig\u001b[0m\u001b[1;33m(\u001b[0m\u001b[0mA2\u001b[0m\u001b[1;33m,\u001b[0m \u001b[1;36m2\u001b[0m\u001b[1;33m)\u001b[0m\u001b[1;33m\u001b[0m\u001b[1;33m\u001b[0m\u001b[0m\n\u001b[0m",
      "\u001b[1;31mNameError\u001b[0m: name 'print_eig' is not defined"
     ]
    }
   ],
   "source": [
    "print_eig(A2, 2)"
   ]
  },
  {
   "cell_type": "markdown",
   "id": "0fa1f8ef",
   "metadata": {},
   "source": [
    "There is one eigenvalue $\\lambda = 1$ of multiplicity 3, and only one eigenvector\n",
    "$h = \n",
    "\\begin{bmatrix}\n",
    "1\\\\\n",
    "0\\\\\n",
    "0\n",
    "\\end{bmatrix}\n",
    "$\n",
    "This matrix is a linear operator that projects on $YZ$ plane."
   ]
  }
 ],
 "metadata": {
  "interpreter": {
   "hash": "0600588c3b5f4418cbe7b5ebc6825b479f3bc010269d8b60d75058cdd010adfe"
  },
  "kernelspec": {
   "display_name": "Python 3.7.9 64-bit",
   "name": "python3"
  },
  "language_info": {
   "codemirror_mode": {
    "name": "ipython",
    "version": 3
   },
   "file_extension": ".py",
   "mimetype": "text/x-python",
   "name": "python",
   "nbconvert_exporter": "python",
   "pygments_lexer": "ipython3",
   "version": "3.7.9"
  }
 },
 "nbformat": 4,
 "nbformat_minor": 5
}
