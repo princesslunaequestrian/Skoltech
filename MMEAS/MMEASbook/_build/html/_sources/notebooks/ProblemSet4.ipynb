{
 "cells": [
  {
   "cell_type": "markdown",
   "metadata": {},
   "source": [
    "# Problem Set 4 "
   ]
  },
  {
   "cell_type": "markdown",
   "metadata": {},
   "source": [
    "## Problem 1\n",
    "\n",
    "Explain:\n",
    "\n",
    "**(a)** why $A^TA$ is not singular when matrix $A$ has independent columns;  \n",
    "**(b)** why $A$ and $A^TA$ have the same nullspace\n",
    "\n",
    "### Solution\n",
    "\n",
    "#### (a)\n",
    "\n",
    "$A$ has independent columns $\\Rightarrow$ it is full-rank, because column rank equals row rank. Then it has an inverse matrix $A^{-1}$ and:\n",
    "\n",
    "$$\n",
    "A^TA = M,\\\\\n",
    "A^TAA^{-1} = MA^{-1},\\\\\n",
    "A^T = MA^{-1}\n",
    "$$\n",
    "\n",
    "Because $A^T$ is a full-rank matrix ($rk(A^T) = rk(A)$), $M$ also has to be a full-rank matrix, thus, not singular.\n",
    "\n",
    "#### (b)\n",
    "\n",
    "Nullspace is a space spanned by all vectors $x$ such that $Ax = 0$. Let $x$ be any vector of that space $N(A)$. Then:\n",
    "\n",
    "$$\n",
    "\\forall x \\in N(A) \\rightarrow A^TAx = A^T(Ax) = A^T0 = 0.\n",
    "$$\n",
    "\n",
    "We've proven that $N(A) \\subset N(A^TA)$. To prove that $N(A^TA) \\subset N(A)$, we do the following. Let $A^TAy = 0$, but $Ay \\neq 0$. Then:\n",
    "\n",
    "$$\n",
    "A^TAy = 0; \\hspace{3mm} Ay = b \\neq 0,\\\\\n",
    "A^Tb = 0 \\Rightarrow b \\in N(A^T).\n",
    "$$\n",
    "\n",
    "But $N(A^T) \\perp R(A^T) = C(A)$. This means that $b$ is not from column space of $A$, which is a contradiction, as $b = Ay$. Thus $b = Ay = 0$ and $N(A^TA) \\subset N(A)$. Uniting the results, we obtain $N(A) = N(A^TA)$."
   ]
  },
  {
   "cell_type": "markdown",
   "metadata": {},
   "source": [
    "## Problem 2\n",
    "\n",
    "A plane in $\\mathbb{R}^3$ is given by the equation $x_1 - 2x_2 + x_3 = 0$.\n",
    "\n",
    "**(a)** Identify two orthonormal vectors $u_1$ and $u_2$ that span the same plane.\n",
    "\n",
    "**(b)** Find a projector matrix P that projects any vector from $\\mathbb{R}^3$ to the plane and a projector $P_{\\perp}$ that projects any vector to the direction normal to the plane.\n",
    "\n",
    "**(c)** Using these two projectors find the unit normal to the plane and verify that it agrees with a normal found by calculus methods (that use the gradient).\n",
    "\n",
    "### Solution\n",
    "\n",
    "#### (a)\n",
    "\n",
    "We find any two lines belonging to the plane, vectorizethem, then perform orthogonalization and normalize the vectors.\n",
    "\n",
    "The first vector $\\hat{u}_1$ we can obtain by plugging $x_1 = 0$ into the plane equation. Then,\n",
    "\n",
    "$$\n",
    "-2x_2 + x_3 = 0; \\hspace{3mm} x_3 = 2x_2\n",
    "$$\n",
    "\n",
    "and\n",
    "\n",
    "$$\n",
    "\\hat{u}_1 = \\frac{1}{\\sqrt{5}}\\begin{bmatrix}0 & 1 & 2\\end{bmatrix}^T.\n",
    "$$\n",
    "\n",
    "The second $\\hat{u}_2$ we find by plugging $x2 = 0$:\n",
    "\n",
    "$$\n",
    "x_1 + x_3 = 0; \\hspace{3mm} x_1 = -x_3\n",
    "$$\n",
    "\n",
    "and\n",
    "\n",
    "$$\n",
    "\\hat{u}_2 = \\frac{1}{\\sqrt{2}}\\begin{bmatrix}1 & 0 & -1\\end{bmatrix}^T.\n",
    "$$\n",
    "\n",
    "The orthogonalization:\n",
    "\n",
    "$$\n",
    "u_2 = \\hat{u}_2 - proj_{u_1}(u_2) =\n",
    "\\hat{u}_2 - \\hat{u}_1\\frac{(\\hat{u}_1, \\hat{u}_2)}{|\\hat{u}_1||\\hat{u}_1|}\n",
    "$$\n",
    "\n",
    "By this operations we receive:\n",
    "\n",
    "$$\n",
    "u_1 = \\hat{u}_1,\\\\\n",
    "u_2 = \\frac{1}{\\sqrt{30}}\\begin{bmatrix}5 & 2 & -1\\end{bmatrix}^T\n",
    "$$\n",
    "\n",
    "#### (b)\n",
    "\n",
    "In our case, as $u_1$ and $u_2$ are orthonormal, plane projector $P$ can be built as:\n",
    "\n",
    "$$\n",
    "P = UU^T, \\\\\n",
    "U = \\begin{bmatrix}u_1 & u_2\\end{bmatrix}\n",
    "$$\n",
    "\n",
    "We receive the following matrix:\n",
    "\n",
    "$$\n",
    "P = \n",
    "\\begin{bmatrix}\n",
    "\\frac{5}{6} & \\frac{1}{3} & - \\frac{1}{6}\\\\\n",
    "\\frac{1}{3} & \\frac{1}{3} & \\frac{1}{3}\\\\\n",
    "- \\frac{1}{6} & \\frac{1}{3} & \\frac{5}{6}\n",
    "\\end{bmatrix}\n",
    "$$\n",
    "\n",
    "Now, to obtain $P_{\\perp}$, which is basically $nn^T$, where $n$ is a vector normal to the plane, we find the vector, whose coordinates are the coefficients in the equation of the plane:\n",
    "\n",
    "```{note}\n",
    "This is the gradient method\n",
    "```\n",
    "\n",
    "$$\n",
    "n = \\frac{1}{\\sqrt{6}}\\begin{bmatrix}1 & -2 & 1\\end{bmatrix} \n",
    "$$\n",
    "\n",
    "and put in into the matrix:\n",
    "\n",
    "$$\n",
    "P_{\\perp} = nn^T = \n",
    "\n",
    "\\begin{bmatrix}\n",
    "\\frac{1}{6} & - \\frac{1}{3} & \\frac{1}{6}\\\\\n",
    "- \\frac{1}{3} & \\frac{2}{3} & - \\frac{1}{3}\\\\\n",
    "\\frac{1}{6} & - \\frac{1}{3} & \\frac{1}{6}\n",
    "\\end{bmatrix}\n",
    "$$\n",
    "\n",
    "#### (c)\n",
    "\n",
    "```{note}\n",
    "As long as I've done the task in the wrong sequence, here is projector $P_{\\perp}$ obtained by other means: $P_{\\perp}$ projects to the nullspace of the $P$. So we find the vector that spans the nullspace of $P$ and make a projector out of it.\n",
    "```\n",
    "$$\n",
    "N(P) = \\begin{bmatrix}-1 & 2 & -1\\end{bmatrix}^T\n",
    "$$\n",
    "\n",
    "Well, from this point it is obvious, because the steps are the same.\n",
    "\n",
    "```{note}\n",
    "Below is the code for all necessary computations that were avoided being done by hand.\n",
    "```"
   ]
  },
  {
   "cell_type": "markdown",
   "metadata": {},
   "source": []
  },
  {
   "cell_type": "code",
   "execution_count": 1,
   "metadata": {},
   "outputs": [
    {
     "data": {
      "text/latex": [
       "$\\displaystyle \\left[\\begin{matrix}\\frac{\\sqrt{30}}{6}\\\\\\frac{\\sqrt{30}}{15}\\\\- \\frac{\\sqrt{30}}{30}\\end{matrix}\\right]$"
      ],
      "text/plain": [
       "Matrix([\n",
       "[  sqrt(30)/6],\n",
       "[ sqrt(30)/15],\n",
       "[-sqrt(30)/30]])"
      ]
     },
     "execution_count": 1,
     "metadata": {},
     "output_type": "execute_result"
    }
   ],
   "source": [
    "import sympy as sp\n",
    "\n",
    "############ Finding u_2\n",
    "\n",
    "u1h = sp.Matrix([0, 1, 2])*1/sp.sqrt(5)\n",
    "u2h = sp.Matrix([1, 0, -1])*1/sp.sqrt(2)\n",
    "\n",
    "u2 = u2h - u1h*u1h.dot(u2h)\n",
    "u2 = u2.normalized()\n",
    "\n",
    "u2"
   ]
  },
  {
   "cell_type": "code",
   "execution_count": 2,
   "metadata": {},
   "outputs": [
    {
     "data": {
      "text/latex": [
       "$\\displaystyle \\left[\\begin{matrix}\\frac{5}{6} & \\frac{1}{3} & - \\frac{1}{6}\\\\\\frac{1}{3} & \\frac{1}{3} & \\frac{1}{3}\\\\- \\frac{1}{6} & \\frac{1}{3} & \\frac{5}{6}\\end{matrix}\\right]$"
      ],
      "text/plain": [
       "Matrix([\n",
       "[ 5/6, 1/3, -1/6],\n",
       "[ 1/3, 1/3,  1/3],\n",
       "[-1/6, 1/3,  5/6]])"
      ]
     },
     "execution_count": 2,
     "metadata": {},
     "output_type": "execute_result"
    }
   ],
   "source": [
    "############ Finding P\n",
    "\n",
    "u1 = u1h\n",
    "\n",
    "U = u1.row_join(u2)\n",
    "\n",
    "P = U*U.T\n",
    "P"
   ]
  },
  {
   "cell_type": "code",
   "execution_count": 3,
   "metadata": {},
   "outputs": [
    {
     "data": {
      "text/latex": [
       "$\\displaystyle \\left[\\begin{matrix}\\frac{1}{6} & - \\frac{1}{3} & \\frac{1}{6}\\\\- \\frac{1}{3} & \\frac{2}{3} & - \\frac{1}{3}\\\\\\frac{1}{6} & - \\frac{1}{3} & \\frac{1}{6}\\end{matrix}\\right]$"
      ],
      "text/plain": [
       "Matrix([\n",
       "[ 1/6, -1/3,  1/6],\n",
       "[-1/3,  2/3, -1/3],\n",
       "[ 1/6, -1/3,  1/6]])"
      ]
     },
     "execution_count": 3,
     "metadata": {},
     "output_type": "execute_result"
    }
   ],
   "source": [
    "############ Finding P_perp\n",
    "\n",
    "n = sp.Matrix([1, -2, 1]).normalized()\n",
    "\n",
    "Pp = n*n.T\n",
    "Pp"
   ]
  },
  {
   "cell_type": "code",
   "execution_count": 4,
   "metadata": {},
   "outputs": [
    {
     "data": {
      "text/latex": [
       "$\\displaystyle \\left[\\begin{matrix}\\frac{1}{6} & - \\frac{1}{3} & \\frac{1}{6}\\\\- \\frac{1}{3} & \\frac{2}{3} & - \\frac{1}{3}\\\\\\frac{1}{6} & - \\frac{1}{3} & \\frac{1}{6}\\end{matrix}\\right]$"
      ],
      "text/plain": [
       "Matrix([\n",
       "[ 1/6, -1/3,  1/6],\n",
       "[-1/3,  2/3, -1/3],\n",
       "[ 1/6, -1/3,  1/6]])"
      ]
     },
     "execution_count": 4,
     "metadata": {},
     "output_type": "execute_result"
    }
   ],
   "source": [
    "############ P_perp by the means of the nullspace\n",
    "\n",
    "a = sp.Matrix(P.nullspace())\n",
    "a = a.normalized()\n",
    "a*a.T"
   ]
  },
  {
   "cell_type": "markdown",
   "metadata": {},
   "source": [
    "## Problem 3\n",
    "\n",
    "Let $M = span\\{v_1, v_2\\}$, where $v_1 = \\begin{bmatrix}1 & 0 & 1 & 1\\end{bmatrix}^T$, $v_2 = \\begin{bmatrix}1 & -1 & 0 & -1\\end{bmatrix}^T$.  \n",
    "\n",
    "**(a)** Find the orthogonal projector $P_M$ on $M$.  \n",
    "\n",
    "**(b)** Find the kernel (nullspace) and range (column space) of $P_M$.\n",
    "\n",
    "**(c)** Find $x \\in M$ which is closest, in 2-norm, to the vector $a = \\begin{bmatrix}1 & -1 & 1 & -1\\end{bmatrix}^T$."
   ]
  },
  {
   "cell_type": "markdown",
   "metadata": {},
   "source": [
    "### Solution\n",
    "\n",
    "#### (a)"
   ]
  },
  {
   "cell_type": "code",
   "execution_count": 5,
   "metadata": {},
   "outputs": [
    {
     "data": {
      "text/latex": [
       "$\\displaystyle 0$"
      ],
      "text/plain": [
       "0"
      ]
     },
     "execution_count": 5,
     "metadata": {},
     "output_type": "execute_result"
    }
   ],
   "source": [
    "v1 = sp.Matrix([1, 0, 1, 1])\n",
    "v2 = sp.Matrix([1, -1, 0, -1])\n",
    "\n",
    "v1.dot(v2)"
   ]
  },
  {
   "cell_type": "markdown",
   "metadata": {},
   "source": [
    "$v_1 \\perp v_2$, thus, we only have to normalize them and construct a projector as $P_M = QQ^T$:"
   ]
  },
  {
   "cell_type": "code",
   "execution_count": 34,
   "metadata": {},
   "outputs": [
    {
     "data": {
      "text/latex": [
       "$\\displaystyle \\left[\\begin{matrix}\\frac{\\sqrt{3}}{3} & \\frac{\\sqrt{3}}{3}\\\\0 & - \\frac{\\sqrt{3}}{3}\\\\\\frac{\\sqrt{3}}{3} & 0\\\\\\frac{\\sqrt{3}}{3} & - \\frac{\\sqrt{3}}{3}\\end{matrix}\\right]$"
      ],
      "text/plain": [
       "Matrix([\n",
       "[sqrt(3)/3,  sqrt(3)/3],\n",
       "[        0, -sqrt(3)/3],\n",
       "[sqrt(3)/3,          0],\n",
       "[sqrt(3)/3, -sqrt(3)/3]])"
      ]
     },
     "execution_count": 34,
     "metadata": {},
     "output_type": "execute_result"
    }
   ],
   "source": [
    "########## Constructing matrix Q from v_1 and v_2\n",
    "\n",
    "v1 = v1.normalized()\n",
    "v2 = v2.normalized()\n",
    "\n",
    "M = v1.row_join(v2)\n",
    "M"
   ]
  },
  {
   "cell_type": "code",
   "execution_count": 19,
   "metadata": {},
   "outputs": [
    {
     "data": {
      "text/latex": [
       "$\\displaystyle \\left[\\begin{matrix}\\frac{2}{3} & - \\frac{1}{3} & \\frac{1}{3} & 0\\\\- \\frac{1}{3} & \\frac{1}{3} & 0 & \\frac{1}{3}\\\\\\frac{1}{3} & 0 & \\frac{1}{3} & \\frac{1}{3}\\\\0 & \\frac{1}{3} & \\frac{1}{3} & \\frac{2}{3}\\end{matrix}\\right]$"
      ],
      "text/plain": [
       "Matrix([\n",
       "[ 2/3, -1/3, 1/3,   0],\n",
       "[-1/3,  1/3,   0, 1/3],\n",
       "[ 1/3,    0, 1/3, 1/3],\n",
       "[   0,  1/3, 1/3, 2/3]])"
      ]
     },
     "execution_count": 19,
     "metadata": {},
     "output_type": "execute_result"
    }
   ],
   "source": [
    "########### Constructing projector\n",
    "\n",
    "Pm = M*M.T\n",
    "Pm"
   ]
  },
  {
   "cell_type": "markdown",
   "metadata": {},
   "source": [
    "#### (b)\n",
    "\n",
    "Following the standard procedure of finding nullspace and column space (asking sympy to do this for us):"
   ]
  },
  {
   "cell_type": "code",
   "execution_count": 20,
   "metadata": {},
   "outputs": [
    {
     "data": {
      "text/latex": [
       "$\\displaystyle \\left[\\begin{matrix}-1 & -1\\\\-1 & -2\\\\1 & 0\\\\0 & 1\\end{matrix}\\right]$"
      ],
      "text/plain": [
       "Matrix([\n",
       "[-1, -1],\n",
       "[-1, -2],\n",
       "[ 1,  0],\n",
       "[ 0,  1]])"
      ]
     },
     "execution_count": 20,
     "metadata": {},
     "output_type": "execute_result"
    }
   ],
   "source": [
    "######## Null space:\n",
    "N = Pm.nullspace()\n",
    "N[0].row_join(N[1])"
   ]
  },
  {
   "cell_type": "code",
   "execution_count": 21,
   "metadata": {},
   "outputs": [
    {
     "data": {
      "text/latex": [
       "$\\displaystyle \\left[\\begin{matrix}\\frac{2}{3} & - \\frac{1}{3}\\\\- \\frac{1}{3} & \\frac{1}{3}\\\\\\frac{1}{3} & 0\\\\0 & \\frac{1}{3}\\end{matrix}\\right]$"
      ],
      "text/plain": [
       "Matrix([\n",
       "[ 2/3, -1/3],\n",
       "[-1/3,  1/3],\n",
       "[ 1/3,    0],\n",
       "[   0,  1/3]])"
      ]
     },
     "execution_count": 21,
     "metadata": {},
     "output_type": "execute_result"
    }
   ],
   "source": [
    "######### Column space:\n",
    "C = Pm.columnspace()\n",
    "C[0].row_join(C[1])"
   ]
  },
  {
   "cell_type": "markdown",
   "metadata": {},
   "source": [
    "#### (c)\n",
    "\n",
    " For this we need to project vector $a$ onto the $M$. This projection would be the closest to $a$ vector $x \\in M$ in terms of 2-norm. So,\n",
    "\n",
    " $$\n",
    " P_ma = b \\in M\n",
    " $$"
   ]
  },
  {
   "cell_type": "code",
   "execution_count": 32,
   "metadata": {},
   "outputs": [
    {
     "data": {
      "text/latex": [
       "$\\displaystyle \\left[\\begin{matrix}\\frac{4}{3}\\\\-1\\\\\\frac{1}{3}\\\\- \\frac{2}{3}\\end{matrix}\\right]$"
      ],
      "text/plain": [
       "Matrix([\n",
       "[ 4/3],\n",
       "[  -1],\n",
       "[ 1/3],\n",
       "[-2/3]])"
      ]
     },
     "execution_count": 32,
     "metadata": {},
     "output_type": "execute_result"
    }
   ],
   "source": [
    "a = sp.Matrix([1, -1, 1, -1])\n",
    "b = Pm*a\n",
    "b"
   ]
  },
  {
   "cell_type": "markdown",
   "metadata": {},
   "source": [
    "Let's check the error norm:"
   ]
  },
  {
   "cell_type": "code",
   "execution_count": 43,
   "metadata": {},
   "outputs": [
    {
     "data": {
      "text/latex": [
       "$\\displaystyle \\frac{\\sqrt{6}}{3}$"
      ],
      "text/plain": [
       "sqrt(6)/3"
      ]
     },
     "execution_count": 43,
     "metadata": {},
     "output_type": "execute_result"
    }
   ],
   "source": [
    "(a - b).norm()"
   ]
  },
  {
   "cell_type": "markdown",
   "metadata": {},
   "source": [
    "## Problem 4\n",
    "\n",
    "**(a)**\n",
    "\n",
    "Using the determinant test, find $c$ and $d$ that make the following matrices positive definite:  \n",
    "\n",
    "$$\n",
    "A = \n",
    "\\begin{bmatrix}\n",
    "c & 1 & 1\\\\\n",
    "1 & c & 1\\\\\n",
    "1 & 1 & c\n",
    "\\end{bmatrix}\n",
    ", \\hspace{3mm}\n",
    "B = \n",
    "\\begin{bmatrix}\n",
    "1 & 2 & 3\\\\\n",
    "2 & d & 4\\\\\n",
    "3 & 4 & 5\n",
    "\\end{bmatrix}\n",
    "$$\n",
    "\n",
    "**(b)** A positive definite matrix cannot have a zero (or a negative number) on its main diagonal. Show that the matrix  \n",
    "\n",
    "$$\n",
    "A = \n",
    "\\begin{bmatrix}\n",
    "4 & 1 & 1\\\\\n",
    "1 & 0 & 2\\\\\n",
    "1 & 2 & 5\n",
    "\\end{bmatrix}\n",
    "$$\n",
    "\n",
    "is not positive by finding $x$ such shat $x^TAx \\leq 0$."
   ]
  },
  {
   "cell_type": "markdown",
   "metadata": {},
   "source": [
    "### Solution\n",
    "\n",
    "#### (a)\n",
    "\n",
    "Both $A$ and $B$ are symmetric and quadratic. We can use Silvester's criteria:"
   ]
  },
  {
   "cell_type": "code",
   "execution_count": 140,
   "metadata": {},
   "outputs": [
    {
     "data": {
      "text/plain": [
       "[[Interval.open(0, oo)],\n",
       " [Interval.open(-oo, -1), Interval.open(1, oo)],\n",
       " [Interval.open(-2, 1), Interval.open(1, oo)]]"
      ]
     },
     "execution_count": 140,
     "metadata": {},
     "output_type": "execute_result"
    }
   ],
   "source": [
    "c, d = sp.symbols('c, d')\n",
    "from sympy.solvers.inequalities import solve_poly_inequality\n",
    "from sympy import Poly\n",
    "\n",
    "A = sp.Matrix([\n",
    "    [c, 1, 1],\n",
    "    [1, c, 1],\n",
    "    [1, 1, c]\n",
    "])\n",
    "\n",
    "B = sp.Matrix([\n",
    "    [1, 2, 3],\n",
    "    [2, d, 4],\n",
    "    [3, 4, 5]\n",
    "])\n",
    "\n",
    "Inequalities_A = []\n",
    "for i in range(0, max(A.shape)):\n",
    "    det = A[0:i+1, 0:i+1].det()\n",
    "    Inequalities_A.append(det)\n",
    "\n",
    "Solutions_A = []\n",
    "\n",
    "for ineq in Inequalities_A:\n",
    "    Solutions_A.append(solve_poly_inequality(Poly(ineq), '>'))\n",
    "\n",
    "Solutions_A"
   ]
  },
  {
   "cell_type": "markdown",
   "metadata": {},
   "source": [
    "We found the conditions for all minors to be positive. Now let's unite the results and find $c$:"
   ]
  },
  {
   "cell_type": "code",
   "execution_count": 132,
   "metadata": {},
   "outputs": [
    {
     "data": {
      "text/latex": [
       "$\\displaystyle \\left(1, \\infty\\right)$"
      ],
      "text/plain": [
       "Interval.open(1, oo)"
      ]
     },
     "execution_count": 132,
     "metadata": {},
     "output_type": "execute_result"
    }
   ],
   "source": [
    "Unions_A = [sp.sets.Union(*sol) for sol in Solutions_A]\n",
    "Intersection_A = sp.sets.Intersection(*Unions_A)\n",
    "Intersection_A"
   ]
  },
  {
   "cell_type": "markdown",
   "metadata": {},
   "source": [
    "With any $c > 1$ matrix $A$ is positive-definite.\n",
    "\n",
    "Now let's do the same for matrix $B$:"
   ]
  },
  {
   "cell_type": "code",
   "execution_count": 162,
   "metadata": {},
   "outputs": [
    {
     "data": {
      "text/plain": [
       "[1, d - 4, 12 - 4*d]"
      ]
     },
     "execution_count": 162,
     "metadata": {},
     "output_type": "execute_result"
    }
   ],
   "source": [
    "Inequalities_B = []\n",
    "\n",
    "for i in range(0, max(B.shape)):\n",
    "    det = B[0:i+1, 0:i+1].det()\n",
    "    Inequalities_B.append(det)\n",
    "\n",
    "Inequalities_B"
   ]
  },
  {
   "cell_type": "markdown",
   "metadata": {},
   "source": [
    "As can be proven with simple calculations by hand, we have non-intersecting sets of possible $d$. Thus, matrix $B$ is not positive-definite with any $d$.\n",
    "\n",
    "#### (b)\n",
    "\n"
   ]
  },
  {
   "cell_type": "code",
   "execution_count": 274,
   "metadata": {},
   "outputs": [
    {
     "data": {
      "text/latex": [
       "$\\displaystyle x_{1} \\left(4 x_{1} + x_{2} + x_{3}\\right) + x_{2} \\left(x_{1} + 2 x_{3}\\right) + x_{3} \\left(x_{1} + 2 x_{2} + 5 x_{3}\\right)$"
      ],
      "text/plain": [
       "x1*(4*x1 + x2 + x3) + x2*(x1 + 2*x3) + x3*(x1 + 2*x2 + 5*x3)"
      ]
     },
     "execution_count": 274,
     "metadata": {},
     "output_type": "execute_result"
    }
   ],
   "source": [
    "from sympy import abc\n",
    "x1, x2, x3 = abc.symbols('x1, x2, x3')\n",
    "\n",
    "x = sp.Matrix([x1, x2, x3])\n",
    "\n",
    "A = sp.Matrix([\n",
    "    [4, 1, 1],\n",
    "    [1, 0, 2],\n",
    "    [1, 2, 5]\n",
    "])\n",
    "\n",
    "b = x.T*A*x\n",
    "b[0]"
   ]
  },
  {
   "cell_type": "markdown",
   "metadata": {},
   "source": [
    "It is obvious that plugging $x_1 = 0; x_3 = 0$ into the result will give us $0$ with any $x_2$. Thus proven.\n",
    "\n",
    "Also, only $x_2$ has no quadratic term, thus, we can decrease the product by decreasing the term $x_2$ with fixed $x_1$ and $x_3$:"
   ]
  },
  {
   "cell_type": "code",
   "execution_count": 275,
   "metadata": {},
   "outputs": [
    {
     "data": {
      "text/latex": [
       "$\\displaystyle \\left[\\begin{matrix}-49\\end{matrix}\\right]$"
      ],
      "text/plain": [
       "Matrix([[-49]])"
      ]
     },
     "execution_count": 275,
     "metadata": {},
     "output_type": "execute_result"
    }
   ],
   "source": [
    "subs = {x1: 1, x2: -10, x3: 1}\n",
    "b = b.subs(subs)\n",
    "b\n"
   ]
  },
  {
   "cell_type": "markdown",
   "metadata": {},
   "source": [
    "## Problem 5\n",
    "\n",
    "Matrix $A = \\begin{bmatrix}1&1&0\\\\2&3&1\\\\1&1&4\\end{bmatrix}$ is positive definite. Explain why and determine the minimum value of $z = x^TAx + 2b^Tx + 1$, where $x = \\begin{bmatrix}x_1 & x_2 & x_3\\end{bmatrix}^T$ and $b^T = \\begin{bmatrix}1 & -2 & 1\\end{bmatrix}$"
   ]
  },
  {
   "cell_type": "markdown",
   "metadata": {},
   "source": [
    "### Solution"
   ]
  },
  {
   "cell_type": "markdown",
   "metadata": {},
   "source": [
    "```{warning}\n",
    "To be clear, I don't exactly understand the meaning \"positive-definite\" applied to a non-symmetric matrix. But okay...\n",
    "```"
   ]
  },
  {
   "cell_type": "code",
   "execution_count": 278,
   "metadata": {},
   "outputs": [
    {
     "name": "stdout",
     "output_type": "stream",
     "text": [
      "1 minor is:  1\n",
      "2 minor is:  1\n",
      "3 minor is:  4\n"
     ]
    }
   ],
   "source": [
    "A = sp.Matrix([\n",
    "    [1, 1, 0],\n",
    "    [2, 3, 1],\n",
    "    [1, 1, 4]\n",
    "])\n",
    "\n",
    "for i in range(0, max(A.shape)):\n",
    "    string = '{} minor is: '.format(i+1)\n",
    "    print(string, A[0:i+1, 0:i+1].det())"
   ]
  },
  {
   "cell_type": "markdown",
   "metadata": {},
   "source": [
    "So it is positive (in some way, e.g. [Totally Positive Matrix](https://en.wikipedia.org/wiki/Totally_positive_matrix)) due to positivity of its minors."
   ]
  },
  {
   "cell_type": "code",
   "execution_count": 309,
   "metadata": {},
   "outputs": [
    {
     "data": {
      "text/plain": [
       "{x1: -8, x2: 53/11, x3: -5/11}"
      ]
     },
     "execution_count": 309,
     "metadata": {},
     "output_type": "execute_result"
    }
   ],
   "source": [
    "from sympy import functions\n",
    "x1, x2, x3 = abc.symbols('x1, x2, x3')\n",
    "\n",
    "x = sp.Matrix([x1, x2, x3])\n",
    "b = sp.Matrix([1, -2, 1])\n",
    "\n",
    "z = x.T*A*x + 2*b.T*x + 1*sp.Matrix([1])\n",
    "f = z[0]\n",
    "f_difs = []\n",
    "\n",
    "for x_ in x:\n",
    "    f_difs.append(f.diff(x_))\n",
    "\n",
    "f_difs = sp.Matrix(f_difs)\n",
    "sols = sp.solve(f_difs)\n",
    "sols"
   ]
  },
  {
   "cell_type": "markdown",
   "metadata": {},
   "source": [
    "We've got the $x$ which corresponds to the minimal value of $z$. Let's find it:"
   ]
  },
  {
   "cell_type": "code",
   "execution_count": 307,
   "metadata": {},
   "outputs": [
    {
     "data": {
      "text/latex": [
       "$\\displaystyle - \\frac{188}{11}$"
      ],
      "text/plain": [
       "-188/11"
      ]
     },
     "execution_count": 307,
     "metadata": {},
     "output_type": "execute_result"
    }
   ],
   "source": [
    "z = z.subs(sols)\n",
    "z[0]"
   ]
  },
  {
   "cell_type": "markdown",
   "metadata": {},
   "source": [
    "```{note}\n",
    "This was the straightforward solution. Also we may perform some matrix manipulations first.\n",
    "```\n",
    "\n",
    "\n",
    "$$\n",
    "\n",
    "z = x^TAx + 2b^Tx + 1 = x^TA_+x + 2b^Tx + 1 = \\frac{1}{2}x^T(A + A^T)x + 2b^Tx + 1;\\\\\n",
    "\\frac{dz}{dx} = (A + A^T)x + 2b = 0,\\\\\n",
    "\n",
    "(A + A^T)x = -2b \\hspace{3mm}\\Rightarrow\\hspace{3mm} x = -2(A + A^T)^{-1}b.\n",
    "\n",
    "\n",
    "$$\n",
    "\n",
    "From this point it is just a matter of calculations:"
   ]
  },
  {
   "cell_type": "code",
   "execution_count": 311,
   "metadata": {},
   "outputs": [
    {
     "data": {
      "text/latex": [
       "$\\displaystyle \\left[\\begin{matrix}-8\\\\\\frac{53}{11}\\\\- \\frac{5}{11}\\end{matrix}\\right]$"
      ],
      "text/plain": [
       "Matrix([\n",
       "[   -8],\n",
       "[53/11],\n",
       "[-5/11]])"
      ]
     },
     "execution_count": 311,
     "metadata": {},
     "output_type": "execute_result"
    }
   ],
   "source": [
    "y = -2*(A + A.T).inv()*b\n",
    "y"
   ]
  },
  {
   "cell_type": "markdown",
   "metadata": {},
   "source": [
    "The same result."
   ]
  },
  {
   "cell_type": "markdown",
   "metadata": {},
   "source": [
    "## Problem 6\n",
    "\n",
    "Explain these inequalities from the definitions of the norms:\n",
    "\n",
    "$$\n",
    "||ABx|| \\leq ||A||||Bx|| \\leq ||A||||B||||x||,\n",
    "$$\n",
    "\n",
    "and deduce that $||AB|| \\leq ||A||||B||$."
   ]
  },
  {
   "cell_type": "markdown",
   "metadata": {},
   "source": [
    "### Solution\n",
    "\n",
    "For a given $x$:\n",
    "\n",
    "$$\n",
    "\n",
    "\n",
    "||ABx||_2^2 = (ABx)^T(ABx) = x^TB^TA^TABx,\\\\\n",
    "||Bx||_2^2 = (Bx)^T(Bx) = x^TB^TBx,\\\\\n",
    "||x||_2^2 = x^Tx,\\\\\n",
    "||A||_2^2 = \\max\\limits_{x \\in \\mathbb{R}^n}\\Bigg\\{\\frac{(Ax)^T(Ax)}{x^Tx}\\Bigg\\} = \\max\\limits_{x \\in \\mathbb{R}^n}\\Bigg\\{\\frac{x^TA^TAx}{x^Tx}\\Bigg\\},\\\\\n",
    "||B||_2^2 = \\max\\limits_{x \\in \\mathbb{R}^n}\\Bigg\\{\\frac{(Bx)^T(Bx)}{x^Tx}\\Bigg\\} = \\max\\limits_{x \\in \\mathbb{R}^n}\\Bigg\\{\\frac{x^TB^TBx}{x^Tx}\\Bigg\\}.\n",
    "\n",
    "\n",
    "$$\n",
    "\n",
    "\n",
    "Thus, we may rewrite some inequalities:\n",
    "\n",
    "$$\n",
    "\n",
    "\n",
    "||ABx|| = x^TB^TA^TABx \\frac{x^TB^TBx}{x^TB^TBx} = \\frac{x^tB^TA^TABx}{x^TB^TBx} x^TB^TBx =\\\\\n",
    "\\hspace{3mm}\\\\\n",
    "= \\frac{y^TA^TAy}{y^Ty} x^TB^TBx \\leq \\max\\limits_{y \\in \\mathbb{R}^n}\\Bigg\\{\\frac{y^TA^TAy}{y^Ty} \\Bigg \\} ||Bx|| = ||A||||Bx||;\n",
    "\n",
    "\\hspace{3mm}\\\\\n",
    "\n",
    "||Bx|| = x^TB^TBx = x^TB^TBx \\frac{x^Tx}{x^Tx} = \\frac{x^TB^TBx}{x^Tx} x^Tx \\leq \\max\\limits_{z \\in \\mathbb{R}^n}\\Bigg\\{ \\frac{z^TB^TBz}{z^Tz} \\Bigg \\} x^Tx = ||B||||x||\n",
    "\n",
    "\n",
    "$$\n",
    "\n",
    "So, we've proven that $||ABx|| \\leq ||A||||Bx||$ and $||Bx|| \\leq ||B||||x||$, $\\Rightarrow ||ABx|| \\leq ||A||||Bx|| \\leq ||A||||B||||x||$.\n",
    "\n",
    "The first line we can use to prove that\n",
    "\n",
    "$$\n",
    "\n",
    "||AB|| = \\max\\limits_{x \\in \\mathbb{R}^n}\\frac{||ABx||}{||x||} = \\max\\limits_{x \\in \\mathbb{R}^n}\\frac{||ABx||}{||x||} \\frac{||Bx||}{||Bx||} =\\\\\n",
    "\\hspace{3mm}\\\\\n",
    " \\max\\limits_{x \\in \\mathbb{R}^n}\\frac{||ABx||}{||Bx||}\\frac{||Bx||}{||x||} \\leq \\max\\limits_{x \\in \\mathbb{R}^n}\\frac{||ABx||}{||Bx||}\\max\\limits_{x \\in \\mathbb{R}^n}\\frac{||Bx||}{||x||} = ||A||||B||.\n",
    "\n",
    "$$"
   ]
  },
  {
   "cell_type": "markdown",
   "metadata": {},
   "source": [
    "## Problem 7\n",
    "\n",
    "Compute by hand the norms and condition numbers of the following matrices:\n",
    "\n",
    "$$\n",
    "A_1 =\n",
    "\\begin{bmatrix}\n",
    "2 & 1\\\\\n",
    "1 & 2\n",
    "\\end{bmatrix}\n",
    ",\\hspace{3mm}\n",
    "A_2 =\n",
    "\\begin{bmatrix}\n",
    "1 & 1\\\\\n",
    "-1 & 1\n",
    "\\end{bmatrix}\n",
    "$$"
   ]
  },
  {
   "cell_type": "markdown",
   "metadata": {},
   "source": [
    "### Solution\n",
    "\n",
    "$A_1$ is symmetric, in this case its norm is the largest eigenvalue. Thus,\n",
    "\n",
    "$$\n",
    "\n",
    "\n",
    "(2-\\lambda)^2 - 1 = 0,\\\\\n",
    "\n",
    "\\lambda_1 = 3, \\hspace{3mm} \\lambda_2 = 1,\\\\\n",
    "\n",
    "||A_1|| = \\max\\limits_{i} \\big \\{ \\lambda_i \\big \\} = 3,\\\\\n",
    "\\kappa_1 = \\frac{\\max\\limits_{i} \\big \\{ \\lambda_i \\big \\}}{\\min\\limits_{i} \\big \\{ \\lambda_i \\big \\}} = 3\n",
    "\n",
    "\n",
    "$$\n",
    "\n"
   ]
  },
  {
   "cell_type": "markdown",
   "metadata": {},
   "source": [
    "A_2 is skew-symmetric, for non-symmetric matrices the norm equals to the greatest singular value:\n",
    "\n",
    "$$\n",
    "\n",
    "A_2^TA_2 = \n",
    "\\begin{bmatrix}\n",
    "2 & 0\\\\\n",
    "0 & 2\n",
    "\\end{bmatrix}\n",
    ",\\\\\n",
    "\\lambda_1 = \\lambda_2 = 2,\\\\\n",
    "\\sigma_1 = \\sigma_2 = \\sqrt{2}\n",
    "\n",
    "$$"
   ]
  },
  {
   "cell_type": "code",
   "execution_count": 313,
   "metadata": {},
   "outputs": [
    {
     "data": {
      "text/latex": [
       "$\\displaystyle \\left[\\begin{matrix}\\sqrt{2} & 0\\\\0 & \\sqrt{2}\\end{matrix}\\right]$"
      ],
      "text/plain": [
       "Matrix([\n",
       "[sqrt(2),       0],\n",
       "[      0, sqrt(2)]])"
      ]
     },
     "execution_count": 313,
     "metadata": {},
     "output_type": "execute_result"
    }
   ],
   "source": [
    "A2 = sp.Matrix([\n",
    "    [1, 1],\n",
    "    [-1, 1]\n",
    "])\n",
    "\n",
    "A2.singular_value_decomposition()[1]"
   ]
  },
  {
   "cell_type": "markdown",
   "metadata": {},
   "source": [
    "$$\n",
    "\n",
    "\\sigma_1 = \\sigma_2 = \\sqrt{2},\\\\\n",
    "\n",
    "||A_2|| = \\max\\limits_{i} \\big \\{ \\sigma_i \\big \\} = \\sqrt{2},\\\\\n",
    "\\kappa_2 = \\frac{\\max\\limits_{i} \\big \\{ \\sigma_i \\big \\}}{\\min\\limits_{i} \\big \\{ \\sigma_i \\big \\}} = 1.\n",
    "\n",
    "$$"
   ]
  },
  {
   "cell_type": "markdown",
   "metadata": {},
   "source": [
    "$$\n"
   ]
  }
 ],
 "metadata": {
  "interpreter": {
   "hash": "0600588c3b5f4418cbe7b5ebc6825b479f3bc010269d8b60d75058cdd010adfe"
  },
  "kernelspec": {
   "display_name": "Python 3.7.9 64-bit",
   "language": "python",
   "name": "python3"
  },
  "language_info": {
   "codemirror_mode": {
    "name": "ipython",
    "version": 3
   },
   "file_extension": ".py",
   "mimetype": "text/x-python",
   "name": "python",
   "nbconvert_exporter": "python",
   "pygments_lexer": "ipython3",
   "version": "3.7.9"
  },
  "orig_nbformat": 4
 },
 "nbformat": 4,
 "nbformat_minor": 2
}
