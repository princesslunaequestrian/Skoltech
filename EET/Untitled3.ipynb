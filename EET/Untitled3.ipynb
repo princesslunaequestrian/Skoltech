{
 "cells": [
  {
   "cell_type": "code",
   "execution_count": 1,
   "id": "43708032",
   "metadata": {},
   "outputs": [],
   "source": [
    "class Dog:\n",
    "    def __init__(self, name, age):\n",
    "        self.name = name\n",
    "        self.age = age"
   ]
  },
  {
   "cell_type": "code",
   "execution_count": 9,
   "id": "71ea8b7e",
   "metadata": {},
   "outputs": [
    {
     "ename": "AttributeError",
     "evalue": "type object 'Dog' has no attribute 'create'",
     "output_type": "error",
     "traceback": [
      "\u001b[1;31m---------------------------------------------------------------------------\u001b[0m",
      "\u001b[1;31mAttributeError\u001b[0m                            Traceback (most recent call last)",
      "\u001b[1;32m<ipython-input-9-0d2816140b2c>\u001b[0m in \u001b[0;36m<module>\u001b[1;34m\u001b[0m\n\u001b[1;32m----> 1\u001b[1;33m \u001b[0mx\u001b[0m \u001b[1;33m=\u001b[0m \u001b[0mDog\u001b[0m\u001b[1;33m.\u001b[0m\u001b[0mcreate\u001b[0m\u001b[1;33m(\u001b[0m\u001b[0mDog\u001b[0m\u001b[1;33m,\u001b[0m \u001b[1;34m'Rufus'\u001b[0m\u001b[1;33m,\u001b[0m \u001b[1;36m3\u001b[0m\u001b[1;33m)\u001b[0m\u001b[1;33m\u001b[0m\u001b[1;33m\u001b[0m\u001b[0m\n\u001b[0m",
      "\u001b[1;31mAttributeError\u001b[0m: type object 'Dog' has no attribute 'create'"
     ]
    }
   ],
   "source": [
    "x = Dog.create(Dog, 'Rufus', 3)\n"
   ]
  },
  {
   "cell_type": "code",
   "execution_count": 19,
   "id": "3fd23dc2",
   "metadata": {},
   "outputs": [
    {
     "data": {
      "text/plain": [
       "True"
      ]
     },
     "execution_count": 19,
     "metadata": {},
     "output_type": "execute_result"
    }
   ],
   "source": [
    "class Dog: \n",
    "     def __init__(self, name, age): \n",
    "         self.name = name \n",
    "         self.age = age \n",
    "class JackRussellTerrier(Dog): \n",
    "     pass \n",
    "class Dachshund(Dog): \n",
    "     pass \n",
    "class Bulldog(Dog): \n",
    "     pass \n",
    "miles = JackRussellTerrier(\"Miles\", 4) \n",
    "buddy = Dachshund(\"Buddy\", 9) \n",
    "jack = Bulldog(\"Jack\", 3) \n",
    "jim = Bulldog(\"Jim\", 5) \n",
    "\n",
    "isinstance(miles, Dog)\n"
   ]
  }
 ],
 "metadata": {
  "kernelspec": {
   "display_name": "Python 3",
   "language": "python",
   "name": "python3"
  },
  "language_info": {
   "codemirror_mode": {
    "name": "ipython",
    "version": 3
   },
   "file_extension": ".py",
   "mimetype": "text/x-python",
   "name": "python",
   "nbconvert_exporter": "python",
   "pygments_lexer": "ipython3",
   "version": "3.9.5"
  }
 },
 "nbformat": 4,
 "nbformat_minor": 5
}
