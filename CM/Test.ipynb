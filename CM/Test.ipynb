{
 "cells": [
  {
   "cell_type": "code",
   "execution_count": 31,
   "metadata": {},
   "outputs": [],
   "source": [
    "import sympy as sp\n",
    "import numpy as np"
   ]
  },
  {
   "cell_type": "code",
   "execution_count": 42,
   "metadata": {},
   "outputs": [],
   "source": [
    "k, X1, X2, X3, t = sp.symbols('k, xi_1, xi_2, xi_3, t')\n",
    "\n",
    "\n",
    "F  = sp.Matrix([\n",
    "    [2, 0, 2*k*X3*t],\n",
    "    [0, 1+2*k*t, 0],\n",
    "    [0, 0, 1]\n",
    "])\n",
    "\n",
    "one = sp.diag([1, 1, 1], unpack=True)\n",
    "\n",
    "E = 1/2*(F.T*F - one)\n",
    "\n",
    "T = sp.Matrix([0, 1, 0])"
   ]
  },
  {
   "cell_type": "code",
   "execution_count": 43,
   "metadata": {},
   "outputs": [
    {
     "data": {
      "text/latex": [
       "$\\displaystyle \\left[\\begin{matrix}\\left(2 k t + 1\\right)^{2} - 1.0\\end{matrix}\\right]$"
      ],
      "text/plain": [
       "Matrix([[(2*k*t + 1)**2 - 1.0]])"
      ]
     },
     "execution_count": 43,
     "metadata": {},
     "output_type": "execute_result"
    }
   ],
   "source": [
    "2*T.T*E*T"
   ]
  },
  {
   "cell_type": "code",
   "execution_count": 98,
   "metadata": {},
   "outputs": [
    {
     "data": {
      "text/latex": [
       "$\\displaystyle \\left[\\begin{matrix}0 & 0.5 \\left(t \\left(2 - 2 k\\right) + \\frac{2 k t}{3}\\right) & 0.5 \\left(- t + t \\left(k^{2} - \\frac{5}{4}\\right)\\right)\\\\0.5 \\left(t \\left(2 - 2 k\\right) + \\frac{2 k t}{3}\\right) & 0 & 0.5 \\left(t + t \\left(\\frac{5}{4} - k^{2}\\right)\\right)\\\\0.5 \\left(- t + t \\left(k^{2} - \\frac{5}{4}\\right)\\right) & 0.5 \\left(t + t \\left(\\frac{5}{4} - k^{2}\\right)\\right) & 0\\end{matrix}\\right]$"
      ],
      "text/plain": [
       "Matrix([\n",
       "[                          0, 0.5*(t*(2 - 2*k) + 2*k*t/3), 0.5*(-t + t*(k**2 - 5/4))],\n",
       "[0.5*(t*(2 - 2*k) + 2*k*t/3),                           0,  0.5*(t + t*(5/4 - k**2))],\n",
       "[  0.5*(-t + t*(k**2 - 5/4)),    0.5*(t + t*(5/4 - k**2)),                         0]])"
      ]
     },
     "execution_count": 98,
     "metadata": {},
     "output_type": "execute_result"
    }
   ],
   "source": [
    "k, t = sp.symbols('k, t')\n",
    "\n",
    "w = sp.Matrix([\n",
    "    [0, 2*(1-k)*t, -t],\n",
    "    [sp.UnevaluatedExpr(sp.S.One*2/3*k*t), 0, t],\n",
    "    [sp.UnevaluatedExpr(t*(k**2 - sp.S.One*5/4)), sp.UnevaluatedExpr(t*(sp.S.One*5/4-k**2)), 0]\n",
    "], evaluate=False)\n",
    "b = sp.diag([1, 1, 1], unpack=True)\n",
    "E = 1/2*(w + w.T)\n",
    "E"
   ]
  },
  {
   "cell_type": "code",
   "execution_count": 79,
   "metadata": {},
   "outputs": [
    {
     "data": {
      "text/latex": [
       "$\\displaystyle \\left[\\begin{matrix}0.222222222222222 k^{2} t^{2} + 0.78125 t^{2} \\left(0.8 k^{2} - 1\\right)^{2} & 0.333333333333333 k t + 0.5 t^{2} \\left(1.25 - k^{2}\\right) \\left(k^{2} - 1.25\\right) + 0.5 t \\left(2 - 2 k\\right) & - 0.333333333333333 k t^{2} + 0.5 t \\left(k^{2} - 1.25\\right) + 0.5 t\\\\0.333333333333333 k t + 0.5 t^{2} \\left(1.25 - k^{2}\\right) \\left(k^{2} - 1.25\\right) + 0.5 t \\left(2 - 2 k\\right) & 0.78125 t^{2} \\left(1 - 0.8 k^{2}\\right)^{2} + 0.5 t^{2} \\left(2 - 2 k\\right)^{2} & 0.5 t^{2} \\left(2 - 2 k\\right) + 0.5 t \\left(1.25 - k^{2}\\right) - 0.5 t\\\\- 0.333333333333333 k t^{2} + 0.5 t \\left(k^{2} - 1.25\\right) + 0.5 t & 0.5 t^{2} \\left(2 - 2 k\\right) + 0.5 t \\left(1.25 - k^{2}\\right) - 0.5 t & 1.0 t^{2}\\end{matrix}\\right]$"
      ],
      "text/plain": [
       "Matrix([\n",
       "[                  0.222222222222222*k**2*t**2 + 0.78125*t**2*(0.8*k**2 - 1)**2, 0.333333333333333*k*t + 0.5*t**2*(1.25 - k**2)*(k**2 - 1.25) + 0.5*t*(2 - 2*k), -0.333333333333333*k*t**2 + 0.5*t*(k**2 - 1.25) + 0.5*t],\n",
       "[0.333333333333333*k*t + 0.5*t**2*(1.25 - k**2)*(k**2 - 1.25) + 0.5*t*(2 - 2*k),                         0.78125*t**2*(1 - 0.8*k**2)**2 + 0.5*t**2*(2 - 2*k)**2,        0.5*t**2*(2 - 2*k) + 0.5*t*(1.25 - k**2) - 0.5*t],\n",
       "[                       -0.333333333333333*k*t**2 + 0.5*t*(k**2 - 1.25) + 0.5*t,                               0.5*t**2*(2 - 2*k) + 0.5*t*(1.25 - k**2) - 0.5*t,                                                1.0*t**2]])"
      ]
     },
     "execution_count": 79,
     "metadata": {},
     "output_type": "execute_result"
    }
   ],
   "source": [
    "E1 =  1/2*(w + w.T + w.T*w)\n",
    "E1.subs({k:k})"
   ]
  },
  {
   "cell_type": "code",
   "execution_count": null,
   "metadata": {},
   "outputs": [],
   "source": []
  }
 ],
 "metadata": {
  "interpreter": {
   "hash": "0600588c3b5f4418cbe7b5ebc6825b479f3bc010269d8b60d75058cdd010adfe"
  },
  "kernelspec": {
   "display_name": "Python 3.7.9 64-bit",
   "language": "python",
   "name": "python3"
  },
  "language_info": {
   "codemirror_mode": {
    "name": "ipython",
    "version": 3
   },
   "file_extension": ".py",
   "mimetype": "text/x-python",
   "name": "python",
   "nbconvert_exporter": "python",
   "pygments_lexer": "ipython3",
   "version": "3.7.9"
  },
  "orig_nbformat": 4
 },
 "nbformat": 4,
 "nbformat_minor": 2
}
